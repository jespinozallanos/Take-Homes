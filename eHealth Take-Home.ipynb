{
 "cells": [
  {
   "cell_type": "markdown",
   "metadata": {},
   "source": [
    "# Part 1"
   ]
  },
  {
   "cell_type": "markdown",
   "metadata": {},
   "source": [
    "## 1.\n",
    "**Assume each customer type is equally common. A customer walks into your store and purchases a product. What's the probability that this customer is of Type A, given that they purchased a product?**\n",
    "\n",
    "    Set-up:\n",
    "\n",
    "    Pr(purchase/Type A)=0.01\n",
    "\n",
    "    Pr(purchase/type B)=0.1\n",
    "\n",
    "    ________________________\n",
    "\n",
    "    Pr(Type A)=Pr(Type B)=0.5\n",
    "\n",
    "    Pr(purchase)=Pr(purchase/Type A)*Pr(Type A)+Pr(purchase/Type B)*Pr(Type B)\n",
    "\n",
    "    =(0.01*0.5) + (0.1*0.5)\n",
    "    =0.055"
   ]
  },
  {
   "cell_type": "markdown",
   "metadata": {},
   "source": [
    "## 2.\n",
    "**This is how the probability found in question 1 would change if more customers were of Type A:**\n",
    "    \n",
    "\n",
    "    Pr(Type A/purchase)=Pr(purchase/Type A)*Pr(Type A)/Pr(purchase)\n",
    "\n",
    "    =(0.01*0.5)/0.055\n",
    "    =0.091\n",
    "    \n",
    "    This is an increase to Pr(purchase). So the answer to the question would be:\n",
    "    \n",
    "    I. **Increase**"
   ]
  },
  {
   "cell_type": "markdown",
   "metadata": {},
   "source": [
    "## 3."
   ]
  },
  {
   "cell_type": "code",
   "execution_count": 126,
   "metadata": {},
   "outputs": [],
   "source": [
    "def A_Prob(TypeA):\n",
    "    #P(purchase/Type A)*P(Type A) + P(purchase/Type B)*P(Type B)\n",
    "    \n",
    "    TypeB = 1-TypeA\n",
    "    \n",
    "    TypeAProb = (0.01*TypeA) + (.1*TypeB)\n",
    "    \n",
    "    print(TypeAProb)"
   ]
  },
  {
   "cell_type": "code",
   "execution_count": 127,
   "metadata": {},
   "outputs": [
    {
     "name": "stdout",
     "output_type": "stream",
     "text": [
      "0.055\n"
     ]
    }
   ],
   "source": [
    "A_Prob(.5)"
   ]
  },
  {
   "cell_type": "markdown",
   "metadata": {},
   "source": [
    "# Part 2"
   ]
  },
  {
   "cell_type": "markdown",
   "metadata": {},
   "source": [
    "Data exploration idea I would like to pursue:\n",
    "\n",
    "# How does health insurance type (attributes/cost) differ across states and over time?\n",
    "\n",
    "\n",
    "I. My exploration idea is to see what sort of insurance plans cost most and if these vary across different regions of America and years. This interests me because there is a huge variety of health plans tailored to how healthy people are/if they have prior conditions, how concerned people are about preventative health. So I was curious about the different price points for each and how these may vary from state-to-state and year-to-year.\n",
    "\n",
    "Answers to this would give insight into different demographic make-up of each state which would influence health insurance sellers' target groups. Health insurance types' consumption over time would give insight into how a certain plans may grow or lose popularity.\n",
    "\n",
    "\n",
    "II. Scope of what data is required:\n",
    "### Data tables to look at in order to answer this exploration idea:\n",
    "    -BenefitsCostSharing\n",
    "    -Rate\n",
    "    \n",
    "III. Methodology I want to pursue:\n",
    "    a. Clean up the data\n",
    "    b. Present descriptive Statistics (location of data (mean/median), spread of data (how variable is it around mean/median)\n",
    "    c. Present comparative graphs (e.g. smokers' plans more expernsive than non-smokers and does this apply across states and time?)\n",
    "    d. Visual map of US showing differing types of healthcare plans across states\n",
    "    \n",
    "IV. Outstanding concerns with analysis plan:\n",
    "Data is filled with a lot of NaN's and data in one column may mean the same thing, but input differently in database ($0 versus 0)."
   ]
  },
  {
   "cell_type": "code",
   "execution_count": 128,
   "metadata": {},
   "outputs": [
    {
     "data": {
      "text/html": [
       "<script type=\"text/javascript\">window.PlotlyConfig = {MathJaxConfig: 'local'};</script><script type=\"text/javascript\">if (window.MathJax) {MathJax.Hub.Config({SVG: {font: \"STIX-Web\"}});}</script><script>requirejs.config({paths: { 'plotly': ['https://cdn.plot.ly/plotly-latest.min']},});if(!window._Plotly) {require(['plotly'],function(plotly) {window._Plotly=plotly;});}</script>"
      ],
      "text/vnd.plotly.v1+html": [
       "<script type=\"text/javascript\">window.PlotlyConfig = {MathJaxConfig: 'local'};</script><script type=\"text/javascript\">if (window.MathJax) {MathJax.Hub.Config({SVG: {font: \"STIX-Web\"}});}</script><script>requirejs.config({paths: { 'plotly': ['https://cdn.plot.ly/plotly-latest.min']},});if(!window._Plotly) {require(['plotly'],function(plotly) {window._Plotly=plotly;});}</script>"
      ]
     },
     "metadata": {},
     "output_type": "display_data"
    }
   ],
   "source": [
    "import matplotlib.pyplot as plt\n",
    "import plotly.plotly as py\n",
    "import plotly.graph_objs as go\n",
    "from plotly.offline import download_plotlyjs,init_notebook_mode,plot,iplot\n",
    "init_notebook_mode(connected=True)\n",
    "import seaborn as sns \n",
    "import numpy as np\n",
    "import pandas as pd\n",
    "import numpy as np\n",
    "import random as rnd\n",
    "from sklearn.metrics import confusion_matrix\n",
    "import seaborn as sns\n",
    "import matplotlib.gridspec as gridspec\n",
    "from sklearn.preprocessing import StandardScaler\n",
    "from numpy import genfromtxt\n",
    "from scipy.stats import multivariate_normal\n",
    "from sklearn.metrics import f1_score\n",
    "from sklearn.metrics import recall_score , average_precision_score\n",
    "from sklearn.metrics import precision_score, precision_recall_curve\n",
    "%matplotlib inline"
   ]
  },
  {
   "cell_type": "markdown",
   "metadata": {},
   "source": [
    "# 1. Data Integrity\n",
    "\n",
    "a. Need to inspect data and see if there are any NaN's that need to be taken out/replaced with 0's.\n",
    "b. If there are outliers, take these out as well."
   ]
  },
  {
   "cell_type": "code",
   "execution_count": 129,
   "metadata": {
    "scrolled": true
   },
   "outputs": [
    {
     "name": "stderr",
     "output_type": "stream",
     "text": [
      "/anaconda3/lib/python3.6/site-packages/IPython/core/interactiveshell.py:2728: DtypeWarning:\n",
      "\n",
      "Columns (3,6,9,10,16,17,18) have mixed types. Specify dtype option on import or set low_memory=False.\n",
      "\n"
     ]
    },
    {
     "data": {
      "text/html": [
       "<div>\n",
       "<style scoped>\n",
       "    .dataframe tbody tr th:only-of-type {\n",
       "        vertical-align: middle;\n",
       "    }\n",
       "\n",
       "    .dataframe tbody tr th {\n",
       "        vertical-align: top;\n",
       "    }\n",
       "\n",
       "    .dataframe thead th {\n",
       "        text-align: right;\n",
       "    }\n",
       "</style>\n",
       "<table border=\"1\" class=\"dataframe\">\n",
       "  <thead>\n",
       "    <tr style=\"text-align: right;\">\n",
       "      <th></th>\n",
       "      <th>BenefitName</th>\n",
       "      <th>BusinessYear</th>\n",
       "      <th>CoinsInnTier1</th>\n",
       "      <th>CoinsInnTier2</th>\n",
       "      <th>CoinsOutofNet</th>\n",
       "      <th>CopayInnTier1</th>\n",
       "      <th>CopayInnTier2</th>\n",
       "      <th>CopayOutofNet</th>\n",
       "      <th>EHBVarReason</th>\n",
       "      <th>Exclusions</th>\n",
       "      <th>...</th>\n",
       "      <th>LimitUnit</th>\n",
       "      <th>MinimumStay</th>\n",
       "      <th>PlanId</th>\n",
       "      <th>QuantLimitOnSvc</th>\n",
       "      <th>RowNumber</th>\n",
       "      <th>SourceName</th>\n",
       "      <th>StandardComponentId</th>\n",
       "      <th>StateCode</th>\n",
       "      <th>StateCode2</th>\n",
       "      <th>VersionNum</th>\n",
       "    </tr>\n",
       "  </thead>\n",
       "  <tbody>\n",
       "    <tr>\n",
       "      <th>0</th>\n",
       "      <td>Routine Dental Services (Adult)</td>\n",
       "      <td>2014</td>\n",
       "      <td>20%</td>\n",
       "      <td>NaN</td>\n",
       "      <td>20%</td>\n",
       "      <td>No Charge</td>\n",
       "      <td>NaN</td>\n",
       "      <td>No Charge</td>\n",
       "      <td>Above EHB</td>\n",
       "      <td>NaN</td>\n",
       "      <td>...</td>\n",
       "      <td>Dollars per Year</td>\n",
       "      <td>NaN</td>\n",
       "      <td>21989AK0010001-00</td>\n",
       "      <td>Yes</td>\n",
       "      <td>68</td>\n",
       "      <td>HIOS</td>\n",
       "      <td>21989AK0010001</td>\n",
       "      <td>AK</td>\n",
       "      <td>AK</td>\n",
       "      <td>6</td>\n",
       "    </tr>\n",
       "    <tr>\n",
       "      <th>1</th>\n",
       "      <td>Dental Check-Up for Children</td>\n",
       "      <td>2014</td>\n",
       "      <td>20%</td>\n",
       "      <td>NaN</td>\n",
       "      <td>20%</td>\n",
       "      <td>No Charge</td>\n",
       "      <td>NaN</td>\n",
       "      <td>No Charge</td>\n",
       "      <td>Substantially Equal</td>\n",
       "      <td>NaN</td>\n",
       "      <td>...</td>\n",
       "      <td>Visit(s) per 6 Months</td>\n",
       "      <td>NaN</td>\n",
       "      <td>21989AK0010001-00</td>\n",
       "      <td>Yes</td>\n",
       "      <td>104</td>\n",
       "      <td>HIOS</td>\n",
       "      <td>21989AK0010001</td>\n",
       "      <td>AK</td>\n",
       "      <td>AK</td>\n",
       "      <td>6</td>\n",
       "    </tr>\n",
       "    <tr>\n",
       "      <th>2</th>\n",
       "      <td>Basic Dental Care - Child</td>\n",
       "      <td>2014</td>\n",
       "      <td>40%</td>\n",
       "      <td>NaN</td>\n",
       "      <td>40%</td>\n",
       "      <td>No Charge</td>\n",
       "      <td>NaN</td>\n",
       "      <td>No Charge</td>\n",
       "      <td>Substantially Equal</td>\n",
       "      <td>NaN</td>\n",
       "      <td>...</td>\n",
       "      <td>NaN</td>\n",
       "      <td>NaN</td>\n",
       "      <td>21989AK0010001-00</td>\n",
       "      <td>NaN</td>\n",
       "      <td>110</td>\n",
       "      <td>HIOS</td>\n",
       "      <td>21989AK0010001</td>\n",
       "      <td>AK</td>\n",
       "      <td>AK</td>\n",
       "      <td>6</td>\n",
       "    </tr>\n",
       "    <tr>\n",
       "      <th>3</th>\n",
       "      <td>Orthodontia - Child</td>\n",
       "      <td>2014</td>\n",
       "      <td>50%</td>\n",
       "      <td>NaN</td>\n",
       "      <td>50%</td>\n",
       "      <td>No Charge</td>\n",
       "      <td>NaN</td>\n",
       "      <td>No Charge</td>\n",
       "      <td>Additional EHB Benefit</td>\n",
       "      <td>NaN</td>\n",
       "      <td>...</td>\n",
       "      <td>NaN</td>\n",
       "      <td>NaN</td>\n",
       "      <td>21989AK0010001-00</td>\n",
       "      <td>NaN</td>\n",
       "      <td>111</td>\n",
       "      <td>HIOS</td>\n",
       "      <td>21989AK0010001</td>\n",
       "      <td>AK</td>\n",
       "      <td>AK</td>\n",
       "      <td>6</td>\n",
       "    </tr>\n",
       "    <tr>\n",
       "      <th>4</th>\n",
       "      <td>Major Dental Care - Child</td>\n",
       "      <td>2014</td>\n",
       "      <td>50%</td>\n",
       "      <td>NaN</td>\n",
       "      <td>50%</td>\n",
       "      <td>No Charge</td>\n",
       "      <td>NaN</td>\n",
       "      <td>No Charge</td>\n",
       "      <td>Substantially Equal</td>\n",
       "      <td>NaN</td>\n",
       "      <td>...</td>\n",
       "      <td>NaN</td>\n",
       "      <td>NaN</td>\n",
       "      <td>21989AK0010001-00</td>\n",
       "      <td>NaN</td>\n",
       "      <td>112</td>\n",
       "      <td>HIOS</td>\n",
       "      <td>21989AK0010001</td>\n",
       "      <td>AK</td>\n",
       "      <td>AK</td>\n",
       "      <td>6</td>\n",
       "    </tr>\n",
       "  </tbody>\n",
       "</table>\n",
       "<p>5 rows × 32 columns</p>\n",
       "</div>"
      ],
      "text/plain": [
       "                       BenefitName  BusinessYear CoinsInnTier1 CoinsInnTier2  \\\n",
       "0  Routine Dental Services (Adult)          2014           20%           NaN   \n",
       "1     Dental Check-Up for Children          2014           20%           NaN   \n",
       "2        Basic Dental Care - Child          2014           40%           NaN   \n",
       "3              Orthodontia - Child          2014           50%           NaN   \n",
       "4        Major Dental Care - Child          2014           50%           NaN   \n",
       "\n",
       "  CoinsOutofNet CopayInnTier1 CopayInnTier2 CopayOutofNet  \\\n",
       "0           20%     No Charge           NaN     No Charge   \n",
       "1           20%     No Charge           NaN     No Charge   \n",
       "2           40%     No Charge           NaN     No Charge   \n",
       "3           50%     No Charge           NaN     No Charge   \n",
       "4           50%     No Charge           NaN     No Charge   \n",
       "\n",
       "             EHBVarReason Exclusions     ...                  LimitUnit  \\\n",
       "0               Above EHB        NaN     ...           Dollars per Year   \n",
       "1     Substantially Equal        NaN     ...      Visit(s) per 6 Months   \n",
       "2     Substantially Equal        NaN     ...                        NaN   \n",
       "3  Additional EHB Benefit        NaN     ...                        NaN   \n",
       "4     Substantially Equal        NaN     ...                        NaN   \n",
       "\n",
       "  MinimumStay             PlanId QuantLimitOnSvc RowNumber SourceName  \\\n",
       "0         NaN  21989AK0010001-00             Yes        68       HIOS   \n",
       "1         NaN  21989AK0010001-00             Yes       104       HIOS   \n",
       "2         NaN  21989AK0010001-00             NaN       110       HIOS   \n",
       "3         NaN  21989AK0010001-00             NaN       111       HIOS   \n",
       "4         NaN  21989AK0010001-00             NaN       112       HIOS   \n",
       "\n",
       "  StandardComponentId StateCode StateCode2  VersionNum  \n",
       "0      21989AK0010001        AK         AK           6  \n",
       "1      21989AK0010001        AK         AK           6  \n",
       "2      21989AK0010001        AK         AK           6  \n",
       "3      21989AK0010001        AK         AK           6  \n",
       "4      21989AK0010001        AK         AK           6  \n",
       "\n",
       "[5 rows x 32 columns]"
      ]
     },
     "execution_count": 129,
     "metadata": {},
     "output_type": "execute_result"
    }
   ],
   "source": [
    "BenCosts = pd.read_csv(\"BenefitsCostSharing.csv\")\n",
    "BenCosts.head()"
   ]
  },
  {
   "cell_type": "code",
   "execution_count": 130,
   "metadata": {},
   "outputs": [
    {
     "name": "stdout",
     "output_type": "stream",
     "text": [
      "<class 'pandas.core.frame.DataFrame'>\n",
      "RangeIndex: 5048408 entries, 0 to 5048407\n",
      "Data columns (total 32 columns):\n",
      "BenefitName            object\n",
      "BusinessYear           int64\n",
      "CoinsInnTier1          object\n",
      "CoinsInnTier2          object\n",
      "CoinsOutofNet          object\n",
      "CopayInnTier1          object\n",
      "CopayInnTier2          object\n",
      "CopayOutofNet          object\n",
      "EHBVarReason           object\n",
      "Exclusions             object\n",
      "Explanation            object\n",
      "ImportDate             object\n",
      "IsCovered              object\n",
      "IsEHB                  object\n",
      "IsExclFromInnMOOP      object\n",
      "IsExclFromOonMOOP      object\n",
      "IsStateMandate         object\n",
      "IsSubjToDedTier1       object\n",
      "IsSubjToDedTier2       object\n",
      "IssuerId               int64\n",
      "IssuerId2              int64\n",
      "LimitQty               float64\n",
      "LimitUnit              object\n",
      "MinimumStay            float64\n",
      "PlanId                 object\n",
      "QuantLimitOnSvc        object\n",
      "RowNumber              int64\n",
      "SourceName             object\n",
      "StandardComponentId    object\n",
      "StateCode              object\n",
      "StateCode2             object\n",
      "VersionNum             int64\n",
      "dtypes: float64(2), int64(5), object(25)\n",
      "memory usage: 1.2+ GB\n"
     ]
    }
   ],
   "source": [
    "BenCosts.info()"
   ]
  },
  {
   "cell_type": "code",
   "execution_count": 131,
   "metadata": {},
   "outputs": [
    {
     "data": {
      "text/plain": [
       "BenefitName                  0\n",
       "BusinessYear                 0\n",
       "CoinsInnTier1          1113847\n",
       "CoinsInnTier2          4571587\n",
       "CoinsOutofNet          1113847\n",
       "CopayInnTier1          1113847\n",
       "CopayInnTier2          4571587\n",
       "CopayOutofNet          1113849\n",
       "EHBVarReason           3020737\n",
       "Exclusions             4572247\n",
       "Explanation            4075700\n",
       "ImportDate                   0\n",
       "IsCovered               215980\n",
       "IsEHB                  1817362\n",
       "IsExclFromInnMOOP       983986\n",
       "IsExclFromOonMOOP       982626\n",
       "IsStateMandate         4250463\n",
       "IsSubjToDedTier1       2465877\n",
       "IsSubjToDedTier2       2466054\n",
       "IssuerId                     0\n",
       "IssuerId2                    0\n",
       "LimitQty               4360725\n",
       "LimitUnit              4360539\n",
       "MinimumStay            5031681\n",
       "PlanId                       0\n",
       "QuantLimitOnSvc        3264532\n",
       "RowNumber                    0\n",
       "SourceName                   0\n",
       "StandardComponentId          0\n",
       "StateCode                    0\n",
       "StateCode2                   0\n",
       "VersionNum                   0\n",
       "dtype: int64"
      ]
     },
     "execution_count": 131,
     "metadata": {},
     "output_type": "execute_result"
    }
   ],
   "source": [
    "BenCosts.isnull().sum()"
   ]
  },
  {
   "cell_type": "markdown",
   "metadata": {},
   "source": [
    "Due to huge amount of NaN's will not eliminate rows that contain them, but rather replace NaN's with 0's to not compromise data's wealth of information."
   ]
  },
  {
   "cell_type": "code",
   "execution_count": 132,
   "metadata": {},
   "outputs": [],
   "source": [
    "CleanBenCosts = BenCosts.fillna(0)"
   ]
  },
  {
   "cell_type": "code",
   "execution_count": 133,
   "metadata": {},
   "outputs": [
    {
     "data": {
      "text/plain": [
       "BenefitName            0\n",
       "BusinessYear           0\n",
       "CoinsInnTier1          0\n",
       "CoinsInnTier2          0\n",
       "CoinsOutofNet          0\n",
       "CopayInnTier1          0\n",
       "CopayInnTier2          0\n",
       "CopayOutofNet          0\n",
       "EHBVarReason           0\n",
       "Exclusions             0\n",
       "Explanation            0\n",
       "ImportDate             0\n",
       "IsCovered              0\n",
       "IsEHB                  0\n",
       "IsExclFromInnMOOP      0\n",
       "IsExclFromOonMOOP      0\n",
       "IsStateMandate         0\n",
       "IsSubjToDedTier1       0\n",
       "IsSubjToDedTier2       0\n",
       "IssuerId               0\n",
       "IssuerId2              0\n",
       "LimitQty               0\n",
       "LimitUnit              0\n",
       "MinimumStay            0\n",
       "PlanId                 0\n",
       "QuantLimitOnSvc        0\n",
       "RowNumber              0\n",
       "SourceName             0\n",
       "StandardComponentId    0\n",
       "StateCode              0\n",
       "StateCode2             0\n",
       "VersionNum             0\n",
       "dtype: int64"
      ]
     },
     "execution_count": 133,
     "metadata": {},
     "output_type": "execute_result"
    }
   ],
   "source": [
    "# Check to see if NaN's are left.\n",
    "CleanBenCosts.isnull().sum()"
   ]
  },
  {
   "cell_type": "code",
   "execution_count": 134,
   "metadata": {},
   "outputs": [
    {
     "data": {
      "text/html": [
       "<div>\n",
       "<style scoped>\n",
       "    .dataframe tbody tr th:only-of-type {\n",
       "        vertical-align: middle;\n",
       "    }\n",
       "\n",
       "    .dataframe tbody tr th {\n",
       "        vertical-align: top;\n",
       "    }\n",
       "\n",
       "    .dataframe thead tr th {\n",
       "        text-align: left;\n",
       "    }\n",
       "\n",
       "    .dataframe thead tr:last-of-type th {\n",
       "        text-align: right;\n",
       "    }\n",
       "</style>\n",
       "<table border=\"1\" class=\"dataframe\">\n",
       "  <thead>\n",
       "    <tr>\n",
       "      <th></th>\n",
       "      <th colspan=\"4\" halign=\"left\">BenefitName</th>\n",
       "    </tr>\n",
       "    <tr>\n",
       "      <th></th>\n",
       "      <th>count</th>\n",
       "      <th>unique</th>\n",
       "      <th>top</th>\n",
       "      <th>freq</th>\n",
       "    </tr>\n",
       "    <tr>\n",
       "      <th>BusinessYear</th>\n",
       "      <th></th>\n",
       "      <th></th>\n",
       "      <th></th>\n",
       "      <th></th>\n",
       "    </tr>\n",
       "  </thead>\n",
       "  <tbody>\n",
       "    <tr>\n",
       "      <th>2014</th>\n",
       "      <td>1164869</td>\n",
       "      <td>496</td>\n",
       "      <td>Major Dental Care - Adult</td>\n",
       "      <td>18719</td>\n",
       "    </tr>\n",
       "    <tr>\n",
       "      <th>2015</th>\n",
       "      <td>2079286</td>\n",
       "      <td>517</td>\n",
       "      <td>Orthodontia - Adult</td>\n",
       "      <td>31269</td>\n",
       "    </tr>\n",
       "    <tr>\n",
       "      <th>2016</th>\n",
       "      <td>1804253</td>\n",
       "      <td>429</td>\n",
       "      <td>Orthodontia - Adult</td>\n",
       "      <td>27389</td>\n",
       "    </tr>\n",
       "  </tbody>\n",
       "</table>\n",
       "</div>"
      ],
      "text/plain": [
       "             BenefitName                                         \n",
       "                   count unique                        top   freq\n",
       "BusinessYear                                                     \n",
       "2014             1164869    496  Major Dental Care - Adult  18719\n",
       "2015             2079286    517        Orthodontia - Adult  31269\n",
       "2016             1804253    429        Orthodontia - Adult  27389"
      ]
     },
     "execution_count": 134,
     "metadata": {},
     "output_type": "execute_result"
    }
   ],
   "source": [
    "CleanBenCosts[[\"BusinessYear\",\"BenefitName\"]].groupby('BusinessYear').describe()"
   ]
  },
  {
   "cell_type": "markdown",
   "metadata": {},
   "source": [
    "For 2014: 1.2 million plans bought, close to 500 different ones with adult dental care toping the list at close to 19,000 bought.\n",
    "\n",
    "For 2015: 2 million plans bought, over 500 different ones with adult orthodontic dental care toping the list with over 30,000 of these plans bought. 2015 was a huge revenue boost for health insurance companies/brokers.\n",
    "    \n",
    "For 2016: 1.8 million plans bought, around 430 different ones only and adult orthodontic dental care toping the list with close to 27,000 of these plans bought.    \n",
    "    \n",
    "Another cut of the data that we can do is naming the most popular benefit plans per state. This could give way to state demographics, which was not supplied in available dataset."
   ]
  },
  {
   "cell_type": "markdown",
   "metadata": {},
   "source": [
    "Now let us see what the benefit plans are spread across states. We just need to substitute out BusinessYear with StateCode feature."
   ]
  },
  {
   "cell_type": "code",
   "execution_count": 135,
   "metadata": {},
   "outputs": [
    {
     "data": {
      "text/html": [
       "<div>\n",
       "<style scoped>\n",
       "    .dataframe tbody tr th:only-of-type {\n",
       "        vertical-align: middle;\n",
       "    }\n",
       "\n",
       "    .dataframe tbody tr th {\n",
       "        vertical-align: top;\n",
       "    }\n",
       "\n",
       "    .dataframe thead tr th {\n",
       "        text-align: left;\n",
       "    }\n",
       "\n",
       "    .dataframe thead tr:last-of-type th {\n",
       "        text-align: right;\n",
       "    }\n",
       "</style>\n",
       "<table border=\"1\" class=\"dataframe\">\n",
       "  <thead>\n",
       "    <tr>\n",
       "      <th></th>\n",
       "      <th colspan=\"4\" halign=\"left\">BenefitName</th>\n",
       "    </tr>\n",
       "    <tr>\n",
       "      <th></th>\n",
       "      <th>count</th>\n",
       "      <th>unique</th>\n",
       "      <th>top</th>\n",
       "      <th>freq</th>\n",
       "    </tr>\n",
       "    <tr>\n",
       "      <th>StateCode</th>\n",
       "      <th></th>\n",
       "      <th></th>\n",
       "      <th></th>\n",
       "      <th></th>\n",
       "    </tr>\n",
       "  </thead>\n",
       "  <tbody>\n",
       "    <tr>\n",
       "      <th>AK</th>\n",
       "      <td>41320</td>\n",
       "      <td>84</td>\n",
       "      <td>Major Dental Care - Adult</td>\n",
       "      <td>720</td>\n",
       "    </tr>\n",
       "    <tr>\n",
       "      <th>AL</th>\n",
       "      <td>28417</td>\n",
       "      <td>115</td>\n",
       "      <td>Basic Dental Care - Adult</td>\n",
       "      <td>653</td>\n",
       "    </tr>\n",
       "    <tr>\n",
       "      <th>AR</th>\n",
       "      <td>68064</td>\n",
       "      <td>93</td>\n",
       "      <td>Orthodontia - Adult</td>\n",
       "      <td>1077</td>\n",
       "    </tr>\n",
       "    <tr>\n",
       "      <th>AZ</th>\n",
       "      <td>221612</td>\n",
       "      <td>195</td>\n",
       "      <td>Dental Check-Up for Children</td>\n",
       "      <td>3345</td>\n",
       "    </tr>\n",
       "    <tr>\n",
       "      <th>DE</th>\n",
       "      <td>31370</td>\n",
       "      <td>110</td>\n",
       "      <td>Dental Check-Up for Children</td>\n",
       "      <td>602</td>\n",
       "    </tr>\n",
       "    <tr>\n",
       "      <th>FL</th>\n",
       "      <td>364742</td>\n",
       "      <td>194</td>\n",
       "      <td>Orthodontia - Child</td>\n",
       "      <td>5130</td>\n",
       "    </tr>\n",
       "    <tr>\n",
       "      <th>GA</th>\n",
       "      <td>196579</td>\n",
       "      <td>151</td>\n",
       "      <td>Orthodontia - Adult</td>\n",
       "      <td>2893</td>\n",
       "    </tr>\n",
       "    <tr>\n",
       "      <th>HI</th>\n",
       "      <td>6741</td>\n",
       "      <td>76</td>\n",
       "      <td>Dental Check-Up for Children</td>\n",
       "      <td>110</td>\n",
       "    </tr>\n",
       "    <tr>\n",
       "      <th>IA</th>\n",
       "      <td>110221</td>\n",
       "      <td>104</td>\n",
       "      <td>Orthodontia - Adult</td>\n",
       "      <td>1727</td>\n",
       "    </tr>\n",
       "    <tr>\n",
       "      <th>ID</th>\n",
       "      <td>27313</td>\n",
       "      <td>71</td>\n",
       "      <td>Major Dental Care - Child</td>\n",
       "      <td>447</td>\n",
       "    </tr>\n",
       "    <tr>\n",
       "      <th>IL</th>\n",
       "      <td>320533</td>\n",
       "      <td>157</td>\n",
       "      <td>Orthodontia - Child</td>\n",
       "      <td>4299</td>\n",
       "    </tr>\n",
       "    <tr>\n",
       "      <th>IN</th>\n",
       "      <td>148531</td>\n",
       "      <td>109</td>\n",
       "      <td>Basic Dental Care - Adult</td>\n",
       "      <td>2347</td>\n",
       "    </tr>\n",
       "    <tr>\n",
       "      <th>KS</th>\n",
       "      <td>64279</td>\n",
       "      <td>82</td>\n",
       "      <td>Routine Dental Services (Adult)</td>\n",
       "      <td>1087</td>\n",
       "    </tr>\n",
       "    <tr>\n",
       "      <th>LA</th>\n",
       "      <td>91816</td>\n",
       "      <td>125</td>\n",
       "      <td>Routine Dental Services (Adult)</td>\n",
       "      <td>1491</td>\n",
       "    </tr>\n",
       "    <tr>\n",
       "      <th>ME</th>\n",
       "      <td>61834</td>\n",
       "      <td>99</td>\n",
       "      <td>Major Dental Care - Child</td>\n",
       "      <td>975</td>\n",
       "    </tr>\n",
       "    <tr>\n",
       "      <th>MI</th>\n",
       "      <td>189225</td>\n",
       "      <td>205</td>\n",
       "      <td>Basic Dental Care - Adult</td>\n",
       "      <td>3248</td>\n",
       "    </tr>\n",
       "    <tr>\n",
       "      <th>MO</th>\n",
       "      <td>95152</td>\n",
       "      <td>127</td>\n",
       "      <td>Major Dental Care - Adult</td>\n",
       "      <td>1577</td>\n",
       "    </tr>\n",
       "    <tr>\n",
       "      <th>MS</th>\n",
       "      <td>46895</td>\n",
       "      <td>104</td>\n",
       "      <td>Basic Dental Care - Adult</td>\n",
       "      <td>725</td>\n",
       "    </tr>\n",
       "    <tr>\n",
       "      <th>MT</th>\n",
       "      <td>58132</td>\n",
       "      <td>75</td>\n",
       "      <td>Major Dental Care - Adult</td>\n",
       "      <td>1049</td>\n",
       "    </tr>\n",
       "    <tr>\n",
       "      <th>NC</th>\n",
       "      <td>94290</td>\n",
       "      <td>98</td>\n",
       "      <td>Orthodontia - Adult</td>\n",
       "      <td>1537</td>\n",
       "    </tr>\n",
       "    <tr>\n",
       "      <th>ND</th>\n",
       "      <td>48269</td>\n",
       "      <td>77</td>\n",
       "      <td>Major Dental Care - Adult</td>\n",
       "      <td>974</td>\n",
       "    </tr>\n",
       "    <tr>\n",
       "      <th>NE</th>\n",
       "      <td>66935</td>\n",
       "      <td>90</td>\n",
       "      <td>Basic Dental Care - Child</td>\n",
       "      <td>1238</td>\n",
       "    </tr>\n",
       "    <tr>\n",
       "      <th>NH</th>\n",
       "      <td>44305</td>\n",
       "      <td>98</td>\n",
       "      <td>Basic Dental Care - Child</td>\n",
       "      <td>707</td>\n",
       "    </tr>\n",
       "    <tr>\n",
       "      <th>NJ</th>\n",
       "      <td>86107</td>\n",
       "      <td>100</td>\n",
       "      <td>Orthodontia - Adult</td>\n",
       "      <td>1357</td>\n",
       "    </tr>\n",
       "    <tr>\n",
       "      <th>NM</th>\n",
       "      <td>56669</td>\n",
       "      <td>78</td>\n",
       "      <td>Major Dental Care - Adult</td>\n",
       "      <td>828</td>\n",
       "    </tr>\n",
       "    <tr>\n",
       "      <th>NV</th>\n",
       "      <td>62743</td>\n",
       "      <td>121</td>\n",
       "      <td>Orthodontia - Adult</td>\n",
       "      <td>930</td>\n",
       "    </tr>\n",
       "    <tr>\n",
       "      <th>OH</th>\n",
       "      <td>331045</td>\n",
       "      <td>193</td>\n",
       "      <td>Major Dental Care - Child</td>\n",
       "      <td>5092</td>\n",
       "    </tr>\n",
       "    <tr>\n",
       "      <th>OK</th>\n",
       "      <td>133639</td>\n",
       "      <td>83</td>\n",
       "      <td>Orthodontia - Adult</td>\n",
       "      <td>2136</td>\n",
       "    </tr>\n",
       "    <tr>\n",
       "      <th>OR</th>\n",
       "      <td>93502</td>\n",
       "      <td>123</td>\n",
       "      <td>Orthodontia - Adult</td>\n",
       "      <td>1344</td>\n",
       "    </tr>\n",
       "    <tr>\n",
       "      <th>PA</th>\n",
       "      <td>260866</td>\n",
       "      <td>157</td>\n",
       "      <td>Major Dental Care - Adult</td>\n",
       "      <td>4208</td>\n",
       "    </tr>\n",
       "    <tr>\n",
       "      <th>SC</th>\n",
       "      <td>111907</td>\n",
       "      <td>85</td>\n",
       "      <td>Orthodontia - Adult</td>\n",
       "      <td>1817</td>\n",
       "    </tr>\n",
       "    <tr>\n",
       "      <th>SD</th>\n",
       "      <td>47730</td>\n",
       "      <td>79</td>\n",
       "      <td>Orthodontia - Adult</td>\n",
       "      <td>843</td>\n",
       "    </tr>\n",
       "    <tr>\n",
       "      <th>TN</th>\n",
       "      <td>138154</td>\n",
       "      <td>129</td>\n",
       "      <td>Dental Check-Up for Children</td>\n",
       "      <td>2073</td>\n",
       "    </tr>\n",
       "    <tr>\n",
       "      <th>TX</th>\n",
       "      <td>465164</td>\n",
       "      <td>180</td>\n",
       "      <td>Basic Dental Care - Adult</td>\n",
       "      <td>6441</td>\n",
       "    </tr>\n",
       "    <tr>\n",
       "      <th>UT</th>\n",
       "      <td>98421</td>\n",
       "      <td>101</td>\n",
       "      <td>Orthodontia - Adult</td>\n",
       "      <td>1527</td>\n",
       "    </tr>\n",
       "    <tr>\n",
       "      <th>VA</th>\n",
       "      <td>142236</td>\n",
       "      <td>145</td>\n",
       "      <td>Orthodontia - Adult</td>\n",
       "      <td>2256</td>\n",
       "    </tr>\n",
       "    <tr>\n",
       "      <th>WI</th>\n",
       "      <td>512587</td>\n",
       "      <td>146</td>\n",
       "      <td>Accidental Dental</td>\n",
       "      <td>7135</td>\n",
       "    </tr>\n",
       "    <tr>\n",
       "      <th>WV</th>\n",
       "      <td>32638</td>\n",
       "      <td>77</td>\n",
       "      <td>Routine Dental Services (Adult)</td>\n",
       "      <td>625</td>\n",
       "    </tr>\n",
       "    <tr>\n",
       "      <th>WY</th>\n",
       "      <td>48425</td>\n",
       "      <td>92</td>\n",
       "      <td>Orthodontia - Adult</td>\n",
       "      <td>807</td>\n",
       "    </tr>\n",
       "  </tbody>\n",
       "</table>\n",
       "</div>"
      ],
      "text/plain": [
       "          BenefitName                                              \n",
       "                count unique                              top  freq\n",
       "StateCode                                                          \n",
       "AK              41320     84        Major Dental Care - Adult   720\n",
       "AL              28417    115        Basic Dental Care - Adult   653\n",
       "AR              68064     93              Orthodontia - Adult  1077\n",
       "AZ             221612    195     Dental Check-Up for Children  3345\n",
       "DE              31370    110     Dental Check-Up for Children   602\n",
       "FL             364742    194              Orthodontia - Child  5130\n",
       "GA             196579    151              Orthodontia - Adult  2893\n",
       "HI               6741     76     Dental Check-Up for Children   110\n",
       "IA             110221    104              Orthodontia - Adult  1727\n",
       "ID              27313     71        Major Dental Care - Child   447\n",
       "IL             320533    157              Orthodontia - Child  4299\n",
       "IN             148531    109        Basic Dental Care - Adult  2347\n",
       "KS              64279     82  Routine Dental Services (Adult)  1087\n",
       "LA              91816    125  Routine Dental Services (Adult)  1491\n",
       "ME              61834     99        Major Dental Care - Child   975\n",
       "MI             189225    205        Basic Dental Care - Adult  3248\n",
       "MO              95152    127        Major Dental Care - Adult  1577\n",
       "MS              46895    104        Basic Dental Care - Adult   725\n",
       "MT              58132     75        Major Dental Care - Adult  1049\n",
       "NC              94290     98              Orthodontia - Adult  1537\n",
       "ND              48269     77        Major Dental Care - Adult   974\n",
       "NE              66935     90        Basic Dental Care - Child  1238\n",
       "NH              44305     98        Basic Dental Care - Child   707\n",
       "NJ              86107    100              Orthodontia - Adult  1357\n",
       "NM              56669     78        Major Dental Care - Adult   828\n",
       "NV              62743    121              Orthodontia - Adult   930\n",
       "OH             331045    193        Major Dental Care - Child  5092\n",
       "OK             133639     83              Orthodontia - Adult  2136\n",
       "OR              93502    123              Orthodontia - Adult  1344\n",
       "PA             260866    157        Major Dental Care - Adult  4208\n",
       "SC             111907     85              Orthodontia - Adult  1817\n",
       "SD              47730     79              Orthodontia - Adult   843\n",
       "TN             138154    129     Dental Check-Up for Children  2073\n",
       "TX             465164    180        Basic Dental Care - Adult  6441\n",
       "UT              98421    101              Orthodontia - Adult  1527\n",
       "VA             142236    145              Orthodontia - Adult  2256\n",
       "WI             512587    146                Accidental Dental  7135\n",
       "WV              32638     77  Routine Dental Services (Adult)   625\n",
       "WY              48425     92              Orthodontia - Adult   807"
      ]
     },
     "execution_count": 135,
     "metadata": {},
     "output_type": "execute_result"
    }
   ],
   "source": [
    "CleanBenCosts[[\"StateCode\",\"BenefitName\"]].groupby('StateCode').describe()"
   ]
  },
  {
   "cell_type": "markdown",
   "metadata": {},
   "source": [
    "So interesting! Dental care is at the top of each state accounted for. I would not have thought this since Dental Insurance is not an essential health benefit for those over 18 years old, but for children it is."
   ]
  },
  {
   "cell_type": "code",
   "execution_count": 136,
   "metadata": {},
   "outputs": [],
   "source": [
    "CleanBenCosts[[\"StateCode\",\"BenefitName\"]].groupby('StateCode').count().sort_values(\"BenefitName\")\n",
    "Distinct_State = CleanBenCosts.StateCode.unique()\n",
    "Benefit = []\n",
    "\n",
    "for state in Distinct_State:\n",
    "    state_benefit =  len(CleanBenCosts[CleanBenCosts[\"StateCode\"] == state])    \n",
    "    Benefit.append(state_benefit)  "
   ]
  },
  {
   "cell_type": "markdown",
   "metadata": {},
   "source": [
    "It is best to have bar counts in descending order from top to bottom in order to visualize where most plans are sold in the US. This would give suggestion to where to target marketing teams/where to target sales efforts."
   ]
  },
  {
   "cell_type": "code",
   "execution_count": 137,
   "metadata": {},
   "outputs": [
    {
     "data": {
      "image/png": "[encoded data removed]",
      "text/plain": [
       "<Figure size 1080x1080 with 1 Axes>"
      ]
     },
     "metadata": {},
     "output_type": "display_data"
    }
   ],
   "source": [
    "df = pd.DataFrame(\n",
    "    {'state': Distinct_State,\n",
    "     'Count' : Benefit\n",
    "     })\n",
    "\n",
    "df = df.sort_values(\"Count\", ascending=False).reset_index(drop=True)\n",
    "\n",
    "f, ax = plt.subplots(figsize=(15, 15)) \n",
    "ax.set_yticklabels(df.state, rotation='horizontal', fontsize='large')\n",
    "g = sns.barplot(y = df.state, x= df.Count)\n",
    "plt.show()"
   ]
  },
  {
   "cell_type": "markdown",
   "metadata": {},
   "source": [
    "Great! We can see from here that number of benefit plans across states only reach beyond 300,000 mark for WI, TX, FL, OH and IL. It is surprising that WI tops the list since TX is the second largest state in the US and FL is the state with the most old people."
   ]
  },
  {
   "cell_type": "markdown",
   "metadata": {},
   "source": [
    "To take this visualization further, we can look at benefit plans on a US map. Gradients of color represent volume of benefit plans per state. Moving cursor over a state will give you the exact number of benefit plans and the two-letter state abbreviation."
   ]
  },
  {
   "cell_type": "code",
   "execution_count": 138,
   "metadata": {},
   "outputs": [
    {
     "data": {
      "application/vnd.plotly.v1+json": {
       "config": {
        "linkText": "Export to plot.ly",
        "plotlyServerURL": "https://plot.ly",
        "showLink": false
       },
       "data": [
        {
         "colorbar": {
          "title": {
           "text": "No of Benefit plans"
          }
         },
         "colorscale": "Cividis",
         "locationmode": "USA-states",
         "locations": [
          "WI",
          "TX",
          "FL",
          "OH",
          "IL",
          "PA",
          "AZ",
          "GA",
          "MI",
          "IN",
          "VA",
          "TN",
          "OK",
          "SC",
          "IA",
          "UT",
          "MO",
          "NC",
          "OR",
          "LA",
          "NJ",
          "AR",
          "NE",
          "KS",
          "NV",
          "ME",
          "MT",
          "NM",
          "WY",
          "ND",
          "SD",
          "MS",
          "NH",
          "AK",
          "WV",
          "DE",
          "AL",
          "ID",
          "HI"
         ],
         "marker": {
          "line": {
           "color": "rgb(255,255,255)",
           "width": 2
          }
         },
         "text": [
          "WI",
          "TX",
          "FL",
          "OH",
          "IL",
          "PA",
          "AZ",
          "GA",
          "MI",
          "IN",
          "VA",
          "TN",
          "OK",
          "SC",
          "IA",
          "UT",
          "MO",
          "NC",
          "OR",
          "LA",
          "NJ",
          "AR",
          "NE",
          "KS",
          "NV",
          "ME",
          "MT",
          "NM",
          "WY",
          "ND",
          "SD",
          "MS",
          "NH",
          "AK",
          "WV",
          "DE",
          "AL",
          "ID",
          "HI"
         ],
         "type": "choropleth",
         "uid": "d5271d28-0728-4b15-83c2-7d73b7432eca",
         "z": [
          512587,
          465164,
          364742,
          331045,
          320533,
          260866,
          221612,
          196579,
          189225,
          148531,
          142236,
          138154,
          133639,
          111907,
          110221,
          98421,
          95152,
          94290,
          93502,
          91816,
          86107,
          68064,
          66935,
          64279,
          62743,
          61834,
          58132,
          56669,
          48425,
          48269,
          47730,
          46895,
          44305,
          41320,
          32638,
          31370,
          28417,
          27313,
          6741
         ]
        }
       ],
       "layout": {
        "geo": {
         "lakecolor": "rgb(255,255,255)",
         "scope": "usa",
         "showlakes": true
        },
        "title": {
         "text": "2014-2016 Benefit Plans by State (Hover for Breakdown)"
        }
       }
      },
      "text/html": [
       "<div id=\"a30c53a5-7dc8-45e2-bfce-fb9dd2e3a662\" style=\"height: 525px; width: 100%;\" class=\"plotly-graph-div\"></div><script type=\"text/javascript\">require([\"plotly\"], function(Plotly) { window.PLOTLYENV=window.PLOTLYENV || {};window.PLOTLYENV.BASE_URL=\"https://plot.ly\";Plotly.newPlot(\"a30c53a5-7dc8-45e2-bfce-fb9dd2e3a662\", [{\"colorbar\": {\"title\": {\"text\": \"No of Benefit plans\"}}, \"colorscale\": \"Cividis\", \"locationmode\": \"USA-states\", \"locations\": [\"WI\", \"TX\", \"FL\", \"OH\", \"IL\", \"PA\", \"AZ\", \"GA\", \"MI\", \"IN\", \"VA\", \"TN\", \"OK\", \"SC\", \"IA\", \"UT\", \"MO\", \"NC\", \"OR\", \"LA\", \"NJ\", \"AR\", \"NE\", \"KS\", \"NV\", \"ME\", \"MT\", \"NM\", \"WY\", \"ND\", \"SD\", \"MS\", \"NH\", \"AK\", \"WV\", \"DE\", \"AL\", \"ID\", \"HI\"], \"marker\": {\"line\": {\"color\": \"rgb(255,255,255)\", \"width\": 2}}, \"text\": [\"WI\", \"TX\", \"FL\", \"OH\", \"IL\", \"PA\", \"AZ\", \"GA\", \"MI\", \"IN\", \"VA\", \"TN\", \"OK\", \"SC\", \"IA\", \"UT\", \"MO\", \"NC\", \"OR\", \"LA\", \"NJ\", \"AR\", \"NE\", \"KS\", \"NV\", \"ME\", \"MT\", \"NM\", \"WY\", \"ND\", \"SD\", \"MS\", \"NH\", \"AK\", \"WV\", \"DE\", \"AL\", \"ID\", \"HI\"], \"z\": [512587, 465164, 364742, 331045, 320533, 260866, 221612, 196579, 189225, 148531, 142236, 138154, 133639, 111907, 110221, 98421, 95152, 94290, 93502, 91816, 86107, 68064, 66935, 64279, 62743, 61834, 58132, 56669, 48425, 48269, 47730, 46895, 44305, 41320, 32638, 31370, 28417, 27313, 6741], \"type\": \"choropleth\", \"uid\": \"d5271d28-0728-4b15-83c2-7d73b7432eca\"}], {\"geo\": {\"lakecolor\": \"rgb(255,255,255)\", \"scope\": \"usa\", \"showlakes\": true}, \"title\": {\"text\": \"2014-2016 Benefit Plans by State (Hover for Breakdown)\"}}, {\"showLink\": false, \"linkText\": \"Export to plot.ly\", \"plotlyServerURL\": \"https://plot.ly\"})});</script><script type=\"text/javascript\">window.addEventListener(\"resize\", function(){window._Plotly.Plots.resize(document.getElementById(\"a30c53a5-7dc8-45e2-bfce-fb9dd2e3a662\"));});</script>"
      ],
      "text/vnd.plotly.v1+html": [
       "<div id=\"a30c53a5-7dc8-45e2-bfce-fb9dd2e3a662\" style=\"height: 525px; width: 100%;\" class=\"plotly-graph-div\"></div><script type=\"text/javascript\">require([\"plotly\"], function(Plotly) { window.PLOTLYENV=window.PLOTLYENV || {};window.PLOTLYENV.BASE_URL=\"https://plot.ly\";Plotly.newPlot(\"a30c53a5-7dc8-45e2-bfce-fb9dd2e3a662\", [{\"colorbar\": {\"title\": {\"text\": \"No of Benefit plans\"}}, \"colorscale\": \"Cividis\", \"locationmode\": \"USA-states\", \"locations\": [\"WI\", \"TX\", \"FL\", \"OH\", \"IL\", \"PA\", \"AZ\", \"GA\", \"MI\", \"IN\", \"VA\", \"TN\", \"OK\", \"SC\", \"IA\", \"UT\", \"MO\", \"NC\", \"OR\", \"LA\", \"NJ\", \"AR\", \"NE\", \"KS\", \"NV\", \"ME\", \"MT\", \"NM\", \"WY\", \"ND\", \"SD\", \"MS\", \"NH\", \"AK\", \"WV\", \"DE\", \"AL\", \"ID\", \"HI\"], \"marker\": {\"line\": {\"color\": \"rgb(255,255,255)\", \"width\": 2}}, \"text\": [\"WI\", \"TX\", \"FL\", \"OH\", \"IL\", \"PA\", \"AZ\", \"GA\", \"MI\", \"IN\", \"VA\", \"TN\", \"OK\", \"SC\", \"IA\", \"UT\", \"MO\", \"NC\", \"OR\", \"LA\", \"NJ\", \"AR\", \"NE\", \"KS\", \"NV\", \"ME\", \"MT\", \"NM\", \"WY\", \"ND\", \"SD\", \"MS\", \"NH\", \"AK\", \"WV\", \"DE\", \"AL\", \"ID\", \"HI\"], \"z\": [512587, 465164, 364742, 331045, 320533, 260866, 221612, 196579, 189225, 148531, 142236, 138154, 133639, 111907, 110221, 98421, 95152, 94290, 93502, 91816, 86107, 68064, 66935, 64279, 62743, 61834, 58132, 56669, 48425, 48269, 47730, 46895, 44305, 41320, 32638, 31370, 28417, 27313, 6741], \"type\": \"choropleth\", \"uid\": \"d5271d28-0728-4b15-83c2-7d73b7432eca\"}], {\"geo\": {\"lakecolor\": \"rgb(255,255,255)\", \"scope\": \"usa\", \"showlakes\": true}, \"title\": {\"text\": \"2014-2016 Benefit Plans by State (Hover for Breakdown)\"}}, {\"showLink\": false, \"linkText\": \"Export to plot.ly\", \"plotlyServerURL\": \"https://plot.ly\"})});</script><script type=\"text/javascript\">window.addEventListener(\"resize\", function(){window._Plotly.Plots.resize(document.getElementById(\"a30c53a5-7dc8-45e2-bfce-fb9dd2e3a662\"));});</script>"
      ]
     },
     "metadata": {},
     "output_type": "display_data"
    }
   ],
   "source": [
    "data = dict(type = 'choropleth',\n",
    "           locations = df['state'],\n",
    "           locationmode = 'USA-states',\n",
    "           colorscale = 'Cividis',\n",
    "            text = df['state'],\n",
    "            marker = dict (line = dict(color = 'rgb(255,255,255)',width=2)),\n",
    "           z = df['Count'],\n",
    "           colorbar = {'title':'No of Benefit plans'})\n",
    "\n",
    "layout = dict(title = '2014-2016 Benefit Plans by State (Hover for Breakdown)',\n",
    "         geo=dict(scope = 'usa',showlakes = True,lakecolor='rgb(255,255,255)')) \n",
    "\n",
    "choromap2 = go.Figure(data = [data],layout=layout)\n",
    "iplot(choromap2)"
   ]
  },
  {
   "cell_type": "markdown",
   "metadata": {},
   "source": [
    "With this map, can see that some states do not have data at all, such as CA, WA, CO, MN, KY, MD, NY and states left of NH. This is a data integrity issue since CA and NY are huge states right beside TX. A lot of data on the US as a whole is missing then. This data hole impacts analysis conclusions more so if there were final comments made in relation to US as a whole."
   ]
  },
  {
   "cell_type": "markdown",
   "metadata": {},
   "source": [
    "Some census data would help since the density of plans across states do not account for everyone in each state. Some data on how many people are in each state would help with seeing how many uninsured could be targeted for health insurance sales. Other Census data that would help would be to see what are health benefits cut across gender, socioeconmic status, etc."
   ]
  },
  {
   "cell_type": "markdown",
   "metadata": {},
   "source": [
    "# Now, it would be nice to see cost of healthcare costs across time and states."
   ]
  },
  {
   "cell_type": "markdown",
   "metadata": {},
   "source": [
    "We will now move forward to a different dataset called Rate. Here, we will see how different insurance rates vary across individuals who do not use tobacco and those who do across time and across states.  "
   ]
  },
  {
   "cell_type": "code",
   "execution_count": 139,
   "metadata": {},
   "outputs": [
    {
     "data": {
      "text/html": [
       "<div>\n",
       "<style scoped>\n",
       "    .dataframe tbody tr th:only-of-type {\n",
       "        vertical-align: middle;\n",
       "    }\n",
       "\n",
       "    .dataframe tbody tr th {\n",
       "        vertical-align: top;\n",
       "    }\n",
       "\n",
       "    .dataframe thead th {\n",
       "        text-align: right;\n",
       "    }\n",
       "</style>\n",
       "<table border=\"1\" class=\"dataframe\">\n",
       "  <thead>\n",
       "    <tr style=\"text-align: right;\">\n",
       "      <th></th>\n",
       "      <th>BusinessYear</th>\n",
       "      <th>StateCode</th>\n",
       "      <th>IssuerId</th>\n",
       "      <th>SourceName</th>\n",
       "      <th>VersionNum</th>\n",
       "      <th>ImportDate</th>\n",
       "      <th>IssuerId2</th>\n",
       "      <th>FederalTIN</th>\n",
       "      <th>RateEffectiveDate</th>\n",
       "      <th>RateExpirationDate</th>\n",
       "      <th>...</th>\n",
       "      <th>IndividualRate</th>\n",
       "      <th>IndividualTobaccoRate</th>\n",
       "      <th>Couple</th>\n",
       "      <th>PrimarySubscriberAndOneDependent</th>\n",
       "      <th>PrimarySubscriberAndTwoDependents</th>\n",
       "      <th>PrimarySubscriberAndThreeOrMoreDependents</th>\n",
       "      <th>CoupleAndOneDependent</th>\n",
       "      <th>CoupleAndTwoDependents</th>\n",
       "      <th>CoupleAndThreeOrMoreDependents</th>\n",
       "      <th>RowNumber</th>\n",
       "    </tr>\n",
       "  </thead>\n",
       "  <tbody>\n",
       "    <tr>\n",
       "      <th>0</th>\n",
       "      <td>2014</td>\n",
       "      <td>AK</td>\n",
       "      <td>21989</td>\n",
       "      <td>HIOS</td>\n",
       "      <td>6</td>\n",
       "      <td>2014-03-19 07:06:49</td>\n",
       "      <td>21989</td>\n",
       "      <td>93-0438772</td>\n",
       "      <td>2014-01-01</td>\n",
       "      <td>2014-12-31</td>\n",
       "      <td>...</td>\n",
       "      <td>29.00</td>\n",
       "      <td>NaN</td>\n",
       "      <td>NaN</td>\n",
       "      <td>NaN</td>\n",
       "      <td>NaN</td>\n",
       "      <td>NaN</td>\n",
       "      <td>NaN</td>\n",
       "      <td>NaN</td>\n",
       "      <td>NaN</td>\n",
       "      <td>14</td>\n",
       "    </tr>\n",
       "    <tr>\n",
       "      <th>1</th>\n",
       "      <td>2014</td>\n",
       "      <td>AK</td>\n",
       "      <td>21989</td>\n",
       "      <td>HIOS</td>\n",
       "      <td>6</td>\n",
       "      <td>2014-03-19 07:06:49</td>\n",
       "      <td>21989</td>\n",
       "      <td>93-0438772</td>\n",
       "      <td>2014-01-01</td>\n",
       "      <td>2014-12-31</td>\n",
       "      <td>...</td>\n",
       "      <td>36.95</td>\n",
       "      <td>NaN</td>\n",
       "      <td>73.9</td>\n",
       "      <td>107.61</td>\n",
       "      <td>107.61</td>\n",
       "      <td>107.61</td>\n",
       "      <td>144.56</td>\n",
       "      <td>144.56</td>\n",
       "      <td>144.56</td>\n",
       "      <td>14</td>\n",
       "    </tr>\n",
       "    <tr>\n",
       "      <th>2</th>\n",
       "      <td>2014</td>\n",
       "      <td>AK</td>\n",
       "      <td>21989</td>\n",
       "      <td>HIOS</td>\n",
       "      <td>6</td>\n",
       "      <td>2014-03-19 07:06:49</td>\n",
       "      <td>21989</td>\n",
       "      <td>93-0438772</td>\n",
       "      <td>2014-01-01</td>\n",
       "      <td>2014-12-31</td>\n",
       "      <td>...</td>\n",
       "      <td>36.95</td>\n",
       "      <td>NaN</td>\n",
       "      <td>73.9</td>\n",
       "      <td>107.61</td>\n",
       "      <td>107.61</td>\n",
       "      <td>107.61</td>\n",
       "      <td>144.56</td>\n",
       "      <td>144.56</td>\n",
       "      <td>144.56</td>\n",
       "      <td>15</td>\n",
       "    </tr>\n",
       "    <tr>\n",
       "      <th>3</th>\n",
       "      <td>2014</td>\n",
       "      <td>AK</td>\n",
       "      <td>21989</td>\n",
       "      <td>HIOS</td>\n",
       "      <td>6</td>\n",
       "      <td>2014-03-19 07:06:49</td>\n",
       "      <td>21989</td>\n",
       "      <td>93-0438772</td>\n",
       "      <td>2014-01-01</td>\n",
       "      <td>2014-12-31</td>\n",
       "      <td>...</td>\n",
       "      <td>32.00</td>\n",
       "      <td>NaN</td>\n",
       "      <td>NaN</td>\n",
       "      <td>NaN</td>\n",
       "      <td>NaN</td>\n",
       "      <td>NaN</td>\n",
       "      <td>NaN</td>\n",
       "      <td>NaN</td>\n",
       "      <td>NaN</td>\n",
       "      <td>15</td>\n",
       "    </tr>\n",
       "    <tr>\n",
       "      <th>4</th>\n",
       "      <td>2014</td>\n",
       "      <td>AK</td>\n",
       "      <td>21989</td>\n",
       "      <td>HIOS</td>\n",
       "      <td>6</td>\n",
       "      <td>2014-03-19 07:06:49</td>\n",
       "      <td>21989</td>\n",
       "      <td>93-0438772</td>\n",
       "      <td>2014-01-01</td>\n",
       "      <td>2014-12-31</td>\n",
       "      <td>...</td>\n",
       "      <td>32.00</td>\n",
       "      <td>NaN</td>\n",
       "      <td>NaN</td>\n",
       "      <td>NaN</td>\n",
       "      <td>NaN</td>\n",
       "      <td>NaN</td>\n",
       "      <td>NaN</td>\n",
       "      <td>NaN</td>\n",
       "      <td>NaN</td>\n",
       "      <td>16</td>\n",
       "    </tr>\n",
       "  </tbody>\n",
       "</table>\n",
       "<p>5 rows × 24 columns</p>\n",
       "</div>"
      ],
      "text/plain": [
       "   BusinessYear StateCode  IssuerId SourceName  VersionNum  \\\n",
       "0          2014        AK     21989       HIOS           6   \n",
       "1          2014        AK     21989       HIOS           6   \n",
       "2          2014        AK     21989       HIOS           6   \n",
       "3          2014        AK     21989       HIOS           6   \n",
       "4          2014        AK     21989       HIOS           6   \n",
       "\n",
       "            ImportDate  IssuerId2  FederalTIN RateEffectiveDate  \\\n",
       "0  2014-03-19 07:06:49      21989  93-0438772        2014-01-01   \n",
       "1  2014-03-19 07:06:49      21989  93-0438772        2014-01-01   \n",
       "2  2014-03-19 07:06:49      21989  93-0438772        2014-01-01   \n",
       "3  2014-03-19 07:06:49      21989  93-0438772        2014-01-01   \n",
       "4  2014-03-19 07:06:49      21989  93-0438772        2014-01-01   \n",
       "\n",
       "  RateExpirationDate    ...     IndividualRate IndividualTobaccoRate Couple  \\\n",
       "0         2014-12-31    ...              29.00                   NaN    NaN   \n",
       "1         2014-12-31    ...              36.95                   NaN   73.9   \n",
       "2         2014-12-31    ...              36.95                   NaN   73.9   \n",
       "3         2014-12-31    ...              32.00                   NaN    NaN   \n",
       "4         2014-12-31    ...              32.00                   NaN    NaN   \n",
       "\n",
       "  PrimarySubscriberAndOneDependent  PrimarySubscriberAndTwoDependents  \\\n",
       "0                              NaN                                NaN   \n",
       "1                           107.61                             107.61   \n",
       "2                           107.61                             107.61   \n",
       "3                              NaN                                NaN   \n",
       "4                              NaN                                NaN   \n",
       "\n",
       "   PrimarySubscriberAndThreeOrMoreDependents  CoupleAndOneDependent  \\\n",
       "0                                        NaN                    NaN   \n",
       "1                                     107.61                 144.56   \n",
       "2                                     107.61                 144.56   \n",
       "3                                        NaN                    NaN   \n",
       "4                                        NaN                    NaN   \n",
       "\n",
       "   CoupleAndTwoDependents  CoupleAndThreeOrMoreDependents  RowNumber  \n",
       "0                     NaN                             NaN         14  \n",
       "1                  144.56                          144.56         14  \n",
       "2                  144.56                          144.56         15  \n",
       "3                     NaN                             NaN         15  \n",
       "4                     NaN                             NaN         16  \n",
       "\n",
       "[5 rows x 24 columns]"
      ]
     },
     "execution_count": 139,
     "metadata": {},
     "output_type": "execute_result"
    }
   ],
   "source": [
    "Rate = pd.read_csv(\"Rate.csv\")\n",
    "Rate.head()"
   ]
  },
  {
   "cell_type": "markdown",
   "metadata": {},
   "source": [
    "Let us first take a look at how many NaN's there are and in the dataset."
   ]
  },
  {
   "cell_type": "code",
   "execution_count": 140,
   "metadata": {},
   "outputs": [
    {
     "data": {
      "text/plain": [
       "(0, 0, 0)"
      ]
     },
     "execution_count": 140,
     "metadata": {},
     "output_type": "execute_result"
    }
   ],
   "source": [
    "Rate.BusinessYear.isnull().sum(), Rate.Age.isnull().sum(), Rate.IndividualRate.isnull().sum()"
   ]
  },
  {
   "cell_type": "code",
   "execution_count": 141,
   "metadata": {},
   "outputs": [
    {
     "data": {
      "text/plain": [
       "7762096"
      ]
     },
     "execution_count": 141,
     "metadata": {},
     "output_type": "execute_result"
    }
   ],
   "source": [
    "Rate.IndividualTobaccoRate.isnull().sum()"
   ]
  },
  {
   "cell_type": "code",
   "execution_count": 142,
   "metadata": {},
   "outputs": [
    {
     "data": {
      "text/plain": [
       "12653504"
      ]
     },
     "execution_count": 142,
     "metadata": {},
     "output_type": "execute_result"
    }
   ],
   "source": [
    "Rate.Couple.isnull().sum()"
   ]
  },
  {
   "cell_type": "code",
   "execution_count": 143,
   "metadata": {},
   "outputs": [
    {
     "name": "stdout",
     "output_type": "stream",
     "text": [
      "<class 'pandas.core.frame.DataFrame'>\n",
      "RangeIndex: 12694445 entries, 0 to 12694444\n",
      "Data columns (total 24 columns):\n",
      "BusinessYear                                 int64\n",
      "StateCode                                    object\n",
      "IssuerId                                     int64\n",
      "SourceName                                   object\n",
      "VersionNum                                   int64\n",
      "ImportDate                                   object\n",
      "IssuerId2                                    int64\n",
      "FederalTIN                                   object\n",
      "RateEffectiveDate                            object\n",
      "RateExpirationDate                           object\n",
      "PlanId                                       object\n",
      "RatingAreaId                                 object\n",
      "Tobacco                                      object\n",
      "Age                                          object\n",
      "IndividualRate                               float64\n",
      "IndividualTobaccoRate                        float64\n",
      "Couple                                       float64\n",
      "PrimarySubscriberAndOneDependent             float64\n",
      "PrimarySubscriberAndTwoDependents            float64\n",
      "PrimarySubscriberAndThreeOrMoreDependents    float64\n",
      "CoupleAndOneDependent                        float64\n",
      "CoupleAndTwoDependents                       float64\n",
      "CoupleAndThreeOrMoreDependents               float64\n",
      "RowNumber                                    int64\n",
      "dtypes: float64(9), int64(5), object(10)\n",
      "memory usage: 2.3+ GB\n"
     ]
    }
   ],
   "source": [
    "Rate.info()"
   ]
  },
  {
   "cell_type": "code",
   "execution_count": 144,
   "metadata": {},
   "outputs": [
    {
     "data": {
      "text/plain": [
       "0.9967748885437685"
      ]
     },
     "execution_count": 144,
     "metadata": {},
     "output_type": "execute_result"
    }
   ],
   "source": [
    "12653504/12694445"
   ]
  },
  {
   "cell_type": "markdown",
   "metadata": {},
   "source": [
    "Given that group rate columns have around 99.6% missing data, will only compare different individual rates across time and states."
   ]
  },
  {
   "cell_type": "markdown",
   "metadata": {},
   "source": [
    "## Clean IndTobaccoRate data column"
   ]
  },
  {
   "cell_type": "code",
   "execution_count": 145,
   "metadata": {},
   "outputs": [],
   "source": [
    "Rate.IndividualTobaccoRate = Rate.IndividualTobaccoRate.fillna(0)"
   ]
  },
  {
   "cell_type": "markdown",
   "metadata": {},
   "source": [
    "Check to see if there are any more NaN's."
   ]
  },
  {
   "cell_type": "code",
   "execution_count": 146,
   "metadata": {},
   "outputs": [
    {
     "data": {
      "text/plain": [
       "0"
      ]
     },
     "execution_count": 146,
     "metadata": {},
     "output_type": "execute_result"
    }
   ],
   "source": [
    "Rate.IndividualTobaccoRate.isnull().sum()"
   ]
  },
  {
   "cell_type": "markdown",
   "metadata": {},
   "source": [
    "There are none. Great!"
   ]
  },
  {
   "cell_type": "markdown",
   "metadata": {},
   "source": [
    "Now that the data is clean, let us take a look at individual costs with and without tobacco use across time."
   ]
  },
  {
   "cell_type": "code",
   "execution_count": 147,
   "metadata": {},
   "outputs": [
    {
     "data": {
      "text/html": [
       "<div>\n",
       "<style scoped>\n",
       "    .dataframe tbody tr th:only-of-type {\n",
       "        vertical-align: middle;\n",
       "    }\n",
       "\n",
       "    .dataframe tbody tr th {\n",
       "        vertical-align: top;\n",
       "    }\n",
       "\n",
       "    .dataframe thead tr th {\n",
       "        text-align: left;\n",
       "    }\n",
       "\n",
       "    .dataframe thead tr:last-of-type th {\n",
       "        text-align: right;\n",
       "    }\n",
       "</style>\n",
       "<table border=\"1\" class=\"dataframe\">\n",
       "  <thead>\n",
       "    <tr>\n",
       "      <th></th>\n",
       "      <th colspan=\"8\" halign=\"left\">IndividualRate</th>\n",
       "      <th colspan=\"8\" halign=\"left\">IndividualTobaccoRate</th>\n",
       "    </tr>\n",
       "    <tr>\n",
       "      <th></th>\n",
       "      <th>count</th>\n",
       "      <th>mean</th>\n",
       "      <th>std</th>\n",
       "      <th>min</th>\n",
       "      <th>25%</th>\n",
       "      <th>50%</th>\n",
       "      <th>75%</th>\n",
       "      <th>max</th>\n",
       "      <th>count</th>\n",
       "      <th>mean</th>\n",
       "      <th>std</th>\n",
       "      <th>min</th>\n",
       "      <th>25%</th>\n",
       "      <th>50%</th>\n",
       "      <th>75%</th>\n",
       "      <th>max</th>\n",
       "    </tr>\n",
       "    <tr>\n",
       "      <th>BusinessYear</th>\n",
       "      <th></th>\n",
       "      <th></th>\n",
       "      <th></th>\n",
       "      <th></th>\n",
       "      <th></th>\n",
       "      <th></th>\n",
       "      <th></th>\n",
       "      <th></th>\n",
       "      <th></th>\n",
       "      <th></th>\n",
       "      <th></th>\n",
       "      <th></th>\n",
       "      <th></th>\n",
       "      <th></th>\n",
       "      <th></th>\n",
       "      <th></th>\n",
       "    </tr>\n",
       "  </thead>\n",
       "  <tbody>\n",
       "    <tr>\n",
       "      <th>2014</th>\n",
       "      <td>3796388.0</td>\n",
       "      <td>12922.257001</td>\n",
       "      <td>111452.391035</td>\n",
       "      <td>0.0</td>\n",
       "      <td>32.11</td>\n",
       "      <td>296.43</td>\n",
       "      <td>480.14</td>\n",
       "      <td>999999.00</td>\n",
       "      <td>3796388.0</td>\n",
       "      <td>240.926268</td>\n",
       "      <td>352.947647</td>\n",
       "      <td>0.0</td>\n",
       "      <td>0.0</td>\n",
       "      <td>0.0</td>\n",
       "      <td>427.64</td>\n",
       "      <td>6604.61</td>\n",
       "    </tr>\n",
       "    <tr>\n",
       "      <th>2015</th>\n",
       "      <td>4676092.0</td>\n",
       "      <td>329.161861</td>\n",
       "      <td>525.002167</td>\n",
       "      <td>0.0</td>\n",
       "      <td>28.43</td>\n",
       "      <td>283.38</td>\n",
       "      <td>469.69</td>\n",
       "      <td>9999.99</td>\n",
       "      <td>4676092.0</td>\n",
       "      <td>198.409085</td>\n",
       "      <td>304.982986</td>\n",
       "      <td>0.0</td>\n",
       "      <td>0.0</td>\n",
       "      <td>0.0</td>\n",
       "      <td>367.77</td>\n",
       "      <td>2379.86</td>\n",
       "    </tr>\n",
       "    <tr>\n",
       "      <th>2016</th>\n",
       "      <td>4221965.0</td>\n",
       "      <td>337.539257</td>\n",
       "      <td>536.053504</td>\n",
       "      <td>0.0</td>\n",
       "      <td>28.49</td>\n",
       "      <td>296.30</td>\n",
       "      <td>488.07</td>\n",
       "      <td>9999.00</td>\n",
       "      <td>4221965.0</td>\n",
       "      <td>198.780763</td>\n",
       "      <td>310.452054</td>\n",
       "      <td>0.0</td>\n",
       "      <td>0.0</td>\n",
       "      <td>0.0</td>\n",
       "      <td>376.96</td>\n",
       "      <td>2677.79</td>\n",
       "    </tr>\n",
       "  </tbody>\n",
       "</table>\n",
       "</div>"
      ],
      "text/plain": [
       "             IndividualRate                                                   \\\n",
       "                      count          mean            std  min    25%     50%   \n",
       "BusinessYear                                                                   \n",
       "2014              3796388.0  12922.257001  111452.391035  0.0  32.11  296.43   \n",
       "2015              4676092.0    329.161861     525.002167  0.0  28.43  283.38   \n",
       "2016              4221965.0    337.539257     536.053504  0.0  28.49  296.30   \n",
       "\n",
       "                                IndividualTobaccoRate                          \\\n",
       "                 75%        max                 count        mean         std   \n",
       "BusinessYear                                                                    \n",
       "2014          480.14  999999.00             3796388.0  240.926268  352.947647   \n",
       "2015          469.69    9999.99             4676092.0  198.409085  304.982986   \n",
       "2016          488.07    9999.00             4221965.0  198.780763  310.452054   \n",
       "\n",
       "                                              \n",
       "              min  25%  50%     75%      max  \n",
       "BusinessYear                                  \n",
       "2014          0.0  0.0  0.0  427.64  6604.61  \n",
       "2015          0.0  0.0  0.0  367.77  2379.86  \n",
       "2016          0.0  0.0  0.0  376.96  2677.79  "
      ]
     },
     "execution_count": 147,
     "metadata": {},
     "output_type": "execute_result"
    }
   ],
   "source": [
    "Rate[[\"BusinessYear\",\"IndividualRate\",\"IndividualTobaccoRate\"]].groupby('BusinessYear').describe()"
   ]
  },
  {
   "cell_type": "markdown",
   "metadata": {},
   "source": [
    "There seems to be outliers in IndividualRate column since there is one value/multiple of them coming out at 999999.00. Let us boxplot this to see the spread of data."
   ]
  },
  {
   "cell_type": "code",
   "execution_count": 148,
   "metadata": {},
   "outputs": [
    {
     "data": {
      "image/png": "[encoded data removed]",
      "text/plain": [
       "<Figure size 432x288 with 1 Axes>"
      ]
     },
     "metadata": {},
     "output_type": "display_data"
    }
   ],
   "source": [
    "ax = sns.boxplot(x=Rate[\"IndividualRate\"])"
   ]
  },
  {
   "cell_type": "markdown",
   "metadata": {},
   "source": [
    "This boxplot rendering is skewed because the data is that skewed. Outlier values of 999999.00 are cause for the box to look like a line. All the data points are concentrated near the left side because the gap between most of the points and the outlier is huge. The box plot will look different with IndividualTobaccoRate distribution since the outliers are not as extreme in its dataset."
   ]
  },
  {
   "cell_type": "code",
   "execution_count": 149,
   "metadata": {},
   "outputs": [
    {
     "data": {
      "text/plain": [
       "<matplotlib.axes._subplots.AxesSubplot at 0x1aa6ed7978>"
      ]
     },
     "execution_count": 149,
     "metadata": {},
     "output_type": "execute_result"
    },
    {
     "data": {
      "image/png": "[encoded data removed]",
      "text/plain": [
       "<Figure size 432x288 with 1 Axes>"
      ]
     },
     "metadata": {},
     "output_type": "display_data"
    }
   ],
   "source": [
    "sns.boxplot(x=\"BusinessYear\", y=\"IndividualRate\", data=Rate)"
   ]
  },
  {
   "cell_type": "markdown",
   "metadata": {},
   "source": [
    "We can see here that the cause of the skewed data is due to outliers coming from 2014 data. If time permitted, this would be taken out to clean up the data and not have such a widespread of datapoints."
   ]
  },
  {
   "cell_type": "code",
   "execution_count": 150,
   "metadata": {},
   "outputs": [],
   "source": [
    "Rate['BusinessYear'] = pd.to_datetime(Rate['BusinessYear'].astype(str), format='%Y')"
   ]
  },
  {
   "cell_type": "code",
   "execution_count": 151,
   "metadata": {},
   "outputs": [
    {
     "data": {
      "text/plain": [
       "<matplotlib.axes._subplots.AxesSubplot at 0x1b0120a240>"
      ]
     },
     "execution_count": 151,
     "metadata": {},
     "output_type": "execute_result"
    },
    {
     "data": {
      "image/png": "[encoded data removed]",
      "text/plain": [
       "<Figure size 1080x720 with 1 Axes>"
      ]
     },
     "metadata": {},
     "output_type": "display_data"
    }
   ],
   "source": [
    "#State Groups' % Ind Rates vs. Time\n",
    "fig, ax = plt.subplots(figsize=(15,10))\n",
    "plt.ylabel('Individual Rate Cost in Dollars')\n",
    "\n",
    "Rate.groupby(['BusinessYear','StateCode']).count()['IndividualRate'].unstack().plot(ax=ax)"
   ]
  },
  {
   "cell_type": "markdown",
   "metadata": {},
   "source": [
    "Based on this graph, the only drastic changes in IndividualRate costs from year to year is one state's (dark blue and highest located line in graph). It had a steep increase in rates from 2014-2015 and then flattened out from 2015-2016. The reverse is true for two states (one orange and another light blue between 220K-320K cost) which have a decline from 2014-2015 and then even out from 2015-2016. Otherwise, about 10 states fall outside of the rates that are common to 37 other states' individual rates for those who do not use tobacco."
   ]
  },
  {
   "cell_type": "markdown",
   "metadata": {},
   "source": [
    "Now let us see how rates are with individuals who are tobacco users. Here, the distribution is not as extreme based on summary statistics for IndividualTaboccoRate users. Let us make sure by plotting a boxplot distribution."
   ]
  },
  {
   "cell_type": "code",
   "execution_count": 152,
   "metadata": {},
   "outputs": [
    {
     "data": {
      "image/png": "[encoded data removed]",
      "text/plain": [
       "<Figure size 432x288 with 1 Axes>"
      ]
     },
     "metadata": {},
     "output_type": "display_data"
    }
   ],
   "source": [
    "ax = sns.boxplot(x=Rate[\"IndividualTobaccoRate\"])"
   ]
  },
  {
   "cell_type": "markdown",
   "metadata": {},
   "source": [
    "Great! There are still outliers, but at least the box is visible, which is where 25th percentile, Median and 75th percentile of data points reside."
   ]
  },
  {
   "cell_type": "code",
   "execution_count": 153,
   "metadata": {},
   "outputs": [
    {
     "data": {
      "text/plain": [
       "<matplotlib.axes._subplots.AxesSubplot at 0x1b0b919c18>"
      ]
     },
     "execution_count": 153,
     "metadata": {},
     "output_type": "execute_result"
    },
    {
     "data": {
      "image/png": "[encoded data removed]",
      "text/plain": [
       "<Figure size 432x288 with 1 Axes>"
      ]
     },
     "metadata": {},
     "output_type": "display_data"
    }
   ],
   "source": [
    "sns.boxplot(x=\"BusinessYear\", y=\"IndividualTobaccoRate\", data=Rate)"
   ]
  },
  {
   "cell_type": "markdown",
   "metadata": {},
   "source": [
    "This was not evident when the column was boxplotted as a whole. There are obviously huge outliers in 2014. This is to keep in mind when drawing any conclusions from that portion of the dataset."
   ]
  },
  {
   "cell_type": "code",
   "execution_count": 154,
   "metadata": {},
   "outputs": [],
   "source": [
    "Statelist = Rate['StateCode'].unique()\n",
    "Statelist = np.sort(Statelist)"
   ]
  },
  {
   "cell_type": "code",
   "execution_count": 155,
   "metadata": {},
   "outputs": [
    {
     "data": {
      "text/plain": [
       "<matplotlib.axes._subplots.AxesSubplot at 0x1bc011f160>"
      ]
     },
     "execution_count": 155,
     "metadata": {},
     "output_type": "execute_result"
    },
    {
     "data": {
      "image/png": "[encoded data removed]",
      "text/plain": [
       "<Figure size 1080x432 with 1 Axes>"
      ]
     },
     "metadata": {},
     "output_type": "display_data"
    }
   ],
   "source": [
    "plt.figure(figsize=(15, 6))\n",
    "sns.set_style(\"whitegrid\")\n",
    "sns.boxplot(x=\"StateCode\", y=\"IndividualTobaccoRate\", data=Rate, order=Statelist)"
   ]
  },
  {
   "cell_type": "markdown",
   "metadata": {},
   "source": [
    "As we can see here that most states have around the same Individual Tobacco Rates. However VA is the state with the most extreme values and is most likely the cause for 2014 boxplot to have so many outliers compared to the other years."
   ]
  },
  {
   "cell_type": "markdown",
   "metadata": {},
   "source": [
    "# Overall Lessons"
   ]
  },
  {
   "cell_type": "markdown",
   "metadata": {},
   "source": [
    "Data integrity is key prior to working with such massive datasets as above. The huge amount of NaN's at times cautioned me from providing too general of summary statistics where the number of datapoints remaining did not provide enough solid representation of real life population data. Also, outliers can create huge fluctuations where the general centrality of data is. This can compromise conclusions drawn from this sort of data. \n",
    "\n",
    "Definitely, adoption of health plans vary across time and states. Individual Rate plans increased from 2014 to 2015 and stabilized after 2015. However, this is most likely due to skewed data. Health plan rates between non-Tobacco users and Tobacco users differed, but not a good conlusion to make on data that was skewed. Definitely there was one state that stood out between two different rates compared. This is where outliers are though. So in general, state-to-state, within each rate, states do not differ much in what health insurance charges."
   ]
  },
  {
   "cell_type": "markdown",
   "metadata": {},
   "source": [
    "# Next Steps"
   ]
  },
  {
   "cell_type": "markdown",
   "metadata": {},
   "source": [
    "If there was more time and resources, I would definitely evolve my data analysis by going into: \n",
    "    1. What sort of health insurance do people buy if they are heading into maturnity leave?\n",
    "    2. What sort of health insurance is bought when payers are under Medicare (>65)?\n",
    "    3. Are there more purchases in a certain socioeconomic cut of America?\n",
    "    5. When are most purchases besides during open enrollment in November?\n",
    "    6. Who usually buys HMO/PPO?\n",
    "    7. How much of the US buys individual plans versus group plans?\n",
    "    8. Are there plans that are exclusive to states?"
   ]
  }
 ],
 "metadata": {
  "kernelspec": {
   "display_name": "Python 3",
   "language": "python",
   "name": "python3"
  },
  "language_info": {
   "codemirror_mode": {
    "name": "ipython",
    "version": 3
   },
   "file_extension": ".py",
   "mimetype": "text/x-python",
   "name": "python",
   "nbconvert_exporter": "python",
   "pygments_lexer": "ipython3",
   "version": "3.6.8"
  }
 },
 "nbformat": 4,
 "nbformat_minor": 2
}
