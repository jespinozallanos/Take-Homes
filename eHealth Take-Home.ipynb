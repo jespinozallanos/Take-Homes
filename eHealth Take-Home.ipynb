{
 "cells": [
  {
   "cell_type": "markdown",
   "metadata": {},
   "source": [
    "# Part 1"
   ]
  },
  {
   "cell_type": "markdown",
   "metadata": {},
   "source": [
    "## 1.\n",
    "**Assume each customer type is equally common. A customer walks into your store and purchases a product. What's the probability that this customer is of Type A, given that they purchased a product?**\n",
    "\n",
    "    Set-up:\n",
    "\n",
    "    Pr(purchase/Type A)=0.01\n",
    "\n",
    "    Pr(purchase/type B)=0.1\n",
    "\n",
    "    ________________________\n",
    "\n",
    "    Pr(Type A)=Pr(Type B)=0.5\n",
    "\n",
    "    Pr(purchase)=Pr(purchase/Type A)*Pr(Type A)+Pr(purchase/Type B)*Pr(Type B)\n",
    "\n",
    "    =(0.01*0.5) + (0.1*0.5)\n",
    "    =0.055"
   ]
  },
  {
   "cell_type": "markdown",
   "metadata": {},
   "source": [
    "## 2.\n",
    "**This is how the probability found in question 1 would change if more customers were of Type A:**\n",
    "    \n",
    "\n",
    "    Pr(Type A/purchase)=Pr(purchase/Type A)*Pr(Type A)/Pr(purchase)\n",
    "\n",
    "    =(0.01*0.5)/0.055\n",
    "    =0.091\n",
    "    \n",
    "    This is an increase to Pr(purchase). So the answer to the question would be:\n",
    "    \n",
    "    I. **Increase**"
   ]
  },
  {
   "cell_type": "markdown",
   "metadata": {},
   "source": [
    "## 3."
   ]
  },
  {
   "cell_type": "code",
   "execution_count": 281,
   "metadata": {},
   "outputs": [],
   "source": [
    "def A_Prob(TypeA):\n",
    "    #P(purchase/Type A)*P(Type A) + P(purchase/Type B)*P(Type B)\n",
    "    \n",
    "    TypeB = 1-TypeA\n",
    "    \n",
    "    TypeAProb = (0.01*TypeA) + (.1*TypeB)\n",
    "    \n",
    "    print(TypeAProb)"
   ]
  },
  {
   "cell_type": "code",
   "execution_count": 282,
   "metadata": {},
   "outputs": [
    {
     "name": "stdout",
     "output_type": "stream",
     "text": [
      "0.055\n"
     ]
    }
   ],
   "source": [
    "A_Prob(.5)"
   ]
  },
  {
   "cell_type": "markdown",
   "metadata": {},
   "source": [
    "# Part 2"
   ]
  },
  {
   "cell_type": "markdown",
   "metadata": {},
   "source": [
    "Data exploration idea I would like to pursue:\n",
    "\n",
    "# How does health insurance type (attributes/cost) differ across states and over time?\n",
    "\n",
    "\n",
    "I. My exploration idea is to see what sort of insurance plans cost most and if these vary across different regions of America and years. This interests me because there is a huge variety of health plans tailored to how healthy people are/if they have prior conditions, how concerned people are about preventative health. So I was curious about the different price points for each and how these may vary from year-to-year and state-to-state.\n",
    "\n",
    "Answers to this would give insight into different demographic make-up of each state which would influence health insurance sellers' target groups. Health insurance types' consumption over time would give insight into how a certain plans may grow or lose popularity.\n",
    "\n",
    "\n",
    "II. Scope of what data is required:\n",
    "### Data tables to look at in order to answer this exploration idea:\n",
    "    -BenefitsCostSharing\n",
    "    -Rate\n",
    "    \n",
    "III. Methodology I want to pursue:\n",
    "    a. Clean up the data (deal with any NaN's and Outliers)\n",
    "    b. Present descriptive Statistics (location of data (mean/median), spread of data (how variable is it around mean/median)\n",
    "    c. Present comparative data across time\n",
    "    d. Visual map of US showing differing types of healthcare plans across states\n",
    "    \n",
    "IV. Outstanding concerns with analysis plan:\n",
    "    a. Data is filled with a lot of NaN's\n",
    "    b. Data input is not standardized. For example, to represent $0, it is represented as $0 or 0"
   ]
  },
  {
   "cell_type": "code",
   "execution_count": 283,
   "metadata": {},
   "outputs": [
    {
     "data": {
      "text/html": [
       "<script type=\"text/javascript\">window.PlotlyConfig = {MathJaxConfig: 'local'};</script><script type=\"text/javascript\">if (window.MathJax) {MathJax.Hub.Config({SVG: {font: \"STIX-Web\"}});}</script><script>requirejs.config({paths: { 'plotly': ['https://cdn.plot.ly/plotly-latest.min']},});if(!window._Plotly) {require(['plotly'],function(plotly) {window._Plotly=plotly;});}</script>"
      ],
      "text/vnd.plotly.v1+html": [
       "<script type=\"text/javascript\">window.PlotlyConfig = {MathJaxConfig: 'local'};</script><script type=\"text/javascript\">if (window.MathJax) {MathJax.Hub.Config({SVG: {font: \"STIX-Web\"}});}</script><script>requirejs.config({paths: { 'plotly': ['https://cdn.plot.ly/plotly-latest.min']},});if(!window._Plotly) {require(['plotly'],function(plotly) {window._Plotly=plotly;});}</script>"
      ]
     },
     "metadata": {},
     "output_type": "display_data"
    }
   ],
   "source": [
    "import matplotlib.pyplot as plt\n",
    "import plotly.plotly as py\n",
    "import plotly.graph_objs as go\n",
    "from plotly.offline import download_plotlyjs,init_notebook_mode,plot,iplot\n",
    "init_notebook_mode(connected=True)\n",
    "import seaborn as sns \n",
    "import numpy as np\n",
    "import pandas as pd\n",
    "import numpy as np\n",
    "import random as rnd\n",
    "from sklearn.metrics import confusion_matrix\n",
    "import seaborn as sns\n",
    "import matplotlib.gridspec as gridspec\n",
    "from sklearn.preprocessing import StandardScaler\n",
    "from numpy import genfromtxt\n",
    "from scipy import stats\n",
    "from scipy.stats import multivariate_normal\n",
    "from sklearn.metrics import f1_score\n",
    "from sklearn.metrics import recall_score , average_precision_score\n",
    "from sklearn.metrics import precision_score, precision_recall_curve\n",
    "%matplotlib inline"
   ]
  },
  {
   "cell_type": "markdown",
   "metadata": {},
   "source": [
    "# 1. Exploring Health Plans Across Time and States"
   ]
  },
  {
   "cell_type": "markdown",
   "metadata": {},
   "source": [
    "## a. Data Integrity/Clean Data\n",
    "\n",
    "a. Need to inspect data and see if there are any NaN's that need to be taken out/replaced with 0's.\n",
    "b. If there are outliers, take these out as well."
   ]
  },
  {
   "cell_type": "code",
   "execution_count": 284,
   "metadata": {
    "scrolled": true
   },
   "outputs": [
    {
     "name": "stderr",
     "output_type": "stream",
     "text": [
      "/anaconda3/lib/python3.6/site-packages/IPython/core/interactiveshell.py:2728: DtypeWarning:\n",
      "\n",
      "Columns (3,6,9,10,16,17,18) have mixed types. Specify dtype option on import or set low_memory=False.\n",
      "\n"
     ]
    },
    {
     "data": {
      "text/html": [
       "<div>\n",
       "<style scoped>\n",
       "    .dataframe tbody tr th:only-of-type {\n",
       "        vertical-align: middle;\n",
       "    }\n",
       "\n",
       "    .dataframe tbody tr th {\n",
       "        vertical-align: top;\n",
       "    }\n",
       "\n",
       "    .dataframe thead th {\n",
       "        text-align: right;\n",
       "    }\n",
       "</style>\n",
       "<table border=\"1\" class=\"dataframe\">\n",
       "  <thead>\n",
       "    <tr style=\"text-align: right;\">\n",
       "      <th></th>\n",
       "      <th>BenefitName</th>\n",
       "      <th>BusinessYear</th>\n",
       "      <th>CoinsInnTier1</th>\n",
       "      <th>CoinsInnTier2</th>\n",
       "      <th>CoinsOutofNet</th>\n",
       "      <th>CopayInnTier1</th>\n",
       "      <th>CopayInnTier2</th>\n",
       "      <th>CopayOutofNet</th>\n",
       "      <th>EHBVarReason</th>\n",
       "      <th>Exclusions</th>\n",
       "      <th>...</th>\n",
       "      <th>LimitUnit</th>\n",
       "      <th>MinimumStay</th>\n",
       "      <th>PlanId</th>\n",
       "      <th>QuantLimitOnSvc</th>\n",
       "      <th>RowNumber</th>\n",
       "      <th>SourceName</th>\n",
       "      <th>StandardComponentId</th>\n",
       "      <th>StateCode</th>\n",
       "      <th>StateCode2</th>\n",
       "      <th>VersionNum</th>\n",
       "    </tr>\n",
       "  </thead>\n",
       "  <tbody>\n",
       "    <tr>\n",
       "      <th>0</th>\n",
       "      <td>Routine Dental Services (Adult)</td>\n",
       "      <td>2014</td>\n",
       "      <td>20%</td>\n",
       "      <td>NaN</td>\n",
       "      <td>20%</td>\n",
       "      <td>No Charge</td>\n",
       "      <td>NaN</td>\n",
       "      <td>No Charge</td>\n",
       "      <td>Above EHB</td>\n",
       "      <td>NaN</td>\n",
       "      <td>...</td>\n",
       "      <td>Dollars per Year</td>\n",
       "      <td>NaN</td>\n",
       "      <td>21989AK0010001-00</td>\n",
       "      <td>Yes</td>\n",
       "      <td>68</td>\n",
       "      <td>HIOS</td>\n",
       "      <td>21989AK0010001</td>\n",
       "      <td>AK</td>\n",
       "      <td>AK</td>\n",
       "      <td>6</td>\n",
       "    </tr>\n",
       "    <tr>\n",
       "      <th>1</th>\n",
       "      <td>Dental Check-Up for Children</td>\n",
       "      <td>2014</td>\n",
       "      <td>20%</td>\n",
       "      <td>NaN</td>\n",
       "      <td>20%</td>\n",
       "      <td>No Charge</td>\n",
       "      <td>NaN</td>\n",
       "      <td>No Charge</td>\n",
       "      <td>Substantially Equal</td>\n",
       "      <td>NaN</td>\n",
       "      <td>...</td>\n",
       "      <td>Visit(s) per 6 Months</td>\n",
       "      <td>NaN</td>\n",
       "      <td>21989AK0010001-00</td>\n",
       "      <td>Yes</td>\n",
       "      <td>104</td>\n",
       "      <td>HIOS</td>\n",
       "      <td>21989AK0010001</td>\n",
       "      <td>AK</td>\n",
       "      <td>AK</td>\n",
       "      <td>6</td>\n",
       "    </tr>\n",
       "    <tr>\n",
       "      <th>2</th>\n",
       "      <td>Basic Dental Care - Child</td>\n",
       "      <td>2014</td>\n",
       "      <td>40%</td>\n",
       "      <td>NaN</td>\n",
       "      <td>40%</td>\n",
       "      <td>No Charge</td>\n",
       "      <td>NaN</td>\n",
       "      <td>No Charge</td>\n",
       "      <td>Substantially Equal</td>\n",
       "      <td>NaN</td>\n",
       "      <td>...</td>\n",
       "      <td>NaN</td>\n",
       "      <td>NaN</td>\n",
       "      <td>21989AK0010001-00</td>\n",
       "      <td>NaN</td>\n",
       "      <td>110</td>\n",
       "      <td>HIOS</td>\n",
       "      <td>21989AK0010001</td>\n",
       "      <td>AK</td>\n",
       "      <td>AK</td>\n",
       "      <td>6</td>\n",
       "    </tr>\n",
       "    <tr>\n",
       "      <th>3</th>\n",
       "      <td>Orthodontia - Child</td>\n",
       "      <td>2014</td>\n",
       "      <td>50%</td>\n",
       "      <td>NaN</td>\n",
       "      <td>50%</td>\n",
       "      <td>No Charge</td>\n",
       "      <td>NaN</td>\n",
       "      <td>No Charge</td>\n",
       "      <td>Additional EHB Benefit</td>\n",
       "      <td>NaN</td>\n",
       "      <td>...</td>\n",
       "      <td>NaN</td>\n",
       "      <td>NaN</td>\n",
       "      <td>21989AK0010001-00</td>\n",
       "      <td>NaN</td>\n",
       "      <td>111</td>\n",
       "      <td>HIOS</td>\n",
       "      <td>21989AK0010001</td>\n",
       "      <td>AK</td>\n",
       "      <td>AK</td>\n",
       "      <td>6</td>\n",
       "    </tr>\n",
       "    <tr>\n",
       "      <th>4</th>\n",
       "      <td>Major Dental Care - Child</td>\n",
       "      <td>2014</td>\n",
       "      <td>50%</td>\n",
       "      <td>NaN</td>\n",
       "      <td>50%</td>\n",
       "      <td>No Charge</td>\n",
       "      <td>NaN</td>\n",
       "      <td>No Charge</td>\n",
       "      <td>Substantially Equal</td>\n",
       "      <td>NaN</td>\n",
       "      <td>...</td>\n",
       "      <td>NaN</td>\n",
       "      <td>NaN</td>\n",
       "      <td>21989AK0010001-00</td>\n",
       "      <td>NaN</td>\n",
       "      <td>112</td>\n",
       "      <td>HIOS</td>\n",
       "      <td>21989AK0010001</td>\n",
       "      <td>AK</td>\n",
       "      <td>AK</td>\n",
       "      <td>6</td>\n",
       "    </tr>\n",
       "  </tbody>\n",
       "</table>\n",
       "<p>5 rows × 32 columns</p>\n",
       "</div>"
      ],
      "text/plain": [
       "                       BenefitName  BusinessYear CoinsInnTier1 CoinsInnTier2  \\\n",
       "0  Routine Dental Services (Adult)          2014           20%           NaN   \n",
       "1     Dental Check-Up for Children          2014           20%           NaN   \n",
       "2        Basic Dental Care - Child          2014           40%           NaN   \n",
       "3              Orthodontia - Child          2014           50%           NaN   \n",
       "4        Major Dental Care - Child          2014           50%           NaN   \n",
       "\n",
       "  CoinsOutofNet CopayInnTier1 CopayInnTier2 CopayOutofNet  \\\n",
       "0           20%     No Charge           NaN     No Charge   \n",
       "1           20%     No Charge           NaN     No Charge   \n",
       "2           40%     No Charge           NaN     No Charge   \n",
       "3           50%     No Charge           NaN     No Charge   \n",
       "4           50%     No Charge           NaN     No Charge   \n",
       "\n",
       "             EHBVarReason Exclusions     ...                  LimitUnit  \\\n",
       "0               Above EHB        NaN     ...           Dollars per Year   \n",
       "1     Substantially Equal        NaN     ...      Visit(s) per 6 Months   \n",
       "2     Substantially Equal        NaN     ...                        NaN   \n",
       "3  Additional EHB Benefit        NaN     ...                        NaN   \n",
       "4     Substantially Equal        NaN     ...                        NaN   \n",
       "\n",
       "  MinimumStay             PlanId QuantLimitOnSvc RowNumber SourceName  \\\n",
       "0         NaN  21989AK0010001-00             Yes        68       HIOS   \n",
       "1         NaN  21989AK0010001-00             Yes       104       HIOS   \n",
       "2         NaN  21989AK0010001-00             NaN       110       HIOS   \n",
       "3         NaN  21989AK0010001-00             NaN       111       HIOS   \n",
       "4         NaN  21989AK0010001-00             NaN       112       HIOS   \n",
       "\n",
       "  StandardComponentId StateCode StateCode2  VersionNum  \n",
       "0      21989AK0010001        AK         AK           6  \n",
       "1      21989AK0010001        AK         AK           6  \n",
       "2      21989AK0010001        AK         AK           6  \n",
       "3      21989AK0010001        AK         AK           6  \n",
       "4      21989AK0010001        AK         AK           6  \n",
       "\n",
       "[5 rows x 32 columns]"
      ]
     },
     "execution_count": 284,
     "metadata": {},
     "output_type": "execute_result"
    }
   ],
   "source": [
    "BenCosts = pd.read_csv(\"BenefitsCostSharing.csv\")\n",
    "BenCosts.head()"
   ]
  },
  {
   "cell_type": "markdown",
   "metadata": {},
   "source": [
    "## (b. Comparative Statistics)"
   ]
  },
  {
   "cell_type": "code",
   "execution_count": 285,
   "metadata": {},
   "outputs": [
    {
     "data": {
      "text/html": [
       "<div>\n",
       "<style scoped>\n",
       "    .dataframe tbody tr th:only-of-type {\n",
       "        vertical-align: middle;\n",
       "    }\n",
       "\n",
       "    .dataframe tbody tr th {\n",
       "        vertical-align: top;\n",
       "    }\n",
       "\n",
       "    .dataframe thead th {\n",
       "        text-align: right;\n",
       "    }\n",
       "</style>\n",
       "<table border=\"1\" class=\"dataframe\">\n",
       "  <thead>\n",
       "    <tr style=\"text-align: right;\">\n",
       "      <th></th>\n",
       "      <th>BusinessYear</th>\n",
       "      <th>IssuerId</th>\n",
       "      <th>IssuerId2</th>\n",
       "      <th>LimitQty</th>\n",
       "      <th>MinimumStay</th>\n",
       "      <th>RowNumber</th>\n",
       "      <th>VersionNum</th>\n",
       "    </tr>\n",
       "  </thead>\n",
       "  <tbody>\n",
       "    <tr>\n",
       "      <th>count</th>\n",
       "      <td>5.048408e+06</td>\n",
       "      <td>5.048408e+06</td>\n",
       "      <td>5.048408e+06</td>\n",
       "      <td>687683.000000</td>\n",
       "      <td>16727.000000</td>\n",
       "      <td>5.048408e+06</td>\n",
       "      <td>5.048408e+06</td>\n",
       "    </tr>\n",
       "    <tr>\n",
       "      <th>mean</th>\n",
       "      <td>2.015127e+03</td>\n",
       "      <td>5.220360e+04</td>\n",
       "      <td>5.220360e+04</td>\n",
       "      <td>142.399374</td>\n",
       "      <td>47.937048</td>\n",
       "      <td>9.839018e+01</td>\n",
       "      <td>7.637094e+00</td>\n",
       "    </tr>\n",
       "    <tr>\n",
       "      <th>std</th>\n",
       "      <td>7.563664e-01</td>\n",
       "      <td>2.592498e+04</td>\n",
       "      <td>2.592498e+04</td>\n",
       "      <td>1723.372817</td>\n",
       "      <td>5.892297</td>\n",
       "      <td>2.177890e+01</td>\n",
       "      <td>3.803627e+00</td>\n",
       "    </tr>\n",
       "    <tr>\n",
       "      <th>min</th>\n",
       "      <td>2.014000e+03</td>\n",
       "      <td>1.004600e+04</td>\n",
       "      <td>1.004600e+04</td>\n",
       "      <td>1.000000</td>\n",
       "      <td>5.000000</td>\n",
       "      <td>6.100000e+01</td>\n",
       "      <td>1.000000e+00</td>\n",
       "    </tr>\n",
       "    <tr>\n",
       "      <th>25%</th>\n",
       "      <td>2.015000e+03</td>\n",
       "      <td>3.253600e+04</td>\n",
       "      <td>3.253600e+04</td>\n",
       "      <td>1.000000</td>\n",
       "      <td>48.000000</td>\n",
       "      <td>8.000000e+01</td>\n",
       "      <td>5.000000e+00</td>\n",
       "    </tr>\n",
       "    <tr>\n",
       "      <th>50%</th>\n",
       "      <td>2.015000e+03</td>\n",
       "      <td>4.839600e+04</td>\n",
       "      <td>4.839600e+04</td>\n",
       "      <td>20.000000</td>\n",
       "      <td>48.000000</td>\n",
       "      <td>9.900000e+01</td>\n",
       "      <td>7.000000e+00</td>\n",
       "    </tr>\n",
       "    <tr>\n",
       "      <th>75%</th>\n",
       "      <td>2.016000e+03</td>\n",
       "      <td>7.498000e+04</td>\n",
       "      <td>7.498000e+04</td>\n",
       "      <td>40.000000</td>\n",
       "      <td>48.000000</td>\n",
       "      <td>1.170000e+02</td>\n",
       "      <td>9.000000e+00</td>\n",
       "    </tr>\n",
       "    <tr>\n",
       "      <th>max</th>\n",
       "      <td>2.016000e+03</td>\n",
       "      <td>9.996900e+04</td>\n",
       "      <td>9.996900e+04</td>\n",
       "      <td>75000.000000</td>\n",
       "      <td>90.000000</td>\n",
       "      <td>1.560000e+02</td>\n",
       "      <td>2.400000e+01</td>\n",
       "    </tr>\n",
       "  </tbody>\n",
       "</table>\n",
       "</div>"
      ],
      "text/plain": [
       "       BusinessYear      IssuerId     IssuerId2       LimitQty   MinimumStay  \\\n",
       "count  5.048408e+06  5.048408e+06  5.048408e+06  687683.000000  16727.000000   \n",
       "mean   2.015127e+03  5.220360e+04  5.220360e+04     142.399374     47.937048   \n",
       "std    7.563664e-01  2.592498e+04  2.592498e+04    1723.372817      5.892297   \n",
       "min    2.014000e+03  1.004600e+04  1.004600e+04       1.000000      5.000000   \n",
       "25%    2.015000e+03  3.253600e+04  3.253600e+04       1.000000     48.000000   \n",
       "50%    2.015000e+03  4.839600e+04  4.839600e+04      20.000000     48.000000   \n",
       "75%    2.016000e+03  7.498000e+04  7.498000e+04      40.000000     48.000000   \n",
       "max    2.016000e+03  9.996900e+04  9.996900e+04   75000.000000     90.000000   \n",
       "\n",
       "          RowNumber    VersionNum  \n",
       "count  5.048408e+06  5.048408e+06  \n",
       "mean   9.839018e+01  7.637094e+00  \n",
       "std    2.177890e+01  3.803627e+00  \n",
       "min    6.100000e+01  1.000000e+00  \n",
       "25%    8.000000e+01  5.000000e+00  \n",
       "50%    9.900000e+01  7.000000e+00  \n",
       "75%    1.170000e+02  9.000000e+00  \n",
       "max    1.560000e+02  2.400000e+01  "
      ]
     },
     "execution_count": 285,
     "metadata": {},
     "output_type": "execute_result"
    }
   ],
   "source": [
    "BenCosts.describe()"
   ]
  },
  {
   "cell_type": "code",
   "execution_count": 286,
   "metadata": {},
   "outputs": [
    {
     "name": "stdout",
     "output_type": "stream",
     "text": [
      "<class 'pandas.core.frame.DataFrame'>\n",
      "RangeIndex: 5048408 entries, 0 to 5048407\n",
      "Data columns (total 32 columns):\n",
      "BenefitName            object\n",
      "BusinessYear           int64\n",
      "CoinsInnTier1          object\n",
      "CoinsInnTier2          object\n",
      "CoinsOutofNet          object\n",
      "CopayInnTier1          object\n",
      "CopayInnTier2          object\n",
      "CopayOutofNet          object\n",
      "EHBVarReason           object\n",
      "Exclusions             object\n",
      "Explanation            object\n",
      "ImportDate             object\n",
      "IsCovered              object\n",
      "IsEHB                  object\n",
      "IsExclFromInnMOOP      object\n",
      "IsExclFromOonMOOP      object\n",
      "IsStateMandate         object\n",
      "IsSubjToDedTier1       object\n",
      "IsSubjToDedTier2       object\n",
      "IssuerId               int64\n",
      "IssuerId2              int64\n",
      "LimitQty               float64\n",
      "LimitUnit              object\n",
      "MinimumStay            float64\n",
      "PlanId                 object\n",
      "QuantLimitOnSvc        object\n",
      "RowNumber              int64\n",
      "SourceName             object\n",
      "StandardComponentId    object\n",
      "StateCode              object\n",
      "StateCode2             object\n",
      "VersionNum             int64\n",
      "dtypes: float64(2), int64(5), object(25)\n",
      "memory usage: 1.2+ GB\n"
     ]
    }
   ],
   "source": [
    "BenCosts.info()"
   ]
  },
  {
   "cell_type": "code",
   "execution_count": 287,
   "metadata": {},
   "outputs": [
    {
     "data": {
      "text/plain": [
       "BenefitName                  0\n",
       "BusinessYear                 0\n",
       "CoinsInnTier1          1113847\n",
       "CoinsInnTier2          4571587\n",
       "CoinsOutofNet          1113847\n",
       "CopayInnTier1          1113847\n",
       "CopayInnTier2          4571587\n",
       "CopayOutofNet          1113849\n",
       "EHBVarReason           3020737\n",
       "Exclusions             4572247\n",
       "Explanation            4075700\n",
       "ImportDate                   0\n",
       "IsCovered               215980\n",
       "IsEHB                  1817362\n",
       "IsExclFromInnMOOP       983986\n",
       "IsExclFromOonMOOP       982626\n",
       "IsStateMandate         4250463\n",
       "IsSubjToDedTier1       2465877\n",
       "IsSubjToDedTier2       2466054\n",
       "IssuerId                     0\n",
       "IssuerId2                    0\n",
       "LimitQty               4360725\n",
       "LimitUnit              4360539\n",
       "MinimumStay            5031681\n",
       "PlanId                       0\n",
       "QuantLimitOnSvc        3264532\n",
       "RowNumber                    0\n",
       "SourceName                   0\n",
       "StandardComponentId          0\n",
       "StateCode                    0\n",
       "StateCode2                   0\n",
       "VersionNum                   0\n",
       "dtype: int64"
      ]
     },
     "execution_count": 287,
     "metadata": {},
     "output_type": "execute_result"
    }
   ],
   "source": [
    "BenCosts.isnull().sum()"
   ]
  },
  {
   "cell_type": "markdown",
   "metadata": {},
   "source": [
    "Due to huge amount of NaN's will not eliminate rows that contain them, but rather replace NaN's with 0's to not compromise data's wealth of information."
   ]
  },
  {
   "cell_type": "code",
   "execution_count": 288,
   "metadata": {},
   "outputs": [],
   "source": [
    "CleanBenCosts = BenCosts.fillna(0)"
   ]
  },
  {
   "cell_type": "markdown",
   "metadata": {},
   "source": [
    "Check to see if NaN's are left."
   ]
  },
  {
   "cell_type": "code",
   "execution_count": 289,
   "metadata": {},
   "outputs": [
    {
     "data": {
      "text/plain": [
       "BenefitName            0\n",
       "BusinessYear           0\n",
       "CoinsInnTier1          0\n",
       "CoinsInnTier2          0\n",
       "CoinsOutofNet          0\n",
       "CopayInnTier1          0\n",
       "CopayInnTier2          0\n",
       "CopayOutofNet          0\n",
       "EHBVarReason           0\n",
       "Exclusions             0\n",
       "Explanation            0\n",
       "ImportDate             0\n",
       "IsCovered              0\n",
       "IsEHB                  0\n",
       "IsExclFromInnMOOP      0\n",
       "IsExclFromOonMOOP      0\n",
       "IsStateMandate         0\n",
       "IsSubjToDedTier1       0\n",
       "IsSubjToDedTier2       0\n",
       "IssuerId               0\n",
       "IssuerId2              0\n",
       "LimitQty               0\n",
       "LimitUnit              0\n",
       "MinimumStay            0\n",
       "PlanId                 0\n",
       "QuantLimitOnSvc        0\n",
       "RowNumber              0\n",
       "SourceName             0\n",
       "StandardComponentId    0\n",
       "StateCode              0\n",
       "StateCode2             0\n",
       "VersionNum             0\n",
       "dtype: int64"
      ]
     },
     "execution_count": 289,
     "metadata": {},
     "output_type": "execute_result"
    }
   ],
   "source": [
    "CleanBenCosts.isnull().sum()"
   ]
  },
  {
   "cell_type": "markdown",
   "metadata": {},
   "source": [
    "Now that data is clean, let us explore top benefit plans across states."
   ]
  },
  {
   "cell_type": "markdown",
   "metadata": {},
   "source": [
    "## c. Benefit Plans Across Time"
   ]
  },
  {
   "cell_type": "code",
   "execution_count": 290,
   "metadata": {},
   "outputs": [
    {
     "data": {
      "text/html": [
       "<div>\n",
       "<style scoped>\n",
       "    .dataframe tbody tr th:only-of-type {\n",
       "        vertical-align: middle;\n",
       "    }\n",
       "\n",
       "    .dataframe tbody tr th {\n",
       "        vertical-align: top;\n",
       "    }\n",
       "\n",
       "    .dataframe thead tr th {\n",
       "        text-align: left;\n",
       "    }\n",
       "\n",
       "    .dataframe thead tr:last-of-type th {\n",
       "        text-align: right;\n",
       "    }\n",
       "</style>\n",
       "<table border=\"1\" class=\"dataframe\">\n",
       "  <thead>\n",
       "    <tr>\n",
       "      <th></th>\n",
       "      <th colspan=\"4\" halign=\"left\">BenefitName</th>\n",
       "    </tr>\n",
       "    <tr>\n",
       "      <th></th>\n",
       "      <th>count</th>\n",
       "      <th>unique</th>\n",
       "      <th>top</th>\n",
       "      <th>freq</th>\n",
       "    </tr>\n",
       "    <tr>\n",
       "      <th>BusinessYear</th>\n",
       "      <th></th>\n",
       "      <th></th>\n",
       "      <th></th>\n",
       "      <th></th>\n",
       "    </tr>\n",
       "  </thead>\n",
       "  <tbody>\n",
       "    <tr>\n",
       "      <th>2014</th>\n",
       "      <td>1164869</td>\n",
       "      <td>496</td>\n",
       "      <td>Basic Dental Care - Child</td>\n",
       "      <td>18719</td>\n",
       "    </tr>\n",
       "    <tr>\n",
       "      <th>2015</th>\n",
       "      <td>2079286</td>\n",
       "      <td>517</td>\n",
       "      <td>Orthodontia - Adult</td>\n",
       "      <td>31269</td>\n",
       "    </tr>\n",
       "    <tr>\n",
       "      <th>2016</th>\n",
       "      <td>1804253</td>\n",
       "      <td>429</td>\n",
       "      <td>Orthodontia - Adult</td>\n",
       "      <td>27389</td>\n",
       "    </tr>\n",
       "  </tbody>\n",
       "</table>\n",
       "</div>"
      ],
      "text/plain": [
       "             BenefitName                                         \n",
       "                   count unique                        top   freq\n",
       "BusinessYear                                                     \n",
       "2014             1164869    496  Basic Dental Care - Child  18719\n",
       "2015             2079286    517        Orthodontia - Adult  31269\n",
       "2016             1804253    429        Orthodontia - Adult  27389"
      ]
     },
     "execution_count": 290,
     "metadata": {},
     "output_type": "execute_result"
    }
   ],
   "source": [
    "CleanBenCosts[[\"BusinessYear\",\"BenefitName\"]].groupby('BusinessYear').describe()"
   ]
  },
  {
   "cell_type": "markdown",
   "metadata": {},
   "source": [
    "For 2014: 1.2 million plans bought, close to 500 different ones with adult dental care toping the list at close to 19,000 bought.\n",
    "\n",
    "For 2015: 2 million plans bought, over 500 different ones with adult orthodontic dental care toping the list with over 30,000 of these plans bought. 2015 was a huge revenue boost for health insurance companies/brokers.\n",
    "    \n",
    "For 2016: 1.8 million plans bought, around 430 different ones only and adult orthodontic dental care toping the list with close to 27,000 of these plans bought.    \n",
    "    \n",
    "Another cut of the data that we can do is naming the most popular benefit plans per state. This could give way to state demographics, which was not supplied in available dataset."
   ]
  },
  {
   "cell_type": "markdown",
   "metadata": {},
   "source": [
    "Now let us see what the top benefit plans are spread across states. We just need to substitute out BusinessYear with StateCode feature."
   ]
  },
  {
   "cell_type": "markdown",
   "metadata": {},
   "source": [
    "## d. Benefit Plans Across States"
   ]
  },
  {
   "cell_type": "code",
   "execution_count": 291,
   "metadata": {},
   "outputs": [
    {
     "data": {
      "text/html": [
       "<div>\n",
       "<style scoped>\n",
       "    .dataframe tbody tr th:only-of-type {\n",
       "        vertical-align: middle;\n",
       "    }\n",
       "\n",
       "    .dataframe tbody tr th {\n",
       "        vertical-align: top;\n",
       "    }\n",
       "\n",
       "    .dataframe thead tr th {\n",
       "        text-align: left;\n",
       "    }\n",
       "\n",
       "    .dataframe thead tr:last-of-type th {\n",
       "        text-align: right;\n",
       "    }\n",
       "</style>\n",
       "<table border=\"1\" class=\"dataframe\">\n",
       "  <thead>\n",
       "    <tr>\n",
       "      <th></th>\n",
       "      <th colspan=\"4\" halign=\"left\">BenefitName</th>\n",
       "    </tr>\n",
       "    <tr>\n",
       "      <th></th>\n",
       "      <th>count</th>\n",
       "      <th>unique</th>\n",
       "      <th>top</th>\n",
       "      <th>freq</th>\n",
       "    </tr>\n",
       "    <tr>\n",
       "      <th>StateCode</th>\n",
       "      <th></th>\n",
       "      <th></th>\n",
       "      <th></th>\n",
       "      <th></th>\n",
       "    </tr>\n",
       "  </thead>\n",
       "  <tbody>\n",
       "    <tr>\n",
       "      <th>AK</th>\n",
       "      <td>41320</td>\n",
       "      <td>84</td>\n",
       "      <td>Basic Dental Care - Adult</td>\n",
       "      <td>720</td>\n",
       "    </tr>\n",
       "    <tr>\n",
       "      <th>AL</th>\n",
       "      <td>28417</td>\n",
       "      <td>115</td>\n",
       "      <td>Orthodontia - Child</td>\n",
       "      <td>653</td>\n",
       "    </tr>\n",
       "    <tr>\n",
       "      <th>AR</th>\n",
       "      <td>68064</td>\n",
       "      <td>93</td>\n",
       "      <td>Orthodontia - Adult</td>\n",
       "      <td>1077</td>\n",
       "    </tr>\n",
       "    <tr>\n",
       "      <th>AZ</th>\n",
       "      <td>221612</td>\n",
       "      <td>195</td>\n",
       "      <td>Dental Check-Up for Children</td>\n",
       "      <td>3345</td>\n",
       "    </tr>\n",
       "    <tr>\n",
       "      <th>DE</th>\n",
       "      <td>31370</td>\n",
       "      <td>110</td>\n",
       "      <td>Orthodontia - Child</td>\n",
       "      <td>602</td>\n",
       "    </tr>\n",
       "    <tr>\n",
       "      <th>FL</th>\n",
       "      <td>364742</td>\n",
       "      <td>194</td>\n",
       "      <td>Routine Dental Services (Adult)</td>\n",
       "      <td>5130</td>\n",
       "    </tr>\n",
       "    <tr>\n",
       "      <th>GA</th>\n",
       "      <td>196579</td>\n",
       "      <td>151</td>\n",
       "      <td>Basic Dental Care - Adult</td>\n",
       "      <td>2893</td>\n",
       "    </tr>\n",
       "    <tr>\n",
       "      <th>HI</th>\n",
       "      <td>6741</td>\n",
       "      <td>76</td>\n",
       "      <td>Major Dental Care - Child</td>\n",
       "      <td>110</td>\n",
       "    </tr>\n",
       "    <tr>\n",
       "      <th>IA</th>\n",
       "      <td>110221</td>\n",
       "      <td>104</td>\n",
       "      <td>Basic Dental Care - Child</td>\n",
       "      <td>1727</td>\n",
       "    </tr>\n",
       "    <tr>\n",
       "      <th>ID</th>\n",
       "      <td>27313</td>\n",
       "      <td>71</td>\n",
       "      <td>Orthodontia - Child</td>\n",
       "      <td>447</td>\n",
       "    </tr>\n",
       "    <tr>\n",
       "      <th>IL</th>\n",
       "      <td>320533</td>\n",
       "      <td>157</td>\n",
       "      <td>Orthodontia - Adult</td>\n",
       "      <td>4299</td>\n",
       "    </tr>\n",
       "    <tr>\n",
       "      <th>IN</th>\n",
       "      <td>148531</td>\n",
       "      <td>109</td>\n",
       "      <td>Orthodontia - Adult</td>\n",
       "      <td>2347</td>\n",
       "    </tr>\n",
       "    <tr>\n",
       "      <th>KS</th>\n",
       "      <td>64279</td>\n",
       "      <td>82</td>\n",
       "      <td>Accidental Dental</td>\n",
       "      <td>1087</td>\n",
       "    </tr>\n",
       "    <tr>\n",
       "      <th>LA</th>\n",
       "      <td>91816</td>\n",
       "      <td>125</td>\n",
       "      <td>Orthodontia - Child</td>\n",
       "      <td>1491</td>\n",
       "    </tr>\n",
       "    <tr>\n",
       "      <th>ME</th>\n",
       "      <td>61834</td>\n",
       "      <td>99</td>\n",
       "      <td>Basic Dental Care - Adult</td>\n",
       "      <td>975</td>\n",
       "    </tr>\n",
       "    <tr>\n",
       "      <th>MI</th>\n",
       "      <td>189225</td>\n",
       "      <td>205</td>\n",
       "      <td>Major Dental Care - Child</td>\n",
       "      <td>3248</td>\n",
       "    </tr>\n",
       "    <tr>\n",
       "      <th>MO</th>\n",
       "      <td>95152</td>\n",
       "      <td>127</td>\n",
       "      <td>Basic Dental Care - Child</td>\n",
       "      <td>1577</td>\n",
       "    </tr>\n",
       "    <tr>\n",
       "      <th>MS</th>\n",
       "      <td>46895</td>\n",
       "      <td>104</td>\n",
       "      <td>Basic Dental Care - Child</td>\n",
       "      <td>725</td>\n",
       "    </tr>\n",
       "    <tr>\n",
       "      <th>MT</th>\n",
       "      <td>58132</td>\n",
       "      <td>75</td>\n",
       "      <td>Basic Dental Care - Adult</td>\n",
       "      <td>1049</td>\n",
       "    </tr>\n",
       "    <tr>\n",
       "      <th>NC</th>\n",
       "      <td>94290</td>\n",
       "      <td>98</td>\n",
       "      <td>Routine Dental Services (Adult)</td>\n",
       "      <td>1537</td>\n",
       "    </tr>\n",
       "    <tr>\n",
       "      <th>ND</th>\n",
       "      <td>48269</td>\n",
       "      <td>77</td>\n",
       "      <td>Basic Dental Care - Adult</td>\n",
       "      <td>974</td>\n",
       "    </tr>\n",
       "    <tr>\n",
       "      <th>NE</th>\n",
       "      <td>66935</td>\n",
       "      <td>90</td>\n",
       "      <td>Dental Check-Up for Children</td>\n",
       "      <td>1238</td>\n",
       "    </tr>\n",
       "    <tr>\n",
       "      <th>NH</th>\n",
       "      <td>44305</td>\n",
       "      <td>98</td>\n",
       "      <td>Major Dental Care - Child</td>\n",
       "      <td>707</td>\n",
       "    </tr>\n",
       "    <tr>\n",
       "      <th>NJ</th>\n",
       "      <td>86107</td>\n",
       "      <td>100</td>\n",
       "      <td>Major Dental Care - Child</td>\n",
       "      <td>1357</td>\n",
       "    </tr>\n",
       "    <tr>\n",
       "      <th>NM</th>\n",
       "      <td>56669</td>\n",
       "      <td>78</td>\n",
       "      <td>Basic Dental Care - Adult</td>\n",
       "      <td>828</td>\n",
       "    </tr>\n",
       "    <tr>\n",
       "      <th>NV</th>\n",
       "      <td>62743</td>\n",
       "      <td>121</td>\n",
       "      <td>Routine Dental Services (Adult)</td>\n",
       "      <td>930</td>\n",
       "    </tr>\n",
       "    <tr>\n",
       "      <th>OH</th>\n",
       "      <td>331045</td>\n",
       "      <td>193</td>\n",
       "      <td>Basic Dental Care - Child</td>\n",
       "      <td>5092</td>\n",
       "    </tr>\n",
       "    <tr>\n",
       "      <th>OK</th>\n",
       "      <td>133639</td>\n",
       "      <td>83</td>\n",
       "      <td>Orthodontia - Child</td>\n",
       "      <td>2136</td>\n",
       "    </tr>\n",
       "    <tr>\n",
       "      <th>OR</th>\n",
       "      <td>93502</td>\n",
       "      <td>123</td>\n",
       "      <td>Orthodontia - Adult</td>\n",
       "      <td>1344</td>\n",
       "    </tr>\n",
       "    <tr>\n",
       "      <th>PA</th>\n",
       "      <td>260866</td>\n",
       "      <td>157</td>\n",
       "      <td>Routine Dental Services (Adult)</td>\n",
       "      <td>4208</td>\n",
       "    </tr>\n",
       "    <tr>\n",
       "      <th>SC</th>\n",
       "      <td>111907</td>\n",
       "      <td>85</td>\n",
       "      <td>Basic Dental Care - Adult</td>\n",
       "      <td>1817</td>\n",
       "    </tr>\n",
       "    <tr>\n",
       "      <th>SD</th>\n",
       "      <td>47730</td>\n",
       "      <td>79</td>\n",
       "      <td>Basic Dental Care - Adult</td>\n",
       "      <td>843</td>\n",
       "    </tr>\n",
       "    <tr>\n",
       "      <th>TN</th>\n",
       "      <td>138154</td>\n",
       "      <td>129</td>\n",
       "      <td>Routine Dental Services (Adult)</td>\n",
       "      <td>2073</td>\n",
       "    </tr>\n",
       "    <tr>\n",
       "      <th>TX</th>\n",
       "      <td>465164</td>\n",
       "      <td>180</td>\n",
       "      <td>Basic Dental Care - Child</td>\n",
       "      <td>6441</td>\n",
       "    </tr>\n",
       "    <tr>\n",
       "      <th>UT</th>\n",
       "      <td>98421</td>\n",
       "      <td>101</td>\n",
       "      <td>Routine Dental Services (Adult)</td>\n",
       "      <td>1527</td>\n",
       "    </tr>\n",
       "    <tr>\n",
       "      <th>VA</th>\n",
       "      <td>142236</td>\n",
       "      <td>145</td>\n",
       "      <td>Basic Dental Care - Child</td>\n",
       "      <td>2256</td>\n",
       "    </tr>\n",
       "    <tr>\n",
       "      <th>WI</th>\n",
       "      <td>512587</td>\n",
       "      <td>146</td>\n",
       "      <td>Dental Check-Up for Children</td>\n",
       "      <td>7135</td>\n",
       "    </tr>\n",
       "    <tr>\n",
       "      <th>WV</th>\n",
       "      <td>32638</td>\n",
       "      <td>77</td>\n",
       "      <td>Orthodontia - Child</td>\n",
       "      <td>625</td>\n",
       "    </tr>\n",
       "    <tr>\n",
       "      <th>WY</th>\n",
       "      <td>48425</td>\n",
       "      <td>92</td>\n",
       "      <td>Basic Dental Care - Child</td>\n",
       "      <td>807</td>\n",
       "    </tr>\n",
       "  </tbody>\n",
       "</table>\n",
       "</div>"
      ],
      "text/plain": [
       "          BenefitName                                              \n",
       "                count unique                              top  freq\n",
       "StateCode                                                          \n",
       "AK              41320     84        Basic Dental Care - Adult   720\n",
       "AL              28417    115              Orthodontia - Child   653\n",
       "AR              68064     93              Orthodontia - Adult  1077\n",
       "AZ             221612    195     Dental Check-Up for Children  3345\n",
       "DE              31370    110              Orthodontia - Child   602\n",
       "FL             364742    194  Routine Dental Services (Adult)  5130\n",
       "GA             196579    151        Basic Dental Care - Adult  2893\n",
       "HI               6741     76        Major Dental Care - Child   110\n",
       "IA             110221    104        Basic Dental Care - Child  1727\n",
       "ID              27313     71              Orthodontia - Child   447\n",
       "IL             320533    157              Orthodontia - Adult  4299\n",
       "IN             148531    109              Orthodontia - Adult  2347\n",
       "KS              64279     82                Accidental Dental  1087\n",
       "LA              91816    125              Orthodontia - Child  1491\n",
       "ME              61834     99        Basic Dental Care - Adult   975\n",
       "MI             189225    205        Major Dental Care - Child  3248\n",
       "MO              95152    127        Basic Dental Care - Child  1577\n",
       "MS              46895    104        Basic Dental Care - Child   725\n",
       "MT              58132     75        Basic Dental Care - Adult  1049\n",
       "NC              94290     98  Routine Dental Services (Adult)  1537\n",
       "ND              48269     77        Basic Dental Care - Adult   974\n",
       "NE              66935     90     Dental Check-Up for Children  1238\n",
       "NH              44305     98        Major Dental Care - Child   707\n",
       "NJ              86107    100        Major Dental Care - Child  1357\n",
       "NM              56669     78        Basic Dental Care - Adult   828\n",
       "NV              62743    121  Routine Dental Services (Adult)   930\n",
       "OH             331045    193        Basic Dental Care - Child  5092\n",
       "OK             133639     83              Orthodontia - Child  2136\n",
       "OR              93502    123              Orthodontia - Adult  1344\n",
       "PA             260866    157  Routine Dental Services (Adult)  4208\n",
       "SC             111907     85        Basic Dental Care - Adult  1817\n",
       "SD              47730     79        Basic Dental Care - Adult   843\n",
       "TN             138154    129  Routine Dental Services (Adult)  2073\n",
       "TX             465164    180        Basic Dental Care - Child  6441\n",
       "UT              98421    101  Routine Dental Services (Adult)  1527\n",
       "VA             142236    145        Basic Dental Care - Child  2256\n",
       "WI             512587    146     Dental Check-Up for Children  7135\n",
       "WV              32638     77              Orthodontia - Child   625\n",
       "WY              48425     92        Basic Dental Care - Child   807"
      ]
     },
     "execution_count": 291,
     "metadata": {},
     "output_type": "execute_result"
    }
   ],
   "source": [
    "CleanBenCosts[[\"StateCode\",\"BenefitName\"]].groupby('StateCode').describe()"
   ]
  },
  {
   "cell_type": "markdown",
   "metadata": {},
   "source": [
    "So interesting! Dental care is at the top of each state accounted for. I would not have thought this since Dental Insurance is not an essential health benefit for those over 18 years old, but for children it is."
   ]
  },
  {
   "cell_type": "markdown",
   "metadata": {},
   "source": [
    "Now, let us look visually at how many benefit plans vary across states."
   ]
  },
  {
   "cell_type": "code",
   "execution_count": 292,
   "metadata": {},
   "outputs": [],
   "source": [
    "CleanBenCosts[[\"StateCode\",\"BenefitName\"]].groupby('StateCode').count().sort_values(\"BenefitName\")\n",
    "Distinct_State = CleanBenCosts.StateCode.unique()\n",
    "Benefit = []\n",
    "\n",
    "for state in Distinct_State:\n",
    "    state_benefit =  len(CleanBenCosts[CleanBenCosts[\"StateCode\"] == state])    \n",
    "    Benefit.append(state_benefit)  "
   ]
  },
  {
   "cell_type": "markdown",
   "metadata": {},
   "source": [
    "It is best to have bar counts in descending order from top to bottom in order to visualize where most plans are sold in the US. This would give suggestion to where to target marketing teams/where to target sales efforts."
   ]
  },
  {
   "cell_type": "code",
   "execution_count": 293,
   "metadata": {},
   "outputs": [
    {
     "data": {
      "image/png": "[encoded data removed]",
      "text/plain": [
       "<Figure size 1080x1080 with 1 Axes>"
      ]
     },
     "metadata": {},
     "output_type": "display_data"
    }
   ],
   "source": [
    "df = pd.DataFrame(\n",
    "    {'state': Distinct_State,\n",
    "     'Count' : Benefit\n",
    "     })\n",
    "\n",
    "df = df.sort_values(\"Count\", ascending=False).reset_index(drop=True)\n",
    "\n",
    "f, ax = plt.subplots(figsize=(15, 15)) \n",
    "ax.set_yticklabels(df.state, rotation='horizontal', fontsize='large')\n",
    "g = sns.barplot(y = df.state, x= df.Count)\n",
    "plt.show()"
   ]
  },
  {
   "cell_type": "markdown",
   "metadata": {},
   "source": [
    "Great! We can see from here that number of benefit plans across states only reach beyond 300,000 mark for WI, TX, FL, OH and IL. It is surprising that WI tops the list since TX is the second largest state in the US and FL is the state with the most old people."
   ]
  },
  {
   "cell_type": "markdown",
   "metadata": {},
   "source": [
    "To take this visualization further, we can look at benefit plans on a US map. Gradients of color represent volume of benefit plans per state. Moving cursor over a state will give you the exact number of benefit plans along with the two-letter state abbreviation."
   ]
  },
  {
   "cell_type": "code",
   "execution_count": 294,
   "metadata": {},
   "outputs": [
    {
     "data": {
      "application/vnd.plotly.v1+json": {
       "config": {
        "linkText": "Export to plot.ly",
        "plotlyServerURL": "https://plot.ly",
        "showLink": false
       },
       "data": [
        {
         "colorbar": {
          "title": {
           "text": "No of Benefit plans"
          }
         },
         "colorscale": "Cividis",
         "locationmode": "USA-states",
         "locations": [
          "WI",
          "TX",
          "FL",
          "OH",
          "IL",
          "PA",
          "AZ",
          "GA",
          "MI",
          "IN",
          "VA",
          "TN",
          "OK",
          "SC",
          "IA",
          "UT",
          "MO",
          "NC",
          "OR",
          "LA",
          "NJ",
          "AR",
          "NE",
          "KS",
          "NV",
          "ME",
          "MT",
          "NM",
          "WY",
          "ND",
          "SD",
          "MS",
          "NH",
          "AK",
          "WV",
          "DE",
          "AL",
          "ID",
          "HI"
         ],
         "marker": {
          "line": {
           "color": "rgb(255,255,255)",
           "width": 2
          }
         },
         "text": [
          "WI",
          "TX",
          "FL",
          "OH",
          "IL",
          "PA",
          "AZ",
          "GA",
          "MI",
          "IN",
          "VA",
          "TN",
          "OK",
          "SC",
          "IA",
          "UT",
          "MO",
          "NC",
          "OR",
          "LA",
          "NJ",
          "AR",
          "NE",
          "KS",
          "NV",
          "ME",
          "MT",
          "NM",
          "WY",
          "ND",
          "SD",
          "MS",
          "NH",
          "AK",
          "WV",
          "DE",
          "AL",
          "ID",
          "HI"
         ],
         "type": "choropleth",
         "uid": "ab07dd1d-81ed-4506-8495-cd6c41902bbb",
         "z": [
          512587,
          465164,
          364742,
          331045,
          320533,
          260866,
          221612,
          196579,
          189225,
          148531,
          142236,
          138154,
          133639,
          111907,
          110221,
          98421,
          95152,
          94290,
          93502,
          91816,
          86107,
          68064,
          66935,
          64279,
          62743,
          61834,
          58132,
          56669,
          48425,
          48269,
          47730,
          46895,
          44305,
          41320,
          32638,
          31370,
          28417,
          27313,
          6741
         ]
        }
       ],
       "layout": {
        "geo": {
         "lakecolor": "rgb(255,255,255)",
         "scope": "usa",
         "showlakes": true
        },
        "title": {
         "text": "2014-2016 Benefit Plans by State (Hover for Breakdown)"
        }
       }
      },
      "text/html": [
       "<div id=\"0ba4c867-f4cc-43c1-88ce-ba9092c0c340\" style=\"height: 525px; width: 100%;\" class=\"plotly-graph-div\"></div><script type=\"text/javascript\">require([\"plotly\"], function(Plotly) { window.PLOTLYENV=window.PLOTLYENV || {};window.PLOTLYENV.BASE_URL=\"https://plot.ly\";Plotly.newPlot(\"0ba4c867-f4cc-43c1-88ce-ba9092c0c340\", [{\"colorbar\": {\"title\": {\"text\": \"No of Benefit plans\"}}, \"colorscale\": \"Cividis\", \"locationmode\": \"USA-states\", \"locations\": [\"WI\", \"TX\", \"FL\", \"OH\", \"IL\", \"PA\", \"AZ\", \"GA\", \"MI\", \"IN\", \"VA\", \"TN\", \"OK\", \"SC\", \"IA\", \"UT\", \"MO\", \"NC\", \"OR\", \"LA\", \"NJ\", \"AR\", \"NE\", \"KS\", \"NV\", \"ME\", \"MT\", \"NM\", \"WY\", \"ND\", \"SD\", \"MS\", \"NH\", \"AK\", \"WV\", \"DE\", \"AL\", \"ID\", \"HI\"], \"marker\": {\"line\": {\"color\": \"rgb(255,255,255)\", \"width\": 2}}, \"text\": [\"WI\", \"TX\", \"FL\", \"OH\", \"IL\", \"PA\", \"AZ\", \"GA\", \"MI\", \"IN\", \"VA\", \"TN\", \"OK\", \"SC\", \"IA\", \"UT\", \"MO\", \"NC\", \"OR\", \"LA\", \"NJ\", \"AR\", \"NE\", \"KS\", \"NV\", \"ME\", \"MT\", \"NM\", \"WY\", \"ND\", \"SD\", \"MS\", \"NH\", \"AK\", \"WV\", \"DE\", \"AL\", \"ID\", \"HI\"], \"z\": [512587, 465164, 364742, 331045, 320533, 260866, 221612, 196579, 189225, 148531, 142236, 138154, 133639, 111907, 110221, 98421, 95152, 94290, 93502, 91816, 86107, 68064, 66935, 64279, 62743, 61834, 58132, 56669, 48425, 48269, 47730, 46895, 44305, 41320, 32638, 31370, 28417, 27313, 6741], \"type\": \"choropleth\", \"uid\": \"ab07dd1d-81ed-4506-8495-cd6c41902bbb\"}], {\"geo\": {\"lakecolor\": \"rgb(255,255,255)\", \"scope\": \"usa\", \"showlakes\": true}, \"title\": {\"text\": \"2014-2016 Benefit Plans by State (Hover for Breakdown)\"}}, {\"showLink\": false, \"linkText\": \"Export to plot.ly\", \"plotlyServerURL\": \"https://plot.ly\"})});</script><script type=\"text/javascript\">window.addEventListener(\"resize\", function(){window._Plotly.Plots.resize(document.getElementById(\"0ba4c867-f4cc-43c1-88ce-ba9092c0c340\"));});</script>"
      ],
      "text/vnd.plotly.v1+html": [
       "<div id=\"0ba4c867-f4cc-43c1-88ce-ba9092c0c340\" style=\"height: 525px; width: 100%;\" class=\"plotly-graph-div\"></div><script type=\"text/javascript\">require([\"plotly\"], function(Plotly) { window.PLOTLYENV=window.PLOTLYENV || {};window.PLOTLYENV.BASE_URL=\"https://plot.ly\";Plotly.newPlot(\"0ba4c867-f4cc-43c1-88ce-ba9092c0c340\", [{\"colorbar\": {\"title\": {\"text\": \"No of Benefit plans\"}}, \"colorscale\": \"Cividis\", \"locationmode\": \"USA-states\", \"locations\": [\"WI\", \"TX\", \"FL\", \"OH\", \"IL\", \"PA\", \"AZ\", \"GA\", \"MI\", \"IN\", \"VA\", \"TN\", \"OK\", \"SC\", \"IA\", \"UT\", \"MO\", \"NC\", \"OR\", \"LA\", \"NJ\", \"AR\", \"NE\", \"KS\", \"NV\", \"ME\", \"MT\", \"NM\", \"WY\", \"ND\", \"SD\", \"MS\", \"NH\", \"AK\", \"WV\", \"DE\", \"AL\", \"ID\", \"HI\"], \"marker\": {\"line\": {\"color\": \"rgb(255,255,255)\", \"width\": 2}}, \"text\": [\"WI\", \"TX\", \"FL\", \"OH\", \"IL\", \"PA\", \"AZ\", \"GA\", \"MI\", \"IN\", \"VA\", \"TN\", \"OK\", \"SC\", \"IA\", \"UT\", \"MO\", \"NC\", \"OR\", \"LA\", \"NJ\", \"AR\", \"NE\", \"KS\", \"NV\", \"ME\", \"MT\", \"NM\", \"WY\", \"ND\", \"SD\", \"MS\", \"NH\", \"AK\", \"WV\", \"DE\", \"AL\", \"ID\", \"HI\"], \"z\": [512587, 465164, 364742, 331045, 320533, 260866, 221612, 196579, 189225, 148531, 142236, 138154, 133639, 111907, 110221, 98421, 95152, 94290, 93502, 91816, 86107, 68064, 66935, 64279, 62743, 61834, 58132, 56669, 48425, 48269, 47730, 46895, 44305, 41320, 32638, 31370, 28417, 27313, 6741], \"type\": \"choropleth\", \"uid\": \"ab07dd1d-81ed-4506-8495-cd6c41902bbb\"}], {\"geo\": {\"lakecolor\": \"rgb(255,255,255)\", \"scope\": \"usa\", \"showlakes\": true}, \"title\": {\"text\": \"2014-2016 Benefit Plans by State (Hover for Breakdown)\"}}, {\"showLink\": false, \"linkText\": \"Export to plot.ly\", \"plotlyServerURL\": \"https://plot.ly\"})});</script><script type=\"text/javascript\">window.addEventListener(\"resize\", function(){window._Plotly.Plots.resize(document.getElementById(\"0ba4c867-f4cc-43c1-88ce-ba9092c0c340\"));});</script>"
      ]
     },
     "metadata": {},
     "output_type": "display_data"
    }
   ],
   "source": [
    "data = dict(type = 'choropleth',\n",
    "           locations = df['state'],\n",
    "           locationmode = 'USA-states',\n",
    "           colorscale = 'Cividis',\n",
    "            text = df['state'],\n",
    "            marker = dict (line = dict(color = 'rgb(255,255,255)',width=2)),\n",
    "           z = df['Count'],\n",
    "           colorbar = {'title':'No of Benefit plans'})\n",
    "\n",
    "layout = dict(title = '2014-2016 Benefit Plans by State (Hover for Breakdown)',\n",
    "         geo=dict(scope = 'usa',showlakes = True,lakecolor='rgb(255,255,255)')) \n",
    "\n",
    "choromap2 = go.Figure(data = [data],layout=layout)\n",
    "iplot(choromap2)"
   ]
  },
  {
   "cell_type": "markdown",
   "metadata": {},
   "source": [
    "With this map, can see that some states do not have data at all, such as CA, WA, CO, MN, KY, MD, NY and states left of NH. This is a data integrity issue since CA and NY are huge states right beside TX. A lot of data on the US as a whole is missing then. This data hole impacts analysis conclusions more so if there were final comments made in relation to US as a whole."
   ]
  },
  {
   "cell_type": "markdown",
   "metadata": {},
   "source": [
    "Some census data would help since the density of plans across states do not account for everyone in each state. Some data on how many people are in each state would help with seeing how many uninsured could be targeted for health insurance sales. Other Census data that would help would be to see what are health benefits cut across gender, socioeconmic status, etc."
   ]
  },
  {
   "cell_type": "markdown",
   "metadata": {},
   "source": [
    "# 2. Now, let us explore cost of healthcare costs across time and states."
   ]
  },
  {
   "cell_type": "markdown",
   "metadata": {},
   "source": [
    "We will now move forward to a different dataset called Rate. Here, we will see how different insurance for individuals who do not use tobacco and those who do vary across time and across states.  "
   ]
  },
  {
   "cell_type": "code",
   "execution_count": 295,
   "metadata": {},
   "outputs": [
    {
     "data": {
      "text/html": [
       "<div>\n",
       "<style scoped>\n",
       "    .dataframe tbody tr th:only-of-type {\n",
       "        vertical-align: middle;\n",
       "    }\n",
       "\n",
       "    .dataframe tbody tr th {\n",
       "        vertical-align: top;\n",
       "    }\n",
       "\n",
       "    .dataframe thead th {\n",
       "        text-align: right;\n",
       "    }\n",
       "</style>\n",
       "<table border=\"1\" class=\"dataframe\">\n",
       "  <thead>\n",
       "    <tr style=\"text-align: right;\">\n",
       "      <th></th>\n",
       "      <th>BusinessYear</th>\n",
       "      <th>StateCode</th>\n",
       "      <th>IssuerId</th>\n",
       "      <th>SourceName</th>\n",
       "      <th>VersionNum</th>\n",
       "      <th>ImportDate</th>\n",
       "      <th>IssuerId2</th>\n",
       "      <th>FederalTIN</th>\n",
       "      <th>RateEffectiveDate</th>\n",
       "      <th>RateExpirationDate</th>\n",
       "      <th>...</th>\n",
       "      <th>IndividualRate</th>\n",
       "      <th>IndividualTobaccoRate</th>\n",
       "      <th>Couple</th>\n",
       "      <th>PrimarySubscriberAndOneDependent</th>\n",
       "      <th>PrimarySubscriberAndTwoDependents</th>\n",
       "      <th>PrimarySubscriberAndThreeOrMoreDependents</th>\n",
       "      <th>CoupleAndOneDependent</th>\n",
       "      <th>CoupleAndTwoDependents</th>\n",
       "      <th>CoupleAndThreeOrMoreDependents</th>\n",
       "      <th>RowNumber</th>\n",
       "    </tr>\n",
       "  </thead>\n",
       "  <tbody>\n",
       "    <tr>\n",
       "      <th>0</th>\n",
       "      <td>2014</td>\n",
       "      <td>AK</td>\n",
       "      <td>21989</td>\n",
       "      <td>HIOS</td>\n",
       "      <td>6</td>\n",
       "      <td>2014-03-19 07:06:49</td>\n",
       "      <td>21989</td>\n",
       "      <td>93-0438772</td>\n",
       "      <td>2014-01-01</td>\n",
       "      <td>2014-12-31</td>\n",
       "      <td>...</td>\n",
       "      <td>29.00</td>\n",
       "      <td>NaN</td>\n",
       "      <td>NaN</td>\n",
       "      <td>NaN</td>\n",
       "      <td>NaN</td>\n",
       "      <td>NaN</td>\n",
       "      <td>NaN</td>\n",
       "      <td>NaN</td>\n",
       "      <td>NaN</td>\n",
       "      <td>14</td>\n",
       "    </tr>\n",
       "    <tr>\n",
       "      <th>1</th>\n",
       "      <td>2014</td>\n",
       "      <td>AK</td>\n",
       "      <td>21989</td>\n",
       "      <td>HIOS</td>\n",
       "      <td>6</td>\n",
       "      <td>2014-03-19 07:06:49</td>\n",
       "      <td>21989</td>\n",
       "      <td>93-0438772</td>\n",
       "      <td>2014-01-01</td>\n",
       "      <td>2014-12-31</td>\n",
       "      <td>...</td>\n",
       "      <td>36.95</td>\n",
       "      <td>NaN</td>\n",
       "      <td>73.9</td>\n",
       "      <td>107.61</td>\n",
       "      <td>107.61</td>\n",
       "      <td>107.61</td>\n",
       "      <td>144.56</td>\n",
       "      <td>144.56</td>\n",
       "      <td>144.56</td>\n",
       "      <td>14</td>\n",
       "    </tr>\n",
       "    <tr>\n",
       "      <th>2</th>\n",
       "      <td>2014</td>\n",
       "      <td>AK</td>\n",
       "      <td>21989</td>\n",
       "      <td>HIOS</td>\n",
       "      <td>6</td>\n",
       "      <td>2014-03-19 07:06:49</td>\n",
       "      <td>21989</td>\n",
       "      <td>93-0438772</td>\n",
       "      <td>2014-01-01</td>\n",
       "      <td>2014-12-31</td>\n",
       "      <td>...</td>\n",
       "      <td>36.95</td>\n",
       "      <td>NaN</td>\n",
       "      <td>73.9</td>\n",
       "      <td>107.61</td>\n",
       "      <td>107.61</td>\n",
       "      <td>107.61</td>\n",
       "      <td>144.56</td>\n",
       "      <td>144.56</td>\n",
       "      <td>144.56</td>\n",
       "      <td>15</td>\n",
       "    </tr>\n",
       "    <tr>\n",
       "      <th>3</th>\n",
       "      <td>2014</td>\n",
       "      <td>AK</td>\n",
       "      <td>21989</td>\n",
       "      <td>HIOS</td>\n",
       "      <td>6</td>\n",
       "      <td>2014-03-19 07:06:49</td>\n",
       "      <td>21989</td>\n",
       "      <td>93-0438772</td>\n",
       "      <td>2014-01-01</td>\n",
       "      <td>2014-12-31</td>\n",
       "      <td>...</td>\n",
       "      <td>32.00</td>\n",
       "      <td>NaN</td>\n",
       "      <td>NaN</td>\n",
       "      <td>NaN</td>\n",
       "      <td>NaN</td>\n",
       "      <td>NaN</td>\n",
       "      <td>NaN</td>\n",
       "      <td>NaN</td>\n",
       "      <td>NaN</td>\n",
       "      <td>15</td>\n",
       "    </tr>\n",
       "    <tr>\n",
       "      <th>4</th>\n",
       "      <td>2014</td>\n",
       "      <td>AK</td>\n",
       "      <td>21989</td>\n",
       "      <td>HIOS</td>\n",
       "      <td>6</td>\n",
       "      <td>2014-03-19 07:06:49</td>\n",
       "      <td>21989</td>\n",
       "      <td>93-0438772</td>\n",
       "      <td>2014-01-01</td>\n",
       "      <td>2014-12-31</td>\n",
       "      <td>...</td>\n",
       "      <td>32.00</td>\n",
       "      <td>NaN</td>\n",
       "      <td>NaN</td>\n",
       "      <td>NaN</td>\n",
       "      <td>NaN</td>\n",
       "      <td>NaN</td>\n",
       "      <td>NaN</td>\n",
       "      <td>NaN</td>\n",
       "      <td>NaN</td>\n",
       "      <td>16</td>\n",
       "    </tr>\n",
       "  </tbody>\n",
       "</table>\n",
       "<p>5 rows × 24 columns</p>\n",
       "</div>"
      ],
      "text/plain": [
       "   BusinessYear StateCode  IssuerId SourceName  VersionNum  \\\n",
       "0          2014        AK     21989       HIOS           6   \n",
       "1          2014        AK     21989       HIOS           6   \n",
       "2          2014        AK     21989       HIOS           6   \n",
       "3          2014        AK     21989       HIOS           6   \n",
       "4          2014        AK     21989       HIOS           6   \n",
       "\n",
       "            ImportDate  IssuerId2  FederalTIN RateEffectiveDate  \\\n",
       "0  2014-03-19 07:06:49      21989  93-0438772        2014-01-01   \n",
       "1  2014-03-19 07:06:49      21989  93-0438772        2014-01-01   \n",
       "2  2014-03-19 07:06:49      21989  93-0438772        2014-01-01   \n",
       "3  2014-03-19 07:06:49      21989  93-0438772        2014-01-01   \n",
       "4  2014-03-19 07:06:49      21989  93-0438772        2014-01-01   \n",
       "\n",
       "  RateExpirationDate    ...     IndividualRate IndividualTobaccoRate Couple  \\\n",
       "0         2014-12-31    ...              29.00                   NaN    NaN   \n",
       "1         2014-12-31    ...              36.95                   NaN   73.9   \n",
       "2         2014-12-31    ...              36.95                   NaN   73.9   \n",
       "3         2014-12-31    ...              32.00                   NaN    NaN   \n",
       "4         2014-12-31    ...              32.00                   NaN    NaN   \n",
       "\n",
       "  PrimarySubscriberAndOneDependent  PrimarySubscriberAndTwoDependents  \\\n",
       "0                              NaN                                NaN   \n",
       "1                           107.61                             107.61   \n",
       "2                           107.61                             107.61   \n",
       "3                              NaN                                NaN   \n",
       "4                              NaN                                NaN   \n",
       "\n",
       "   PrimarySubscriberAndThreeOrMoreDependents  CoupleAndOneDependent  \\\n",
       "0                                        NaN                    NaN   \n",
       "1                                     107.61                 144.56   \n",
       "2                                     107.61                 144.56   \n",
       "3                                        NaN                    NaN   \n",
       "4                                        NaN                    NaN   \n",
       "\n",
       "   CoupleAndTwoDependents  CoupleAndThreeOrMoreDependents  RowNumber  \n",
       "0                     NaN                             NaN         14  \n",
       "1                  144.56                          144.56         14  \n",
       "2                  144.56                          144.56         15  \n",
       "3                     NaN                             NaN         15  \n",
       "4                     NaN                             NaN         16  \n",
       "\n",
       "[5 rows x 24 columns]"
      ]
     },
     "execution_count": 295,
     "metadata": {},
     "output_type": "execute_result"
    }
   ],
   "source": [
    "Rate = pd.read_csv(\"Rate.csv\")\n",
    "Rate.head()"
   ]
  },
  {
   "cell_type": "markdown",
   "metadata": {},
   "source": [
    "Based on the data table above, there is opportunity to explore plans that were offered (no information regarding who bought these plans). We can look at year they were offered, states they offered in, how long these plans lasted, and numerous different rates per plan for different individuals and different type of family plans. However, we will focus on certain columns that will answer our exploration idea: BusinessYear, StateCode and relevant rate columns. "
   ]
  },
  {
   "cell_type": "markdown",
   "metadata": {},
   "source": [
    "## a. Data Integrity/Clean Data"
   ]
  },
  {
   "cell_type": "markdown",
   "metadata": {},
   "source": [
    "Let us first take a look at how many NaN's there are and in the dataset and what is the data type (int/str) of each column."
   ]
  },
  {
   "cell_type": "code",
   "execution_count": 296,
   "metadata": {},
   "outputs": [
    {
     "data": {
      "text/plain": [
       "(0, 0, 0, 7762096)"
      ]
     },
     "execution_count": 296,
     "metadata": {},
     "output_type": "execute_result"
    }
   ],
   "source": [
    "Rate.BusinessYear.isnull().sum(), Rate.StateCode.isnull().sum(), Rate.IndividualRate.isnull().sum(), Rate.IndividualTobaccoRate.isnull().sum()"
   ]
  },
  {
   "cell_type": "code",
   "execution_count": 297,
   "metadata": {},
   "outputs": [
    {
     "data": {
      "text/plain": [
       "12653504"
      ]
     },
     "execution_count": 297,
     "metadata": {},
     "output_type": "execute_result"
    }
   ],
   "source": [
    "Rate.Couple.isnull().sum()"
   ]
  },
  {
   "cell_type": "code",
   "execution_count": 298,
   "metadata": {},
   "outputs": [
    {
     "name": "stdout",
     "output_type": "stream",
     "text": [
      "<class 'pandas.core.frame.DataFrame'>\n",
      "RangeIndex: 12694445 entries, 0 to 12694444\n",
      "Data columns (total 24 columns):\n",
      "BusinessYear                                 int64\n",
      "StateCode                                    object\n",
      "IssuerId                                     int64\n",
      "SourceName                                   object\n",
      "VersionNum                                   int64\n",
      "ImportDate                                   object\n",
      "IssuerId2                                    int64\n",
      "FederalTIN                                   object\n",
      "RateEffectiveDate                            object\n",
      "RateExpirationDate                           object\n",
      "PlanId                                       object\n",
      "RatingAreaId                                 object\n",
      "Tobacco                                      object\n",
      "Age                                          object\n",
      "IndividualRate                               float64\n",
      "IndividualTobaccoRate                        float64\n",
      "Couple                                       float64\n",
      "PrimarySubscriberAndOneDependent             float64\n",
      "PrimarySubscriberAndTwoDependents            float64\n",
      "PrimarySubscriberAndThreeOrMoreDependents    float64\n",
      "CoupleAndOneDependent                        float64\n",
      "CoupleAndTwoDependents                       float64\n",
      "CoupleAndThreeOrMoreDependents               float64\n",
      "RowNumber                                    int64\n",
      "dtypes: float64(9), int64(5), object(10)\n",
      "memory usage: 2.3+ GB\n"
     ]
    }
   ],
   "source": [
    "Rate.info()"
   ]
  },
  {
   "cell_type": "markdown",
   "metadata": {},
   "source": [
    "## (b. Comparative Statistics)"
   ]
  },
  {
   "cell_type": "code",
   "execution_count": 299,
   "metadata": {},
   "outputs": [
    {
     "data": {
      "text/html": [
       "<div>\n",
       "<style scoped>\n",
       "    .dataframe tbody tr th:only-of-type {\n",
       "        vertical-align: middle;\n",
       "    }\n",
       "\n",
       "    .dataframe tbody tr th {\n",
       "        vertical-align: top;\n",
       "    }\n",
       "\n",
       "    .dataframe thead th {\n",
       "        text-align: right;\n",
       "    }\n",
       "</style>\n",
       "<table border=\"1\" class=\"dataframe\">\n",
       "  <thead>\n",
       "    <tr style=\"text-align: right;\">\n",
       "      <th></th>\n",
       "      <th>BusinessYear</th>\n",
       "      <th>IssuerId</th>\n",
       "      <th>VersionNum</th>\n",
       "      <th>IssuerId2</th>\n",
       "      <th>IndividualRate</th>\n",
       "      <th>IndividualTobaccoRate</th>\n",
       "      <th>Couple</th>\n",
       "      <th>PrimarySubscriberAndOneDependent</th>\n",
       "      <th>PrimarySubscriberAndTwoDependents</th>\n",
       "      <th>PrimarySubscriberAndThreeOrMoreDependents</th>\n",
       "      <th>CoupleAndOneDependent</th>\n",
       "      <th>CoupleAndTwoDependents</th>\n",
       "      <th>CoupleAndThreeOrMoreDependents</th>\n",
       "      <th>RowNumber</th>\n",
       "    </tr>\n",
       "  </thead>\n",
       "  <tbody>\n",
       "    <tr>\n",
       "      <th>count</th>\n",
       "      <td>1.269444e+07</td>\n",
       "      <td>1.269444e+07</td>\n",
       "      <td>1.269444e+07</td>\n",
       "      <td>1.269444e+07</td>\n",
       "      <td>1.269444e+07</td>\n",
       "      <td>4.932349e+06</td>\n",
       "      <td>40941.000000</td>\n",
       "      <td>40941.000000</td>\n",
       "      <td>40941.000000</td>\n",
       "      <td>40941.000000</td>\n",
       "      <td>40941.000000</td>\n",
       "      <td>40941.000000</td>\n",
       "      <td>40941.000000</td>\n",
       "      <td>1.269444e+07</td>\n",
       "    </tr>\n",
       "    <tr>\n",
       "      <th>mean</th>\n",
       "      <td>2.015034e+03</td>\n",
       "      <td>5.248592e+04</td>\n",
       "      <td>6.865558e+00</td>\n",
       "      <td>5.248592e+04</td>\n",
       "      <td>4.098026e+03</td>\n",
       "      <td>5.436911e+02</td>\n",
       "      <td>48.115714</td>\n",
       "      <td>49.835901</td>\n",
       "      <td>70.660012</td>\n",
       "      <td>89.405494</td>\n",
       "      <td>72.782793</td>\n",
       "      <td>89.012859</td>\n",
       "      <td>107.807774</td>\n",
       "      <td>6.348572e+03</td>\n",
       "    </tr>\n",
       "    <tr>\n",
       "      <th>std</th>\n",
       "      <td>7.940521e-01</td>\n",
       "      <td>2.641263e+04</td>\n",
       "      <td>3.857180e+00</td>\n",
       "      <td>2.641263e+04</td>\n",
       "      <td>6.122271e+04</td>\n",
       "      <td>2.945916e+02</td>\n",
       "      <td>30.422891</td>\n",
       "      <td>29.691985</td>\n",
       "      <td>44.620130</td>\n",
       "      <td>57.699279</td>\n",
       "      <td>48.232537</td>\n",
       "      <td>59.139094</td>\n",
       "      <td>73.241174</td>\n",
       "      <td>9.011435e+03</td>\n",
       "    </tr>\n",
       "    <tr>\n",
       "      <th>min</th>\n",
       "      <td>2.014000e+03</td>\n",
       "      <td>1.004600e+04</td>\n",
       "      <td>1.000000e+00</td>\n",
       "      <td>1.004600e+04</td>\n",
       "      <td>0.000000e+00</td>\n",
       "      <td>4.173000e+01</td>\n",
       "      <td>0.000000</td>\n",
       "      <td>0.000000</td>\n",
       "      <td>0.000000</td>\n",
       "      <td>0.000000</td>\n",
       "      <td>0.000000</td>\n",
       "      <td>0.000000</td>\n",
       "      <td>0.000000</td>\n",
       "      <td>1.400000e+01</td>\n",
       "    </tr>\n",
       "    <tr>\n",
       "      <th>25%</th>\n",
       "      <td>2.014000e+03</td>\n",
       "      <td>3.021900e+04</td>\n",
       "      <td>4.000000e+00</td>\n",
       "      <td>3.021900e+04</td>\n",
       "      <td>2.933000e+01</td>\n",
       "      <td>3.391200e+02</td>\n",
       "      <td>26.710000</td>\n",
       "      <td>27.390000</td>\n",
       "      <td>27.910000</td>\n",
       "      <td>29.410000</td>\n",
       "      <td>28.260000</td>\n",
       "      <td>28.260000</td>\n",
       "      <td>29.490000</td>\n",
       "      <td>8.730000e+02</td>\n",
       "    </tr>\n",
       "    <tr>\n",
       "      <th>50%</th>\n",
       "      <td>2.015000e+03</td>\n",
       "      <td>4.953200e+04</td>\n",
       "      <td>6.000000e+00</td>\n",
       "      <td>4.953200e+04</td>\n",
       "      <td>2.916000e+02</td>\n",
       "      <td>4.632900e+02</td>\n",
       "      <td>49.770000</td>\n",
       "      <td>51.240000</td>\n",
       "      <td>74.680000</td>\n",
       "      <td>98.800000</td>\n",
       "      <td>77.250000</td>\n",
       "      <td>97.910000</td>\n",
       "      <td>116.710000</td>\n",
       "      <td>2.728000e+03</td>\n",
       "    </tr>\n",
       "    <tr>\n",
       "      <th>75%</th>\n",
       "      <td>2.016000e+03</td>\n",
       "      <td>7.652600e+04</td>\n",
       "      <td>9.000000e+00</td>\n",
       "      <td>7.652600e+04</td>\n",
       "      <td>4.789800e+02</td>\n",
       "      <td>6.843900e+02</td>\n",
       "      <td>69.900000</td>\n",
       "      <td>72.230000</td>\n",
       "      <td>107.670000</td>\n",
       "      <td>137.080000</td>\n",
       "      <td>110.430000</td>\n",
       "      <td>136.330000</td>\n",
       "      <td>167.960000</td>\n",
       "      <td>7.577000e+03</td>\n",
       "    </tr>\n",
       "    <tr>\n",
       "      <th>max</th>\n",
       "      <td>2.016000e+03</td>\n",
       "      <td>9.996900e+04</td>\n",
       "      <td>2.400000e+01</td>\n",
       "      <td>9.996900e+04</td>\n",
       "      <td>9.999990e+05</td>\n",
       "      <td>6.604610e+03</td>\n",
       "      <td>182.400000</td>\n",
       "      <td>169.650000</td>\n",
       "      <td>251.740000</td>\n",
       "      <td>357.940000</td>\n",
       "      <td>260.850000</td>\n",
       "      <td>339.310000</td>\n",
       "      <td>449.140000</td>\n",
       "      <td>6.349300e+04</td>\n",
       "    </tr>\n",
       "  </tbody>\n",
       "</table>\n",
       "</div>"
      ],
      "text/plain": [
       "       BusinessYear      IssuerId    VersionNum     IssuerId2  IndividualRate  \\\n",
       "count  1.269444e+07  1.269444e+07  1.269444e+07  1.269444e+07    1.269444e+07   \n",
       "mean   2.015034e+03  5.248592e+04  6.865558e+00  5.248592e+04    4.098026e+03   \n",
       "std    7.940521e-01  2.641263e+04  3.857180e+00  2.641263e+04    6.122271e+04   \n",
       "min    2.014000e+03  1.004600e+04  1.000000e+00  1.004600e+04    0.000000e+00   \n",
       "25%    2.014000e+03  3.021900e+04  4.000000e+00  3.021900e+04    2.933000e+01   \n",
       "50%    2.015000e+03  4.953200e+04  6.000000e+00  4.953200e+04    2.916000e+02   \n",
       "75%    2.016000e+03  7.652600e+04  9.000000e+00  7.652600e+04    4.789800e+02   \n",
       "max    2.016000e+03  9.996900e+04  2.400000e+01  9.996900e+04    9.999990e+05   \n",
       "\n",
       "       IndividualTobaccoRate        Couple  PrimarySubscriberAndOneDependent  \\\n",
       "count           4.932349e+06  40941.000000                      40941.000000   \n",
       "mean            5.436911e+02     48.115714                         49.835901   \n",
       "std             2.945916e+02     30.422891                         29.691985   \n",
       "min             4.173000e+01      0.000000                          0.000000   \n",
       "25%             3.391200e+02     26.710000                         27.390000   \n",
       "50%             4.632900e+02     49.770000                         51.240000   \n",
       "75%             6.843900e+02     69.900000                         72.230000   \n",
       "max             6.604610e+03    182.400000                        169.650000   \n",
       "\n",
       "       PrimarySubscriberAndTwoDependents  \\\n",
       "count                       40941.000000   \n",
       "mean                           70.660012   \n",
       "std                            44.620130   \n",
       "min                             0.000000   \n",
       "25%                            27.910000   \n",
       "50%                            74.680000   \n",
       "75%                           107.670000   \n",
       "max                           251.740000   \n",
       "\n",
       "       PrimarySubscriberAndThreeOrMoreDependents  CoupleAndOneDependent  \\\n",
       "count                               40941.000000           40941.000000   \n",
       "mean                                   89.405494              72.782793   \n",
       "std                                    57.699279              48.232537   \n",
       "min                                     0.000000               0.000000   \n",
       "25%                                    29.410000              28.260000   \n",
       "50%                                    98.800000              77.250000   \n",
       "75%                                   137.080000             110.430000   \n",
       "max                                   357.940000             260.850000   \n",
       "\n",
       "       CoupleAndTwoDependents  CoupleAndThreeOrMoreDependents     RowNumber  \n",
       "count            40941.000000                    40941.000000  1.269444e+07  \n",
       "mean                89.012859                      107.807774  6.348572e+03  \n",
       "std                 59.139094                       73.241174  9.011435e+03  \n",
       "min                  0.000000                        0.000000  1.400000e+01  \n",
       "25%                 28.260000                       29.490000  8.730000e+02  \n",
       "50%                 97.910000                      116.710000  2.728000e+03  \n",
       "75%                136.330000                      167.960000  7.577000e+03  \n",
       "max                339.310000                      449.140000  6.349300e+04  "
      ]
     },
     "execution_count": 299,
     "metadata": {},
     "output_type": "execute_result"
    }
   ],
   "source": [
    "Rate.describe()"
   ]
  },
  {
   "cell_type": "code",
   "execution_count": 300,
   "metadata": {},
   "outputs": [
    {
     "data": {
      "text/plain": [
       "0.9967748885437685"
      ]
     },
     "execution_count": 300,
     "metadata": {},
     "output_type": "execute_result"
    }
   ],
   "source": [
    "#Couple Rate NaN's out of whole data set (over 12 million rows!)\n",
    "12653504/12694445"
   ]
  },
  {
   "cell_type": "markdown",
   "metadata": {},
   "source": [
    "Given that group rate columns have around 99.6% missing data, will only compare different individual rates across time and states since there is sufficient data to work with in those columns."
   ]
  },
  {
   "cell_type": "markdown",
   "metadata": {},
   "source": [
    "### Cleaning Individual Tobacco Rate data column"
   ]
  },
  {
   "cell_type": "markdown",
   "metadata": {},
   "source": [
    "In order to handle NaN's, the choices are to replace NaN's with 0's or to take out entire rows that have NaN's. Our first approach will be the former."
   ]
  },
  {
   "cell_type": "code",
   "execution_count": 301,
   "metadata": {},
   "outputs": [],
   "source": [
    "Rate.IndividualTobaccoRate = Rate.IndividualTobaccoRate.fillna(0)"
   ]
  },
  {
   "cell_type": "markdown",
   "metadata": {},
   "source": [
    "Check to see if there are any more NaN's."
   ]
  },
  {
   "cell_type": "code",
   "execution_count": 302,
   "metadata": {},
   "outputs": [
    {
     "data": {
      "text/plain": [
       "0"
      ]
     },
     "execution_count": 302,
     "metadata": {},
     "output_type": "execute_result"
    }
   ],
   "source": [
    "Rate.IndividualTobaccoRate.isnull().sum()"
   ]
  },
  {
   "cell_type": "markdown",
   "metadata": {},
   "source": [
    "There are none. Great!"
   ]
  },
  {
   "cell_type": "markdown",
   "metadata": {},
   "source": [
    "Now that the data is clean, let us take a look at individual costs with and without tobacco use summary statistics across time."
   ]
  },
  {
   "cell_type": "code",
   "execution_count": 303,
   "metadata": {},
   "outputs": [
    {
     "data": {
      "text/html": [
       "<div>\n",
       "<style scoped>\n",
       "    .dataframe tbody tr th:only-of-type {\n",
       "        vertical-align: middle;\n",
       "    }\n",
       "\n",
       "    .dataframe tbody tr th {\n",
       "        vertical-align: top;\n",
       "    }\n",
       "\n",
       "    .dataframe thead tr th {\n",
       "        text-align: left;\n",
       "    }\n",
       "\n",
       "    .dataframe thead tr:last-of-type th {\n",
       "        text-align: right;\n",
       "    }\n",
       "</style>\n",
       "<table border=\"1\" class=\"dataframe\">\n",
       "  <thead>\n",
       "    <tr>\n",
       "      <th></th>\n",
       "      <th colspan=\"8\" halign=\"left\">IndividualRate</th>\n",
       "      <th colspan=\"8\" halign=\"left\">IndividualTobaccoRate</th>\n",
       "    </tr>\n",
       "    <tr>\n",
       "      <th></th>\n",
       "      <th>count</th>\n",
       "      <th>mean</th>\n",
       "      <th>std</th>\n",
       "      <th>min</th>\n",
       "      <th>25%</th>\n",
       "      <th>50%</th>\n",
       "      <th>75%</th>\n",
       "      <th>max</th>\n",
       "      <th>count</th>\n",
       "      <th>mean</th>\n",
       "      <th>std</th>\n",
       "      <th>min</th>\n",
       "      <th>25%</th>\n",
       "      <th>50%</th>\n",
       "      <th>75%</th>\n",
       "      <th>max</th>\n",
       "    </tr>\n",
       "    <tr>\n",
       "      <th>BusinessYear</th>\n",
       "      <th></th>\n",
       "      <th></th>\n",
       "      <th></th>\n",
       "      <th></th>\n",
       "      <th></th>\n",
       "      <th></th>\n",
       "      <th></th>\n",
       "      <th></th>\n",
       "      <th></th>\n",
       "      <th></th>\n",
       "      <th></th>\n",
       "      <th></th>\n",
       "      <th></th>\n",
       "      <th></th>\n",
       "      <th></th>\n",
       "      <th></th>\n",
       "    </tr>\n",
       "  </thead>\n",
       "  <tbody>\n",
       "    <tr>\n",
       "      <th>2014</th>\n",
       "      <td>3796388.0</td>\n",
       "      <td>12922.257001</td>\n",
       "      <td>111452.391035</td>\n",
       "      <td>0.0</td>\n",
       "      <td>32.11</td>\n",
       "      <td>296.43</td>\n",
       "      <td>480.14</td>\n",
       "      <td>999999.00</td>\n",
       "      <td>3796388.0</td>\n",
       "      <td>240.926268</td>\n",
       "      <td>352.947647</td>\n",
       "      <td>0.0</td>\n",
       "      <td>0.0</td>\n",
       "      <td>0.0</td>\n",
       "      <td>427.64</td>\n",
       "      <td>6604.61</td>\n",
       "    </tr>\n",
       "    <tr>\n",
       "      <th>2015</th>\n",
       "      <td>4676092.0</td>\n",
       "      <td>329.161861</td>\n",
       "      <td>525.002167</td>\n",
       "      <td>0.0</td>\n",
       "      <td>28.43</td>\n",
       "      <td>283.38</td>\n",
       "      <td>469.69</td>\n",
       "      <td>9999.99</td>\n",
       "      <td>4676092.0</td>\n",
       "      <td>198.409085</td>\n",
       "      <td>304.982986</td>\n",
       "      <td>0.0</td>\n",
       "      <td>0.0</td>\n",
       "      <td>0.0</td>\n",
       "      <td>367.77</td>\n",
       "      <td>2379.86</td>\n",
       "    </tr>\n",
       "    <tr>\n",
       "      <th>2016</th>\n",
       "      <td>4221965.0</td>\n",
       "      <td>337.539257</td>\n",
       "      <td>536.053504</td>\n",
       "      <td>0.0</td>\n",
       "      <td>28.49</td>\n",
       "      <td>296.30</td>\n",
       "      <td>488.07</td>\n",
       "      <td>9999.00</td>\n",
       "      <td>4221965.0</td>\n",
       "      <td>198.780763</td>\n",
       "      <td>310.452054</td>\n",
       "      <td>0.0</td>\n",
       "      <td>0.0</td>\n",
       "      <td>0.0</td>\n",
       "      <td>376.96</td>\n",
       "      <td>2677.79</td>\n",
       "    </tr>\n",
       "  </tbody>\n",
       "</table>\n",
       "</div>"
      ],
      "text/plain": [
       "             IndividualRate                                                   \\\n",
       "                      count          mean            std  min    25%     50%   \n",
       "BusinessYear                                                                   \n",
       "2014              3796388.0  12922.257001  111452.391035  0.0  32.11  296.43   \n",
       "2015              4676092.0    329.161861     525.002167  0.0  28.43  283.38   \n",
       "2016              4221965.0    337.539257     536.053504  0.0  28.49  296.30   \n",
       "\n",
       "                                IndividualTobaccoRate                          \\\n",
       "                 75%        max                 count        mean         std   \n",
       "BusinessYear                                                                    \n",
       "2014          480.14  999999.00             3796388.0  240.926268  352.947647   \n",
       "2015          469.69    9999.99             4676092.0  198.409085  304.982986   \n",
       "2016          488.07    9999.00             4221965.0  198.780763  310.452054   \n",
       "\n",
       "                                              \n",
       "              min  25%  50%     75%      max  \n",
       "BusinessYear                                  \n",
       "2014          0.0  0.0  0.0  427.64  6604.61  \n",
       "2015          0.0  0.0  0.0  367.77  2379.86  \n",
       "2016          0.0  0.0  0.0  376.96  2677.79  "
      ]
     },
     "execution_count": 303,
     "metadata": {},
     "output_type": "execute_result"
    }
   ],
   "source": [
    "Rate[[\"BusinessYear\",\"IndividualRate\",\"IndividualTobaccoRate\"]].groupby('BusinessYear').describe()"
   ]
  },
  {
   "cell_type": "markdown",
   "metadata": {},
   "source": [
    "There seems to be outliers in IndividualRate column since there is one value coming out at 999999.00. Also for IndividualToboccooRate 25% and 75% quartiles, 0's are what fill that portion of the dataset. Let us start dealing with these issues by eliminating outliers. Let us target our elimination areas by first looking at each individual rate's boxplots to see the distribution of data."
   ]
  },
  {
   "cell_type": "code",
   "execution_count": 304,
   "metadata": {},
   "outputs": [
    {
     "data": {
      "text/plain": [
       "<matplotlib.axes._subplots.AxesSubplot at 0x1e714d42e8>"
      ]
     },
     "execution_count": 304,
     "metadata": {},
     "output_type": "execute_result"
    },
    {
     "data": {
      "image/png": "[encoded data removed]",
      "text/plain": [
       "<Figure size 432x288 with 1 Axes>"
      ]
     },
     "metadata": {},
     "output_type": "display_data"
    }
   ],
   "source": [
    "sns.boxplot(x=\"BusinessYear\", y=\"IndividualRate\", data=Rate)"
   ]
  },
  {
   "cell_type": "markdown",
   "metadata": {},
   "source": [
    "This boxplot rendering is skewed because the data is that skewed. Outlier at 999999.00 is cause for the box to look like a line. All the data points are concentrated near the bottom because the gap between most of the points and the outlier is huge. The box plot will look different after outliers are removed so that data points will be closer to the Median. Another thing to note is that most outliers are in 2014 year for this column."
   ]
  },
  {
   "cell_type": "code",
   "execution_count": 305,
   "metadata": {},
   "outputs": [
    {
     "data": {
      "text/plain": [
       "<matplotlib.axes._subplots.AxesSubplot at 0x1e714c0cc0>"
      ]
     },
     "execution_count": 305,
     "metadata": {},
     "output_type": "execute_result"
    },
    {
     "data": {
      "image/png": "[encoded data removed]",
      "text/plain": [
       "<Figure size 432x288 with 1 Axes>"
      ]
     },
     "metadata": {},
     "output_type": "display_data"
    }
   ],
   "source": [
    "sns.boxplot(x=\"BusinessYear\", y=\"IndividualTobaccoRate\", data=Rate)"
   ]
  },
  {
   "cell_type": "markdown",
   "metadata": {},
   "source": [
    "For Ind. Rate for tobacco users, year 2014 has a huge amount of outliers that need to be eliminated. It looks like 2014 has the biggest data integrity issues."
   ]
  },
  {
   "cell_type": "markdown",
   "metadata": {},
   "source": [
    "We will use zcore to drop outliers and perform it multiple times depending on how spread out data is. \n",
    "\n",
    "Zscore: In this procedure, z-score is calculated for each observation. Any z-score greater than +3 is considered to be an outlier. This rule of thumb is based on the empirical rule. From this rule we see that almost all of the data (99.7%) should be within three standard deviations from the mean. "
   ]
  },
  {
   "cell_type": "code",
   "execution_count": 306,
   "metadata": {},
   "outputs": [],
   "source": [
    "Rate2 = Rate[(np.abs(stats.zscore(Rate.drop([\n",
    " 'BusinessYear',\n",
    " 'StateCode',\n",
    " 'IssuerId',\n",
    " 'SourceName',\n",
    " 'VersionNum',\n",
    " 'ImportDate',\n",
    " 'IssuerId2',\n",
    " 'FederalTIN',\n",
    " 'RateEffectiveDate',\n",
    " 'RateExpirationDate',\n",
    " 'PlanId',\n",
    " 'RatingAreaId',\n",
    " 'Tobacco',\n",
    " 'Age',\n",
    " 'Couple',\n",
    " 'PrimarySubscriberAndOneDependent',\n",
    " 'PrimarySubscriberAndTwoDependents',\n",
    " 'PrimarySubscriberAndThreeOrMoreDependents',\n",
    " 'CoupleAndOneDependent',\n",
    " 'CoupleAndTwoDependents',\n",
    " 'CoupleAndThreeOrMoreDependents',\n",
    " 'RowNumber'], axis=1))) < 3).all(axis=1)]"
   ]
  },
  {
   "cell_type": "code",
   "execution_count": 307,
   "metadata": {},
   "outputs": [
    {
     "data": {
      "text/plain": [
       "<matplotlib.axes._subplots.AxesSubplot at 0x1bf0d5cdd8>"
      ]
     },
     "execution_count": 307,
     "metadata": {},
     "output_type": "execute_result"
    },
    {
     "data": {
      "image/png": "[encoded data removed]",
      "text/plain": [
       "<Figure size 432x288 with 1 Axes>"
      ]
     },
     "metadata": {},
     "output_type": "display_data"
    }
   ],
   "source": [
    "sns.boxplot(x=\"BusinessYear\", y=\"IndividualRate\", data=Rate2)"
   ]
  },
  {
   "cell_type": "code",
   "execution_count": 308,
   "metadata": {},
   "outputs": [
    {
     "data": {
      "text/html": [
       "<div>\n",
       "<style scoped>\n",
       "    .dataframe tbody tr th:only-of-type {\n",
       "        vertical-align: middle;\n",
       "    }\n",
       "\n",
       "    .dataframe tbody tr th {\n",
       "        vertical-align: top;\n",
       "    }\n",
       "\n",
       "    .dataframe thead tr th {\n",
       "        text-align: left;\n",
       "    }\n",
       "\n",
       "    .dataframe thead tr:last-of-type th {\n",
       "        text-align: right;\n",
       "    }\n",
       "</style>\n",
       "<table border=\"1\" class=\"dataframe\">\n",
       "  <thead>\n",
       "    <tr>\n",
       "      <th></th>\n",
       "      <th colspan=\"8\" halign=\"left\">IndividualRate</th>\n",
       "    </tr>\n",
       "    <tr>\n",
       "      <th></th>\n",
       "      <th>count</th>\n",
       "      <th>mean</th>\n",
       "      <th>std</th>\n",
       "      <th>min</th>\n",
       "      <th>25%</th>\n",
       "      <th>50%</th>\n",
       "      <th>75%</th>\n",
       "      <th>max</th>\n",
       "    </tr>\n",
       "    <tr>\n",
       "      <th>BusinessYear</th>\n",
       "      <th></th>\n",
       "      <th></th>\n",
       "      <th></th>\n",
       "      <th></th>\n",
       "      <th></th>\n",
       "      <th></th>\n",
       "      <th></th>\n",
       "      <th></th>\n",
       "    </tr>\n",
       "  </thead>\n",
       "  <tbody>\n",
       "    <tr>\n",
       "      <th>2014</th>\n",
       "      <td>3674245.0</td>\n",
       "      <td>322.347511</td>\n",
       "      <td>487.618002</td>\n",
       "      <td>0.0</td>\n",
       "      <td>31.44</td>\n",
       "      <td>286.89</td>\n",
       "      <td>453.32</td>\n",
       "      <td>9999.99</td>\n",
       "    </tr>\n",
       "    <tr>\n",
       "      <th>2015</th>\n",
       "      <td>4625636.0</td>\n",
       "      <td>321.025899</td>\n",
       "      <td>521.744693</td>\n",
       "      <td>0.0</td>\n",
       "      <td>28.25</td>\n",
       "      <td>279.72</td>\n",
       "      <td>460.69</td>\n",
       "      <td>9999.99</td>\n",
       "    </tr>\n",
       "    <tr>\n",
       "      <th>2016</th>\n",
       "      <td>4174144.0</td>\n",
       "      <td>329.057729</td>\n",
       "      <td>532.930493</td>\n",
       "      <td>0.0</td>\n",
       "      <td>28.27</td>\n",
       "      <td>292.22</td>\n",
       "      <td>478.23</td>\n",
       "      <td>9999.00</td>\n",
       "    </tr>\n",
       "  </tbody>\n",
       "</table>\n",
       "</div>"
      ],
      "text/plain": [
       "             IndividualRate                                              \\\n",
       "                      count        mean         std  min    25%     50%   \n",
       "BusinessYear                                                              \n",
       "2014              3674245.0  322.347511  487.618002  0.0  31.44  286.89   \n",
       "2015              4625636.0  321.025899  521.744693  0.0  28.25  279.72   \n",
       "2016              4174144.0  329.057729  532.930493  0.0  28.27  292.22   \n",
       "\n",
       "                               \n",
       "                 75%      max  \n",
       "BusinessYear                   \n",
       "2014          453.32  9999.99  \n",
       "2015          460.69  9999.99  \n",
       "2016          478.23  9999.00  "
      ]
     },
     "execution_count": 308,
     "metadata": {},
     "output_type": "execute_result"
    }
   ],
   "source": [
    "Rate2[[\"BusinessYear\",\"IndividualRate\"]].groupby('BusinessYear').describe()"
   ]
  },
  {
   "cell_type": "markdown",
   "metadata": {},
   "source": [
    "Even after one elimination of values outside of +3 SD, there are still outliers. There are values at 9999.99. Another outlier elimination using z-score will be done to eliminate these values."
   ]
  },
  {
   "cell_type": "code",
   "execution_count": 309,
   "metadata": {},
   "outputs": [],
   "source": [
    "Rate3 = Rate2[(np.abs(stats.zscore(Rate2.drop([\n",
    " 'BusinessYear',\n",
    " 'StateCode',\n",
    " 'IssuerId',\n",
    " 'SourceName',\n",
    " 'VersionNum',\n",
    " 'ImportDate',\n",
    " 'IssuerId2',\n",
    " 'FederalTIN',\n",
    " 'RateEffectiveDate',\n",
    " 'RateExpirationDate',\n",
    " 'PlanId',\n",
    " 'RatingAreaId',\n",
    " 'Tobacco',\n",
    " 'Age',\n",
    " 'Couple',\n",
    " 'PrimarySubscriberAndOneDependent',\n",
    " 'PrimarySubscriberAndTwoDependents',\n",
    " 'PrimarySubscriberAndThreeOrMoreDependents',\n",
    " 'CoupleAndOneDependent',\n",
    " 'CoupleAndTwoDependents',\n",
    " 'CoupleAndThreeOrMoreDependents',\n",
    " 'RowNumber'], axis=1))) < 3).all(axis=1)]"
   ]
  },
  {
   "cell_type": "code",
   "execution_count": 310,
   "metadata": {},
   "outputs": [
    {
     "data": {
      "text/plain": [
       "<matplotlib.axes._subplots.AxesSubplot at 0x1b7c13aef0>"
      ]
     },
     "execution_count": 310,
     "metadata": {},
     "output_type": "execute_result"
    },
    {
     "data": {
      "image/png": "[encoded data removed]",
      "text/plain": [
       "<Figure size 432x288 with 1 Axes>"
      ]
     },
     "metadata": {},
     "output_type": "display_data"
    }
   ],
   "source": [
    "sns.boxplot(x=\"BusinessYear\", y=\"IndividualRate\", data=Rate3)"
   ]
  },
  {
   "cell_type": "code",
   "execution_count": 311,
   "metadata": {},
   "outputs": [
    {
     "data": {
      "text/html": [
       "<div>\n",
       "<style scoped>\n",
       "    .dataframe tbody tr th:only-of-type {\n",
       "        vertical-align: middle;\n",
       "    }\n",
       "\n",
       "    .dataframe tbody tr th {\n",
       "        vertical-align: top;\n",
       "    }\n",
       "\n",
       "    .dataframe thead tr th {\n",
       "        text-align: left;\n",
       "    }\n",
       "\n",
       "    .dataframe thead tr:last-of-type th {\n",
       "        text-align: right;\n",
       "    }\n",
       "</style>\n",
       "<table border=\"1\" class=\"dataframe\">\n",
       "  <thead>\n",
       "    <tr>\n",
       "      <th></th>\n",
       "      <th colspan=\"8\" halign=\"left\">IndividualRate</th>\n",
       "    </tr>\n",
       "    <tr>\n",
       "      <th></th>\n",
       "      <th>count</th>\n",
       "      <th>mean</th>\n",
       "      <th>std</th>\n",
       "      <th>min</th>\n",
       "      <th>25%</th>\n",
       "      <th>50%</th>\n",
       "      <th>75%</th>\n",
       "      <th>max</th>\n",
       "    </tr>\n",
       "    <tr>\n",
       "      <th>BusinessYear</th>\n",
       "      <th></th>\n",
       "      <th></th>\n",
       "      <th></th>\n",
       "      <th></th>\n",
       "      <th></th>\n",
       "      <th></th>\n",
       "      <th></th>\n",
       "      <th></th>\n",
       "    </tr>\n",
       "  </thead>\n",
       "  <tbody>\n",
       "    <tr>\n",
       "      <th>2014</th>\n",
       "      <td>3626007.0</td>\n",
       "      <td>298.956321</td>\n",
       "      <td>263.935910</td>\n",
       "      <td>0.0</td>\n",
       "      <td>31.13</td>\n",
       "      <td>283.09</td>\n",
       "      <td>443.69</td>\n",
       "      <td>1867.91</td>\n",
       "    </tr>\n",
       "    <tr>\n",
       "      <th>2015</th>\n",
       "      <td>4571893.0</td>\n",
       "      <td>295.416474</td>\n",
       "      <td>281.852432</td>\n",
       "      <td>0.0</td>\n",
       "      <td>28.01</td>\n",
       "      <td>275.79</td>\n",
       "      <td>451.56</td>\n",
       "      <td>1871.07</td>\n",
       "    </tr>\n",
       "    <tr>\n",
       "      <th>2016</th>\n",
       "      <td>4122018.0</td>\n",
       "      <td>302.087733</td>\n",
       "      <td>288.024715</td>\n",
       "      <td>0.0</td>\n",
       "      <td>28.00</td>\n",
       "      <td>287.88</td>\n",
       "      <td>468.10</td>\n",
       "      <td>1870.62</td>\n",
       "    </tr>\n",
       "  </tbody>\n",
       "</table>\n",
       "</div>"
      ],
      "text/plain": [
       "             IndividualRate                                              \\\n",
       "                      count        mean         std  min    25%     50%   \n",
       "BusinessYear                                                              \n",
       "2014              3626007.0  298.956321  263.935910  0.0  31.13  283.09   \n",
       "2015              4571893.0  295.416474  281.852432  0.0  28.01  275.79   \n",
       "2016              4122018.0  302.087733  288.024715  0.0  28.00  287.88   \n",
       "\n",
       "                               \n",
       "                 75%      max  \n",
       "BusinessYear                   \n",
       "2014          443.69  1867.91  \n",
       "2015          451.56  1871.07  \n",
       "2016          468.10  1870.62  "
      ]
     },
     "execution_count": 311,
     "metadata": {},
     "output_type": "execute_result"
    }
   ],
   "source": [
    "Rate3[[\"BusinessYear\",\"IndividualRate\"]].groupby('BusinessYear').describe()"
   ]
  },
  {
   "cell_type": "markdown",
   "metadata": {},
   "source": [
    "Yes! The extreme values have been eliminated from IndividualRate column. They were most likely due to input error. Now moving onto IndividualTocabbocRate column. Let us check with boxplot to see how we can remedy 0 values at 25% and 75% quartiles. "
   ]
  },
  {
   "cell_type": "code",
   "execution_count": 312,
   "metadata": {},
   "outputs": [
    {
     "data": {
      "text/plain": [
       "<matplotlib.axes._subplots.AxesSubplot at 0x1b35a93c18>"
      ]
     },
     "execution_count": 312,
     "metadata": {},
     "output_type": "execute_result"
    },
    {
     "data": {
      "image/png": "[encoded data removed]",
      "text/plain": [
       "<Figure size 432x288 with 1 Axes>"
      ]
     },
     "metadata": {},
     "output_type": "display_data"
    }
   ],
   "source": [
    "sns.boxplot(x=\"BusinessYear\", y=\"IndividualTobaccoRate\", data=Rate3)"
   ]
  },
  {
   "cell_type": "markdown",
   "metadata": {},
   "source": [
    "Looks like it is. Now, let us verify with the summary statistics table that min, median, max, 25%, 50% and 75% values are not as spread out as it was in original dataset."
   ]
  },
  {
   "cell_type": "code",
   "execution_count": 313,
   "metadata": {},
   "outputs": [
    {
     "data": {
      "text/html": [
       "<div>\n",
       "<style scoped>\n",
       "    .dataframe tbody tr th:only-of-type {\n",
       "        vertical-align: middle;\n",
       "    }\n",
       "\n",
       "    .dataframe tbody tr th {\n",
       "        vertical-align: top;\n",
       "    }\n",
       "\n",
       "    .dataframe thead tr th {\n",
       "        text-align: left;\n",
       "    }\n",
       "\n",
       "    .dataframe thead tr:last-of-type th {\n",
       "        text-align: right;\n",
       "    }\n",
       "</style>\n",
       "<table border=\"1\" class=\"dataframe\">\n",
       "  <thead>\n",
       "    <tr>\n",
       "      <th></th>\n",
       "      <th colspan=\"8\" halign=\"left\">IndividualRate</th>\n",
       "      <th colspan=\"8\" halign=\"left\">IndividualTobaccoRate</th>\n",
       "    </tr>\n",
       "    <tr>\n",
       "      <th></th>\n",
       "      <th>count</th>\n",
       "      <th>mean</th>\n",
       "      <th>std</th>\n",
       "      <th>min</th>\n",
       "      <th>25%</th>\n",
       "      <th>50%</th>\n",
       "      <th>75%</th>\n",
       "      <th>max</th>\n",
       "      <th>count</th>\n",
       "      <th>mean</th>\n",
       "      <th>std</th>\n",
       "      <th>min</th>\n",
       "      <th>25%</th>\n",
       "      <th>50%</th>\n",
       "      <th>75%</th>\n",
       "      <th>max</th>\n",
       "    </tr>\n",
       "    <tr>\n",
       "      <th>BusinessYear</th>\n",
       "      <th></th>\n",
       "      <th></th>\n",
       "      <th></th>\n",
       "      <th></th>\n",
       "      <th></th>\n",
       "      <th></th>\n",
       "      <th></th>\n",
       "      <th></th>\n",
       "      <th></th>\n",
       "      <th></th>\n",
       "      <th></th>\n",
       "      <th></th>\n",
       "      <th></th>\n",
       "      <th></th>\n",
       "      <th></th>\n",
       "      <th></th>\n",
       "    </tr>\n",
       "  </thead>\n",
       "  <tbody>\n",
       "    <tr>\n",
       "      <th>2014</th>\n",
       "      <td>3626007.0</td>\n",
       "      <td>298.956321</td>\n",
       "      <td>263.935910</td>\n",
       "      <td>0.0</td>\n",
       "      <td>31.13</td>\n",
       "      <td>283.09</td>\n",
       "      <td>443.69</td>\n",
       "      <td>1867.91</td>\n",
       "      <td>3626007.0</td>\n",
       "      <td>208.191792</td>\n",
       "      <td>281.530171</td>\n",
       "      <td>0.0</td>\n",
       "      <td>0.0</td>\n",
       "      <td>0.0</td>\n",
       "      <td>403.10</td>\n",
       "      <td>1058.44</td>\n",
       "    </tr>\n",
       "    <tr>\n",
       "      <th>2015</th>\n",
       "      <td>4571893.0</td>\n",
       "      <td>295.416474</td>\n",
       "      <td>281.852432</td>\n",
       "      <td>0.0</td>\n",
       "      <td>28.01</td>\n",
       "      <td>275.79</td>\n",
       "      <td>451.56</td>\n",
       "      <td>1871.07</td>\n",
       "      <td>4571893.0</td>\n",
       "      <td>177.253162</td>\n",
       "      <td>267.452153</td>\n",
       "      <td>0.0</td>\n",
       "      <td>0.0</td>\n",
       "      <td>0.0</td>\n",
       "      <td>349.71</td>\n",
       "      <td>1058.44</td>\n",
       "    </tr>\n",
       "    <tr>\n",
       "      <th>2016</th>\n",
       "      <td>4122018.0</td>\n",
       "      <td>302.087733</td>\n",
       "      <td>288.024715</td>\n",
       "      <td>0.0</td>\n",
       "      <td>28.00</td>\n",
       "      <td>287.88</td>\n",
       "      <td>468.10</td>\n",
       "      <td>1870.62</td>\n",
       "      <td>4122018.0</td>\n",
       "      <td>176.357773</td>\n",
       "      <td>271.709137</td>\n",
       "      <td>0.0</td>\n",
       "      <td>0.0</td>\n",
       "      <td>0.0</td>\n",
       "      <td>357.74</td>\n",
       "      <td>1058.44</td>\n",
       "    </tr>\n",
       "  </tbody>\n",
       "</table>\n",
       "</div>"
      ],
      "text/plain": [
       "             IndividualRate                                              \\\n",
       "                      count        mean         std  min    25%     50%   \n",
       "BusinessYear                                                              \n",
       "2014              3626007.0  298.956321  263.935910  0.0  31.13  283.09   \n",
       "2015              4571893.0  295.416474  281.852432  0.0  28.01  275.79   \n",
       "2016              4122018.0  302.087733  288.024715  0.0  28.00  287.88   \n",
       "\n",
       "                              IndividualTobaccoRate                          \\\n",
       "                 75%      max                 count        mean         std   \n",
       "BusinessYear                                                                  \n",
       "2014          443.69  1867.91             3626007.0  208.191792  281.530171   \n",
       "2015          451.56  1871.07             4571893.0  177.253162  267.452153   \n",
       "2016          468.10  1870.62             4122018.0  176.357773  271.709137   \n",
       "\n",
       "                                              \n",
       "              min  25%  50%     75%      max  \n",
       "BusinessYear                                  \n",
       "2014          0.0  0.0  0.0  403.10  1058.44  \n",
       "2015          0.0  0.0  0.0  349.71  1058.44  \n",
       "2016          0.0  0.0  0.0  357.74  1058.44  "
      ]
     },
     "execution_count": 313,
     "metadata": {},
     "output_type": "execute_result"
    }
   ],
   "source": [
    "Rate3[[\"BusinessYear\",\"IndividualRate\",\"IndividualTobaccoRate\"]].groupby('BusinessYear').describe()"
   ]
  },
  {
   "cell_type": "markdown",
   "metadata": {},
   "source": [
    "IndividualRate summary statistics looks good. However, IndividualTobaccoRate 25% and 75% values remain at 0. "
   ]
  },
  {
   "cell_type": "markdown",
   "metadata": {},
   "source": [
    "This must mean where 25% and 50% of the data fall, it must mostly be 0. Let us verify this with bar chart/line graph."
   ]
  },
  {
   "cell_type": "code",
   "execution_count": 314,
   "metadata": {},
   "outputs": [
    {
     "data": {
      "text/plain": [
       "<matplotlib.axes._subplots.AxesSubplot at 0x1b2ca96080>"
      ]
     },
     "execution_count": 314,
     "metadata": {},
     "output_type": "execute_result"
    },
    {
     "data": {
      "image/png": "[encoded data removed]",
      "text/plain": [
       "<Figure size 432x288 with 1 Axes>"
      ]
     },
     "metadata": {},
     "output_type": "display_data"
    }
   ],
   "source": [
    "Rate3.IndividualTobaccoRate.hist()"
   ]
  },
  {
   "cell_type": "markdown",
   "metadata": {},
   "source": [
    "This confirms it. Most of the values are 0, but not necessarily $0. This was due to all the NaN's (7762096/12694445 = .61) that were replaced with 0's. In order to just handle the actual rate data that was given, will create a smaller dataframe that includes original data minus NaN's. This will be done prior to visualization of IndividualTobaccoRate across across states."
   ]
  },
  {
   "cell_type": "markdown",
   "metadata": {},
   "source": [
    "## c. Individual Rates Across Time."
   ]
  },
  {
   "cell_type": "code",
   "execution_count": 315,
   "metadata": {},
   "outputs": [
    {
     "data": {
      "text/html": [
       "<div>\n",
       "<style scoped>\n",
       "    .dataframe tbody tr th:only-of-type {\n",
       "        vertical-align: middle;\n",
       "    }\n",
       "\n",
       "    .dataframe tbody tr th {\n",
       "        vertical-align: top;\n",
       "    }\n",
       "\n",
       "    .dataframe thead tr th {\n",
       "        text-align: left;\n",
       "    }\n",
       "\n",
       "    .dataframe thead tr:last-of-type th {\n",
       "        text-align: right;\n",
       "    }\n",
       "</style>\n",
       "<table border=\"1\" class=\"dataframe\">\n",
       "  <thead>\n",
       "    <tr>\n",
       "      <th></th>\n",
       "      <th colspan=\"8\" halign=\"left\">IndividualRate</th>\n",
       "    </tr>\n",
       "    <tr>\n",
       "      <th></th>\n",
       "      <th>count</th>\n",
       "      <th>mean</th>\n",
       "      <th>std</th>\n",
       "      <th>min</th>\n",
       "      <th>25%</th>\n",
       "      <th>50%</th>\n",
       "      <th>75%</th>\n",
       "      <th>max</th>\n",
       "    </tr>\n",
       "    <tr>\n",
       "      <th>BusinessYear</th>\n",
       "      <th></th>\n",
       "      <th></th>\n",
       "      <th></th>\n",
       "      <th></th>\n",
       "      <th></th>\n",
       "      <th></th>\n",
       "      <th></th>\n",
       "      <th></th>\n",
       "    </tr>\n",
       "  </thead>\n",
       "  <tbody>\n",
       "    <tr>\n",
       "      <th>2014</th>\n",
       "      <td>3626007.0</td>\n",
       "      <td>298.956321</td>\n",
       "      <td>263.935910</td>\n",
       "      <td>0.0</td>\n",
       "      <td>31.13</td>\n",
       "      <td>283.09</td>\n",
       "      <td>443.69</td>\n",
       "      <td>1867.91</td>\n",
       "    </tr>\n",
       "    <tr>\n",
       "      <th>2015</th>\n",
       "      <td>4571893.0</td>\n",
       "      <td>295.416474</td>\n",
       "      <td>281.852432</td>\n",
       "      <td>0.0</td>\n",
       "      <td>28.01</td>\n",
       "      <td>275.79</td>\n",
       "      <td>451.56</td>\n",
       "      <td>1871.07</td>\n",
       "    </tr>\n",
       "    <tr>\n",
       "      <th>2016</th>\n",
       "      <td>4122018.0</td>\n",
       "      <td>302.087733</td>\n",
       "      <td>288.024715</td>\n",
       "      <td>0.0</td>\n",
       "      <td>28.00</td>\n",
       "      <td>287.88</td>\n",
       "      <td>468.10</td>\n",
       "      <td>1870.62</td>\n",
       "    </tr>\n",
       "  </tbody>\n",
       "</table>\n",
       "</div>"
      ],
      "text/plain": [
       "             IndividualRate                                              \\\n",
       "                      count        mean         std  min    25%     50%   \n",
       "BusinessYear                                                              \n",
       "2014              3626007.0  298.956321  263.935910  0.0  31.13  283.09   \n",
       "2015              4571893.0  295.416474  281.852432  0.0  28.01  275.79   \n",
       "2016              4122018.0  302.087733  288.024715  0.0  28.00  287.88   \n",
       "\n",
       "                               \n",
       "                 75%      max  \n",
       "BusinessYear                   \n",
       "2014          443.69  1867.91  \n",
       "2015          451.56  1871.07  \n",
       "2016          468.10  1870.62  "
      ]
     },
     "execution_count": 315,
     "metadata": {},
     "output_type": "execute_result"
    }
   ],
   "source": [
    "Rate3[[\"BusinessYear\",\"IndividualRate\"]].groupby('BusinessYear').describe()"
   ]
  },
  {
   "cell_type": "markdown",
   "metadata": {},
   "source": [
    "We can see here that most Individual Rates were stable across three years. However, to see the breakdown of each Individual Rate, let us do a count of each price that was offered in 10 different ranges and sorted in descending order. "
   ]
  },
  {
   "cell_type": "code",
   "execution_count": 316,
   "metadata": {},
   "outputs": [
    {
     "data": {
      "text/plain": [
       "(-1.8719999999999999, 187.107]    4934499\n",
       "(187.107, 374.214]                3060551\n",
       "(374.214, 561.321]                2270829\n",
       "(561.321, 748.428]                1113097\n",
       "(748.428, 935.535]                 527613\n",
       "(935.535, 1122.642]                352648\n",
       "(1122.642, 1309.749]                42136\n",
       "(1309.749, 1496.856]                13223\n",
       "(1496.856, 1683.963]                 4209\n",
       "(1683.963, 1871.07]                  1113\n",
       "Name: IndividualRate, dtype: int64"
      ]
     },
     "execution_count": 316,
     "metadata": {},
     "output_type": "execute_result"
    }
   ],
   "source": [
    "Rate3['IndividualRate'].value_counts(bins=10)"
   ]
  },
  {
   "cell_type": "markdown",
   "metadata": {},
   "source": [
    "Therefore, for half of the dataset, most Individual Rate costs for non-tobacco users are 0 - 374 dollars from 2014 to 2016."
   ]
  },
  {
   "cell_type": "markdown",
   "metadata": {},
   "source": [
    "Now let us graph all IndividualRates per state to see if different rates are correlated with different states. Want to also see if there is variation in rates within each state. So this will be a two-dimensional assessment (across x-axis and across y-axis)."
   ]
  },
  {
   "cell_type": "markdown",
   "metadata": {},
   "source": [
    "## d. Individual Rates Across States and Within each State using Boxplots"
   ]
  },
  {
   "cell_type": "code",
   "execution_count": 317,
   "metadata": {},
   "outputs": [
    {
     "data": {
      "text/plain": [
       "<matplotlib.axes._subplots.AxesSubplot at 0x1b25715208>"
      ]
     },
     "execution_count": 317,
     "metadata": {},
     "output_type": "execute_result"
    },
    {
     "data": {
      "image/png": "[encoded data removed]",
      "text/plain": [
       "<Figure size 1080x432 with 1 Axes>"
      ]
     },
     "metadata": {},
     "output_type": "display_data"
    }
   ],
   "source": [
    "plt.figure(figsize=(15, 6))\n",
    "sns.set_style(\"whitegrid\")\n",
    "sns.boxplot(x=\"StateCode\", y=\"IndividualRate\", data=Rate3, order=Statelist)"
   ]
  },
  {
   "cell_type": "markdown",
   "metadata": {},
   "source": [
    "From the above graph, we see that Arkansas has the most expensive rates whereas Montana has the cheapest based on where the median layed in each box plot. Regarding variability, Hawaii has the least variable whereas Texas has the most variable set of prices for Individual Rates. These differneces may be due to a state having mostly older people so variation is not high. With states that have greater variation with prices, this is most likely due to a state being big like Texas where age population is would be more diverse."
   ]
  },
  {
   "cell_type": "markdown",
   "metadata": {},
   "source": [
    "Now let us move onto Individual Tobacco Rates across time and states."
   ]
  },
  {
   "cell_type": "markdown",
   "metadata": {},
   "source": [
    "## a. More Data Integrity/Cleaning of Data"
   ]
  },
  {
   "cell_type": "markdown",
   "metadata": {},
   "source": [
    "As mentioned before, will only work with data that has no NaN's (eliminated rather than changed to 0 value). In order to get the necessary data points, will make a smaller dataframe from original dataset, with relevant columns to make computations easier (only include Business Year, StateCode and IndividualTobaccoRate). "
   ]
  },
  {
   "cell_type": "code",
   "execution_count": 318,
   "metadata": {},
   "outputs": [],
   "source": [
    "#Need to reload dataset and make a copy of it.\n",
    "Rate = pd.read_csv(\"Rate.csv\")"
   ]
  },
  {
   "cell_type": "code",
   "execution_count": 319,
   "metadata": {},
   "outputs": [],
   "source": [
    "Rate4 = Rate[['BusinessYear', 'StateCode', 'IndividualTobaccoRate']].copy()"
   ]
  },
  {
   "cell_type": "code",
   "execution_count": 320,
   "metadata": {},
   "outputs": [
    {
     "name": "stdout",
     "output_type": "stream",
     "text": [
      "<class 'pandas.core.frame.DataFrame'>\n",
      "RangeIndex: 12694445 entries, 0 to 12694444\n",
      "Data columns (total 3 columns):\n",
      "BusinessYear             int64\n",
      "StateCode                object\n",
      "IndividualTobaccoRate    float64\n",
      "dtypes: float64(1), int64(1), object(1)\n",
      "memory usage: 290.6+ MB\n"
     ]
    }
   ],
   "source": [
    "Rate4.info()"
   ]
  },
  {
   "cell_type": "markdown",
   "metadata": {},
   "source": [
    "### Strategy for cleaning up IndividualTobaccoRate column: Reminder of how many NaN's, Remove NaN's, remove outliers."
   ]
  },
  {
   "cell_type": "code",
   "execution_count": 321,
   "metadata": {},
   "outputs": [
    {
     "data": {
      "text/plain": [
       "7762096"
      ]
     },
     "execution_count": 321,
     "metadata": {},
     "output_type": "execute_result"
    }
   ],
   "source": [
    "Rate4['IndividualTobaccoRate'].isnull().sum()"
   ]
  },
  {
   "cell_type": "code",
   "execution_count": 322,
   "metadata": {},
   "outputs": [
    {
     "name": "stdout",
     "output_type": "stream",
     "text": [
      "NaNs: 61.15%\n"
     ]
    }
   ],
   "source": [
    "a = str(round(((7762096/12694445)*100),2))\n",
    "\n",
    "print('NaNs: ' + a + '%')"
   ]
  },
  {
   "cell_type": "markdown",
   "metadata": {},
   "source": [
    "This is a huge amount of data being eliminated. So there will possibly be a lot of time and state data lost as this huge chunk of data is eliminated from the whole dataset. At the same time, do not want to incorporate $0 amount as a valid price."
   ]
  },
  {
   "cell_type": "markdown",
   "metadata": {},
   "source": [
    "## (b. More Summary Statistics)"
   ]
  },
  {
   "cell_type": "code",
   "execution_count": 323,
   "metadata": {},
   "outputs": [
    {
     "data": {
      "text/plain": [
       "count    4.932349e+06\n",
       "mean     5.436911e+02\n",
       "std      2.945916e+02\n",
       "min      4.173000e+01\n",
       "25%      3.391200e+02\n",
       "50%      4.632900e+02\n",
       "75%      6.843900e+02\n",
       "max      6.604610e+03\n",
       "Name: IndividualTobaccoRate, dtype: float64"
      ]
     },
     "execution_count": 323,
     "metadata": {},
     "output_type": "execute_result"
    }
   ],
   "source": [
    "Rate4[\"IndividualTobaccoRate\"].describe()"
   ]
  },
  {
   "cell_type": "markdown",
   "metadata": {},
   "source": [
    "Confirmation: No 0's in original column. So all 0's from before were coming from NaN's being changed into 0's. Now, we will eliminate all NaN's to get data manipulations and visualizations on all available Ind. Tob. Rate data."
   ]
  },
  {
   "cell_type": "markdown",
   "metadata": {},
   "source": [
    "Eliminate all NaN's from Ind. Tob. Rate column.  "
   ]
  },
  {
   "cell_type": "code",
   "execution_count": 324,
   "metadata": {},
   "outputs": [],
   "source": [
    "Rate5 = Rate4.dropna()"
   ]
  },
  {
   "cell_type": "code",
   "execution_count": 325,
   "metadata": {},
   "outputs": [
    {
     "data": {
      "text/plain": [
       "BusinessYear             0\n",
       "StateCode                0\n",
       "IndividualTobaccoRate    0\n",
       "dtype: int64"
      ]
     },
     "execution_count": 325,
     "metadata": {},
     "output_type": "execute_result"
    }
   ],
   "source": [
    "Rate5.isnull().sum()"
   ]
  },
  {
   "cell_type": "code",
   "execution_count": 326,
   "metadata": {},
   "outputs": [
    {
     "data": {
      "text/plain": [
       "count    4.932349e+06\n",
       "mean     5.436911e+02\n",
       "std      2.945916e+02\n",
       "min      4.173000e+01\n",
       "25%      3.391200e+02\n",
       "50%      4.632900e+02\n",
       "75%      6.843900e+02\n",
       "max      6.604610e+03\n",
       "Name: IndividualTobaccoRate, dtype: float64"
      ]
     },
     "execution_count": 326,
     "metadata": {},
     "output_type": "execute_result"
    }
   ],
   "source": [
    "Rate5['IndividualTobaccoRate'].describe()"
   ]
  },
  {
   "cell_type": "markdown",
   "metadata": {},
   "source": [
    "The dataset went from 12.7 million to 4.9 million. There is still a significant amount of data left to work with even though took out 60% of it. "
   ]
  },
  {
   "cell_type": "code",
   "execution_count": 327,
   "metadata": {},
   "outputs": [
    {
     "data": {
      "text/html": [
       "<div>\n",
       "<style scoped>\n",
       "    .dataframe tbody tr th:only-of-type {\n",
       "        vertical-align: middle;\n",
       "    }\n",
       "\n",
       "    .dataframe tbody tr th {\n",
       "        vertical-align: top;\n",
       "    }\n",
       "\n",
       "    .dataframe thead th {\n",
       "        text-align: right;\n",
       "    }\n",
       "</style>\n",
       "<table border=\"1\" class=\"dataframe\">\n",
       "  <thead>\n",
       "    <tr style=\"text-align: right;\">\n",
       "      <th></th>\n",
       "      <th>BusinessYear</th>\n",
       "      <th>StateCode</th>\n",
       "      <th>IndividualTobaccoRate</th>\n",
       "    </tr>\n",
       "  </thead>\n",
       "  <tbody>\n",
       "    <tr>\n",
       "      <th>14551</th>\n",
       "      <td>2014</td>\n",
       "      <td>AL</td>\n",
       "      <td>111.74</td>\n",
       "    </tr>\n",
       "    <tr>\n",
       "      <th>14552</th>\n",
       "      <td>2014</td>\n",
       "      <td>AL</td>\n",
       "      <td>193.59</td>\n",
       "    </tr>\n",
       "    <tr>\n",
       "      <th>14555</th>\n",
       "      <td>2014</td>\n",
       "      <td>AL</td>\n",
       "      <td>193.59</td>\n",
       "    </tr>\n",
       "    <tr>\n",
       "      <th>14556</th>\n",
       "      <td>2014</td>\n",
       "      <td>AL</td>\n",
       "      <td>193.59</td>\n",
       "    </tr>\n",
       "    <tr>\n",
       "      <th>14559</th>\n",
       "      <td>2014</td>\n",
       "      <td>AL</td>\n",
       "      <td>193.59</td>\n",
       "    </tr>\n",
       "  </tbody>\n",
       "</table>\n",
       "</div>"
      ],
      "text/plain": [
       "       BusinessYear StateCode  IndividualTobaccoRate\n",
       "14551          2014        AL                 111.74\n",
       "14552          2014        AL                 193.59\n",
       "14555          2014        AL                 193.59\n",
       "14556          2014        AL                 193.59\n",
       "14559          2014        AL                 193.59"
      ]
     },
     "execution_count": 327,
     "metadata": {},
     "output_type": "execute_result"
    }
   ],
   "source": [
    "Rate5.head()"
   ]
  },
  {
   "cell_type": "markdown",
   "metadata": {},
   "source": [
    "Now, let us clean the data by eliminating the outliers using z-score. Let us remind ourselves of the current data spread with boxplots and summary statistics."
   ]
  },
  {
   "cell_type": "code",
   "execution_count": 328,
   "metadata": {},
   "outputs": [
    {
     "data": {
      "text/plain": [
       "<matplotlib.axes._subplots.AxesSubplot at 0x22b2848048>"
      ]
     },
     "execution_count": 328,
     "metadata": {},
     "output_type": "execute_result"
    },
    {
     "data": {
      "image/png": "[encoded data removed]",
      "text/plain": [
       "<Figure size 432x288 with 1 Axes>"
      ]
     },
     "metadata": {},
     "output_type": "display_data"
    }
   ],
   "source": [
    "sns.boxplot(x=\"BusinessYear\", y=\"IndividualTobaccoRate\", data=Rate5)"
   ]
  },
  {
   "cell_type": "code",
   "execution_count": 329,
   "metadata": {},
   "outputs": [
    {
     "data": {
      "text/html": [
       "<div>\n",
       "<style scoped>\n",
       "    .dataframe tbody tr th:only-of-type {\n",
       "        vertical-align: middle;\n",
       "    }\n",
       "\n",
       "    .dataframe tbody tr th {\n",
       "        vertical-align: top;\n",
       "    }\n",
       "\n",
       "    .dataframe thead tr th {\n",
       "        text-align: left;\n",
       "    }\n",
       "\n",
       "    .dataframe thead tr:last-of-type th {\n",
       "        text-align: right;\n",
       "    }\n",
       "</style>\n",
       "<table border=\"1\" class=\"dataframe\">\n",
       "  <thead>\n",
       "    <tr>\n",
       "      <th></th>\n",
       "      <th colspan=\"8\" halign=\"left\">IndividualTobaccoRate</th>\n",
       "    </tr>\n",
       "    <tr>\n",
       "      <th></th>\n",
       "      <th>count</th>\n",
       "      <th>mean</th>\n",
       "      <th>std</th>\n",
       "      <th>min</th>\n",
       "      <th>25%</th>\n",
       "      <th>50%</th>\n",
       "      <th>75%</th>\n",
       "      <th>max</th>\n",
       "    </tr>\n",
       "    <tr>\n",
       "      <th>BusinessYear</th>\n",
       "      <th></th>\n",
       "      <th></th>\n",
       "      <th></th>\n",
       "      <th></th>\n",
       "      <th></th>\n",
       "      <th></th>\n",
       "      <th></th>\n",
       "      <th></th>\n",
       "    </tr>\n",
       "  </thead>\n",
       "  <tbody>\n",
       "    <tr>\n",
       "      <th>2014</th>\n",
       "      <td>1634426.0</td>\n",
       "      <td>559.615174</td>\n",
       "      <td>333.179319</td>\n",
       "      <td>55.66</td>\n",
       "      <td>341.30</td>\n",
       "      <td>475.65</td>\n",
       "      <td>694.80</td>\n",
       "      <td>6604.61</td>\n",
       "    </tr>\n",
       "    <tr>\n",
       "      <th>2015</th>\n",
       "      <td>1765295.0</td>\n",
       "      <td>525.566058</td>\n",
       "      <td>272.844149</td>\n",
       "      <td>60.59</td>\n",
       "      <td>327.91</td>\n",
       "      <td>448.46</td>\n",
       "      <td>665.35</td>\n",
       "      <td>2379.86</td>\n",
       "    </tr>\n",
       "    <tr>\n",
       "      <th>2016</th>\n",
       "      <td>1532628.0</td>\n",
       "      <td>547.585862</td>\n",
       "      <td>272.948212</td>\n",
       "      <td>41.73</td>\n",
       "      <td>349.65</td>\n",
       "      <td>467.72</td>\n",
       "      <td>693.99</td>\n",
       "      <td>2677.79</td>\n",
       "    </tr>\n",
       "  </tbody>\n",
       "</table>\n",
       "</div>"
      ],
      "text/plain": [
       "             IndividualTobaccoRate                                         \\\n",
       "                             count        mean         std    min     25%   \n",
       "BusinessYear                                                                \n",
       "2014                     1634426.0  559.615174  333.179319  55.66  341.30   \n",
       "2015                     1765295.0  525.566058  272.844149  60.59  327.91   \n",
       "2016                     1532628.0  547.585862  272.948212  41.73  349.65   \n",
       "\n",
       "                                       \n",
       "                 50%     75%      max  \n",
       "BusinessYear                           \n",
       "2014          475.65  694.80  6604.61  \n",
       "2015          448.46  665.35  2379.86  \n",
       "2016          467.72  693.99  2677.79  "
      ]
     },
     "execution_count": 329,
     "metadata": {},
     "output_type": "execute_result"
    }
   ],
   "source": [
    "Rate5[[\"BusinessYear\",\"IndividualTobaccoRate\"]].groupby('BusinessYear').describe()"
   ]
  },
  {
   "cell_type": "code",
   "execution_count": 330,
   "metadata": {},
   "outputs": [],
   "source": [
    "Rate6 = Rate5[(np.abs(stats.zscore(Rate5.drop([\n",
    " 'BusinessYear',\n",
    " 'StateCode'], axis=1))) < 3).all(axis=1)]"
   ]
  },
  {
   "cell_type": "markdown",
   "metadata": {},
   "source": [
    "Let us boxplot in order to see Ind. Tob. Rate column's distribution around Median."
   ]
  },
  {
   "cell_type": "code",
   "execution_count": 331,
   "metadata": {},
   "outputs": [
    {
     "data": {
      "text/plain": [
       "<matplotlib.axes._subplots.AxesSubplot at 0x1a583cfc50>"
      ]
     },
     "execution_count": 331,
     "metadata": {},
     "output_type": "execute_result"
    },
    {
     "data": {
      "image/png": "[encoded data removed]",
      "text/plain": [
       "<Figure size 432x288 with 1 Axes>"
      ]
     },
     "metadata": {},
     "output_type": "display_data"
    }
   ],
   "source": [
    "sns.boxplot(x=\"BusinessYear\", y=\"IndividualTobaccoRate\", data=Rate6)"
   ]
  },
  {
   "cell_type": "markdown",
   "metadata": {},
   "source": [
    "Boxes from box plots have clear quartiles without extreme values as it looked like in year 2014 especially."
   ]
  },
  {
   "cell_type": "markdown",
   "metadata": {},
   "source": [
    "## c. Individual Tobacco Rates Across Time"
   ]
  },
  {
   "cell_type": "code",
   "execution_count": 332,
   "metadata": {},
   "outputs": [
    {
     "data": {
      "text/html": [
       "<div>\n",
       "<style scoped>\n",
       "    .dataframe tbody tr th:only-of-type {\n",
       "        vertical-align: middle;\n",
       "    }\n",
       "\n",
       "    .dataframe tbody tr th {\n",
       "        vertical-align: top;\n",
       "    }\n",
       "\n",
       "    .dataframe thead tr th {\n",
       "        text-align: left;\n",
       "    }\n",
       "\n",
       "    .dataframe thead tr:last-of-type th {\n",
       "        text-align: right;\n",
       "    }\n",
       "</style>\n",
       "<table border=\"1\" class=\"dataframe\">\n",
       "  <thead>\n",
       "    <tr>\n",
       "      <th></th>\n",
       "      <th colspan=\"8\" halign=\"left\">IndividualTobaccoRate</th>\n",
       "    </tr>\n",
       "    <tr>\n",
       "      <th></th>\n",
       "      <th>count</th>\n",
       "      <th>mean</th>\n",
       "      <th>std</th>\n",
       "      <th>min</th>\n",
       "      <th>25%</th>\n",
       "      <th>50%</th>\n",
       "      <th>75%</th>\n",
       "      <th>max</th>\n",
       "    </tr>\n",
       "    <tr>\n",
       "      <th>BusinessYear</th>\n",
       "      <th></th>\n",
       "      <th></th>\n",
       "      <th></th>\n",
       "      <th></th>\n",
       "      <th></th>\n",
       "      <th></th>\n",
       "      <th></th>\n",
       "      <th></th>\n",
       "    </tr>\n",
       "  </thead>\n",
       "  <tbody>\n",
       "    <tr>\n",
       "      <th>2014</th>\n",
       "      <td>1604806.0</td>\n",
       "      <td>535.234569</td>\n",
       "      <td>262.911830</td>\n",
       "      <td>55.66</td>\n",
       "      <td>339.07</td>\n",
       "      <td>469.90</td>\n",
       "      <td>678.4575</td>\n",
       "      <td>1427.41</td>\n",
       "    </tr>\n",
       "    <tr>\n",
       "      <th>2015</th>\n",
       "      <td>1753985.0</td>\n",
       "      <td>518.566027</td>\n",
       "      <td>259.013066</td>\n",
       "      <td>60.59</td>\n",
       "      <td>327.15</td>\n",
       "      <td>446.67</td>\n",
       "      <td>658.9900</td>\n",
       "      <td>1427.45</td>\n",
       "    </tr>\n",
       "    <tr>\n",
       "      <th>2016</th>\n",
       "      <td>1523000.0</td>\n",
       "      <td>540.774562</td>\n",
       "      <td>259.511634</td>\n",
       "      <td>41.73</td>\n",
       "      <td>348.95</td>\n",
       "      <td>465.98</td>\n",
       "      <td>687.6200</td>\n",
       "      <td>1427.27</td>\n",
       "    </tr>\n",
       "  </tbody>\n",
       "</table>\n",
       "</div>"
      ],
      "text/plain": [
       "             IndividualTobaccoRate                                         \\\n",
       "                             count        mean         std    min     25%   \n",
       "BusinessYear                                                                \n",
       "2014                     1604806.0  535.234569  262.911830  55.66  339.07   \n",
       "2015                     1753985.0  518.566027  259.013066  60.59  327.15   \n",
       "2016                     1523000.0  540.774562  259.511634  41.73  348.95   \n",
       "\n",
       "                                         \n",
       "                 50%       75%      max  \n",
       "BusinessYear                             \n",
       "2014          469.90  678.4575  1427.41  \n",
       "2015          446.67  658.9900  1427.45  \n",
       "2016          465.98  687.6200  1427.27  "
      ]
     },
     "execution_count": 332,
     "metadata": {},
     "output_type": "execute_result"
    }
   ],
   "source": [
    "Rate6[[\"BusinessYear\",\"IndividualTobaccoRate\"]].groupby('BusinessYear').describe()"
   ]
  },
  {
   "cell_type": "markdown",
   "metadata": {},
   "source": [
    "On average, the most expensive Ind. Tob. Rates came from 2016 with 2014 not too far behind. In comparison with Ind. Rates without Tobacco use, these rates are not as stable over time and are more expensive."
   ]
  },
  {
   "cell_type": "markdown",
   "metadata": {},
   "source": [
    "## d. Individual Tobacco Rate Across States and Within each State using Boxplots"
   ]
  },
  {
   "cell_type": "code",
   "execution_count": 333,
   "metadata": {},
   "outputs": [
    {
     "data": {
      "text/plain": [
       "<matplotlib.axes._subplots.AxesSubplot at 0x23ad5775c0>"
      ]
     },
     "execution_count": 333,
     "metadata": {},
     "output_type": "execute_result"
    },
    {
     "data": {
      "image/png": "[encoded data removed]",
      "text/plain": [
       "<Figure size 1080x432 with 1 Axes>"
      ]
     },
     "metadata": {},
     "output_type": "display_data"
    }
   ],
   "source": [
    "plt.figure(figsize=(15, 6))\n",
    "sns.set_style(\"whitegrid\")\n",
    "sns.boxplot(x=\"StateCode\", y=\"IndividualTobaccoRate\", data=Rate6, order=Statelist)"
   ]
  },
  {
   "cell_type": "code",
   "execution_count": 334,
   "metadata": {},
   "outputs": [
    {
     "name": "stdout",
     "output_type": "stream",
     "text": [
      "38 states are listed, which is one off number of states used to analyze Ind. Rates.\n"
     ]
    }
   ],
   "source": [
    "print(str(len(Rate6.StateCode.unique())) + \" states are listed, which is one off number of states used to analyze Ind. Rates.\")"
   ]
  },
  {
   "cell_type": "markdown",
   "metadata": {},
   "source": [
    "Now that we confirmed our data amount, will now comment on variability across states and variability within states."
   ]
  },
  {
   "cell_type": "markdown",
   "metadata": {},
   "source": [
    "There are different Ind Tobacco users' rates. The highest are from AK, IN and WY. The cheapest are in UT, NM, KS and AL. The most variable Ind Tobacco Rates witin a state are KS and OR. These rates compared to non-tobacco users are more expensive by approximately $240."
   ]
  },
  {
   "cell_type": "markdown",
   "metadata": {},
   "source": [
    "# Overall Lessons"
   ]
  },
  {
   "cell_type": "markdown",
   "metadata": {},
   "source": [
    "Data integrity is key prior to working with such massive datasets as above. The huge amount of NaN's at times cautioned me from providing too general of summary statistics where the number of datapoints remaining did not provide enough solid representation of real life population data. At the same time, the dataset started at around 12 million and after the NaN's were taken out with Individual Tobacco Rate data, the amount of data remained massive. So general statements made from data still held weight. Also, huge gaps in data meant that multiple eliminations of data outside of z-score of +3 had to be done. This helped clear data of any anomalies that would affect general statements placed on data after analysis."
   ]
  },
  {
   "cell_type": "markdown",
   "metadata": {},
   "source": [
    "# Final Summary"
   ]
  },
  {
   "cell_type": "markdown",
   "metadata": {},
   "source": [
    "Definitely, adoption of health plans vary across time and states. Number of plan carriers increased from 2014 to 2015 and then dropped slightly in 2016. Individual Rate plans for non-tobacco users were stable across time. On the other hand, Individual Rate plans for tobacco users decreased from 2014 to 2015 and increased again in 2016. And comparing pricing points between non-tobacco users and tobacco users, Individual Rates for tobacco users were more expensive as expected. Those that have higher health risks are paying for higher premiums. \n",
    "\n",
    "Given the wealth of data and having it span across multiple states, there is much more to be discovered especially in regards to gaps in state data and group rate data."
   ]
  },
  {
   "cell_type": "markdown",
   "metadata": {},
   "source": [
    "# Next Steps"
   ]
  },
  {
   "cell_type": "markdown",
   "metadata": {},
   "source": [
    "If there was more resources and time, I would definitely evolve my data analysis by going into: \n",
    "    1. What sort of health insurance do people buy if they are heading into maturnity leave?\n",
    "    2. What sort of health insurance is bought when payers are under Medicare (>65 years old)?\n",
    "    3. Are there more purchases in a certain socioeconomic cut of America?\n",
    "    5. When are most purchases besides during open enrollment in November?\n",
    "    6. Who usually buys HMO/PPO?\n",
    "    7. How much of the US buys individual plans versus group plans?\n",
    "    8. Are there plans that are exclusive to states?"
   ]
  }
 ],
 "metadata": {
  "kernelspec": {
   "display_name": "Python 3",
   "language": "python",
   "name": "python3"
  },
  "language_info": {
   "codemirror_mode": {
    "name": "ipython",
    "version": 3
   },
   "file_extension": ".py",
   "mimetype": "text/x-python",
   "name": "python",
   "nbconvert_exporter": "python",
   "pygments_lexer": "ipython3",
   "version": "3.6.8"
  }
 },
 "nbformat": 4,
 "nbformat_minor": 2
}
