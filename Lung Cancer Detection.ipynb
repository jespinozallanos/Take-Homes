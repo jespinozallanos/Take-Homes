{
 "cells": [
  {
   "cell_type": "code",
   "execution_count": 1,
   "metadata": {
    "collapsed": true
   },
   "outputs": [],
   "source": [
    "#Retrieve and save data locally and if possible, upload to AWS S3."
   ]
  },
  {
   "cell_type": "markdown",
   "metadata": {},
   "source": [
    "This is a comprehensive overview of how to pre-treat medical lung images prior to them being fed into D.L. machine.\n",
    "\n",
    "This is the outline if what will be accomplished:\n",
    "\n",
    "1. **Loading the DICOM files** and adding missing metadata.\n",
    "2. **Converting the pixel values to Hounsfield Units (HU),** and to what tissue these unit values correspond.\n",
    "3. **Resampling** to an isomorphic resolution to remove variance in scanner resolution.\n",
    "4. **3D plotting.** (Visualization is very useful to see what we are doing).\n",
    "5. **Lung segmentation.**\n",
    "6. **Normalization** that makes sense.\n",
    "7. **Zero centering** the scans."
   ]
  },
  {
   "cell_type": "markdown",
   "metadata": {},
   "source": [
    "Importing pkgs and determining Pat's."
   ]
  },
  {
   "cell_type": "code",
   "execution_count": 6,
   "metadata": {},
   "outputs": [],
   "source": [
    "%matplotlib inline\n",
    "\n",
    "import numpy as np\n",
    "import pandas as pd\n",
    "import dicom\n",
    "import os\n",
    "import scipy.ndimage\n",
    "import matplotlib.pyplot as plt\n",
    "\n",
    "from skimage import measure, morphology\n",
    "from mpl_toolkits.mplot3d.art3d import Poly3DCollection\n",
    "\n",
    "#Some constants\n",
    "# INPUT_FOLDER = '../input/sample_images/'\n",
    "# patients = os.listdir(INPUT_FOLDER)\n",
    "# patients.sort()"
   ]
  },
  {
   "cell_type": "markdown",
   "metadata": {},
   "source": [
    "## Loading the Files"
   ]
  },
  {
   "cell_type": "markdown",
   "metadata": {},
   "source": [
    "Dicom \n",
    "- de-facto file standard for medical imaging. \n",
    "- contain a lot of metadata (pixel size, how long one pixel is in every dimension in the real world)\n",
    "- pixel size/coarseness of scan differs from scan to scan (perform isomorphic resampling)"
   ]
  },
  {
   "cell_type": "markdown",
   "metadata": {},
   "source": [
    "Following is code to load scan, which has multiple slices. \n",
    "This will be saved in a Python list.\n",
    "Every folder in dataset is one scan (one patient).\n",
    "One metadata field is missing, pixel size in Z direction, which is the slice thickness.\n",
    "This will be inferred and added to metadata. "
   ]
  },
  {
   "cell_type": "code",
   "execution_count": 10,
   "metadata": {},
   "outputs": [],
   "source": [
    "#Load scans in given folder path\n",
    "def load_scan(path):\n",
    "    slices = [dicom.read_file(path + '/' + s) for s in os.listdir(path)]\n",
    "    slices.sort(key = lambda x: float(x.ImagePositionPatient[2]))\n",
    "    try:\n",
    "        slice_thickness = np.abs(slices[0].ImagePositionPatient[2] - slices[1].ImagePositionPatient[2])\n",
    "    except:\n",
    "        slice_thickness = np.abs(slices[0]).SliceLocation - slices[1].SliceLocation\n",
    "    \n",
    "    for s in slices:\n",
    "        s.SliceThickness = slice_thickness\n",
    "                                        \n",
    "    return slices"
   ]
  },
  {
   "cell_type": "markdown",
   "metadata": {},
   "source": [
    "The unit of measurement in CT scans is **Hounsfield Unit (HU)** which is the measurement of radiodensity. CT scanners are carefully calibrated to accurately measure this. \n",
    "\n",
    "By default though, the returned values are not in this unit. This can be fixed."
   ]
  },
  {
   "cell_type": "markdown",
   "metadata": {},
   "source": [
    "Some scanners have cylindrical scanning bounds, but the output image is square. The pixels that fall outside of these bounds get the fixed value -2000. This will be set to 0, which corresponds to air. \n",
    "\n",
    "Getting back to HU units, we will multiply with rescale slope and adding the intercept (which is stored in metadata of the scans)."
   ]
  },
  {
   "cell_type": "code",
   "execution_count": 18,
   "metadata": {},
   "outputs": [],
   "source": [
    "def get_pixels_hu(slices):\n",
    "    image = np.stack([s.pixel_array for s in slices])\n",
    "    #Convert to int16 (from sometimes int16),\n",
    "    #should be possible as values should always be low enough (<32k)\n",
    "    image = image.astype(np.int16)\n",
    "    \n",
    "    #Set outside-of-scan pixels to 0\n",
    "    #The intercept is usually -1024, so air is approximately 0\n",
    "    image[image == -2000] = 0\n",
    "    \n",
    "    #Convert to Hounsfield units (HU)\n",
    "    for slice_number in range(len(slices)):\n",
    "        \n",
    "        intercept = slices[slice_number].RescaleIntercept\n",
    "        slope = slices[slice_number].RescaleSlope\n",
    "        \n",
    "        if slope != 1:\n",
    "            image[slice_number] = slope * image[slice_number].astype(np.float64)\n",
    "            image[slice_number] = image[slice_number].astype(np.int16)\n",
    "            \n",
    "        image[slice_number] += np.int16(intercept)\n",
    "    \n",
    "    return np.array(image, dtype=np.int16)"
   ]
  },
  {
   "cell_type": "markdown",
   "metadata": {},
   "source": [
    "Taking a look at one of the patients:"
   ]
  },
  {
   "cell_type": "code",
   "execution_count": 20,
   "metadata": {},
   "outputs": [],
   "source": [
    "first_patient = load_scan(INPUT_FOLDER + patients[0])\n",
    "first_patient_pixels = get_pixels_hu(first_patient)\n",
    "plt.hist(first_patient_pixels.flatten(), bins = 80, color = 'c')\n",
    "plt.xlabel(\"Hounsfield Units (HU)\")\n",
    "plt.ylabel(\"Frequency\")\n",
    "plt.show()\n",
    "\n",
    "# #Show some slice in the middle\n",
    "plt.imshow(first_patient_pixels[80], cmp=plt.cm.gray)\n",
    "plt.show()"
   ]
  },
  {
   "cell_type": "code",
   "execution_count": 23,
   "metadata": {},
   "outputs": [],
   "source": [
    "first_patient = load_scan(INPUT_FOLDER + patients[0])\n",
    "first_patient_pixels = get_pixels_hu(first_patient)\n",
    "plt.hist(first_patient_pixels.flatten(), bins = 80, color = 'c')\n",
    "plt.xlabel(\"Hounsfield Units (HU)\")\n",
    "plt.ylabel(\"Frequency\")\n",
    "plt.show()\n",
    "\n",
    "# #Show slice in the middle\n",
    "plt.imshow(first_patient_pixels[80], cmap=plt.cm.gray)\n",
    "plt.show()"
   ]
  },
  {
   "cell_type": "markdown",
   "metadata": {},
   "source": [
    "Based on Hounsfield Units and this histogram, clearly see which pixels are air and whih care tissue."
   ]
  },
  {
   "cell_type": "code",
   "execution_count": null,
   "metadata": {
    "collapsed": true
   },
   "outputs": [],
   "source": []
  }
 ],
 "metadata": {
  "kernelspec": {
   "display_name": "Python 2",
   "language": "python",
   "name": "python2"
  },
  "language_info": {
   "codemirror_mode": {
    "name": "ipython",
    "version": 2
   },
   "file_extension": ".py",
   "mimetype": "text/x-python",
   "name": "python",
   "nbconvert_exporter": "python",
   "pygments_lexer": "ipython2",
   "version": "2.7.14"
  }
 },
 "nbformat": 4,
 "nbformat_minor": 2
}
