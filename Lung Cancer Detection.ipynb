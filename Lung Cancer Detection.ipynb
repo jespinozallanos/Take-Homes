{
 "cells": [
  {
   "cell_type": "code",
   "execution_count": 1,
   "metadata": {
    "collapsed": true
   },
   "outputs": [],
   "source": [
    "#Retrieve and save data locally and if possible, upload to AWS S3."
   ]
  },
  {
   "cell_type": "markdown",
   "metadata": {},
   "source": [
    "This is a comprehensive overview of how to pre-treat medical lung images prior to them being fed into D.L. machine.\n",
    "\n",
    "This is the outline if what will be accomplished:\n",
    "\n",
    "1. **Loading the DICOM files** and adding missing metadata.\n",
    "2. **Converting the pixel values to Hounsfield Units (HU),** and to what tissue these unit values correspond.\n",
    "3. **Resampling** to an isomorphic resolution to remove variance in scanner resolution.\n",
    "4. **3D plotting.** (Visualization is very useful to see what we are doing).\n",
    "5. **Lung segmentation.**\n",
    "6. **Normalization** that makes sense.\n",
    "7. **Zero centering** the scans."
   ]
  },
  {
   "cell_type": "markdown",
   "metadata": {},
   "source": [
    "Importing pkgs and determining Pat's."
   ]
  },
  {
   "cell_type": "code",
   "execution_count": null,
   "metadata": {
    "collapsed": true
   },
   "outputs": [],
   "source": []
  }
 ],
 "metadata": {
  "kernelspec": {
   "display_name": "Python 2",
   "language": "python",
   "name": "python2"
  },
  "language_info": {
   "codemirror_mode": {
    "name": "ipython",
    "version": 2
   },
   "file_extension": ".py",
   "mimetype": "text/x-python",
   "name": "python",
   "nbconvert_exporter": "python",
   "pygments_lexer": "ipython2",
   "version": "2.7.14"
  }
 },
 "nbformat": 4,
 "nbformat_minor": 2
}
