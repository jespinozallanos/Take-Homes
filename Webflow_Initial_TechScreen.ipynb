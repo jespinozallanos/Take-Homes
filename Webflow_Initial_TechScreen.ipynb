{
  "nbformat": 4,
  "nbformat_minor": 0,
  "metadata": {
    "colab": {
      "name": "Webflow_Initial_TechScreen.ipynb",
      "provenance": [],
      "collapsed_sections": [],
      "mount_file_id": "1fkBfJnHSRvwV838UcUxadTN_KuUH2aTu",
      "authorship_tag": "ABX9TyPK+yfJiZEUvBNwjqiM4W/l",
      "include_colab_link": true
    },
    "kernelspec": {
      "name": "python3",
      "display_name": "Python 3"
    }
  },
  "cells": [
    {
      "cell_type": "markdown",
      "metadata": {
        "id": "view-in-github",
        "colab_type": "text"
      },
      "source": [
        "<a href=\"https://colab.research.google.com/github/mindyng/Projects/blob/master/Webflow_Initial_TechScreen.ipynb\" target=\"_parent\"><img src=\"https://colab.research.google.com/assets/colab-badge.svg\" alt=\"Open In Colab\"/></a>"
      ]
    },
    {
      "cell_type": "code",
      "metadata": {
        "colab": {
          "base_uri": "https://localhost:8080/"
        },
        "id": "qkoH5VXleJ3h",
        "outputId": "4108e0d4-8eee-43d6-b9ec-db6eef37165f"
      },
      "source": [
        "!pip install chart_studio"
      ],
      "execution_count": null,
      "outputs": [
        {
          "output_type": "stream",
          "text": [
            "Collecting chart_studio\n",
            "\u001b[?25l  Downloading https://files.pythonhosted.org/packages/ca/ce/330794a6b6ca4b9182c38fc69dd2a9cbff60fd49421cb8648ee5fee352dc/chart_studio-1.1.0-py3-none-any.whl (64kB)\n",
            "\r\u001b[K     |█████                           | 10kB 17.0MB/s eta 0:00:01\r\u001b[K     |██████████▏                     | 20kB 18.4MB/s eta 0:00:01\r\u001b[K     |███████████████▎                | 30kB 10.4MB/s eta 0:00:01\r\u001b[K     |████████████████████▍           | 40kB 7.9MB/s eta 0:00:01\r\u001b[K     |█████████████████████████▍      | 51kB 4.3MB/s eta 0:00:01\r\u001b[K     |██████████████████████████████▌ | 61kB 4.4MB/s eta 0:00:01\r\u001b[K     |████████████████████████████████| 71kB 3.5MB/s \n",
            "\u001b[?25hRequirement already satisfied: retrying>=1.3.3 in /usr/local/lib/python3.6/dist-packages (from chart_studio) (1.3.3)\n",
            "Requirement already satisfied: requests in /usr/local/lib/python3.6/dist-packages (from chart_studio) (2.23.0)\n",
            "Requirement already satisfied: plotly in /usr/local/lib/python3.6/dist-packages (from chart_studio) (4.4.1)\n",
            "Requirement already satisfied: six in /usr/local/lib/python3.6/dist-packages (from chart_studio) (1.15.0)\n",
            "Requirement already satisfied: urllib3!=1.25.0,!=1.25.1,<1.26,>=1.21.1 in /usr/local/lib/python3.6/dist-packages (from requests->chart_studio) (1.24.3)\n",
            "Requirement already satisfied: certifi>=2017.4.17 in /usr/local/lib/python3.6/dist-packages (from requests->chart_studio) (2020.11.8)\n",
            "Requirement already satisfied: idna<3,>=2.5 in /usr/local/lib/python3.6/dist-packages (from requests->chart_studio) (2.10)\n",
            "Requirement already satisfied: chardet<4,>=3.0.2 in /usr/local/lib/python3.6/dist-packages (from requests->chart_studio) (3.0.4)\n",
            "Installing collected packages: chart-studio\n",
            "Successfully installed chart-studio-1.1.0\n"
          ],
          "name": "stdout"
        }
      ]
    },
    {
      "cell_type": "code",
      "metadata": {
        "id": "QzKsOeqC20Tt"
      },
      "source": [
        "import numpy as np\n",
        "import pandas as pd\n",
        "\n",
        "import seaborn as sns\n",
        "import matplotlib.pyplot as plt\n",
        "sns.set_style(\"darkgrid\")\n",
        "from statsmodels.stats.outliers_influence import variance_inflation_factor\n",
        "\n",
        "from datetime import datetime\n",
        "import chart_studio.plotly as py\n",
        "import plotly.graph_objs as go\n",
        "import cufflinks as cf\n",
        "from plotly import figure_factory as FF"
      ],
      "execution_count": null,
      "outputs": []
    },
    {
      "cell_type": "code",
      "metadata": {
        "colab": {
          "base_uri": "https://localhost:8080/"
        },
        "id": "LSS1ooi43Dd7",
        "outputId": "6cb1cee4-38b1-4579-8804-a2694df623f2"
      },
      "source": [
        "from google.colab import drive\n",
        "drive.mount('/content/drive')"
      ],
      "execution_count": null,
      "outputs": [
        {
          "output_type": "stream",
          "text": [
            "Drive already mounted at /content/drive; to attempt to forcibly remount, call drive.mount(\"/content/drive\", force_remount=True).\n"
          ],
          "name": "stdout"
        }
      ]
    },
    {
      "cell_type": "markdown",
      "metadata": {
        "id": "gBWKFvdhCkMK"
      },
      "source": [
        "## For Single csv file"
      ]
    },
    {
      "cell_type": "markdown",
      "metadata": {
        "id": "TA3MpUy12ttY"
      },
      "source": [
        "# Byteboard Prompt: Production Optimization.\n",
        "\n",
        "Reference file: https://docs.google.com/document/d/1-qmYa3O9CSHtQT8SxaRO0yamtT_-5olcgwJgXhcmXV4/edit\n",
        "\n",
        "Using given csv files for widget creation and testing. Please do an analysis to optimize production from creation to testing.\n",
        "\n",
        "Understanding Prompt:\n",
        "1. Production optimization usually looks at minimizing: \n",
        "\n",
        "* Production Volume: Track the quantities that you are able to produce\n",
        "* Production Downtime: Analyze and optimize your maintenance\n",
        "* Production Costs: Monitor the costs implied in the production\n",
        "* Overall Operations Effectiveness (OOE): Evaluate your operational efficiency\n",
        "* Overall Equipment Effectiveness (OEE): Assess the scheduled efficiency\n",
        "* Total Effective Equipment Performance (TEEP): Track overall effectiveness\n",
        "* Capacity Utilization: Maximize the use of your capacities\n",
        "* Defect Density: Track the damaged items right away\n",
        "* Rate of Return: Measure how many items are sent back\n",
        "* On-time Delivery: Ensure your products are delivered on time\n",
        "* Right First Time: Understand the performance of your production process\n",
        "* Asset Turnover: Acknowledge your assets in relation to your revenue\n",
        "* Unit Costs: Track and optimize your units costs over time\n",
        "* Return on Assets: See how profitable your business is relative to its assets\n",
        "* Maintenance Costs: Evaluate your equipment costs in the long run\n",
        "* Revenue Per Employee: Measure the success of your workforce\n",
        "\n",
        "Given data, what can I analyze:\n",
        "\n",
        "*  Production Volume\n",
        "*  Operational Efficiency\n",
        "\n",
        "\n",
        "Approach:\n",
        "\n",
        "1. For Production Volume, see what is created and made to testing. Not all created widgets are made to testing (Assumption is that some widgets just are bad for some reason before testing occurs). So good to examine distribution of widgets created intially and those that make it to testing. Do percent of tested/created.\n",
        "\n",
        "2. For Operational Efficiency, look at time from creation to test. See what the mean is as baseline. Then if there is left skew, look at what caused smaller time intervals. And optimize process for that."
      ]
    },
    {
      "cell_type": "code",
      "metadata": {
        "id": "AKfR8p-O3GoF",
        "colab": {
          "base_uri": "https://localhost:8080/",
          "height": 204
        },
        "outputId": "b23e760f-d1a9-4a52-d49a-ce8de10d2947"
      },
      "source": [
        "df = pd.read_csv('/content/sample_data/widgets_created.csv')\n",
        "df.head()"
      ],
      "execution_count": null,
      "outputs": [
        {
          "output_type": "execute_result",
          "data": {
            "text/html": [
              "<div>\n",
              "<style scoped>\n",
              "    .dataframe tbody tr th:only-of-type {\n",
              "        vertical-align: middle;\n",
              "    }\n",
              "\n",
              "    .dataframe tbody tr th {\n",
              "        vertical-align: top;\n",
              "    }\n",
              "\n",
              "    .dataframe thead th {\n",
              "        text-align: right;\n",
              "    }\n",
              "</style>\n",
              "<table border=\"1\" class=\"dataframe\">\n",
              "  <thead>\n",
              "    <tr style=\"text-align: right;\">\n",
              "      <th></th>\n",
              "      <th>Unnamed: 0</th>\n",
              "      <th>uid</th>\n",
              "      <th>widget_type</th>\n",
              "      <th>created_ts</th>\n",
              "    </tr>\n",
              "  </thead>\n",
              "  <tbody>\n",
              "    <tr>\n",
              "      <th>0</th>\n",
              "      <td>0</td>\n",
              "      <td>3fc760e3-afc7-4f3b-8b17-813de9ac3e7e</td>\n",
              "      <td>A</td>\n",
              "      <td>2018-06-01 06:05:49</td>\n",
              "    </tr>\n",
              "    <tr>\n",
              "      <th>1</th>\n",
              "      <td>1</td>\n",
              "      <td>86ba8559-fb1c-4178-b835-1dc8ad8be2a1</td>\n",
              "      <td>A</td>\n",
              "      <td>2018-06-01 06:11:47</td>\n",
              "    </tr>\n",
              "    <tr>\n",
              "      <th>2</th>\n",
              "      <td>2</td>\n",
              "      <td>76131121-b9ba-4d17-a600-374d5b46414a</td>\n",
              "      <td>A</td>\n",
              "      <td>2018-06-01 06:17:32</td>\n",
              "    </tr>\n",
              "    <tr>\n",
              "      <th>3</th>\n",
              "      <td>3</td>\n",
              "      <td>b74b4756-8837-450c-9dc1-d4a7d78e01ea</td>\n",
              "      <td>A</td>\n",
              "      <td>2018-06-01 06:23:36</td>\n",
              "    </tr>\n",
              "    <tr>\n",
              "      <th>4</th>\n",
              "      <td>4</td>\n",
              "      <td>d54e5b6b-1bcd-4c23-95c5-f5743497f1a3</td>\n",
              "      <td>A</td>\n",
              "      <td>2018-06-01 06:29:30</td>\n",
              "    </tr>\n",
              "  </tbody>\n",
              "</table>\n",
              "</div>"
            ],
            "text/plain": [
              "   Unnamed: 0  ...           created_ts\n",
              "0           0  ...  2018-06-01 06:05:49\n",
              "1           1  ...  2018-06-01 06:11:47\n",
              "2           2  ...  2018-06-01 06:17:32\n",
              "3           3  ...  2018-06-01 06:23:36\n",
              "4           4  ...  2018-06-01 06:29:30\n",
              "\n",
              "[5 rows x 4 columns]"
            ]
          },
          "metadata": {
            "tags": []
          },
          "execution_count": 5
        }
      ]
    },
    {
      "cell_type": "code",
      "metadata": {
        "colab": {
          "base_uri": "https://localhost:8080/"
        },
        "id": "JerfuPZpU6P4",
        "outputId": "35d1e5f5-72ff-4a4d-ddd9-f2e675ac6f4b"
      },
      "source": [
        "df.shape"
      ],
      "execution_count": null,
      "outputs": [
        {
          "output_type": "execute_result",
          "data": {
            "text/plain": [
              "(32435, 4)"
            ]
          },
          "metadata": {
            "tags": []
          },
          "execution_count": 6
        }
      ]
    },
    {
      "cell_type": "code",
      "metadata": {
        "colab": {
          "base_uri": "https://localhost:8080/"
        },
        "id": "G_3WT2c9VHD2",
        "outputId": "33d492d5-4f37-48db-d5c5-3d71bdb4c13b"
      },
      "source": [
        "df.info()"
      ],
      "execution_count": null,
      "outputs": [
        {
          "output_type": "stream",
          "text": [
            "<class 'pandas.core.frame.DataFrame'>\n",
            "RangeIndex: 32435 entries, 0 to 32434\n",
            "Data columns (total 4 columns):\n",
            " #   Column       Non-Null Count  Dtype \n",
            "---  ------       --------------  ----- \n",
            " 0   Unnamed: 0   32435 non-null  int64 \n",
            " 1   uid          32435 non-null  object\n",
            " 2   widget_type  32434 non-null  object\n",
            " 3   created_ts   32434 non-null  object\n",
            "dtypes: int64(1), object(3)\n",
            "memory usage: 1013.7+ KB\n"
          ],
          "name": "stdout"
        }
      ]
    },
    {
      "cell_type": "code",
      "metadata": {
        "colab": {
          "base_uri": "https://localhost:8080/"
        },
        "id": "tFZm_dOIVSr0",
        "outputId": "791d4d7d-bc2a-45ef-bda9-0ee5f353ab50"
      },
      "source": [
        "df.nunique()"
      ],
      "execution_count": null,
      "outputs": [
        {
          "output_type": "execute_result",
          "data": {
            "text/plain": [
              "Unnamed: 0     32435\n",
              "uid            32435\n",
              "widget_type        1\n",
              "created_ts     32434\n",
              "dtype: int64"
            ]
          },
          "metadata": {
            "tags": []
          },
          "execution_count": 8
        }
      ]
    },
    {
      "cell_type": "markdown",
      "metadata": {
        "id": "-eV9uV9EVoXs"
      },
      "source": [
        "## Production Volume Optimization\n",
        "\n",
        "Based on preliminary examination of created df, see that only 1 Type of Widget produced: Type A and 48567 different ones are produced at majority different times. Time stamps are mostly unique but there seems to be a duplicate based on output of unique values in created_ts.\n",
        "\n",
        "So there are a total of **48567** total Widget Type A produced. Let us now see how many are sent over to testing by doing an inner join between created and tested DF's. Assumption is that uid is primary key from created and foreign key in tested."
      ]
    },
    {
      "cell_type": "code",
      "metadata": {
        "colab": {
          "base_uri": "https://localhost:8080/",
          "height": 204
        },
        "id": "0tfRztxrf-rK",
        "outputId": "c8abb68f-81a8-4e54-f61a-f7e68e0dc1d2"
      },
      "source": [
        "df2 = pd.read_csv('/content/sample_data/widgets_tested.csv')\n",
        "df2.head()"
      ],
      "execution_count": null,
      "outputs": [
        {
          "output_type": "execute_result",
          "data": {
            "text/html": [
              "<div>\n",
              "<style scoped>\n",
              "    .dataframe tbody tr th:only-of-type {\n",
              "        vertical-align: middle;\n",
              "    }\n",
              "\n",
              "    .dataframe tbody tr th {\n",
              "        vertical-align: top;\n",
              "    }\n",
              "\n",
              "    .dataframe thead th {\n",
              "        text-align: right;\n",
              "    }\n",
              "</style>\n",
              "<table border=\"1\" class=\"dataframe\">\n",
              "  <thead>\n",
              "    <tr style=\"text-align: right;\">\n",
              "      <th></th>\n",
              "      <th>Unnamed: 0</th>\n",
              "      <th>uid</th>\n",
              "      <th>test_ts</th>\n",
              "      <th>test_status</th>\n",
              "    </tr>\n",
              "  </thead>\n",
              "  <tbody>\n",
              "    <tr>\n",
              "      <th>0</th>\n",
              "      <td>0</td>\n",
              "      <td>3fc760e3-afc7-4f3b-8b17-813de9ac3e7e</td>\n",
              "      <td>2018-06-01 06:08:11</td>\n",
              "      <td>True</td>\n",
              "    </tr>\n",
              "    <tr>\n",
              "      <th>1</th>\n",
              "      <td>1</td>\n",
              "      <td>86ba8559-fb1c-4178-b835-1dc8ad8be2a1</td>\n",
              "      <td>2018-06-01 06:13:41</td>\n",
              "      <td>True</td>\n",
              "    </tr>\n",
              "    <tr>\n",
              "      <th>2</th>\n",
              "      <td>2</td>\n",
              "      <td>76131121-b9ba-4d17-a600-374d5b46414a</td>\n",
              "      <td>2018-06-01 06:19:43</td>\n",
              "      <td>True</td>\n",
              "    </tr>\n",
              "    <tr>\n",
              "      <th>3</th>\n",
              "      <td>3</td>\n",
              "      <td>b74b4756-8837-450c-9dc1-d4a7d78e01ea</td>\n",
              "      <td>2018-06-01 06:25:40</td>\n",
              "      <td>True</td>\n",
              "    </tr>\n",
              "    <tr>\n",
              "      <th>4</th>\n",
              "      <td>4</td>\n",
              "      <td>d54e5b6b-1bcd-4c23-95c5-f5743497f1a3</td>\n",
              "      <td>2018-06-01 06:31:21</td>\n",
              "      <td>True</td>\n",
              "    </tr>\n",
              "  </tbody>\n",
              "</table>\n",
              "</div>"
            ],
            "text/plain": [
              "   Unnamed: 0  ... test_status\n",
              "0           0  ...        True\n",
              "1           1  ...        True\n",
              "2           2  ...        True\n",
              "3           3  ...        True\n",
              "4           4  ...        True\n",
              "\n",
              "[5 rows x 4 columns]"
            ]
          },
          "metadata": {
            "tags": []
          },
          "execution_count": 9
        }
      ]
    },
    {
      "cell_type": "code",
      "metadata": {
        "colab": {
          "base_uri": "https://localhost:8080/"
        },
        "id": "v4WIY_RhXDNc",
        "outputId": "875e1aae-fa43-443f-b24f-72c8d56c5fce"
      },
      "source": [
        "df2.shape #Bigger dataset then created dataset"
      ],
      "execution_count": null,
      "outputs": [
        {
          "output_type": "execute_result",
          "data": {
            "text/plain": [
              "(46357, 4)"
            ]
          },
          "metadata": {
            "tags": []
          },
          "execution_count": 10
        }
      ]
    },
    {
      "cell_type": "code",
      "metadata": {
        "colab": {
          "base_uri": "https://localhost:8080/"
        },
        "id": "dDXrsDqFXC-j",
        "outputId": "54e7b646-0776-4683-effc-b26d816f3927"
      },
      "source": [
        "df2.info()"
      ],
      "execution_count": null,
      "outputs": [
        {
          "output_type": "stream",
          "text": [
            "<class 'pandas.core.frame.DataFrame'>\n",
            "RangeIndex: 46357 entries, 0 to 46356\n",
            "Data columns (total 4 columns):\n",
            " #   Column       Non-Null Count  Dtype \n",
            "---  ------       --------------  ----- \n",
            " 0   Unnamed: 0   46357 non-null  int64 \n",
            " 1   uid          46357 non-null  object\n",
            " 2   test_ts      46356 non-null  object\n",
            " 3   test_status  46356 non-null  object\n",
            "dtypes: int64(1), object(3)\n",
            "memory usage: 1.4+ MB\n"
          ],
          "name": "stdout"
        }
      ]
    },
    {
      "cell_type": "code",
      "metadata": {
        "colab": {
          "base_uri": "https://localhost:8080/"
        },
        "id": "q_CQqRg2XCz8",
        "outputId": "59959272-ca3b-4187-9724-a66f037888be"
      },
      "source": [
        "df2.nunique()"
      ],
      "execution_count": null,
      "outputs": [
        {
          "output_type": "execute_result",
          "data": {
            "text/plain": [
              "Unnamed: 0     46357\n",
              "uid            46353\n",
              "test_ts        46356\n",
              "test_status        2\n",
              "dtype: int64"
            ]
          },
          "metadata": {
            "tags": []
          },
          "execution_count": 12
        }
      ]
    },
    {
      "cell_type": "markdown",
      "metadata": {
        "id": "-PjvWTMmX2Uh"
      },
      "source": [
        "This tested dataset is much bigger than the created dataset so this dataset was sourced from production of other widgets. Also, can tell there are repeated widgets logged into tested (tested multiple times). There are repeated time stamps as well, which means either different widgets got tested at the same time, same widgets got tested multiple times or both. Now, let's merge created and tested to see which produced widgets got tested."
      ]
    },
    {
      "cell_type": "code",
      "metadata": {
        "colab": {
          "base_uri": "https://localhost:8080/",
          "height": 606
        },
        "id": "ieUj0CXChAlJ",
        "outputId": "c85489b0-1b77-4088-fbea-5235b17a0341"
      },
      "source": [
        "df3 = df.merge(df2, on='uid', how='inner')\n",
        "df3"
      ],
      "execution_count": null,
      "outputs": [
        {
          "output_type": "execute_result",
          "data": {
            "text/html": [
              "<div>\n",
              "<style scoped>\n",
              "    .dataframe tbody tr th:only-of-type {\n",
              "        vertical-align: middle;\n",
              "    }\n",
              "\n",
              "    .dataframe tbody tr th {\n",
              "        vertical-align: top;\n",
              "    }\n",
              "\n",
              "    .dataframe thead th {\n",
              "        text-align: right;\n",
              "    }\n",
              "</style>\n",
              "<table border=\"1\" class=\"dataframe\">\n",
              "  <thead>\n",
              "    <tr style=\"text-align: right;\">\n",
              "      <th></th>\n",
              "      <th>Unnamed: 0_x</th>\n",
              "      <th>uid</th>\n",
              "      <th>widget_type</th>\n",
              "      <th>created_ts</th>\n",
              "      <th>Unnamed: 0_y</th>\n",
              "      <th>test_ts</th>\n",
              "      <th>test_status</th>\n",
              "    </tr>\n",
              "  </thead>\n",
              "  <tbody>\n",
              "    <tr>\n",
              "      <th>0</th>\n",
              "      <td>0</td>\n",
              "      <td>3fc760e3-afc7-4f3b-8b17-813de9ac3e7e</td>\n",
              "      <td>A</td>\n",
              "      <td>2018-06-01 06:05:49</td>\n",
              "      <td>0</td>\n",
              "      <td>2018-06-01 06:08:11</td>\n",
              "      <td>True</td>\n",
              "    </tr>\n",
              "    <tr>\n",
              "      <th>1</th>\n",
              "      <td>1</td>\n",
              "      <td>86ba8559-fb1c-4178-b835-1dc8ad8be2a1</td>\n",
              "      <td>A</td>\n",
              "      <td>2018-06-01 06:11:47</td>\n",
              "      <td>1</td>\n",
              "      <td>2018-06-01 06:13:41</td>\n",
              "      <td>True</td>\n",
              "    </tr>\n",
              "    <tr>\n",
              "      <th>2</th>\n",
              "      <td>2</td>\n",
              "      <td>76131121-b9ba-4d17-a600-374d5b46414a</td>\n",
              "      <td>A</td>\n",
              "      <td>2018-06-01 06:17:32</td>\n",
              "      <td>2</td>\n",
              "      <td>2018-06-01 06:19:43</td>\n",
              "      <td>True</td>\n",
              "    </tr>\n",
              "    <tr>\n",
              "      <th>3</th>\n",
              "      <td>3</td>\n",
              "      <td>b74b4756-8837-450c-9dc1-d4a7d78e01ea</td>\n",
              "      <td>A</td>\n",
              "      <td>2018-06-01 06:23:36</td>\n",
              "      <td>3</td>\n",
              "      <td>2018-06-01 06:25:40</td>\n",
              "      <td>True</td>\n",
              "    </tr>\n",
              "    <tr>\n",
              "      <th>4</th>\n",
              "      <td>4</td>\n",
              "      <td>d54e5b6b-1bcd-4c23-95c5-f5743497f1a3</td>\n",
              "      <td>A</td>\n",
              "      <td>2018-06-01 06:29:30</td>\n",
              "      <td>4</td>\n",
              "      <td>2018-06-01 06:31:21</td>\n",
              "      <td>True</td>\n",
              "    </tr>\n",
              "    <tr>\n",
              "      <th>...</th>\n",
              "      <td>...</td>\n",
              "      <td>...</td>\n",
              "      <td>...</td>\n",
              "      <td>...</td>\n",
              "      <td>...</td>\n",
              "      <td>...</td>\n",
              "      <td>...</td>\n",
              "    </tr>\n",
              "    <tr>\n",
              "      <th>32393</th>\n",
              "      <td>32429</td>\n",
              "      <td>36a6affd-1006-4647-ae42-26410330a637</td>\n",
              "      <td>A</td>\n",
              "      <td>2019-01-26 16:08:47</td>\n",
              "      <td>32393</td>\n",
              "      <td>2019-01-26 16:10:31</td>\n",
              "      <td>True</td>\n",
              "    </tr>\n",
              "    <tr>\n",
              "      <th>32394</th>\n",
              "      <td>32430</td>\n",
              "      <td>9cb1a8b0-ef47-4e16-a054-b5cc3f99a798</td>\n",
              "      <td>A</td>\n",
              "      <td>2019-01-26 16:14:00</td>\n",
              "      <td>32394</td>\n",
              "      <td>2019-01-26 16:15:48</td>\n",
              "      <td>True</td>\n",
              "    </tr>\n",
              "    <tr>\n",
              "      <th>32395</th>\n",
              "      <td>32431</td>\n",
              "      <td>0485fe6c-4cd1-4787-8992-e0497a816a57</td>\n",
              "      <td>A</td>\n",
              "      <td>2019-01-26 16:18:53</td>\n",
              "      <td>32395</td>\n",
              "      <td>2019-01-26 16:20:50</td>\n",
              "      <td>True</td>\n",
              "    </tr>\n",
              "    <tr>\n",
              "      <th>32396</th>\n",
              "      <td>32432</td>\n",
              "      <td>2a440628-ad63-4b26-951b-5d5cda64de16</td>\n",
              "      <td>A</td>\n",
              "      <td>2019-01-26 16:24:05</td>\n",
              "      <td>32396</td>\n",
              "      <td>2019-01-26 16:26:28</td>\n",
              "      <td>True</td>\n",
              "    </tr>\n",
              "    <tr>\n",
              "      <th>32397</th>\n",
              "      <td>32433</td>\n",
              "      <td>4b16fbcb-2cdd-4fe6-b18d-011f51643ed2</td>\n",
              "      <td>A</td>\n",
              "      <td>2019-01-26 16:29:39</td>\n",
              "      <td>32397</td>\n",
              "      <td>2019-01-26 16:31:27</td>\n",
              "      <td>True</td>\n",
              "    </tr>\n",
              "  </tbody>\n",
              "</table>\n",
              "<p>32398 rows × 7 columns</p>\n",
              "</div>"
            ],
            "text/plain": [
              "       Unnamed: 0_x  ... test_status\n",
              "0                 0  ...        True\n",
              "1                 1  ...        True\n",
              "2                 2  ...        True\n",
              "3                 3  ...        True\n",
              "4                 4  ...        True\n",
              "...             ...  ...         ...\n",
              "32393         32429  ...        True\n",
              "32394         32430  ...        True\n",
              "32395         32431  ...        True\n",
              "32396         32432  ...        True\n",
              "32397         32433  ...        True\n",
              "\n",
              "[32398 rows x 7 columns]"
            ]
          },
          "metadata": {
            "tags": []
          },
          "execution_count": 36
        }
      ]
    },
    {
      "cell_type": "code",
      "metadata": {
        "colab": {
          "base_uri": "https://localhost:8080/"
        },
        "id": "PAr0WyLCaIVS",
        "outputId": "79e1c9a7-97f1-4ed0-9fc3-56832f9f535b"
      },
      "source": [
        "df3.shape #Looks like majority of created got tested "
      ],
      "execution_count": null,
      "outputs": [
        {
          "output_type": "execute_result",
          "data": {
            "text/plain": [
              "(32398, 7)"
            ]
          },
          "metadata": {
            "tags": []
          },
          "execution_count": 37
        }
      ]
    },
    {
      "cell_type": "code",
      "metadata": {
        "colab": {
          "base_uri": "https://localhost:8080/"
        },
        "id": "OpbcbBdbaIN_",
        "outputId": "8be554a2-47f4-4fe6-bf67-681fe88ea0a2"
      },
      "source": [
        "df3.info()"
      ],
      "execution_count": null,
      "outputs": [
        {
          "output_type": "stream",
          "text": [
            "<class 'pandas.core.frame.DataFrame'>\n",
            "Int64Index: 32398 entries, 0 to 32397\n",
            "Data columns (total 7 columns):\n",
            " #   Column        Non-Null Count  Dtype \n",
            "---  ------        --------------  ----- \n",
            " 0   Unnamed: 0_x  32398 non-null  int64 \n",
            " 1   uid           32398 non-null  object\n",
            " 2   widget_type   32398 non-null  object\n",
            " 3   created_ts    32398 non-null  object\n",
            " 4   Unnamed: 0_y  32398 non-null  int64 \n",
            " 5   test_ts       32398 non-null  object\n",
            " 6   test_status   32398 non-null  object\n",
            "dtypes: int64(2), object(5)\n",
            "memory usage: 2.0+ MB\n"
          ],
          "name": "stdout"
        }
      ]
    },
    {
      "cell_type": "code",
      "metadata": {
        "colab": {
          "base_uri": "https://localhost:8080/"
        },
        "id": "qfKyoxhjaID1",
        "outputId": "644c19df-e94f-42a7-fbe2-ce2d5ee87821"
      },
      "source": [
        "df3.nunique()"
      ],
      "execution_count": null,
      "outputs": [
        {
          "output_type": "execute_result",
          "data": {
            "text/plain": [
              "Unnamed: 0_x    32395\n",
              "uid             32395\n",
              "widget_type         1\n",
              "created_ts      32395\n",
              "Unnamed: 0_y    32398\n",
              "test_ts         32398\n",
              "test_status         2\n",
              "dtype: int64"
            ]
          },
          "metadata": {
            "tags": []
          },
          "execution_count": 39
        }
      ]
    },
    {
      "cell_type": "markdown",
      "metadata": {
        "id": "jh_SAdshbqM6"
      },
      "source": [
        "Looks like there are repeated widgets."
      ]
    },
    {
      "cell_type": "code",
      "metadata": {
        "colab": {
          "base_uri": "https://localhost:8080/"
        },
        "id": "75YltCRHdmQk",
        "outputId": "f3be0548-bf81-4b53-d7d5-1721c41f9af3"
      },
      "source": [
        "df3.test_status.value_counts()"
      ],
      "execution_count": null,
      "outputs": [
        {
          "output_type": "execute_result",
          "data": {
            "text/plain": [
              "True     29198\n",
              "False     3200\n",
              "Name: test_status, dtype: int64"
            ]
          },
          "metadata": {
            "tags": []
          },
          "execution_count": 40
        }
      ]
    },
    {
      "cell_type": "code",
      "metadata": {
        "colab": {
          "base_uri": "https://localhost:8080/",
          "height": 297
        },
        "id": "3IGo7qQ6f6WB",
        "outputId": "451be837-3b08-4b6f-f30b-a3f629bba3f6"
      },
      "source": [
        "sns.countplot(x=\"test_status\", data=df3)"
      ],
      "execution_count": null,
      "outputs": [
        {
          "output_type": "execute_result",
          "data": {
            "text/plain": [
              "<matplotlib.axes._subplots.AxesSubplot at 0x7fe261c59fd0>"
            ]
          },
          "metadata": {
            "tags": []
          },
          "execution_count": 41
        },
        {
          "output_type": "display_data",
          "data": {
            "image/png": "[encoded data removed]",
            "text/plain": [
              "<Figure size 432x288 with 1 Axes>"
            ]
          },
          "metadata": {
            "tags": [],
            "needs_background": "light"
          }
        }
      ]
    },
    {
      "cell_type": "markdown",
      "metadata": {
        "id": "UW7P24uvdxlC"
      },
      "source": [
        "So most got sent to testing, but not all got tested at the time this dataset got created. \n",
        "\n",
        "## Production Volume % Tested:  43723/48567= 0.9002614944303745 = 90%"
      ]
    },
    {
      "cell_type": "markdown",
      "metadata": {
        "id": "FlAiYU9TgoCf"
      },
      "source": [
        "# Operational Efficiency \n",
        "Look at time from creation to test. See what the mean is as baseline. Then if there is left skew, look at what caused smaller time intervals. And optimize process for that."
      ]
    },
    {
      "cell_type": "code",
      "metadata": {
        "id": "XaaBUgBUlUIq"
      },
      "source": [
        "df3['created_ts'] =  pd.to_datetime(df3['created_ts'],\n",
        "                              format='%Y-%m-%d %H:%M:%S')"
      ],
      "execution_count": null,
      "outputs": []
    },
    {
      "cell_type": "code",
      "metadata": {
        "id": "sRc4fMr7kel_"
      },
      "source": [
        "df3['test_ts'] =  pd.to_datetime(df3['test_ts'],\n",
        "                              format='%Y-%m-%d %H:%M:%S')"
      ],
      "execution_count": null,
      "outputs": []
    },
    {
      "cell_type": "code",
      "metadata": {
        "id": "beypf5BahYTY"
      },
      "source": [
        "df3['time_diff'] = df3['test_ts'] - df3['created_ts']"
      ],
      "execution_count": null,
      "outputs": []
    },
    {
      "cell_type": "code",
      "metadata": {
        "colab": {
          "base_uri": "https://localhost:8080/",
          "height": 306
        },
        "id": "D9dRXHhFYmuy",
        "outputId": "509fd2f7-37d2-4c3f-e30f-fb2ccfcca156"
      },
      "source": [
        "df3.head()"
      ],
      "execution_count": null,
      "outputs": [
        {
          "output_type": "execute_result",
          "data": {
            "text/html": [
              "<div>\n",
              "<style scoped>\n",
              "    .dataframe tbody tr th:only-of-type {\n",
              "        vertical-align: middle;\n",
              "    }\n",
              "\n",
              "    .dataframe tbody tr th {\n",
              "        vertical-align: top;\n",
              "    }\n",
              "\n",
              "    .dataframe thead th {\n",
              "        text-align: right;\n",
              "    }\n",
              "</style>\n",
              "<table border=\"1\" class=\"dataframe\">\n",
              "  <thead>\n",
              "    <tr style=\"text-align: right;\">\n",
              "      <th></th>\n",
              "      <th>Unnamed: 0_x</th>\n",
              "      <th>uid</th>\n",
              "      <th>widget_type</th>\n",
              "      <th>created_ts</th>\n",
              "      <th>Unnamed: 0_y</th>\n",
              "      <th>test_ts</th>\n",
              "      <th>test_status</th>\n",
              "      <th>time_diff</th>\n",
              "    </tr>\n",
              "  </thead>\n",
              "  <tbody>\n",
              "    <tr>\n",
              "      <th>0</th>\n",
              "      <td>0</td>\n",
              "      <td>3fc760e3-afc7-4f3b-8b17-813de9ac3e7e</td>\n",
              "      <td>A</td>\n",
              "      <td>2018-06-01 06:05:49</td>\n",
              "      <td>0</td>\n",
              "      <td>2018-06-01 06:08:11</td>\n",
              "      <td>True</td>\n",
              "      <td>0 days 00:02:22</td>\n",
              "    </tr>\n",
              "    <tr>\n",
              "      <th>1</th>\n",
              "      <td>1</td>\n",
              "      <td>86ba8559-fb1c-4178-b835-1dc8ad8be2a1</td>\n",
              "      <td>A</td>\n",
              "      <td>2018-06-01 06:11:47</td>\n",
              "      <td>1</td>\n",
              "      <td>2018-06-01 06:13:41</td>\n",
              "      <td>True</td>\n",
              "      <td>0 days 00:01:54</td>\n",
              "    </tr>\n",
              "    <tr>\n",
              "      <th>2</th>\n",
              "      <td>2</td>\n",
              "      <td>76131121-b9ba-4d17-a600-374d5b46414a</td>\n",
              "      <td>A</td>\n",
              "      <td>2018-06-01 06:17:32</td>\n",
              "      <td>2</td>\n",
              "      <td>2018-06-01 06:19:43</td>\n",
              "      <td>True</td>\n",
              "      <td>0 days 00:02:11</td>\n",
              "    </tr>\n",
              "    <tr>\n",
              "      <th>3</th>\n",
              "      <td>3</td>\n",
              "      <td>b74b4756-8837-450c-9dc1-d4a7d78e01ea</td>\n",
              "      <td>A</td>\n",
              "      <td>2018-06-01 06:23:36</td>\n",
              "      <td>3</td>\n",
              "      <td>2018-06-01 06:25:40</td>\n",
              "      <td>True</td>\n",
              "      <td>0 days 00:02:04</td>\n",
              "    </tr>\n",
              "    <tr>\n",
              "      <th>4</th>\n",
              "      <td>4</td>\n",
              "      <td>d54e5b6b-1bcd-4c23-95c5-f5743497f1a3</td>\n",
              "      <td>A</td>\n",
              "      <td>2018-06-01 06:29:30</td>\n",
              "      <td>4</td>\n",
              "      <td>2018-06-01 06:31:21</td>\n",
              "      <td>True</td>\n",
              "      <td>0 days 00:01:51</td>\n",
              "    </tr>\n",
              "  </tbody>\n",
              "</table>\n",
              "</div>"
            ],
            "text/plain": [
              "   Unnamed: 0_x  ...       time_diff\n",
              "0             0  ... 0 days 00:02:22\n",
              "1             1  ... 0 days 00:01:54\n",
              "2             2  ... 0 days 00:02:11\n",
              "3             3  ... 0 days 00:02:04\n",
              "4             4  ... 0 days 00:01:51\n",
              "\n",
              "[5 rows x 8 columns]"
            ]
          },
          "metadata": {
            "tags": []
          },
          "execution_count": 45
        }
      ]
    },
    {
      "cell_type": "code",
      "metadata": {
        "id": "--R0uB0-hpvx"
      },
      "source": [
        "df3['time_diff'] = df3['time_diff'].astype(int)/ 10**9 #number of seconds to the unix epoch start (1970-01-01 00:00:00)"
      ],
      "execution_count": null,
      "outputs": []
    },
    {
      "cell_type": "code",
      "metadata": {
        "colab": {
          "base_uri": "https://localhost:8080/",
          "height": 282
        },
        "id": "ckjdKxpqbt6Z",
        "outputId": "9fcff7cd-514b-4814-ae1c-78fdf2e1fd22"
      },
      "source": [
        "df3['time_diff'].hist(bins = 100)"
      ],
      "execution_count": null,
      "outputs": [
        {
          "output_type": "execute_result",
          "data": {
            "text/plain": [
              "<matplotlib.axes._subplots.AxesSubplot at 0x7fe2599ecda0>"
            ]
          },
          "metadata": {
            "tags": []
          },
          "execution_count": 60
        },
        {
          "output_type": "display_data",
          "data": {
            "image/png": "[encoded data removed]",
            "text/plain": [
              "<Figure size 432x288 with 1 Axes>"
            ]
          },
          "metadata": {
            "tags": []
          }
        }
      ]
    },
    {
      "cell_type": "code",
      "metadata": {
        "colab": {
          "base_uri": "https://localhost:8080/"
        },
        "id": "IL7B9K26hYYV",
        "outputId": "d43e2873-c2b8-44a1-8bab-c8979fecb5a1"
      },
      "source": [
        "df3['time_diff'].value_counts()"
      ],
      "execution_count": null,
      "outputs": [
        {
          "output_type": "execute_result",
          "data": {
            "text/plain": [
              "119.0    1101\n",
              "121.0    1014\n",
              "122.0    1009\n",
              "120.0     981\n",
              "124.0     971\n",
              "         ... \n",
              "157.0       1\n",
              "194.0       1\n",
              "187.0       1\n",
              "195.0       1\n",
              "193.0       1\n",
              "Name: time_diff, Length: 189, dtype: int64"
            ]
          },
          "metadata": {
            "tags": []
          },
          "execution_count": 61
        }
      ]
    },
    {
      "cell_type": "markdown",
      "metadata": {
        "id": "yAuiLfRagpFR"
      },
      "source": [
        "We can see here that most of the lag between creation and tested is 119 seconds or around 2 minutes. At the same time there are some values that are less that. These would be the target values to optimize production on.   "
      ]
    },
    {
      "cell_type": "markdown",
      "metadata": {
        "id": "QqYAj6a0d31N"
      },
      "source": [
        "________________________________________________________________________________"
      ]
    },
    {
      "cell_type": "markdown",
      "metadata": {
        "id": "trcz955gd8vd"
      },
      "source": [
        "# *Below is data pipeline used to analyze numerical and categorical variables as well as any associations between them.*"
      ]
    },
    {
      "cell_type": "markdown",
      "metadata": {
        "id": "nI3_6V5i75-6"
      },
      "source": [
        "# For zip files."
      ]
    },
    {
      "cell_type": "code",
      "metadata": {
        "id": "jAiHO2Nx4Ys2",
        "colab": {
          "base_uri": "https://localhost:8080/"
        },
        "outputId": "e2bce8bb-2831-469a-d816-2f1d10f4d596"
      },
      "source": [
        "!wget http://files.grouplens.org/datasets/movielens/ml-latest.zip"
      ],
      "execution_count": null,
      "outputs": [
        {
          "output_type": "stream",
          "text": [
            "--2020-11-23 23:15:49--  http://files.grouplens.org/datasets/movielens/ml-latest.zip\n",
            "Resolving files.grouplens.org (files.grouplens.org)... 128.101.65.152\n",
            "Connecting to files.grouplens.org (files.grouplens.org)|128.101.65.152|:80... connected.\n",
            "HTTP request sent, awaiting response... 200 OK\n",
            "Length: 277113433 (264M) [application/zip]\n",
            "Saving to: ‘ml-latest.zip.1’\n",
            "\n",
            "ml-latest.zip.1     100%[===================>] 264.28M  16.9MB/s    in 17s     \n",
            "\n",
            "2020-11-23 23:16:07 (15.7 MB/s) - ‘ml-latest.zip.1’ saved [277113433/277113433]\n",
            "\n"
          ],
          "name": "stdout"
        }
      ]
    },
    {
      "cell_type": "code",
      "metadata": {
        "id": "TVOMLDBA9F_j",
        "colab": {
          "base_uri": "https://localhost:8080/"
        },
        "outputId": "ab3f5273-4cdc-47b8-ead8-66cf66df5399"
      },
      "source": [
        "!unzip ml-latest.zip"
      ],
      "execution_count": null,
      "outputs": [
        {
          "output_type": "stream",
          "text": [
            "Archive:  ml-latest.zip\n",
            "replace ml-latest/links.csv? [y]es, [n]o, [A]ll, [N]one, [r]ename: "
          ],
          "name": "stdout"
        }
      ]
    },
    {
      "cell_type": "code",
      "metadata": {
        "id": "1kAWMlQP9SFS"
      },
      "source": [
        "!ls"
      ],
      "execution_count": null,
      "outputs": []
    },
    {
      "cell_type": "code",
      "metadata": {
        "id": "-aY0NVLs9Vt8"
      },
      "source": [
        "df2 = pd.read_csv('ml-latest/ratings.csv')\n",
        "df2.head()"
      ],
      "execution_count": null,
      "outputs": []
    },
    {
      "cell_type": "markdown",
      "metadata": {
        "id": "ajc8NBm94n_2"
      },
      "source": [
        "# EDA Pipeline"
      ]
    },
    {
      "cell_type": "markdown",
      "metadata": {
        "id": "aX349exLDNkc"
      },
      "source": [
        "## Numerical Variables"
      ]
    },
    {
      "cell_type": "markdown",
      "metadata": {
        "id": "uPUoQ95tDGcl"
      },
      "source": [
        "For numerical features, we are always concerned about the distribution of these features, including the statistical characteristics of these columns e.g mean, median, mode. Hence we will usually use Distribution plot to visualize their data distribution. Boxplots are also commonly used to unearth the statistical characteristics of each feature. More often than not, we use it to look for any outliers that we might need to filter out later on."
      ]
    },
    {
      "cell_type": "code",
      "metadata": {
        "id": "Nq565si3-DgE"
      },
      "source": [
        "numeric_ = df.select_dtypes(exclude=['object']).copy()\n",
        "numeric_.columns"
      ],
      "execution_count": null,
      "outputs": []
    },
    {
      "cell_type": "code",
      "metadata": {
        "id": "_F7uZS_G46hT"
      },
      "source": [
        "disc_num = ['Postal Code', 'Row ID']"
      ],
      "execution_count": null,
      "outputs": []
    },
    {
      "cell_type": "code",
      "metadata": {
        "id": "m2ze0sQX3xew"
      },
      "source": [
        "cont_num = []\n",
        "for i in numeric_.columns:\n",
        "    if i not in disc_num:\n",
        "        cont_num.append(i)"
      ],
      "execution_count": null,
      "outputs": []
    },
    {
      "cell_type": "code",
      "metadata": {
        "id": "tyJGe6my3oGY"
      },
      "source": [
        "cat = df.select_dtypes(include=['object']).copy()\n",
        "cat.columns"
      ],
      "execution_count": null,
      "outputs": []
    },
    {
      "cell_type": "code",
      "metadata": {
        "id": "9Vr6pDlC3p6C"
      },
      "source": [
        "#Continuous Variables\n",
        "\n",
        "fig = plt.figure(figsize=(18,16))\n",
        "for index,col in enumerate(cont_num):\n",
        "    plt.subplot(6,4,index+1)\n",
        "    sns.distplot(numeric_.loc[:,col].dropna(), kde=False)\n",
        "fig.tight_layout(pad=1.0)"
      ],
      "execution_count": null,
      "outputs": []
    },
    {
      "cell_type": "markdown",
      "metadata": {
        "id": "bcjBd57jDXeq"
      },
      "source": [
        "Variables with mostly or 1 as their value:\n",
        "\n",
        "1. Customers\n",
        "2. Number of Records\n",
        "2. Profit\n",
        "\n",
        "INFORMATIVE? \n",
        "These are not the most informative, but good to note thier lack of variance.\n",
        "\n",
        "SKEWNESS? \n",
        "Also, there is some skew in Quantity."
      ]
    },
    {
      "cell_type": "code",
      "metadata": {
        "id": "MzM1DgEs4Shg"
      },
      "source": [
        "#Continuous Variables\n",
        "\n",
        "fig = plt.figure(figsize=(14,15))\n",
        "\n",
        "for index,col in enumerate(cont_num):\n",
        "    plt.subplot(6,4,index+1)\n",
        "    sns.boxplot(y=col, data=numeric_.dropna())\n",
        "fig.tight_layout(pad=1.0)"
      ],
      "execution_count": null,
      "outputs": []
    },
    {
      "cell_type": "markdown",
      "metadata": {
        "id": "ahwtwBRAEAt_"
      },
      "source": [
        "A lot of 0's and near 0 values in Profit and Sales.\n",
        "\n",
        "Skewness in upper region.\n",
        "\n",
        "Most normal looking distribution is Profit."
      ]
    },
    {
      "cell_type": "code",
      "metadata": {
        "id": "pONiL6Mb4U_9"
      },
      "source": [
        "#Discrete Number\n",
        "\n",
        "sns.countplot(x='Postal Code', data=df)"
      ],
      "execution_count": null,
      "outputs": []
    },
    {
      "cell_type": "code",
      "metadata": {
        "id": "RKd9fvvV4m3R"
      },
      "source": [
        "# Discrete Variables\n",
        "\n",
        "# sns.countplot(x='Row ID', data=df)"
      ],
      "execution_count": null,
      "outputs": []
    },
    {
      "cell_type": "markdown",
      "metadata": {
        "id": "q19GBCzi4sVk"
      },
      "source": [
        "# Categorical Variables"
      ]
    },
    {
      "cell_type": "markdown",
      "metadata": {
        "id": "MVZqwRhAE2jB"
      },
      "source": [
        "In the case of categorical features, we will often use countplots to visualize the count of each distinct value within each features. We can see that categorical feature Country/Region consist of mainly one value, which is not very useful information."
      ]
    },
    {
      "cell_type": "code",
      "metadata": {
        "id": "xWJWmQJ85s2V"
      },
      "source": [
        "list(cat)"
      ],
      "execution_count": null,
      "outputs": []
    },
    {
      "cell_type": "code",
      "metadata": {
        "id": "CE0xEpTJ5B1n"
      },
      "source": [
        "sns.countplot(x=\"Category\", data=cat)"
      ],
      "execution_count": null,
      "outputs": []
    },
    {
      "cell_type": "code",
      "metadata": {
        "id": "_d7TWrXX5zwA"
      },
      "source": [
        "sns.countplot(x=\"City\", data=cat)"
      ],
      "execution_count": null,
      "outputs": []
    },
    {
      "cell_type": "code",
      "metadata": {
        "id": "AOivEL9f50HY"
      },
      "source": [
        "sns.countplot(x=\"Country/Region\", data=cat)"
      ],
      "execution_count": null,
      "outputs": []
    },
    {
      "cell_type": "code",
      "metadata": {
        "id": "KSrYcNkn5z67"
      },
      "source": [
        "sns.countplot(x=\"Product Name\", data=cat)"
      ],
      "execution_count": null,
      "outputs": []
    },
    {
      "cell_type": "code",
      "metadata": {
        "id": "eFVuJdG95zNx"
      },
      "source": [
        "sns.countplot(x=\"Region\", data=cat)"
      ],
      "execution_count": null,
      "outputs": []
    },
    {
      "cell_type": "code",
      "metadata": {
        "id": "0bci0QQt5zB4"
      },
      "source": [
        "sns.countplot(x=\"Segment\", data=cat)"
      ],
      "execution_count": null,
      "outputs": []
    },
    {
      "cell_type": "code",
      "metadata": {
        "id": "kBGt8WH76NV3"
      },
      "source": [
        "sns.countplot(x=\"Ship Mode\", data=cat)"
      ],
      "execution_count": null,
      "outputs": []
    },
    {
      "cell_type": "code",
      "metadata": {
        "id": "Dk9SZaj06Qnm"
      },
      "source": [
        "sns.countplot(x=\"State\", data=cat)"
      ],
      "execution_count": null,
      "outputs": []
    },
    {
      "cell_type": "code",
      "metadata": {
        "id": "c05IH-zr6Qdi"
      },
      "source": [
        "sns.countplot(x=\"Sub-Category\", data=cat)"
      ],
      "execution_count": null,
      "outputs": []
    },
    {
      "cell_type": "markdown",
      "metadata": {
        "id": "R42wm2C8GBqh"
      },
      "source": [
        "Univariate Analysis helps us to understand all the features better, on an individual scale. To further deepen our insights and uncover potential pattern in the data, we will also need to find out more about the relationship between all these features with one another, which brings us to our next step in our analysis - Bivariate Analysis"
      ]
    },
    {
      "cell_type": "markdown",
      "metadata": {
        "id": "X_k9Pspa4JCT"
      },
      "source": [
        "# Bi-Variate Analysis"
      ]
    },
    {
      "cell_type": "markdown",
      "metadata": {
        "id": "z2HqaFlFGMJx"
      },
      "source": [
        "Bi-variate analysis looks at 2 different features to identify any possible relationship or distinctive patterns between the 2 features. One of the commonly used technique is through the Correlation Matrix. Correlation matrix is an effective tool to uncover linear relationship (Correlation) between any 2 continuous features. Correlation not only allow us to determine which features are important to Sales, but also as a means to investigate any multicollinearity between our independent predictors.\n",
        "Multicollinearity happens when 2 or more independent variables are highly correlated with one another. "
      ]
    },
    {
      "cell_type": "code",
      "metadata": {
        "id": "yG-tW77D3-x1"
      },
      "source": [
        "sns.set(font_scale=1.1)\n",
        "correlation_df = df.corr()\n",
        "mask = np.triu(correlation_df.corr())\n",
        "plt.figure(figsize=(20, 20))\n",
        "sns.heatmap(correlation_df,\n",
        "            annot=True,\n",
        "            fmt='.1f',\n",
        "            cmap='coolwarm',\n",
        "            square=True,\n",
        "            mask=mask,\n",
        "            linewidths=1,\n",
        "            cbar=False)\n",
        "\n",
        "plt.show()"
      ],
      "execution_count": null,
      "outputs": []
    },
    {
      "cell_type": "markdown",
      "metadata": {
        "id": "3N3Zcslt7IIk"
      },
      "source": [
        "Highly correlated variables:\n",
        "\n",
        "1. Sales and Profit\n",
        "2. Quantity and Sales\n",
        "3. Quantity and Profit\n",
        "\n",
        "RECLASSIFY SIMILAR VARIABLES? At this point, can also determine similar variables that could be reclassified into one to avoid redundancy in dataset as well as possible multicollinearity."
      ]
    },
    {
      "cell_type": "markdown",
      "metadata": {
        "id": "_eRn15E5Gk7y"
      },
      "source": [
        "## Identifying Relationship between Variables (Ind and Dep (Sales))\n",
        "\n",
        "INFORMING BUSINESS STRATEGY:\n",
        "\n",
        "Below, we sorted the strength of linear relationship between Sales and other variables. Overall, Profit and Quantity have the strongest linear relationship with Sales."
      ]
    },
    {
      "cell_type": "code",
      "metadata": {
        "id": "tLIpfB4f60Qw"
      },
      "source": [
        "numeric_ = df.select_dtypes(exclude=['object'])\n",
        "correlation = numeric_.corr()\n",
        "correlation[['Sales']].sort_values(['Sales'], ascending=False)"
      ],
      "execution_count": null,
      "outputs": []
    },
    {
      "cell_type": "markdown",
      "metadata": {
        "id": "gD_lnC8gHYty"
      },
      "source": [
        "## Scatterplots\n",
        "Using scatterplot can also help us to identify potential linear relationship between Numerical features. Although scatterplot does not provide quantitative evidence on the strength of linear relationship between our features, it is useful in helping us to visualize any sort of relationship that correlation matrix could not calculate. E.g Quadratic, Exponential relationships."
      ]
    },
    {
      "cell_type": "code",
      "metadata": {
        "id": "Wfzr8yAP8BfN"
      },
      "source": [
        "fig = plt.figure(figsize=(20,20))\n",
        "for index in range(len(numeric_.columns)):\n",
        "    plt.subplot(10,5,index+1)\n",
        "    sns.scatterplot(x=numeric_.iloc[:,index], y='Sales', data=numeric_.dropna())\n",
        "fig.tight_layout(pad=1.0)"
      ],
      "execution_count": null,
      "outputs": []
    }
  ]
}