{
  "nbformat": 4,
  "nbformat_minor": 0,
  "metadata": {
    "colab": {
      "name": "BERT - Using Tweets to Determine Real or Fake Disaster.ipynb",
      "provenance": [],
      "collapsed_sections": [],
      "mount_file_id": "1wmf8unXp58eeSrySUeVBIe6iWSCJ-ZhO",
      "authorship_tag": "ABX9TyP7C6S9jwyc0ojGIq5MfHsi",
      "include_colab_link": true
    },
    "kernelspec": {
      "name": "python3",
      "display_name": "Python 3"
    },
    "accelerator": "GPU"
  },
  "cells": [
    {
      "cell_type": "markdown",
      "metadata": {
        "id": "view-in-github",
        "colab_type": "text"
      },
      "source": [
        "<a href=\"https://colab.research.google.com/github/mindyng/Projects/blob/master/BERT_Using_Tweets_to_Determine_Real_or_Fake_Disaster.ipynb\" target=\"_parent\"><img src=\"https://colab.research.google.com/assets/colab-badge.svg\" alt=\"Open In Colab\"/></a>"
      ]
    },
    {
      "cell_type": "markdown",
      "metadata": {
        "id": "SgHIlqiJPRjh",
        "colab_type": "text"
      },
      "source": [
        "\n",
        "\n",
        "# Toxic Comment Classification Challenge\n",
        "\n",
        " Inspired by: https://www.kaggle.com/nkaenzig/bert-tensorflow-2-huggingface-transformers\n",
        "\n"
      ]
    },
    {
      "cell_type": "code",
      "metadata": {
        "id": "a4A4Vk-8OSwr",
        "colab_type": "code",
        "colab": {}
      },
      "source": [
        "!pip install transformers"
      ],
      "execution_count": null,
      "outputs": []
    },
    {
      "cell_type": "code",
      "metadata": {
        "id": "gMlSBbhKl6Ap",
        "colab_type": "code",
        "colab": {}
      },
      "source": [
        "import numpy as np\n",
        "import pandas as pd\n",
        "import torch\n",
        "from tqdm import tqdm\n",
        "\n",
        "from transformers import BertTokenizer, BertModel\n",
        "import os"
      ],
      "execution_count": null,
      "outputs": []
    },
    {
      "cell_type": "markdown",
      "metadata": {
        "id": "O_Fq8NjGT7Mf",
        "colab_type": "text"
      },
      "source": [
        "Below are the steps involved with any transformer.\n",
        "\n",
        "# Preprocessing\n",
        "\n",
        "### 1. Tokenize input data and other input details such as Attention Mask for BERT so that attention on padded sequences is not ignored.\n",
        "\n",
        "### 2. Convert tokens to input ID sequences.\n",
        "\n",
        "### 3. Pad IDs to a fixed length. \n",
        "\n",
        "# Modeling\n",
        "\n",
        "### 1. Load model and feed in input ID sequence (batches are best especially when there is limited CPU)\n",
        "\n",
        "### 2. Get output of last hidden layer. This layer has sequence representation embedding at 0 index. So we the output is called last_hidden_layer[0]. \n",
        "\n",
        "### 3. Embeddings can be used as inputs for different ML/DL models."
      ]
    },
    {
      "cell_type": "markdown",
      "metadata": {
        "id": "TpSmX-WDZwGv",
        "colab_type": "text"
      },
      "source": [
        "Using BERT Transformers."
      ]
    },
    {
      "cell_type": "code",
      "metadata": {
        "id": "Fjhz0o8_T5Pc",
        "colab_type": "code",
        "colab": {}
      },
      "source": [
        "model_type = 'bert-base-uncased'\n",
        "max_size = 150\n",
        "batch_size = 200"
      ],
      "execution_count": null,
      "outputs": []
    },
    {
      "cell_type": "code",
      "metadata": {
        "id": "Txzx2ZbadNvZ",
        "colab_type": "code",
        "colab": {}
      },
      "source": [
        "train_df = pd.read_csv(\"/content/drive/My Drive/train.csv\")\n",
        "test_df = pd.read_csv(\"/content/drive/My Drive/test.csv\")\n",
        "train_df.head()"
      ],
      "execution_count": null,
      "outputs": []
    },
    {
      "cell_type": "code",
      "metadata": {
        "id": "Ug17933qexoy",
        "colab_type": "code",
        "colab": {}
      },
      "source": [
        "test_df"
      ],
      "execution_count": null,
      "outputs": []
    },
    {
      "cell_type": "markdown",
      "metadata": {
        "id": "tscqT4t6pCFx",
        "colab_type": "text"
      },
      "source": [
        "## Load Tokenizer and Model"
      ]
    },
    {
      "cell_type": "code",
      "metadata": {
        "id": "Qq0IFu1Ve18p",
        "colab_type": "code",
        "colab": {}
      },
      "source": [
        "tokenizer = BertTokenizer.from_pretrained(model_type)\n",
        "model = BertModel.from_pretrained(model_type)"
      ],
      "execution_count": null,
      "outputs": []
    },
    {
      "cell_type": "markdown",
      "metadata": {
        "id": "BzhmcaaxrQHb",
        "colab_type": "text"
      },
      "source": [
        "## Convert Text to Tokens"
      ]
    },
    {
      "cell_type": "code",
      "metadata": {
        "id": "bXpn2nCTo_7q",
        "colab_type": "code",
        "colab": {}
      },
      "source": [
        "tokenized_input = train_df['text'].apply((lambda x: tokenizer.encode(x, add_special_tokens = True)))"
      ],
      "execution_count": null,
      "outputs": []
    },
    {
      "cell_type": "code",
      "metadata": {
        "id": "lr5IP1v9smpc",
        "colab_type": "code",
        "colab": {}
      },
      "source": [
        "print(tokenized_input[1])\n",
        "print(\"Here 101 -> [CLS] and 102 -> [SEP]\")"
      ],
      "execution_count": null,
      "outputs": []
    },
    {
      "cell_type": "markdown",
      "metadata": {
        "id": "or3PvKNFwp40",
        "colab_type": "text"
      },
      "source": [
        "* [CLS] token = classification token\n",
        "\n",
        "* In between [CLS] and [SEP] = entire sequence embedding. (Need to take token embedding from output layer)\n",
        "\n",
        "* [SEP] = end of sequence"
      ]
    },
    {
      "cell_type": "markdown",
      "metadata": {
        "id": "0qXmxlgUyGNt",
        "colab_type": "text"
      },
      "source": [
        "## Padding sequence to standardize length"
      ]
    },
    {
      "cell_type": "code",
      "metadata": {
        "id": "dyKR8kP5tFp0",
        "colab_type": "code",
        "colab": {}
      },
      "source": [
        "padded_tokenized_input = np.array([i + [0]*(max_size-len(i)) for i in tokenized_input.values])"
      ],
      "execution_count": null,
      "outputs": []
    },
    {
      "cell_type": "code",
      "metadata": {
        "id": "X7da0TNTyq9H",
        "colab_type": "code",
        "colab": {}
      },
      "source": [
        "print(padded_tokenized_input[0])"
      ],
      "execution_count": null,
      "outputs": []
    },
    {
      "cell_type": "markdown",
      "metadata": {
        "id": "5U2VqIddzvuW",
        "colab_type": "text"
      },
      "source": [
        "Telling BERT to ignore attention on padded inputs."
      ]
    },
    {
      "cell_type": "code",
      "metadata": {
        "id": "cd2tILvsyuH-",
        "colab_type": "code",
        "colab": {}
      },
      "source": [
        "attention_masks = np.where(padded_tokenized_input !=0,1,0)\n",
        "print(attention_masks)"
      ],
      "execution_count": null,
      "outputs": []
    },
    {
      "cell_type": "code",
      "metadata": {
        "id": "zlbnsU0j1CTL",
        "colab_type": "code",
        "colab": {}
      },
      "source": [
        "input_ids = torch.tensor(padded_tokenized_input)\n",
        "attention_masks = torch.tensor(attention_masks)"
      ],
      "execution_count": null,
      "outputs": []
    },
    {
      "cell_type": "markdown",
      "metadata": {
        "id": "Xkyt16bMoHSH",
        "colab_type": "text"
      },
      "source": [
        "## Get sequence embeddings"
      ]
    },
    {
      "cell_type": "code",
      "metadata": {
        "id": "b6iUmRggoGCt",
        "colab_type": "code",
        "colab": {
          "base_uri": "https://localhost:8080/",
          "height": 34
        },
        "outputId": "cfd765dc-5be4-407d-d0e5-1fa39b32173f"
      },
      "source": [
        "all_train_embedding = []\n",
        "\n",
        "with torch.no_grad():\n",
        "  for i in tqdm(range(0,len(input_ids),200)):    \n",
        "    last_hidden_states = model(input_ids[i:min(i+200,len(train_df))], attention_mask = attention_masks[i:min(i+200,len(train_df))])[0][:,0,:].numpy()\n",
        "    all_train_embedding.append(last_hidden_states)"
      ],
      "execution_count": null,
      "outputs": [
        {
          "output_type": "stream",
          "text": [
            " 41%|████      | 16/39 [23:22<33:26, 87.24s/it]"
          ],
          "name": "stderr"
        }
      ]
    },
    {
      "cell_type": "code",
      "metadata": {
        "id": "u2kG19ugqGA8",
        "colab_type": "code",
        "colab": {}
      },
      "source": [
        "unbatched_train = []\n",
        "for batch in all_train_embedding:\n",
        "    for seq in batch:\n",
        "        unbatched_train.append(seq)\n",
        "\n",
        "train_labels = train_df['target']"
      ],
      "execution_count": null,
      "outputs": []
    },
    {
      "cell_type": "markdown",
      "metadata": {
        "id": "szpz6WlnxGC7",
        "colab_type": "text"
      },
      "source": [
        "Train Test Split to be used in Various Models"
      ]
    },
    {
      "cell_type": "code",
      "metadata": {
        "id": "3-Wq70TIxAkh",
        "colab_type": "code",
        "colab": {}
      },
      "source": [
        "from sklearn.model_selection import train_test_split\n",
        "\n",
        "X_train, X_test, Y_train, Y_test =  train_test_split(unbatched_train, train_labels, test_size=0.33, random_state=42, stratify=train_labels)"
      ],
      "execution_count": null,
      "outputs": []
    }
  ]
}