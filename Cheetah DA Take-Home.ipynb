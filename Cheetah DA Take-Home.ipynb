{
 "cells": [
  {
   "cell_type": "code",
   "execution_count": 1,
   "metadata": {},
   "outputs": [],
   "source": [
    "import numpy as np \n",
    "from scipy import stats\n",
    "import pandas as pd \n",
    "import matplotlib.pyplot as plt\n",
    "import seaborn as sns\n",
    "color = sns.color_palette()\n",
    "\n",
    "%matplotlib inline\n",
    "\n",
    "pd.options.mode.chained_assignment = None  # default='warn'"
   ]
  },
  {
   "cell_type": "code",
   "execution_count": 2,
   "metadata": {},
   "outputs": [],
   "source": [
    "orders = pd.read_csv(\"orders.csv\")\n",
    "order_items = pd.read_csv(\"order_items.csv\")\n",
    "promo_codes = pd.read_csv(\"promo_codes.csv\")\n",
    "restaurants = pd.read_csv(\"restaurants.csv\")\n",
    "categories = pd.read_csv(\"categories.csv\")\n",
    "categories_products = pd.read_csv(\"categories_products.csv\")\n",
    "products = pd.read_csv(\"products.csv\")\n",
    "stores = pd.read_csv(\"stores.csv\")\n",
    "invoices = pd.read_csv(\"invoices.csv\")\n",
    "invoice_items = pd.read_csv(\"invoice_items.csv\")"
   ]
  },
  {
   "cell_type": "markdown",
   "metadata": {},
   "source": [
    "**Additional Considerations:**\n",
    "    \n",
    "Determining profitability on a per order basis:\n",
    "    Revenue/order-COGS/order($70)"
   ]
  },
  {
   "cell_type": "markdown",
   "metadata": {},
   "source": [
    "First, need to format table according to prompt's constraints:\n",
    "1. orders.order_status = 4 and 8 only\n",
    "2. orders for analysis are to be before 2017-10-01\n",
    "3. all prices are stored in cents and to be represented in dollars"
   ]
  },
  {
   "cell_type": "code",
   "execution_count": 3,
   "metadata": {},
   "outputs": [],
   "source": [
    "orders = orders[orders['status'].isin([4, 8])]\n",
    "\n",
    "orders = orders[(orders['created_at'] < '2017-10-01')]\n",
    "\n",
    "orders['total'] = orders['total'].div(100)\n",
    "orders['sub_total'] = orders['sub_total'].div(100)\n",
    "orders['cart_total'] = orders['cart_total'].div(100)\n",
    "orders['charged'] = orders['charged'].div(100)\n",
    "orders['credit_card_charge'] = orders['credit_card_charge'].div(100)\n",
    "\n",
    "invoices['total'] = invoices['total'].div(100)"
   ]
  },
  {
   "cell_type": "markdown",
   "metadata": {},
   "source": [
    "Let's take a peek to see if reformatting happened."
   ]
  },
  {
   "cell_type": "code",
   "execution_count": 4,
   "metadata": {},
   "outputs": [
    {
     "data": {
      "text/html": [
       "<div>\n",
       "<style scoped>\n",
       "    .dataframe tbody tr th:only-of-type {\n",
       "        vertical-align: middle;\n",
       "    }\n",
       "\n",
       "    .dataframe tbody tr th {\n",
       "        vertical-align: top;\n",
       "    }\n",
       "\n",
       "    .dataframe thead th {\n",
       "        text-align: right;\n",
       "    }\n",
       "</style>\n",
       "<table border=\"1\" class=\"dataframe\">\n",
       "  <thead>\n",
       "    <tr style=\"text-align: right;\">\n",
       "      <th></th>\n",
       "      <th>id</th>\n",
       "      <th>created_at</th>\n",
       "      <th>updated_at</th>\n",
       "      <th>edit_up_to</th>\n",
       "      <th>delivery_date</th>\n",
       "      <th>status</th>\n",
       "      <th>total</th>\n",
       "      <th>restaurant_id</th>\n",
       "      <th>sub_total</th>\n",
       "      <th>delivery_fee</th>\n",
       "      <th>...</th>\n",
       "      <th>delivery_time_end</th>\n",
       "      <th>source</th>\n",
       "      <th>credit_card_charge</th>\n",
       "      <th>deleted_at</th>\n",
       "      <th>fill_in</th>\n",
       "      <th>has_frozen_item</th>\n",
       "      <th>has_alcohol_item</th>\n",
       "      <th>store_id</th>\n",
       "      <th>manual_fill_in</th>\n",
       "      <th>volume</th>\n",
       "    </tr>\n",
       "  </thead>\n",
       "  <tbody>\n",
       "    <tr>\n",
       "      <td>1</td>\n",
       "      <td>101</td>\n",
       "      <td>2015-12-28 17:08:47.393476</td>\n",
       "      <td>2017-03-07 16:41:40.138347</td>\n",
       "      <td>2015-12-29 08:00:00</td>\n",
       "      <td>2015-12-29</td>\n",
       "      <td>8</td>\n",
       "      <td>142.65</td>\n",
       "      <td>54</td>\n",
       "      <td>142.65</td>\n",
       "      <td>7500</td>\n",
       "      <td>...</td>\n",
       "      <td>17</td>\n",
       "      <td>NaN</td>\n",
       "      <td>0.0</td>\n",
       "      <td>16:41:40.13079</td>\n",
       "      <td>False</td>\n",
       "      <td>False</td>\n",
       "      <td>False</td>\n",
       "      <td>NaN</td>\n",
       "      <td>False</td>\n",
       "      <td>0.000000</td>\n",
       "    </tr>\n",
       "    <tr>\n",
       "      <td>4</td>\n",
       "      <td>11861</td>\n",
       "      <td>2017-03-09 09:30:12.024129</td>\n",
       "      <td>2017-03-14 20:44:22.002984</td>\n",
       "      <td>2017-03-13 08:30:00</td>\n",
       "      <td>2017-03-13</td>\n",
       "      <td>8</td>\n",
       "      <td>684.17</td>\n",
       "      <td>403</td>\n",
       "      <td>692.50</td>\n",
       "      <td>7000</td>\n",
       "      <td>...</td>\n",
       "      <td>18</td>\n",
       "      <td>0.0</td>\n",
       "      <td>0.0</td>\n",
       "      <td>NaN</td>\n",
       "      <td>False</td>\n",
       "      <td>False</td>\n",
       "      <td>False</td>\n",
       "      <td>1.0</td>\n",
       "      <td>False</td>\n",
       "      <td>0.000000</td>\n",
       "    </tr>\n",
       "    <tr>\n",
       "      <td>6</td>\n",
       "      <td>9696</td>\n",
       "      <td>2017-01-25 09:32:09.913808</td>\n",
       "      <td>2017-08-22 20:42:35.288515</td>\n",
       "      <td>2017-03-23 08:30:00</td>\n",
       "      <td>2017-03-23</td>\n",
       "      <td>8</td>\n",
       "      <td>533.72</td>\n",
       "      <td>304</td>\n",
       "      <td>520.68</td>\n",
       "      <td>4500</td>\n",
       "      <td>...</td>\n",
       "      <td>18</td>\n",
       "      <td>0.0</td>\n",
       "      <td>0.0</td>\n",
       "      <td>20:42:35.255945</td>\n",
       "      <td>False</td>\n",
       "      <td>True</td>\n",
       "      <td>False</td>\n",
       "      <td>1.0</td>\n",
       "      <td>False</td>\n",
       "      <td>10.000000</td>\n",
       "    </tr>\n",
       "    <tr>\n",
       "      <td>31</td>\n",
       "      <td>26219</td>\n",
       "      <td>2017-08-24 08:37:33.23127</td>\n",
       "      <td>2017-11-29 20:07:46.71471</td>\n",
       "      <td>2017-11-29 09:30:00</td>\n",
       "      <td>2017-11-29</td>\n",
       "      <td>4</td>\n",
       "      <td>547.38</td>\n",
       "      <td>439</td>\n",
       "      <td>547.38</td>\n",
       "      <td>5000</td>\n",
       "      <td>...</td>\n",
       "      <td>18</td>\n",
       "      <td>0.0</td>\n",
       "      <td>0.0</td>\n",
       "      <td>NaN</td>\n",
       "      <td>False</td>\n",
       "      <td>False</td>\n",
       "      <td>False</td>\n",
       "      <td>4.0</td>\n",
       "      <td>False</td>\n",
       "      <td>22.327701</td>\n",
       "    </tr>\n",
       "    <tr>\n",
       "      <td>32</td>\n",
       "      <td>245</td>\n",
       "      <td>2016-02-01 19:44:19.954347</td>\n",
       "      <td>2016-07-25 14:35:05.767401</td>\n",
       "      <td>2016-02-09 08:00:00</td>\n",
       "      <td>2016-02-09</td>\n",
       "      <td>4</td>\n",
       "      <td>577.59</td>\n",
       "      <td>104</td>\n",
       "      <td>577.59</td>\n",
       "      <td>7500</td>\n",
       "      <td>...</td>\n",
       "      <td>17</td>\n",
       "      <td>NaN</td>\n",
       "      <td>0.0</td>\n",
       "      <td>14:35:05.764617</td>\n",
       "      <td>False</td>\n",
       "      <td>False</td>\n",
       "      <td>False</td>\n",
       "      <td>NaN</td>\n",
       "      <td>False</td>\n",
       "      <td>0.000000</td>\n",
       "    </tr>\n",
       "  </tbody>\n",
       "</table>\n",
       "<p>5 rows × 31 columns</p>\n",
       "</div>"
      ],
      "text/plain": [
       "       id                  created_at                  updated_at  \\\n",
       "1     101  2015-12-28 17:08:47.393476  2017-03-07 16:41:40.138347   \n",
       "4   11861  2017-03-09 09:30:12.024129  2017-03-14 20:44:22.002984   \n",
       "6    9696  2017-01-25 09:32:09.913808  2017-08-22 20:42:35.288515   \n",
       "31  26219   2017-08-24 08:37:33.23127   2017-11-29 20:07:46.71471   \n",
       "32    245  2016-02-01 19:44:19.954347  2016-07-25 14:35:05.767401   \n",
       "\n",
       "             edit_up_to delivery_date  status   total  restaurant_id  \\\n",
       "1   2015-12-29 08:00:00    2015-12-29       8  142.65             54   \n",
       "4   2017-03-13 08:30:00    2017-03-13       8  684.17            403   \n",
       "6   2017-03-23 08:30:00    2017-03-23       8  533.72            304   \n",
       "31  2017-11-29 09:30:00    2017-11-29       4  547.38            439   \n",
       "32  2016-02-09 08:00:00    2016-02-09       4  577.59            104   \n",
       "\n",
       "    sub_total  delivery_fee  ... delivery_time_end  source  \\\n",
       "1      142.65          7500  ...                17     NaN   \n",
       "4      692.50          7000  ...                18     0.0   \n",
       "6      520.68          4500  ...                18     0.0   \n",
       "31     547.38          5000  ...                18     0.0   \n",
       "32     577.59          7500  ...                17     NaN   \n",
       "\n",
       "    credit_card_charge       deleted_at  fill_in  has_frozen_item  \\\n",
       "1                  0.0   16:41:40.13079    False            False   \n",
       "4                  0.0              NaN    False            False   \n",
       "6                  0.0  20:42:35.255945    False             True   \n",
       "31                 0.0              NaN    False            False   \n",
       "32                 0.0  14:35:05.764617    False            False   \n",
       "\n",
       "    has_alcohol_item  store_id manual_fill_in     volume  \n",
       "1              False       NaN          False   0.000000  \n",
       "4              False       1.0          False   0.000000  \n",
       "6              False       1.0          False  10.000000  \n",
       "31             False       4.0          False  22.327701  \n",
       "32             False       NaN          False   0.000000  \n",
       "\n",
       "[5 rows x 31 columns]"
      ]
     },
     "execution_count": 4,
     "metadata": {},
     "output_type": "execute_result"
    }
   ],
   "source": [
    "orders.head()"
   ]
  },
  {
   "cell_type": "code",
   "execution_count": 5,
   "metadata": {},
   "outputs": [
    {
     "data": {
      "text/html": [
       "<div>\n",
       "<style scoped>\n",
       "    .dataframe tbody tr th:only-of-type {\n",
       "        vertical-align: middle;\n",
       "    }\n",
       "\n",
       "    .dataframe tbody tr th {\n",
       "        vertical-align: top;\n",
       "    }\n",
       "\n",
       "    .dataframe thead th {\n",
       "        text-align: right;\n",
       "    }\n",
       "</style>\n",
       "<table border=\"1\" class=\"dataframe\">\n",
       "  <thead>\n",
       "    <tr style=\"text-align: right;\">\n",
       "      <th></th>\n",
       "      <th>id</th>\n",
       "      <th>order_id</th>\n",
       "      <th>created_at</th>\n",
       "      <th>updated_at</th>\n",
       "      <th>status</th>\n",
       "      <th>signed_at</th>\n",
       "      <th>paid_at</th>\n",
       "      <th>payment_method</th>\n",
       "      <th>total</th>\n",
       "      <th>to_pay_to_vendor</th>\n",
       "      <th>...</th>\n",
       "      <th>paid_to_cheetah</th>\n",
       "      <th>paid_to_vendor</th>\n",
       "      <th>deleted_at</th>\n",
       "      <th>charging_platform</th>\n",
       "      <th>verified</th>\n",
       "      <th>updated_by_id</th>\n",
       "      <th>charged_at</th>\n",
       "      <th>failed_at</th>\n",
       "      <th>charged_payment_method_id</th>\n",
       "      <th>disable_direct_payments</th>\n",
       "    </tr>\n",
       "  </thead>\n",
       "  <tbody>\n",
       "    <tr>\n",
       "      <td>0</td>\n",
       "      <td>1604</td>\n",
       "      <td>3453</td>\n",
       "      <td>2016-07-28 11:57:35.306967</td>\n",
       "      <td>2016-07-28 11:57:35.306967</td>\n",
       "      <td>0</td>\n",
       "      <td>NaN</td>\n",
       "      <td>NaN</td>\n",
       "      <td>NaN</td>\n",
       "      <td>0.0</td>\n",
       "      <td>NaN</td>\n",
       "      <td>...</td>\n",
       "      <td>0.0</td>\n",
       "      <td>0.0</td>\n",
       "      <td>NaN</td>\n",
       "      <td>NaN</td>\n",
       "      <td>NaN</td>\n",
       "      <td>NaN</td>\n",
       "      <td>NaN</td>\n",
       "      <td>NaN</td>\n",
       "      <td>NaN</td>\n",
       "      <td>False</td>\n",
       "    </tr>\n",
       "    <tr>\n",
       "      <td>1</td>\n",
       "      <td>1605</td>\n",
       "      <td>3452</td>\n",
       "      <td>2016-07-28 11:57:35.428423</td>\n",
       "      <td>2016-07-28 11:57:35.428423</td>\n",
       "      <td>0</td>\n",
       "      <td>NaN</td>\n",
       "      <td>NaN</td>\n",
       "      <td>NaN</td>\n",
       "      <td>0.0</td>\n",
       "      <td>NaN</td>\n",
       "      <td>...</td>\n",
       "      <td>0.0</td>\n",
       "      <td>0.0</td>\n",
       "      <td>NaN</td>\n",
       "      <td>NaN</td>\n",
       "      <td>NaN</td>\n",
       "      <td>NaN</td>\n",
       "      <td>NaN</td>\n",
       "      <td>NaN</td>\n",
       "      <td>NaN</td>\n",
       "      <td>False</td>\n",
       "    </tr>\n",
       "    <tr>\n",
       "      <td>2</td>\n",
       "      <td>1606</td>\n",
       "      <td>3451</td>\n",
       "      <td>2016-07-28 11:57:35.624098</td>\n",
       "      <td>2016-07-28 11:57:35.624098</td>\n",
       "      <td>0</td>\n",
       "      <td>NaN</td>\n",
       "      <td>NaN</td>\n",
       "      <td>NaN</td>\n",
       "      <td>0.0</td>\n",
       "      <td>NaN</td>\n",
       "      <td>...</td>\n",
       "      <td>0.0</td>\n",
       "      <td>0.0</td>\n",
       "      <td>NaN</td>\n",
       "      <td>NaN</td>\n",
       "      <td>NaN</td>\n",
       "      <td>NaN</td>\n",
       "      <td>NaN</td>\n",
       "      <td>NaN</td>\n",
       "      <td>NaN</td>\n",
       "      <td>False</td>\n",
       "    </tr>\n",
       "    <tr>\n",
       "      <td>3</td>\n",
       "      <td>1607</td>\n",
       "      <td>3450</td>\n",
       "      <td>2016-07-28 11:57:35.897542</td>\n",
       "      <td>2016-07-28 11:57:35.897542</td>\n",
       "      <td>0</td>\n",
       "      <td>NaN</td>\n",
       "      <td>NaN</td>\n",
       "      <td>NaN</td>\n",
       "      <td>0.0</td>\n",
       "      <td>NaN</td>\n",
       "      <td>...</td>\n",
       "      <td>0.0</td>\n",
       "      <td>0.0</td>\n",
       "      <td>NaN</td>\n",
       "      <td>NaN</td>\n",
       "      <td>NaN</td>\n",
       "      <td>NaN</td>\n",
       "      <td>NaN</td>\n",
       "      <td>NaN</td>\n",
       "      <td>NaN</td>\n",
       "      <td>False</td>\n",
       "    </tr>\n",
       "    <tr>\n",
       "      <td>4</td>\n",
       "      <td>1608</td>\n",
       "      <td>3449</td>\n",
       "      <td>2016-07-28 11:57:36.104266</td>\n",
       "      <td>2016-07-28 11:57:36.104266</td>\n",
       "      <td>0</td>\n",
       "      <td>NaN</td>\n",
       "      <td>NaN</td>\n",
       "      <td>NaN</td>\n",
       "      <td>0.0</td>\n",
       "      <td>NaN</td>\n",
       "      <td>...</td>\n",
       "      <td>0.0</td>\n",
       "      <td>0.0</td>\n",
       "      <td>NaN</td>\n",
       "      <td>NaN</td>\n",
       "      <td>NaN</td>\n",
       "      <td>NaN</td>\n",
       "      <td>NaN</td>\n",
       "      <td>NaN</td>\n",
       "      <td>NaN</td>\n",
       "      <td>False</td>\n",
       "    </tr>\n",
       "  </tbody>\n",
       "</table>\n",
       "<p>5 rows × 21 columns</p>\n",
       "</div>"
      ],
      "text/plain": [
       "     id  order_id                  created_at                  updated_at  \\\n",
       "0  1604      3453  2016-07-28 11:57:35.306967  2016-07-28 11:57:35.306967   \n",
       "1  1605      3452  2016-07-28 11:57:35.428423  2016-07-28 11:57:35.428423   \n",
       "2  1606      3451  2016-07-28 11:57:35.624098  2016-07-28 11:57:35.624098   \n",
       "3  1607      3450  2016-07-28 11:57:35.897542  2016-07-28 11:57:35.897542   \n",
       "4  1608      3449  2016-07-28 11:57:36.104266  2016-07-28 11:57:36.104266   \n",
       "\n",
       "   status signed_at paid_at  payment_method  total  to_pay_to_vendor  ...  \\\n",
       "0       0       NaN     NaN             NaN    0.0               NaN  ...   \n",
       "1       0       NaN     NaN             NaN    0.0               NaN  ...   \n",
       "2       0       NaN     NaN             NaN    0.0               NaN  ...   \n",
       "3       0       NaN     NaN             NaN    0.0               NaN  ...   \n",
       "4       0       NaN     NaN             NaN    0.0               NaN  ...   \n",
       "\n",
       "   paid_to_cheetah  paid_to_vendor  deleted_at charging_platform  verified  \\\n",
       "0              0.0             0.0         NaN               NaN       NaN   \n",
       "1              0.0             0.0         NaN               NaN       NaN   \n",
       "2              0.0             0.0         NaN               NaN       NaN   \n",
       "3              0.0             0.0         NaN               NaN       NaN   \n",
       "4              0.0             0.0         NaN               NaN       NaN   \n",
       "\n",
       "  updated_by_id  charged_at failed_at charged_payment_method_id  \\\n",
       "0           NaN         NaN       NaN                       NaN   \n",
       "1           NaN         NaN       NaN                       NaN   \n",
       "2           NaN         NaN       NaN                       NaN   \n",
       "3           NaN         NaN       NaN                       NaN   \n",
       "4           NaN         NaN       NaN                       NaN   \n",
       "\n",
       "   disable_direct_payments  \n",
       "0                    False  \n",
       "1                    False  \n",
       "2                    False  \n",
       "3                    False  \n",
       "4                    False  \n",
       "\n",
       "[5 rows x 21 columns]"
      ]
     },
     "execution_count": 5,
     "metadata": {},
     "output_type": "execute_result"
    }
   ],
   "source": [
    "invoices.head()"
   ]
  },
  {
   "cell_type": "markdown",
   "metadata": {},
   "source": [
    "Looks good!"
   ]
  },
  {
   "cell_type": "markdown",
   "metadata": {},
   "source": [
    "Back to considering profitability:"
   ]
  },
  {
   "cell_type": "code",
   "execution_count": 6,
   "metadata": {},
   "outputs": [],
   "source": [
    "orders[\"profit\"] = orders.charged-70"
   ]
  },
  {
   "cell_type": "code",
   "execution_count": 7,
   "metadata": {},
   "outputs": [
    {
     "data": {
      "text/html": [
       "<div>\n",
       "<style scoped>\n",
       "    .dataframe tbody tr th:only-of-type {\n",
       "        vertical-align: middle;\n",
       "    }\n",
       "\n",
       "    .dataframe tbody tr th {\n",
       "        vertical-align: top;\n",
       "    }\n",
       "\n",
       "    .dataframe thead th {\n",
       "        text-align: right;\n",
       "    }\n",
       "</style>\n",
       "<table border=\"1\" class=\"dataframe\">\n",
       "  <thead>\n",
       "    <tr style=\"text-align: right;\">\n",
       "      <th></th>\n",
       "      <th>id</th>\n",
       "      <th>created_at</th>\n",
       "      <th>updated_at</th>\n",
       "      <th>edit_up_to</th>\n",
       "      <th>delivery_date</th>\n",
       "      <th>status</th>\n",
       "      <th>total</th>\n",
       "      <th>restaurant_id</th>\n",
       "      <th>sub_total</th>\n",
       "      <th>delivery_fee</th>\n",
       "      <th>...</th>\n",
       "      <th>source</th>\n",
       "      <th>credit_card_charge</th>\n",
       "      <th>deleted_at</th>\n",
       "      <th>fill_in</th>\n",
       "      <th>has_frozen_item</th>\n",
       "      <th>has_alcohol_item</th>\n",
       "      <th>store_id</th>\n",
       "      <th>manual_fill_in</th>\n",
       "      <th>volume</th>\n",
       "      <th>profit</th>\n",
       "    </tr>\n",
       "  </thead>\n",
       "  <tbody>\n",
       "    <tr>\n",
       "      <td>1</td>\n",
       "      <td>101</td>\n",
       "      <td>2015-12-28 17:08:47.393476</td>\n",
       "      <td>2017-03-07 16:41:40.138347</td>\n",
       "      <td>2015-12-29 08:00:00</td>\n",
       "      <td>2015-12-29</td>\n",
       "      <td>8</td>\n",
       "      <td>142.65</td>\n",
       "      <td>54</td>\n",
       "      <td>142.65</td>\n",
       "      <td>7500</td>\n",
       "      <td>...</td>\n",
       "      <td>NaN</td>\n",
       "      <td>0.0</td>\n",
       "      <td>16:41:40.13079</td>\n",
       "      <td>False</td>\n",
       "      <td>False</td>\n",
       "      <td>False</td>\n",
       "      <td>NaN</td>\n",
       "      <td>False</td>\n",
       "      <td>0.000000</td>\n",
       "      <td>NaN</td>\n",
       "    </tr>\n",
       "    <tr>\n",
       "      <td>4</td>\n",
       "      <td>11861</td>\n",
       "      <td>2017-03-09 09:30:12.024129</td>\n",
       "      <td>2017-03-14 20:44:22.002984</td>\n",
       "      <td>2017-03-13 08:30:00</td>\n",
       "      <td>2017-03-13</td>\n",
       "      <td>8</td>\n",
       "      <td>684.17</td>\n",
       "      <td>403</td>\n",
       "      <td>692.50</td>\n",
       "      <td>7000</td>\n",
       "      <td>...</td>\n",
       "      <td>0.0</td>\n",
       "      <td>0.0</td>\n",
       "      <td>NaN</td>\n",
       "      <td>False</td>\n",
       "      <td>False</td>\n",
       "      <td>False</td>\n",
       "      <td>1.0</td>\n",
       "      <td>False</td>\n",
       "      <td>0.000000</td>\n",
       "      <td>614.17</td>\n",
       "    </tr>\n",
       "    <tr>\n",
       "      <td>6</td>\n",
       "      <td>9696</td>\n",
       "      <td>2017-01-25 09:32:09.913808</td>\n",
       "      <td>2017-08-22 20:42:35.288515</td>\n",
       "      <td>2017-03-23 08:30:00</td>\n",
       "      <td>2017-03-23</td>\n",
       "      <td>8</td>\n",
       "      <td>533.72</td>\n",
       "      <td>304</td>\n",
       "      <td>520.68</td>\n",
       "      <td>4500</td>\n",
       "      <td>...</td>\n",
       "      <td>0.0</td>\n",
       "      <td>0.0</td>\n",
       "      <td>20:42:35.255945</td>\n",
       "      <td>False</td>\n",
       "      <td>True</td>\n",
       "      <td>False</td>\n",
       "      <td>1.0</td>\n",
       "      <td>False</td>\n",
       "      <td>10.000000</td>\n",
       "      <td>463.72</td>\n",
       "    </tr>\n",
       "    <tr>\n",
       "      <td>31</td>\n",
       "      <td>26219</td>\n",
       "      <td>2017-08-24 08:37:33.23127</td>\n",
       "      <td>2017-11-29 20:07:46.71471</td>\n",
       "      <td>2017-11-29 09:30:00</td>\n",
       "      <td>2017-11-29</td>\n",
       "      <td>4</td>\n",
       "      <td>547.38</td>\n",
       "      <td>439</td>\n",
       "      <td>547.38</td>\n",
       "      <td>5000</td>\n",
       "      <td>...</td>\n",
       "      <td>0.0</td>\n",
       "      <td>0.0</td>\n",
       "      <td>NaN</td>\n",
       "      <td>False</td>\n",
       "      <td>False</td>\n",
       "      <td>False</td>\n",
       "      <td>4.0</td>\n",
       "      <td>False</td>\n",
       "      <td>22.327701</td>\n",
       "      <td>NaN</td>\n",
       "    </tr>\n",
       "    <tr>\n",
       "      <td>32</td>\n",
       "      <td>245</td>\n",
       "      <td>2016-02-01 19:44:19.954347</td>\n",
       "      <td>2016-07-25 14:35:05.767401</td>\n",
       "      <td>2016-02-09 08:00:00</td>\n",
       "      <td>2016-02-09</td>\n",
       "      <td>4</td>\n",
       "      <td>577.59</td>\n",
       "      <td>104</td>\n",
       "      <td>577.59</td>\n",
       "      <td>7500</td>\n",
       "      <td>...</td>\n",
       "      <td>NaN</td>\n",
       "      <td>0.0</td>\n",
       "      <td>14:35:05.764617</td>\n",
       "      <td>False</td>\n",
       "      <td>False</td>\n",
       "      <td>False</td>\n",
       "      <td>NaN</td>\n",
       "      <td>False</td>\n",
       "      <td>0.000000</td>\n",
       "      <td>463.48</td>\n",
       "    </tr>\n",
       "  </tbody>\n",
       "</table>\n",
       "<p>5 rows × 32 columns</p>\n",
       "</div>"
      ],
      "text/plain": [
       "       id                  created_at                  updated_at  \\\n",
       "1     101  2015-12-28 17:08:47.393476  2017-03-07 16:41:40.138347   \n",
       "4   11861  2017-03-09 09:30:12.024129  2017-03-14 20:44:22.002984   \n",
       "6    9696  2017-01-25 09:32:09.913808  2017-08-22 20:42:35.288515   \n",
       "31  26219   2017-08-24 08:37:33.23127   2017-11-29 20:07:46.71471   \n",
       "32    245  2016-02-01 19:44:19.954347  2016-07-25 14:35:05.767401   \n",
       "\n",
       "             edit_up_to delivery_date  status   total  restaurant_id  \\\n",
       "1   2015-12-29 08:00:00    2015-12-29       8  142.65             54   \n",
       "4   2017-03-13 08:30:00    2017-03-13       8  684.17            403   \n",
       "6   2017-03-23 08:30:00    2017-03-23       8  533.72            304   \n",
       "31  2017-11-29 09:30:00    2017-11-29       4  547.38            439   \n",
       "32  2016-02-09 08:00:00    2016-02-09       4  577.59            104   \n",
       "\n",
       "    sub_total  delivery_fee  ... source  credit_card_charge       deleted_at  \\\n",
       "1      142.65          7500  ...    NaN                 0.0   16:41:40.13079   \n",
       "4      692.50          7000  ...    0.0                 0.0              NaN   \n",
       "6      520.68          4500  ...    0.0                 0.0  20:42:35.255945   \n",
       "31     547.38          5000  ...    0.0                 0.0              NaN   \n",
       "32     577.59          7500  ...    NaN                 0.0  14:35:05.764617   \n",
       "\n",
       "    fill_in  has_frozen_item  has_alcohol_item  store_id  manual_fill_in  \\\n",
       "1     False            False             False       NaN           False   \n",
       "4     False            False             False       1.0           False   \n",
       "6     False             True             False       1.0           False   \n",
       "31    False            False             False       4.0           False   \n",
       "32    False            False             False       NaN           False   \n",
       "\n",
       "       volume  profit  \n",
       "1    0.000000     NaN  \n",
       "4    0.000000  614.17  \n",
       "6   10.000000  463.72  \n",
       "31  22.327701     NaN  \n",
       "32   0.000000  463.48  \n",
       "\n",
       "[5 rows x 32 columns]"
      ]
     },
     "execution_count": 7,
     "metadata": {},
     "output_type": "execute_result"
    }
   ],
   "source": [
    "orders.head()"
   ]
  },
  {
   "cell_type": "markdown",
   "metadata": {},
   "source": [
    "Just from a sneak preview of the profit column, we see that there was not profit made all the time. Let us see the overall picture by seeing the trend over time along with comparing it with revenue across time."
   ]
  },
  {
   "cell_type": "markdown",
   "metadata": {},
   "source": [
    "Before trending, let us take a look at how many gaps we have in the data since profit column has some NaN's:"
   ]
  },
  {
   "cell_type": "code",
   "execution_count": 8,
   "metadata": {},
   "outputs": [
    {
     "data": {
      "text/plain": [
       "id                         0\n",
       "created_at                 0\n",
       "updated_at                 0\n",
       "edit_up_to               545\n",
       "delivery_date             41\n",
       "status                     0\n",
       "total                      0\n",
       "restaurant_id              0\n",
       "sub_total                  0\n",
       "delivery_fee               0\n",
       "last_time_modified         0\n",
       "cart_total                 0\n",
       "same_day_charge            0\n",
       "error_code                 0\n",
       "taxes                      0\n",
       "billed                     0\n",
       "last_job_id              549\n",
       "manual                     0\n",
       "uuid                       0\n",
       "charged                  170\n",
       "delivery_time_start        0\n",
       "delivery_time_end          0\n",
       "source                   331\n",
       "credit_card_charge         0\n",
       "deleted_at             28078\n",
       "fill_in                    0\n",
       "has_frozen_item            0\n",
       "has_alcohol_item           0\n",
       "store_id                  32\n",
       "manual_fill_in             0\n",
       "volume                     0\n",
       "profit                   170\n",
       "dtype: int64"
      ]
     },
     "execution_count": 8,
     "metadata": {},
     "output_type": "execute_result"
    }
   ],
   "source": [
    "orders.isnull().sum()"
   ]
  },
  {
   "cell_type": "code",
   "execution_count": 9,
   "metadata": {},
   "outputs": [
    {
     "data": {
      "text/plain": [
       "(28165, 32)"
      ]
     },
     "execution_count": 9,
     "metadata": {},
     "output_type": "execute_result"
    }
   ],
   "source": [
    "orders.shape"
   ]
  },
  {
   "cell_type": "markdown",
   "metadata": {},
   "source": [
    "There are 170 NaN's in charged column (and profit column) out of 28165 rows of remaining data. That amounts to about 0.6% of the dataset, not even 1% of the dataset. The data gap is not a problem at this point then."
   ]
  },
  {
   "cell_type": "code",
   "execution_count": 10,
   "metadata": {},
   "outputs": [],
   "source": [
    "orders.created_at = pd.to_datetime(orders.created_at)"
   ]
  },
  {
   "cell_type": "code",
   "execution_count": 11,
   "metadata": {},
   "outputs": [],
   "source": [
    "orders2 = orders[['created_at','charged', 'profit']]"
   ]
  },
  {
   "cell_type": "code",
   "execution_count": 12,
   "metadata": {
    "scrolled": true
   },
   "outputs": [
    {
     "data": {
      "text/plain": [
       "<matplotlib.axes._subplots.AxesSubplot at 0x146848e9c48>"
      ]
     },
     "execution_count": 12,
     "metadata": {},
     "output_type": "execute_result"
    },
    {
     "data": {
      "image/png": "[encoded data removed]",
      "text/plain": [
       "<Figure size 720x360 with 1 Axes>"
      ]
     },
     "metadata": {
      "needs_background": "light"
     },
     "output_type": "display_data"
    }
   ],
   "source": [
    "orders2.set_index('created_at').plot(figsize=(10,5), grid=True)"
   ]
  },
  {
   "cell_type": "markdown",
   "metadata": {},
   "source": [
    "Without charged graph:"
   ]
  },
  {
   "cell_type": "code",
   "execution_count": 16,
   "metadata": {},
   "outputs": [
    {
     "data": {
      "text/plain": [
       "<matplotlib.axes._subplots.AxesSubplot at 0x146b8597648>"
      ]
     },
     "execution_count": 16,
     "metadata": {},
     "output_type": "execute_result"
    },
    {
     "data": {
      "image/png": "[encoded data removed]",
      "text/plain": [
       "<Figure size 720x360 with 1 Axes>"
      ]
     },
     "metadata": {
      "needs_background": "light"
     },
     "output_type": "display_data"
    }
   ],
   "source": [
    "orders2.plot(x='created_at', y='profit', figsize=(10,5), grid=True)"
   ]
  },
  {
   "cell_type": "markdown",
   "metadata": {},
   "source": [
    "To get granularity of data points, getting most popular values:"
   ]
  },
  {
   "cell_type": "code",
   "execution_count": 13,
   "metadata": {},
   "outputs": [
    {
     "data": {
      "text/plain": [
       "-70.00      84\n",
       " 309.80      5\n",
       "-42.91       5\n",
       " 64.29       4\n",
       "-60.00       4\n",
       "            ..\n",
       " 1134.26     1\n",
       " 10.29       1\n",
       " 2237.98     1\n",
       "-57.14       1\n",
       "-0.25        1\n",
       "Name: profit, Length: 25881, dtype: int64"
      ]
     },
     "execution_count": 13,
     "metadata": {},
     "output_type": "execute_result"
    }
   ],
   "source": [
    "orders2.profit.value_counts()"
   ]
  },
  {
   "cell_type": "markdown",
   "metadata": {},
   "source": [
    "We can see here that profit was not always in the positive. The most occurring value was actually -70 dollars. So most charges were 0 dollars. This is something the business can work on."
   ]
  },
  {
   "cell_type": "markdown",
   "metadata": {},
   "source": [
    "Now, let us look at how orders are broken up by customer types."
   ]
  },
  {
   "cell_type": "code",
   "execution_count": 17,
   "metadata": {},
   "outputs": [],
   "source": [
    "orders_prom = pd.merge(orders, promo_codes, left_on='id', right_on= 'order_id', how='left')"
   ]
  },
  {
   "cell_type": "code",
   "execution_count": 18,
   "metadata": {},
   "outputs": [
    {
     "data": {
      "text/plain": [
       "MonthlySubscription    722\n",
       "FirstDeliveryPromo     176\n",
       "PercentageDiscount      16\n",
       "LapsedCustomerPromo      1\n",
       "Name: type, dtype: int64"
      ]
     },
     "execution_count": 18,
     "metadata": {},
     "output_type": "execute_result"
    }
   ],
   "source": [
    "orders_prom.type.value_counts()"
   ]
  },
  {
   "cell_type": "markdown",
   "metadata": {},
   "source": [
    "Let's visualize this."
   ]
  },
  {
   "cell_type": "code",
   "execution_count": 19,
   "metadata": {},
   "outputs": [
    {
     "data": {
      "image/png": "[encoded data removed]",
      "text/plain": [
       "<Figure size 864x576 with 1 Axes>"
      ]
     },
     "metadata": {
      "needs_background": "light"
     },
     "output_type": "display_data"
    }
   ],
   "source": [
    "cust_types = orders_prom.type.value_counts()\n",
    "\n",
    "plt.figure(figsize=(12,8))\n",
    "sns.barplot(cust_types.index, cust_types.values, alpha=0.8, color=color[1])\n",
    "plt.ylabel('Number of Occurrences', fontsize=12)\n",
    "plt.xlabel('Customer type', fontsize=12)\n",
    "plt.title('Count of orders from each type of customer', fontsize=15)\n",
    "plt.xticks(rotation='vertical')\n",
    "plt.show()"
   ]
  },
  {
   "cell_type": "markdown",
   "metadata": {},
   "source": [
    "NaN's are not included. Need to include them in order to represent the rest of the a la carte customers. NaN's need to be recoded as 'no_promo'."
   ]
  },
  {
   "cell_type": "code",
   "execution_count": 20,
   "metadata": {},
   "outputs": [],
   "source": [
    "orders_prom['type'].fillna('no_promo', inplace=True)"
   ]
  },
  {
   "cell_type": "code",
   "execution_count": 21,
   "metadata": {},
   "outputs": [
    {
     "data": {
      "text/plain": [
       "no_promo               27250\n",
       "MonthlySubscription      722\n",
       "FirstDeliveryPromo       176\n",
       "PercentageDiscount        16\n",
       "LapsedCustomerPromo        1\n",
       "Name: type, dtype: int64"
      ]
     },
     "execution_count": 21,
     "metadata": {},
     "output_type": "execute_result"
    }
   ],
   "source": [
    "orders_prom.type.value_counts()"
   ]
  },
  {
   "cell_type": "code",
   "execution_count": 22,
   "metadata": {},
   "outputs": [
    {
     "data": {
      "image/png": "[encoded data removed]",
      "text/plain": [
       "<Figure size 864x576 with 1 Axes>"
      ]
     },
     "metadata": {
      "needs_background": "light"
     },
     "output_type": "display_data"
    }
   ],
   "source": [
    "cust_types = orders_prom.type.value_counts()\n",
    "\n",
    "plt.figure(figsize=(12,8))\n",
    "sns.barplot(cust_types.index, cust_types.values, alpha=0.8, color=color[1])\n",
    "plt.ylabel('Number of Occurrences', fontsize=12)\n",
    "plt.xlabel('Customer type', fontsize=12)\n",
    "plt.title('Count of orders from each type of customer', fontsize=15)\n",
    "plt.xticks(rotation='vertical')\n",
    "plt.show()"
   ]
  },
  {
   "cell_type": "markdown",
   "metadata": {},
   "source": [
    "No_promo customers/a la carte customers and then Monthly Subscribers have the highest order volumes."
   ]
  },
  {
   "cell_type": "markdown",
   "metadata": {},
   "source": [
    "Now, let's get a visualization of customer types' dollar spent per order."
   ]
  },
  {
   "cell_type": "code",
   "execution_count": 23,
   "metadata": {},
   "outputs": [
    {
     "data": {
      "text/plain": [
       "type\n",
       "FirstDeliveryPromo      778.360000\n",
       "LapsedCustomerPromo    1059.150000\n",
       "MonthlySubscription     836.657064\n",
       "PercentageDiscount      743.980000\n",
       "no_promo                809.572466\n",
       "Name: cart_total, dtype: float64"
      ]
     },
     "execution_count": 23,
     "metadata": {},
     "output_type": "execute_result"
    }
   ],
   "source": [
    "df = orders_prom.groupby('type')['cart_total'].mean()\n",
    "df"
   ]
  },
  {
   "cell_type": "code",
   "execution_count": 24,
   "metadata": {},
   "outputs": [
    {
     "data": {
      "text/html": [
       "<div>\n",
       "<style scoped>\n",
       "    .dataframe tbody tr th:only-of-type {\n",
       "        vertical-align: middle;\n",
       "    }\n",
       "\n",
       "    .dataframe tbody tr th {\n",
       "        vertical-align: top;\n",
       "    }\n",
       "\n",
       "    .dataframe thead th {\n",
       "        text-align: right;\n",
       "    }\n",
       "</style>\n",
       "<table border=\"1\" class=\"dataframe\">\n",
       "  <thead>\n",
       "    <tr style=\"text-align: right;\">\n",
       "      <th></th>\n",
       "      <th>type</th>\n",
       "      <th>average_dollar__per_order</th>\n",
       "    </tr>\n",
       "  </thead>\n",
       "  <tbody>\n",
       "    <tr>\n",
       "      <td>0</td>\n",
       "      <td>FirstDeliveryPromo</td>\n",
       "      <td>778.360000</td>\n",
       "    </tr>\n",
       "    <tr>\n",
       "      <td>1</td>\n",
       "      <td>LapsedCustomerPromo</td>\n",
       "      <td>1059.150000</td>\n",
       "    </tr>\n",
       "    <tr>\n",
       "      <td>2</td>\n",
       "      <td>MonthlySubscription</td>\n",
       "      <td>836.657064</td>\n",
       "    </tr>\n",
       "    <tr>\n",
       "      <td>3</td>\n",
       "      <td>PercentageDiscount</td>\n",
       "      <td>743.980000</td>\n",
       "    </tr>\n",
       "    <tr>\n",
       "      <td>4</td>\n",
       "      <td>no_promo</td>\n",
       "      <td>809.572466</td>\n",
       "    </tr>\n",
       "  </tbody>\n",
       "</table>\n",
       "</div>"
      ],
      "text/plain": [
       "                  type  average_dollar__per_order\n",
       "0   FirstDeliveryPromo                 778.360000\n",
       "1  LapsedCustomerPromo                1059.150000\n",
       "2  MonthlySubscription                 836.657064\n",
       "3   PercentageDiscount                 743.980000\n",
       "4             no_promo                 809.572466"
      ]
     },
     "execution_count": 24,
     "metadata": {},
     "output_type": "execute_result"
    }
   ],
   "source": [
    "d = {'type': ['FirstDeliveryPromo', 'LapsedCustomerPromo','MonthlySubscription','PercentageDiscount','no_promo'], 'average_dollar__per_order': [778.360000, 1059.150000, 836.657064, 743.980000, 809.572466]}\n",
    "df = pd.DataFrame(data=d)\n",
    "df"
   ]
  },
  {
   "cell_type": "code",
   "execution_count": 25,
   "metadata": {},
   "outputs": [
    {
     "data": {
      "text/plain": [
       "Text(0.5, 1.0, 'Average Dollar Per Order by Customer Type')"
      ]
     },
     "execution_count": 25,
     "metadata": {},
     "output_type": "execute_result"
    },
    {
     "data": {
      "image/png": "[encoded data removed]",
      "text/plain": [
       "<Figure size 720x360 with 1 Axes>"
      ]
     },
     "metadata": {
      "needs_background": "light"
     },
     "output_type": "display_data"
    }
   ],
   "source": [
    "df = pd.DataFrame({'type':['FirstDeliveryPromo', 'LapsedCustomerPromo','MonthlySubscription','PercentageDiscount','no_promo'], 'av_dollar_per_order':[778.360000, 1059.150000, 836.657064, 743.980000, 809.572466]})\n",
    "ax = df.plot.bar(x='type', y='av_dollar_per_order', rot=0, figsize=(10,5))\n",
    "plt.title(\"Average Dollar Per Order by Customer Type\", fontsize=15)"
   ]
  },
  {
   "cell_type": "markdown",
   "metadata": {},
   "source": [
    "The customer who seems to not reorder on time is spending the most per order. Looks like that LapsedCustomerPromo is working out well."
   ]
  },
  {
   "cell_type": "markdown",
   "metadata": {},
   "source": [
    "Now let's get a visualization of customer types' revenue per order to see how Cheetah is benefitting from these promotional offers/ customer types."
   ]
  },
  {
   "cell_type": "code",
   "execution_count": 26,
   "metadata": {},
   "outputs": [
    {
     "data": {
      "text/plain": [
       "type\n",
       "FirstDeliveryPromo      769.601193\n",
       "LapsedCustomerPromo            NaN\n",
       "MonthlySubscription    1166.043670\n",
       "PercentageDiscount      763.562000\n",
       "no_promo                861.854900\n",
       "Name: charged, dtype: float64"
      ]
     },
     "execution_count": 26,
     "metadata": {},
     "output_type": "execute_result"
    }
   ],
   "source": [
    "df2 = orders_prom.groupby('type')['charged'].mean()\n",
    "df2"
   ]
  },
  {
   "cell_type": "code",
   "execution_count": 27,
   "metadata": {},
   "outputs": [
    {
     "data": {
      "text/plain": [
       "Text(0.5, 1.0, 'Average Revenue Per Order by Customer Type')"
      ]
     },
     "execution_count": 27,
     "metadata": {},
     "output_type": "execute_result"
    },
    {
     "data": {
      "image/png": "[encoded data removed]",
      "text/plain": [
       "<Figure size 720x360 with 1 Axes>"
      ]
     },
     "metadata": {
      "needs_background": "light"
     },
     "output_type": "display_data"
    }
   ],
   "source": [
    "df2 = pd.DataFrame({'type':['FirstDeliveryPromo', 'LapsedCustomerPromo','MonthlySubscription','PercentageDiscount','no_promo'], 'av_rev_per_order':[769.601193, 0, 1166.043670,  763.562000, 861.854900]})\n",
    "ax = df2.plot.bar(x='type', y='av_rev_per_order', rot=0, figsize=(10,5))\n",
    "plt.title(\"Average Revenue Per Order by Customer Type\", fontsize=15)"
   ]
  },
  {
   "cell_type": "markdown",
   "metadata": {},
   "source": [
    "Monthly Subscribers are helping the business a lot. "
   ]
  },
  {
   "cell_type": "markdown",
   "metadata": {},
   "source": [
    "Now, let us see which region/market is dominating in orders assuming that each order is being fulfilled by a local Restaurant Depot/Sam's Club."
   ]
  },
  {
   "cell_type": "code",
   "execution_count": 28,
   "metadata": {},
   "outputs": [],
   "source": [
    "orders_prom_stores = pd.merge(orders_prom, stores, left_on='store_id', right_on= 'id', how='left')"
   ]
  },
  {
   "cell_type": "code",
   "execution_count": 29,
   "metadata": {},
   "outputs": [
    {
     "data": {
      "text/html": [
       "<div>\n",
       "<style scoped>\n",
       "    .dataframe tbody tr th:only-of-type {\n",
       "        vertical-align: middle;\n",
       "    }\n",
       "\n",
       "    .dataframe tbody tr th {\n",
       "        vertical-align: top;\n",
       "    }\n",
       "\n",
       "    .dataframe thead th {\n",
       "        text-align: right;\n",
       "    }\n",
       "</style>\n",
       "<table border=\"1\" class=\"dataframe\">\n",
       "  <thead>\n",
       "    <tr style=\"text-align: right;\">\n",
       "      <th></th>\n",
       "      <th>id_x</th>\n",
       "      <th>created_at_x</th>\n",
       "      <th>updated_at_x</th>\n",
       "      <th>edit_up_to</th>\n",
       "      <th>delivery_date</th>\n",
       "      <th>status</th>\n",
       "      <th>total</th>\n",
       "      <th>restaurant_id_x</th>\n",
       "      <th>sub_total</th>\n",
       "      <th>delivery_fee</th>\n",
       "      <th>...</th>\n",
       "      <th>restaurant_id_y</th>\n",
       "      <th>expiration_date</th>\n",
       "      <th>price</th>\n",
       "      <th>renewed</th>\n",
       "      <th>period</th>\n",
       "      <th>renew_to_default</th>\n",
       "      <th>id</th>\n",
       "      <th>name</th>\n",
       "      <th>created_at</th>\n",
       "      <th>updated_at</th>\n",
       "    </tr>\n",
       "  </thead>\n",
       "  <tbody>\n",
       "    <tr>\n",
       "      <td>0</td>\n",
       "      <td>101</td>\n",
       "      <td>2015-12-28 17:08:47.393476</td>\n",
       "      <td>2017-03-07 16:41:40.138347</td>\n",
       "      <td>2015-12-29 08:00:00</td>\n",
       "      <td>2015-12-29</td>\n",
       "      <td>8</td>\n",
       "      <td>142.65</td>\n",
       "      <td>54</td>\n",
       "      <td>142.65</td>\n",
       "      <td>7500</td>\n",
       "      <td>...</td>\n",
       "      <td>NaN</td>\n",
       "      <td>NaN</td>\n",
       "      <td>NaN</td>\n",
       "      <td>NaN</td>\n",
       "      <td>NaN</td>\n",
       "      <td>NaN</td>\n",
       "      <td>NaN</td>\n",
       "      <td>NaN</td>\n",
       "      <td>NaN</td>\n",
       "      <td>NaN</td>\n",
       "    </tr>\n",
       "    <tr>\n",
       "      <td>1</td>\n",
       "      <td>11861</td>\n",
       "      <td>2017-03-09 09:30:12.024129</td>\n",
       "      <td>2017-03-14 20:44:22.002984</td>\n",
       "      <td>2017-03-13 08:30:00</td>\n",
       "      <td>2017-03-13</td>\n",
       "      <td>8</td>\n",
       "      <td>684.17</td>\n",
       "      <td>403</td>\n",
       "      <td>692.50</td>\n",
       "      <td>7000</td>\n",
       "      <td>...</td>\n",
       "      <td>NaN</td>\n",
       "      <td>NaN</td>\n",
       "      <td>NaN</td>\n",
       "      <td>NaN</td>\n",
       "      <td>NaN</td>\n",
       "      <td>NaN</td>\n",
       "      <td>1.0</td>\n",
       "      <td>RD San Francisco</td>\n",
       "      <td>2015-08-17 23:46:24.891441</td>\n",
       "      <td>2017-11-29 13:14:02.788332</td>\n",
       "    </tr>\n",
       "    <tr>\n",
       "      <td>2</td>\n",
       "      <td>9696</td>\n",
       "      <td>2017-01-25 09:32:09.913808</td>\n",
       "      <td>2017-08-22 20:42:35.288515</td>\n",
       "      <td>2017-03-23 08:30:00</td>\n",
       "      <td>2017-03-23</td>\n",
       "      <td>8</td>\n",
       "      <td>533.72</td>\n",
       "      <td>304</td>\n",
       "      <td>520.68</td>\n",
       "      <td>4500</td>\n",
       "      <td>...</td>\n",
       "      <td>NaN</td>\n",
       "      <td>NaN</td>\n",
       "      <td>NaN</td>\n",
       "      <td>NaN</td>\n",
       "      <td>NaN</td>\n",
       "      <td>NaN</td>\n",
       "      <td>1.0</td>\n",
       "      <td>RD San Francisco</td>\n",
       "      <td>2015-08-17 23:46:24.891441</td>\n",
       "      <td>2017-11-29 13:14:02.788332</td>\n",
       "    </tr>\n",
       "    <tr>\n",
       "      <td>3</td>\n",
       "      <td>26219</td>\n",
       "      <td>2017-08-24 08:37:33.231270</td>\n",
       "      <td>2017-11-29 20:07:46.71471</td>\n",
       "      <td>2017-11-29 09:30:00</td>\n",
       "      <td>2017-11-29</td>\n",
       "      <td>4</td>\n",
       "      <td>547.38</td>\n",
       "      <td>439</td>\n",
       "      <td>547.38</td>\n",
       "      <td>5000</td>\n",
       "      <td>...</td>\n",
       "      <td>NaN</td>\n",
       "      <td>NaN</td>\n",
       "      <td>NaN</td>\n",
       "      <td>NaN</td>\n",
       "      <td>NaN</td>\n",
       "      <td>NaN</td>\n",
       "      <td>4.0</td>\n",
       "      <td>RD Oakland</td>\n",
       "      <td>2017-09-20 04:23:23.829306</td>\n",
       "      <td>2017-11-29 13:14:35.884335</td>\n",
       "    </tr>\n",
       "    <tr>\n",
       "      <td>4</td>\n",
       "      <td>245</td>\n",
       "      <td>2016-02-01 19:44:19.954347</td>\n",
       "      <td>2016-07-25 14:35:05.767401</td>\n",
       "      <td>2016-02-09 08:00:00</td>\n",
       "      <td>2016-02-09</td>\n",
       "      <td>4</td>\n",
       "      <td>577.59</td>\n",
       "      <td>104</td>\n",
       "      <td>577.59</td>\n",
       "      <td>7500</td>\n",
       "      <td>...</td>\n",
       "      <td>NaN</td>\n",
       "      <td>NaN</td>\n",
       "      <td>NaN</td>\n",
       "      <td>NaN</td>\n",
       "      <td>NaN</td>\n",
       "      <td>NaN</td>\n",
       "      <td>NaN</td>\n",
       "      <td>NaN</td>\n",
       "      <td>NaN</td>\n",
       "      <td>NaN</td>\n",
       "    </tr>\n",
       "  </tbody>\n",
       "</table>\n",
       "<p>5 rows × 50 columns</p>\n",
       "</div>"
      ],
      "text/plain": [
       "    id_x               created_at_x                updated_at_x  \\\n",
       "0    101 2015-12-28 17:08:47.393476  2017-03-07 16:41:40.138347   \n",
       "1  11861 2017-03-09 09:30:12.024129  2017-03-14 20:44:22.002984   \n",
       "2   9696 2017-01-25 09:32:09.913808  2017-08-22 20:42:35.288515   \n",
       "3  26219 2017-08-24 08:37:33.231270   2017-11-29 20:07:46.71471   \n",
       "4    245 2016-02-01 19:44:19.954347  2016-07-25 14:35:05.767401   \n",
       "\n",
       "            edit_up_to delivery_date  status   total  restaurant_id_x  \\\n",
       "0  2015-12-29 08:00:00    2015-12-29       8  142.65               54   \n",
       "1  2017-03-13 08:30:00    2017-03-13       8  684.17              403   \n",
       "2  2017-03-23 08:30:00    2017-03-23       8  533.72              304   \n",
       "3  2017-11-29 09:30:00    2017-11-29       4  547.38              439   \n",
       "4  2016-02-09 08:00:00    2016-02-09       4  577.59              104   \n",
       "\n",
       "   sub_total  delivery_fee  ... restaurant_id_y  expiration_date  price  \\\n",
       "0     142.65          7500  ...             NaN              NaN    NaN   \n",
       "1     692.50          7000  ...             NaN              NaN    NaN   \n",
       "2     520.68          4500  ...             NaN              NaN    NaN   \n",
       "3     547.38          5000  ...             NaN              NaN    NaN   \n",
       "4     577.59          7500  ...             NaN              NaN    NaN   \n",
       "\n",
       "   renewed  period  renew_to_default   id              name  \\\n",
       "0      NaN     NaN               NaN  NaN               NaN   \n",
       "1      NaN     NaN               NaN  1.0  RD San Francisco   \n",
       "2      NaN     NaN               NaN  1.0  RD San Francisco   \n",
       "3      NaN     NaN               NaN  4.0        RD Oakland   \n",
       "4      NaN     NaN               NaN  NaN               NaN   \n",
       "\n",
       "                   created_at                  updated_at  \n",
       "0                         NaN                         NaN  \n",
       "1  2015-08-17 23:46:24.891441  2017-11-29 13:14:02.788332  \n",
       "2  2015-08-17 23:46:24.891441  2017-11-29 13:14:02.788332  \n",
       "3  2017-09-20 04:23:23.829306  2017-11-29 13:14:35.884335  \n",
       "4                         NaN                         NaN  \n",
       "\n",
       "[5 rows x 50 columns]"
      ]
     },
     "execution_count": 29,
     "metadata": {},
     "output_type": "execute_result"
    }
   ],
   "source": [
    "orders_prom_stores.head()"
   ]
  },
  {
   "cell_type": "code",
   "execution_count": 30,
   "metadata": {},
   "outputs": [
    {
     "data": {
      "text/plain": [
       "RD San Francisco      24132\n",
       "RD Van Nuys            3172\n",
       "RD Oakland              781\n",
       "Sam's Club Concord       48\n",
       "Name: name, dtype: int64"
      ]
     },
     "execution_count": 30,
     "metadata": {},
     "output_type": "execute_result"
    }
   ],
   "source": [
    "orders_prom_stores.name.value_counts()"
   ]
  },
  {
   "cell_type": "markdown",
   "metadata": {},
   "source": [
    "Let us look at suppliers relative to each other to get an idea where most of the fulfillments are."
   ]
  },
  {
   "cell_type": "code",
   "execution_count": 31,
   "metadata": {},
   "outputs": [
    {
     "data": {
      "image/png": "[encoded data removed]",
      "text/plain": [
       "<Figure size 720x720 with 1 Axes>"
      ]
     },
     "metadata": {},
     "output_type": "display_data"
    }
   ],
   "source": [
    "plt.figure(figsize=(10,10))\n",
    "temp_series = orders_prom_stores['name'].value_counts()\n",
    "labels = (np.array(temp_series.index))\n",
    "sizes = (np.array((temp_series / temp_series.sum())*100))\n",
    "plt.pie(sizes, labels=labels, \n",
    "        autopct='%1.1f%%', startangle=200)\n",
    "plt.title(\"Stores Distribution\", fontsize=15)\n",
    "plt.show()"
   ]
  },
  {
   "cell_type": "markdown",
   "metadata": {},
   "source": [
    "RD San Francisco reigns."
   ]
  },
  {
   "cell_type": "markdown",
   "metadata": {},
   "source": [
    "Let us get a closer look at what sort of products are Monthly Subscribers ordering the most since they are the cause for most of the business' revenue."
   ]
  },
  {
   "cell_type": "markdown",
   "metadata": {},
   "source": [
    "First, let's subset the last merged dataset into a smaller DF with only 'MonthlySubscription' type customers."
   ]
  },
  {
   "cell_type": "code",
   "execution_count": 32,
   "metadata": {},
   "outputs": [],
   "source": [
    "sub_df = orders_prom_stores.loc[(orders_prom_stores['type'] == 'MonthlySubscription')]"
   ]
  },
  {
   "cell_type": "code",
   "execution_count": 33,
   "metadata": {},
   "outputs": [],
   "source": [
    "orders_prom_stores_prod = pd.merge(sub_df, products, left_on='id', right_on= 'store_id', how='left')"
   ]
  },
  {
   "cell_type": "markdown",
   "metadata": {},
   "source": [
    "Let's take a peak at the merge result to see if product info made it in:"
   ]
  },
  {
   "cell_type": "code",
   "execution_count": 36,
   "metadata": {},
   "outputs": [
    {
     "data": {
      "text/html": [
       "<div>\n",
       "<style scoped>\n",
       "    .dataframe tbody tr th:only-of-type {\n",
       "        vertical-align: middle;\n",
       "    }\n",
       "\n",
       "    .dataframe tbody tr th {\n",
       "        vertical-align: top;\n",
       "    }\n",
       "\n",
       "    .dataframe thead th {\n",
       "        text-align: right;\n",
       "    }\n",
       "</style>\n",
       "<table border=\"1\" class=\"dataframe\">\n",
       "  <thead>\n",
       "    <tr style=\"text-align: right;\">\n",
       "      <th></th>\n",
       "      <th>id_x</th>\n",
       "      <th>created_at_x</th>\n",
       "      <th>updated_at_x</th>\n",
       "      <th>edit_up_to</th>\n",
       "      <th>delivery_date</th>\n",
       "      <th>status</th>\n",
       "      <th>total</th>\n",
       "      <th>restaurant_id_x</th>\n",
       "      <th>sub_total</th>\n",
       "      <th>delivery_fee</th>\n",
       "      <th>...</th>\n",
       "      <th>updated_at</th>\n",
       "      <th>id_y</th>\n",
       "      <th>name_y</th>\n",
       "      <th>unit</th>\n",
       "      <th>pack</th>\n",
       "      <th>unit_orderable</th>\n",
       "      <th>unit_per_pack</th>\n",
       "      <th>store_id_y</th>\n",
       "      <th>items_per_unit</th>\n",
       "      <th>units_per_case</th>\n",
       "    </tr>\n",
       "  </thead>\n",
       "  <tbody>\n",
       "    <tr>\n",
       "      <td>0</td>\n",
       "      <td>3855</td>\n",
       "      <td>2016-08-12 08:30:48.215398</td>\n",
       "      <td>2017-01-05 18:10:50.673588</td>\n",
       "      <td>2017-01-04 09:30:00</td>\n",
       "      <td>2017-01-04</td>\n",
       "      <td>8</td>\n",
       "      <td>698.84</td>\n",
       "      <td>69</td>\n",
       "      <td>459.52</td>\n",
       "      <td>30000</td>\n",
       "      <td>...</td>\n",
       "      <td>2017-11-29 13:14:02.788332</td>\n",
       "      <td>12391</td>\n",
       "      <td>Jack Cross Drk Rum 750ml - 12/CS</td>\n",
       "      <td>EA</td>\n",
       "      <td>CS</td>\n",
       "      <td>True</td>\n",
       "      <td>12</td>\n",
       "      <td>1</td>\n",
       "      <td>1.0</td>\n",
       "      <td>12.0</td>\n",
       "    </tr>\n",
       "    <tr>\n",
       "      <td>1</td>\n",
       "      <td>3855</td>\n",
       "      <td>2016-08-12 08:30:48.215398</td>\n",
       "      <td>2017-01-05 18:10:50.673588</td>\n",
       "      <td>2017-01-04 09:30:00</td>\n",
       "      <td>2017-01-04</td>\n",
       "      <td>8</td>\n",
       "      <td>698.84</td>\n",
       "      <td>69</td>\n",
       "      <td>459.52</td>\n",
       "      <td>30000</td>\n",
       "      <td>...</td>\n",
       "      <td>2017-11-29 13:14:02.788332</td>\n",
       "      <td>12523</td>\n",
       "      <td>Exec Red Chef Coat Sm</td>\n",
       "      <td>EA</td>\n",
       "      <td>CS</td>\n",
       "      <td>True</td>\n",
       "      <td>1</td>\n",
       "      <td>1</td>\n",
       "      <td>1.0</td>\n",
       "      <td>0.0</td>\n",
       "    </tr>\n",
       "    <tr>\n",
       "      <td>2</td>\n",
       "      <td>3855</td>\n",
       "      <td>2016-08-12 08:30:48.215398</td>\n",
       "      <td>2017-01-05 18:10:50.673588</td>\n",
       "      <td>2017-01-04 09:30:00</td>\n",
       "      <td>2017-01-04</td>\n",
       "      <td>8</td>\n",
       "      <td>698.84</td>\n",
       "      <td>69</td>\n",
       "      <td>459.52</td>\n",
       "      <td>30000</td>\n",
       "      <td>...</td>\n",
       "      <td>2017-11-29 13:14:02.788332</td>\n",
       "      <td>8707</td>\n",
       "      <td>Libbey Rocks Glasses 9oz (36 CT)</td>\n",
       "      <td>EA</td>\n",
       "      <td>CS</td>\n",
       "      <td>True</td>\n",
       "      <td>1</td>\n",
       "      <td>1</td>\n",
       "      <td>36.0</td>\n",
       "      <td>0.0</td>\n",
       "    </tr>\n",
       "    <tr>\n",
       "      <td>3</td>\n",
       "      <td>3855</td>\n",
       "      <td>2016-08-12 08:30:48.215398</td>\n",
       "      <td>2017-01-05 18:10:50.673588</td>\n",
       "      <td>2017-01-04 09:30:00</td>\n",
       "      <td>2017-01-04</td>\n",
       "      <td>8</td>\n",
       "      <td>698.84</td>\n",
       "      <td>69</td>\n",
       "      <td>459.52</td>\n",
       "      <td>30000</td>\n",
       "      <td>...</td>\n",
       "      <td>2017-11-29 13:14:02.788332</td>\n",
       "      <td>1951</td>\n",
       "      <td>Live Blu Claw Crab R/W</td>\n",
       "      <td>EA</td>\n",
       "      <td>CS</td>\n",
       "      <td>True</td>\n",
       "      <td>1</td>\n",
       "      <td>1</td>\n",
       "      <td>NaN</td>\n",
       "      <td>NaN</td>\n",
       "    </tr>\n",
       "    <tr>\n",
       "      <td>4</td>\n",
       "      <td>3855</td>\n",
       "      <td>2016-08-12 08:30:48.215398</td>\n",
       "      <td>2017-01-05 18:10:50.673588</td>\n",
       "      <td>2017-01-04 09:30:00</td>\n",
       "      <td>2017-01-04</td>\n",
       "      <td>8</td>\n",
       "      <td>698.84</td>\n",
       "      <td>69</td>\n",
       "      <td>459.52</td>\n",
       "      <td>30000</td>\n",
       "      <td>...</td>\n",
       "      <td>2017-11-29 13:14:02.788332</td>\n",
       "      <td>23559</td>\n",
       "      <td>Zzwndsr Sld Fork</td>\n",
       "      <td>EA</td>\n",
       "      <td>CS</td>\n",
       "      <td>True</td>\n",
       "      <td>1</td>\n",
       "      <td>1</td>\n",
       "      <td>1.0</td>\n",
       "      <td>0.0</td>\n",
       "    </tr>\n",
       "  </tbody>\n",
       "</table>\n",
       "<p>5 rows × 59 columns</p>\n",
       "</div>"
      ],
      "text/plain": [
       "   id_x               created_at_x                updated_at_x  \\\n",
       "0  3855 2016-08-12 08:30:48.215398  2017-01-05 18:10:50.673588   \n",
       "1  3855 2016-08-12 08:30:48.215398  2017-01-05 18:10:50.673588   \n",
       "2  3855 2016-08-12 08:30:48.215398  2017-01-05 18:10:50.673588   \n",
       "3  3855 2016-08-12 08:30:48.215398  2017-01-05 18:10:50.673588   \n",
       "4  3855 2016-08-12 08:30:48.215398  2017-01-05 18:10:50.673588   \n",
       "\n",
       "            edit_up_to delivery_date  status   total  restaurant_id_x  \\\n",
       "0  2017-01-04 09:30:00    2017-01-04       8  698.84               69   \n",
       "1  2017-01-04 09:30:00    2017-01-04       8  698.84               69   \n",
       "2  2017-01-04 09:30:00    2017-01-04       8  698.84               69   \n",
       "3  2017-01-04 09:30:00    2017-01-04       8  698.84               69   \n",
       "4  2017-01-04 09:30:00    2017-01-04       8  698.84               69   \n",
       "\n",
       "   sub_total  delivery_fee  ...                  updated_at   id_y  \\\n",
       "0     459.52         30000  ...  2017-11-29 13:14:02.788332  12391   \n",
       "1     459.52         30000  ...  2017-11-29 13:14:02.788332  12523   \n",
       "2     459.52         30000  ...  2017-11-29 13:14:02.788332   8707   \n",
       "3     459.52         30000  ...  2017-11-29 13:14:02.788332   1951   \n",
       "4     459.52         30000  ...  2017-11-29 13:14:02.788332  23559   \n",
       "\n",
       "                             name_y  unit  pack  unit_orderable  \\\n",
       "0  Jack Cross Drk Rum 750ml - 12/CS    EA    CS            True   \n",
       "1             Exec Red Chef Coat Sm    EA    CS            True   \n",
       "2  Libbey Rocks Glasses 9oz (36 CT)    EA    CS            True   \n",
       "3            Live Blu Claw Crab R/W    EA    CS            True   \n",
       "4                  Zzwndsr Sld Fork    EA    CS            True   \n",
       "\n",
       "   unit_per_pack  store_id_y items_per_unit  units_per_case  \n",
       "0             12           1            1.0            12.0  \n",
       "1              1           1            1.0             0.0  \n",
       "2              1           1           36.0             0.0  \n",
       "3              1           1            NaN             NaN  \n",
       "4              1           1            1.0             0.0  \n",
       "\n",
       "[5 rows x 59 columns]"
      ]
     },
     "execution_count": 36,
     "metadata": {},
     "output_type": "execute_result"
    }
   ],
   "source": [
    "orders_prom_stores_prod.head()"
   ]
  },
  {
   "cell_type": "markdown",
   "metadata": {},
   "source": [
    "Yes! Name_y made it in. Now let us check to see that only MonthlySubcription customers are in the table."
   ]
  },
  {
   "cell_type": "code",
   "execution_count": 37,
   "metadata": {},
   "outputs": [
    {
     "data": {
      "text/plain": [
       "MonthlySubscription    9161556\n",
       "Name: type, dtype: int64"
      ]
     },
     "execution_count": 37,
     "metadata": {},
     "output_type": "execute_result"
    }
   ],
   "source": [
    "orders_prom_stores_prod.type.value_counts()"
   ]
  },
  {
   "cell_type": "markdown",
   "metadata": {},
   "source": [
    "Yes!"
   ]
  },
  {
   "cell_type": "code",
   "execution_count": 38,
   "metadata": {},
   "outputs": [
    {
     "data": {
      "text/html": [
       "<div>\n",
       "<style scoped>\n",
       "    .dataframe tbody tr th:only-of-type {\n",
       "        vertical-align: middle;\n",
       "    }\n",
       "\n",
       "    .dataframe tbody tr th {\n",
       "        vertical-align: top;\n",
       "    }\n",
       "\n",
       "    .dataframe thead th {\n",
       "        text-align: right;\n",
       "    }\n",
       "</style>\n",
       "<table border=\"1\" class=\"dataframe\">\n",
       "  <thead>\n",
       "    <tr style=\"text-align: right;\">\n",
       "      <th></th>\n",
       "      <th>product_name</th>\n",
       "      <th>frequency_count</th>\n",
       "    </tr>\n",
       "  </thead>\n",
       "  <tbody>\n",
       "    <tr>\n",
       "      <td>0</td>\n",
       "      <td>Do Not Use</td>\n",
       "      <td>2378</td>\n",
       "    </tr>\n",
       "    <tr>\n",
       "      <td>1</td>\n",
       "      <td>Plate Fm 10\" Wht (500 CT)</td>\n",
       "      <td>1630</td>\n",
       "    </tr>\n",
       "    <tr>\n",
       "      <td>2</td>\n",
       "      <td>Winco Stainless Steel Flat Solid Cover for Six...</td>\n",
       "      <td>1444</td>\n",
       "    </tr>\n",
       "    <tr>\n",
       "      <td>3</td>\n",
       "      <td>Alegacy Optima III Natural Finish Fry Pan 7 inch</td>\n",
       "      <td>1444</td>\n",
       "    </tr>\n",
       "    <tr>\n",
       "      <td>4</td>\n",
       "      <td>Winco Stainless Steel Perforated Steampan Half...</td>\n",
       "      <td>1444</td>\n",
       "    </tr>\n",
       "    <tr>\n",
       "      <td>5</td>\n",
       "      <td>Sugar Gran Ex Fine</td>\n",
       "      <td>1444</td>\n",
       "    </tr>\n",
       "    <tr>\n",
       "      <td>6</td>\n",
       "      <td>Strainer Double Mesh 10.25\"</td>\n",
       "      <td>1444</td>\n",
       "    </tr>\n",
       "    <tr>\n",
       "      <td>7</td>\n",
       "      <td>Pd Flwr Xmas Tree</td>\n",
       "      <td>1444</td>\n",
       "    </tr>\n",
       "    <tr>\n",
       "      <td>8</td>\n",
       "      <td>Kumamoto Oysters (60CT)</td>\n",
       "      <td>1444</td>\n",
       "    </tr>\n",
       "    <tr>\n",
       "      <td>9</td>\n",
       "      <td>Coffeemate 1.58qt Original W/Pump Coffee-MateÂ...</td>\n",
       "      <td>1444</td>\n",
       "    </tr>\n",
       "    <tr>\n",
       "      <td>10</td>\n",
       "      <td>Chef's Quality Ground Oregano 3 LB</td>\n",
       "      <td>1444</td>\n",
       "    </tr>\n",
       "    <tr>\n",
       "      <td>11</td>\n",
       "      <td>Fresh Shucked Pacific Northwest Oysters 1/2GAL...</td>\n",
       "      <td>1444</td>\n",
       "    </tr>\n",
       "    <tr>\n",
       "      <td>12</td>\n",
       "      <td>Coat Chef Cool Vent White Small</td>\n",
       "      <td>1444</td>\n",
       "    </tr>\n",
       "    <tr>\n",
       "      <td>13</td>\n",
       "      <td>Pd Root Rutabaga</td>\n",
       "      <td>1444</td>\n",
       "    </tr>\n",
       "    <tr>\n",
       "      <td>14</td>\n",
       "      <td>Frfsh Halibut H&amp;G</td>\n",
       "      <td>1444</td>\n",
       "    </tr>\n",
       "    <tr>\n",
       "      <td>15</td>\n",
       "      <td>Cont Sqr Blk 48z (100 CT)</td>\n",
       "      <td>1398</td>\n",
       "    </tr>\n",
       "    <tr>\n",
       "      <td>16</td>\n",
       "      <td>Pd Caul Green 12ct</td>\n",
       "      <td>1398</td>\n",
       "    </tr>\n",
       "    <tr>\n",
       "      <td>17</td>\n",
       "      <td>Xx-Iceu220ha Ice Maker</td>\n",
       "      <td>1392</td>\n",
       "    </tr>\n",
       "    <tr>\n",
       "      <td>18</td>\n",
       "      <td>Pd Proc Onion Red - 4/CS</td>\n",
       "      <td>1212</td>\n",
       "    </tr>\n",
       "    <tr>\n",
       "      <td>19</td>\n",
       "      <td>Pd Pineapple 7ct</td>\n",
       "      <td>1212</td>\n",
       "    </tr>\n",
       "  </tbody>\n",
       "</table>\n",
       "</div>"
      ],
      "text/plain": [
       "                                         product_name  frequency_count\n",
       "0                                          Do Not Use             2378\n",
       "1                           Plate Fm 10\" Wht (500 CT)             1630\n",
       "2   Winco Stainless Steel Flat Solid Cover for Six...             1444\n",
       "3    Alegacy Optima III Natural Finish Fry Pan 7 inch             1444\n",
       "4   Winco Stainless Steel Perforated Steampan Half...             1444\n",
       "5                                  Sugar Gran Ex Fine             1444\n",
       "6                         Strainer Double Mesh 10.25\"             1444\n",
       "7                                   Pd Flwr Xmas Tree             1444\n",
       "8                             Kumamoto Oysters (60CT)             1444\n",
       "9   Coffeemate 1.58qt Original W/Pump Coffee-MateÂ...             1444\n",
       "10                 Chef's Quality Ground Oregano 3 LB             1444\n",
       "11  Fresh Shucked Pacific Northwest Oysters 1/2GAL...             1444\n",
       "12                    Coat Chef Cool Vent White Small             1444\n",
       "13                                   Pd Root Rutabaga             1444\n",
       "14                                  Frfsh Halibut H&G             1444\n",
       "15                          Cont Sqr Blk 48z (100 CT)             1398\n",
       "16                                 Pd Caul Green 12ct             1398\n",
       "17                             Xx-Iceu220ha Ice Maker             1392\n",
       "18                           Pd Proc Onion Red - 4/CS             1212\n",
       "19                                   Pd Pineapple 7ct             1212"
      ]
     },
     "execution_count": 38,
     "metadata": {},
     "output_type": "execute_result"
    }
   ],
   "source": [
    "cnt_srs = orders_prom_stores_prod['name_y'].value_counts().reset_index().head(20)\n",
    "cnt_srs.columns = ['product_name', 'frequency_count']\n",
    "cnt_srs"
   ]
  },
  {
   "cell_type": "markdown",
   "metadata": {},
   "source": [
    "Data table had Do Not Use label frequently. So this was not the most bought, but styrofoam plates along with some steel flat covers and frying pans were the most popular amongst Monthly Subscribers."
   ]
  },
  {
   "cell_type": "markdown",
   "metadata": {},
   "source": [
    "Conclusion:\n",
    "    \n",
    "    Though Monthly Subscribers only make up a small percentage of the business, they are making up a huge portion of the company's revenue. This is in line with the 80%, 20% rule where most business' revenue comes from a small percentage of the customer base. So after looking at customer behavior across all customer groups, in order to optimize revenue across all different types of customers, it would be a good idea to invest in monthly subscriptions, lapsed customer promotions as well as invest in these customers purchase habits--such as the types of products they order. Also, if time permitted, there could have also been a look at when these different customers make their orders as well as the sequence in which the products they order are placed in their checkout cart to see which products are on their priority list. These are some of the things to keep in mind when looking at ordering behavior in an attempt to optimize revenue across all customer groups."
   ]
  }
 ],
 "metadata": {
  "kernelspec": {
   "display_name": "Python 3",
   "language": "python",
   "name": "python3"
  },
  "language_info": {
   "codemirror_mode": {
    "name": "ipython",
    "version": 3
   },
   "file_extension": ".py",
   "mimetype": "text/x-python",
   "name": "python",
   "nbconvert_exporter": "python",
   "pygments_lexer": "ipython3",
   "version": "3.7.4"
  }
 },
 "nbformat": 4,
 "nbformat_minor": 2
}
