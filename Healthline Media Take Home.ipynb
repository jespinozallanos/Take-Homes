{
 "cells": [
  {
   "cell_type": "markdown",
   "metadata": {},
   "source": [
    "## Two Data Tables - Traffic and Ads (with ex. values, many MORE rows"
   ]
  },
  {
   "cell_type": "markdown",
   "metadata": {},
   "source": [
    "### Traffic"
   ]
  },
  {
   "cell_type": "code",
   "execution_count": 15,
   "metadata": {},
   "outputs": [
    {
     "data": {
      "text/html": [
       "<iframe id=\"igraph\" scrolling=\"no\" style=\"border:none;\" seamless=\"seamless\" src=\"https://plot.ly/~mindyng/144.embed\" height=\"170px\" width=\"100%\"></iframe>"
      ],
      "text/plain": [
       "<plotly.tools.PlotlyDisplay object>"
      ]
     },
     "execution_count": 15,
     "metadata": {},
     "output_type": "execute_result"
    }
   ],
   "source": [
    "import plotly.plotly as py\n",
    "import plotly.figure_factory as ff\n",
    "\n",
    "data_matrix = [['DatePT', 'Site', 'PagePath','Sessions', 'Page_Views'],\n",
    "               ['2018-01-01', 'Healthline', '/nutrition/crossfit-diet', 1000, 2000],\n",
    "               ['2018-01-02', 'Healthline', '/nutrition/crossfit-diet', 1015, 1890],\n",
    "               ['2018-01-02', 'Healthline', '/nutrition/different-types-of-fiber', 2153, 3200]]\n",
    "              \n",
    "colorscale = [[0, '#4d004c'],[.5, '#f2e5ff'],[1, '#ffffff']]\n",
    "\n",
    "table = ff.create_table(data_matrix, colorscale=colorscale)\n",
    "# table = ff.create_table(data_matrix, height_constant=20)\n",
    "py.iplot(table)"
   ]
  },
  {
   "cell_type": "markdown",
   "metadata": {},
   "source": [
    "### Ads"
   ]
  },
  {
   "cell_type": "code",
   "execution_count": 16,
   "metadata": {},
   "outputs": [
    {
     "data": {
      "text/html": [
       "<iframe id=\"igraph\" scrolling=\"no\" style=\"border:none;\" seamless=\"seamless\" src=\"https://plot.ly/~mindyng/146.embed\" height=\"170px\" width=\"100%\"></iframe>"
      ],
      "text/plain": [
       "<plotly.tools.PlotlyDisplay object>"
      ]
     },
     "execution_count": 16,
     "metadata": {},
     "output_type": "execute_result"
    }
   ],
   "source": [
    "import plotly.plotly as py\n",
    "import plotly.figure_factory as ff\n",
    "\n",
    "data_matrix = [['DatePT', 'Site', 'PagePath','Type', 'Ad Size', 'Impressions', 'Estimate_Revenue'],\n",
    "               ['2018-01-01', 'Healthline', '/nutrition/crossfit-diet', 'CPM', '750x50', 203123, '$250'],\n",
    "               ['2018-01-02', 'Healthline', '/nutrition/crossfit-diet', 'CPM', '720x90', 156811, '$502'],\n",
    "               ['2018-01-02', 'Healthline', '/nutrition/different-...', 'Sponsorship', '720x50', 12300, '$522']]\n",
    "              \n",
    "colorscale = [[0, '#4d004c'],[.5, '#f2e5ff'],[1, '#ffffff']]\n",
    "\n",
    "table = ff.create_table(data_matrix, colorscale=colorscale)\n",
    "# table = ff.create_table(data_matrix, height_constant=20)\n",
    "py.iplot(table)"
   ]
  },
  {
   "cell_type": "markdown",
   "metadata": {},
   "source": [
    "## Question 1:"
   ]
  },
  {
   "cell_type": "markdown",
   "metadata": {},
   "source": [
    "Doing an analysis to see for CPM ads, on average, which PagePath has the highest CPM, and what the relationship is between Page Views and Impressions. ONE single query to do the following:\n",
    "\n",
    "1. Show the estimated CPM per PagePath\n",
    "2. Show PagePath’s Sessions, Impressions, Estimated_Revenue\n",
    "3. Show the ratio between Page Views and Impressions? (how many impressions do we get per 1 page view)\n",
    "4. Rank the result by descending order of estimated CPM"
   ]
  },
  {
   "cell_type": "code",
   "execution_count": 17,
   "metadata": {},
   "outputs": [],
   "source": [
    "# The Query:\n",
    "    \n",
    "# SELECT avg(distinct(a.Estimate_Revenue)), sessions, impressions, estimate_revenue, impressions/page_views\n",
    "# FROM ads a\n",
    "# JOIN traffic t\n",
    "# ON a.DatePT = t.DatePT\n",
    "# WHERE a.Type = 'CPM'\n",
    "# ORDER by avg(distinct(a.Estimate_Revenue)) desc"
   ]
  },
  {
   "cell_type": "markdown",
   "metadata": {},
   "source": [
    "## Question 2:"
   ]
  },
  {
   "cell_type": "markdown",
   "metadata": {},
   "source": [
    "The reasons why PagePath might have higher estimated CPM than others:\n",
    "\n",
    "1. Certain websites are more visited than others. For example, a website's Home Page would be viewed highly. So an advertisement placed on this page every time it is opened would incur high views. And these high views would contribute to higher estimated CPM.\n",
    "\n",
    "2. Audience characteristics (certain device/browser type/OS) could draw people to a certain webpage more.\n",
    "\n",
    "3. Seasonality- Football ads will have higher CPM during Superbowl.\n",
    "\n",
    "4. Higher quality traffic such as traffic that is not from bots.\n",
    "\n",
    "5. Ad placement is key. One page could have their banner on the top of their screen that gets hit everytime page is loaded. Whereas a banner in lower portion of page may not get as many hits because viewers do not scroll all the way to the bottom of the page as much.\n",
    "\n",
    "6. Devoted users who are frequent visitors know where ads are placed. Therefore, they avoid certain ads, which may cause other pages to increase in relative CPM.\n",
    "\n",
    "Other metrics that I can look at (that could be outside the table) to support my hypotheses (numbered according to above suggestions):\n",
    "\n",
    "1. Page Views (already included in joined tables)\n",
    "2. Device/browser/OS User information\n",
    "3. Time stamp (already included in joined tables)\n",
    "4. Can check quality of traffic by looking at: Bounce rate (percentage of single page visits (or web sessions). It is the percentage of visits in which a person leaves your website from the landing page without browsing any further\n",
    "5. Ad position \n",
    "6. New users column to track increase of search traffic which would affect Page Views, affecting CPM"
   ]
  },
  {
   "cell_type": "markdown",
   "metadata": {},
   "source": [
    "## Question 3: "
   ]
  },
  {
   "cell_type": "markdown",
   "metadata": {},
   "source": [
    "How I would present the findings in Question 1 and Question 2 to a person from a different team, such as someone on the Finance team:\n",
    "\n",
    "Given that the Finance team is concerned with the flow of money, such as how much the business is making/losing, I would present to them some analysis done on Estimated_Revenue per PagePath. For the given sample data, the PagePath for \"type of fiber\" is getting more hits than the PagePath for \"crossfit-diet\". One suggestion I would make to the Finance team would be to make financial decisions based on cohort analysis where a subset of visitors are determined to do targeted advertisement. This would most likely help increase CPM/Estimated Revenue. Also, in an attempt to increase traffic on less viewed pages, I would suggest to the Finance team to reallocate funds. For example, funds currently reserved for relatively unpopular pages, such as the cross-fit ones, could be used on seasonal pages. Due to the Superbowl being around the corner, football ads could be invested in. Spending a little more on these advertisements could be higher in cost due to competition. However, this stratgic move could possibly increase Estimated Revenue, which  would be a great ROI."
   ]
  },
  {
   "cell_type": "markdown",
   "metadata": {},
   "source": [
    "## Question 4 (bonus):"
   ]
  },
  {
   "cell_type": "markdown",
   "metadata": {},
   "source": [
    "Another important analysis I could do using this data would be: Looking at the average session duration or how often a visitor leaves a website quickly.\n",
    "\n",
    "Additional data I would need would be:  Visitor's time spent per webpage, Bounce Rate\n",
    "\n",
    "To get this data, I would install and use Google Analytics for this website. Google Analytics would have available all these metrics.\n",
    "\n",
    "This analysis is important because it is important to guage if a website's content is engaging/effective. If people are leaving the website quickly then it must mean that the content is not engaging or a traffic source is not relevant. So there would be a needed change in what is on the website in order to retain visitors/keep their interest high."
   ]
  }
 ],
 "metadata": {
  "kernelspec": {
   "display_name": "Python 3",
   "language": "python",
   "name": "python3"
  },
  "language_info": {
   "codemirror_mode": {
    "name": "ipython",
    "version": 3
   },
   "file_extension": ".py",
   "mimetype": "text/x-python",
   "name": "python",
   "nbconvert_exporter": "python",
   "pygments_lexer": "ipython3",
   "version": "3.6.4"
  }
 },
 "nbformat": 4,
 "nbformat_minor": 2
}
