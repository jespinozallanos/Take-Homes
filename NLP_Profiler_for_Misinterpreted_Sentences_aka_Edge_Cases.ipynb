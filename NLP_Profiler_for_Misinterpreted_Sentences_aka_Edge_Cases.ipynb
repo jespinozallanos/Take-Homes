{
  "nbformat": 4,
  "nbformat_minor": 0,
  "metadata": {
    "colab": {
      "name": "NLP Profiler for Misinterpreted Sentences aka Edge Cases.ipynb",
      "provenance": [],
      "collapsed_sections": [],
      "include_colab_link": true
    },
    "kernelspec": {
      "name": "python3",
      "display_name": "Python 3"
    },
    "accelerator": "TPU"
  },
  "cells": [
    {
      "cell_type": "markdown",
      "metadata": {
        "id": "view-in-github",
        "colab_type": "text"
      },
      "source": [
        "<a href=\"https://colab.research.google.com/github/mindyng/Projects/blob/master/NLP_Profiler_for_Misinterpreted_Sentences_aka_Edge_Cases.ipynb\" target=\"_parent\"><img src=\"https://colab.research.google.com/assets/colab-badge.svg\" alt=\"Open In Colab\"/></a>"
      ]
    },
    {
      "cell_type": "markdown",
      "metadata": {
        "id": "Cc9VKorPonVI",
        "colab_type": "text"
      },
      "source": [
        "All code except tweets and classification analysis from [neomatrix369](https://github.com/neomatrix369/awesome-ai-ml-dl/blob/master/presentations/awesome-ai-ml-dl/02-abhishektalks-2020/Backend_developer_to_Machine_Learning_Engineer.pdf). <-- Thank you!!"
      ]
    },
    {
      "cell_type": "code",
      "metadata": {
        "id": "H_wF3BZYXAjz",
        "colab_type": "code",
        "colab": {
          "base_uri": "https://localhost:8080/",
          "height": 34
        },
        "outputId": "81a4a514-d649-457a-9fb4-a26e9b1623de"
      },
      "source": [
        "!pip install -U emoji"
      ],
      "execution_count": 16,
      "outputs": [
        {
          "output_type": "stream",
          "text": [
            "Requirement already up-to-date: emoji in /usr/local/lib/python3.6/dist-packages (0.5.4)\n"
          ],
          "name": "stdout"
        }
      ]
    },
    {
      "cell_type": "code",
      "metadata": {
        "id": "r62PjlmHXlbO",
        "colab_type": "code",
        "colab": {
          "base_uri": "https://localhost:8080/",
          "height": 102
        },
        "outputId": "89129ed1-4438-4568-ecd7-a237e074eb8b"
      },
      "source": [
        "!pip install -U nltk"
      ],
      "execution_count": 17,
      "outputs": [
        {
          "output_type": "stream",
          "text": [
            "Requirement already up-to-date: nltk in /usr/local/lib/python3.6/dist-packages (3.5)\n",
            "Requirement already satisfied, skipping upgrade: joblib in /usr/local/lib/python3.6/dist-packages (from nltk) (0.15.1)\n",
            "Requirement already satisfied, skipping upgrade: regex in /usr/local/lib/python3.6/dist-packages (from nltk) (2019.12.20)\n",
            "Requirement already satisfied, skipping upgrade: tqdm in /usr/local/lib/python3.6/dist-packages (from nltk) (4.41.1)\n",
            "Requirement already satisfied, skipping upgrade: click in /usr/local/lib/python3.6/dist-packages (from nltk) (7.1.2)\n"
          ],
          "name": "stdout"
        }
      ]
    },
    {
      "cell_type": "code",
      "metadata": {
        "id": "zchH9BoVXrH3",
        "colab_type": "code",
        "colab": {
          "base_uri": "https://localhost:8080/",
          "height": 119
        },
        "outputId": "38b605d1-90dd-46ec-da0a-d9f8625b14e4"
      },
      "source": [
        "!pip install -U textblob"
      ],
      "execution_count": 18,
      "outputs": [
        {
          "output_type": "stream",
          "text": [
            "Requirement already up-to-date: textblob in /usr/local/lib/python3.6/dist-packages (0.15.3)\n",
            "Requirement already satisfied, skipping upgrade: nltk>=3.1 in /usr/local/lib/python3.6/dist-packages (from textblob) (3.5)\n",
            "Requirement already satisfied, skipping upgrade: joblib in /usr/local/lib/python3.6/dist-packages (from nltk>=3.1->textblob) (0.15.1)\n",
            "Requirement already satisfied, skipping upgrade: tqdm in /usr/local/lib/python3.6/dist-packages (from nltk>=3.1->textblob) (4.41.1)\n",
            "Requirement already satisfied, skipping upgrade: click in /usr/local/lib/python3.6/dist-packages (from nltk>=3.1->textblob) (7.1.2)\n",
            "Requirement already satisfied, skipping upgrade: regex in /usr/local/lib/python3.6/dist-packages (from nltk>=3.1->textblob) (2019.12.20)\n"
          ],
          "name": "stdout"
        }
      ]
    },
    {
      "cell_type": "code",
      "metadata": {
        "id": "4IBYIvKLXwJE",
        "colab_type": "code",
        "colab": {
          "base_uri": "https://localhost:8080/",
          "height": 102
        },
        "outputId": "373ced5e-ad2e-4bf0-c7e9-145b8a15001d"
      },
      "source": [
        "%%time\n",
        "%%bash\n",
        "\n",
        "if [[ -e ../../library/org/neomatrix369 ]]; then\n",
        "  echo \"Library source found\"\n",
        "  \n",
        "  cd ../../build\n",
        "else\n",
        "  if [[ -e awesome-ai-ml-dl/examples/better-nlp/library ]]; then\n",
        "     echo \"Library source found\"\n",
        "  else\n",
        "     git clone \"https://github.com/neomatrix369/awesome-ai-ml-dl\" || true\n",
        "  fi\n",
        "\n",
        "  echo \"Library source exists\"\n",
        "  cd awesome-ai-ml-dl/examples/better-nlp/\n",
        "fi\n",
        "pwd"
      ],
      "execution_count": 19,
      "outputs": [
        {
          "output_type": "stream",
          "text": [
            "Library source found\n",
            "Library source exists\n",
            "/content/awesome-ai-ml-dl/examples/better-nlp\n",
            "CPU times: user 676 µs, sys: 8.87 ms, total: 9.54 ms\n",
            "Wall time: 16.2 ms\n"
          ],
          "name": "stdout"
        }
      ]
    },
    {
      "cell_type": "code",
      "metadata": {
        "id": "kcb5aH72os9A",
        "colab_type": "code",
        "colab": {}
      },
      "source": [
        "import sys\n",
        "import os\n",
        "import pandas as pd\n",
        "\n",
        "sys.path.insert(0, '../../library') # we need this when running inside the Docker container\n",
        "sys.path.insert(0, './awesome-ai-ml-dl/examples/better-nlp/library') # we need this when running in Google Colab like environments\n",
        "\n",
        "from org.neomatrix369.nlp_profiler import apply_text_profiling"
      ],
      "execution_count": 20,
      "outputs": []
    },
    {
      "cell_type": "markdown",
      "metadata": {
        "id": "tMwYslCHd0Ls",
        "colab_type": "text"
      },
      "source": [
        "Various text messages with different content."
      ]
    },
    {
      "cell_type": "code",
      "metadata": {
        "id": "ctBsnjHxplzu",
        "colab_type": "code",
        "colab": {}
      },
      "source": [
        "# text_with_emojis = \"🇧🇷 Brazilian hospital system Prevent Senior tackles COVID with the Raoult HCQ+AZI protocol with resounding success 😁\"\n",
        "# text_with_a_number = \"BREAKING:  Treatment with Hydroxychloroquine Cut Death Rate Significantly  in COVID-19 Patients, Henry Ford Health System Study Shows.\"\n",
        "# text_with_two_numbers = \"A new retrospective study (n=360,000) shows that use of hydroxychloroquine reduces the chance of getting Covid-19 by about 50%.\"\n",
        "# text_with_punctuations = \"Ivermectin Study shows 100% of 60 Patients Better in an Average of Just Under 6 Days. HCQ+AZ also shown effective...\"\n",
        "# text_with_a_date = \"06/30/20-In Brazil, rather than shut down the economy, they made hydroxychloroquine available for early treatment. The media predicted DOOM. It did not happen and it is not going to happen. This is a flat curve.\"\n",
        "# text_with_dates = \"Tweeted on 06/15/20 and retweeted on 06/26/20: Published studies & case-controlled trials show #Hydroxychloroquine has strong efficacy in early #COVID19. We have ability to save lives. It’s time for Canadians to DEMAND @JustinTrudeau @fordnation govts release 7M+ doses of stockpiled #HCQ & allow MDs to do our job without fear twitter.com/OnCall4ON/stat….\"\n",
        "# text_with_duplicates = \"NEW Research—No evidence of benefit for #chloroquine and #hydroxychloroquine in #COVID19 patients, urgent randomised trials are needed: finding from a large observational study of nearly 15,000 patients with #COVID19 & 81,000 controls\""
      ],
      "execution_count": 21,
      "outputs": []
    },
    {
      "cell_type": "code",
      "metadata": {
        "id": "zVcAfRfiyRRS",
        "colab_type": "code",
        "colab": {}
      },
      "source": [
        "#Edge cases...:D\n",
        "text1 = \"The Pope/'s baby steps on gays.\"\n",
        "text2 = \"Boy paralyzed after tumor fights back to gain black belt.\"\n",
        "text3 = \"Scientists study whales from space.\"\n",
        "text4= \"Juvenille court to Try Shooting Defendant.\""
      ],
      "execution_count": 22,
      "outputs": []
    },
    {
      "cell_type": "code",
      "metadata": {
        "id": "HpOqQGgreUh2",
        "colab_type": "code",
        "colab": {
          "base_uri": "https://localhost:8080/",
          "height": 173
        },
        "outputId": "98a578ce-81a7-4ddf-c5c8-ccc15928a0ce"
      },
      "source": [
        "# data = [text_with_emojis, text_with_a_number, text_with_two_numbers, \n",
        "        # text_with_punctuations, text_with_a_date, text_with_dates, text_with_duplicates]\n",
        "data = [text1, text2, text3, text4]\n",
        "text_dataframe = pd.DataFrame(data, columns=['text'])\n",
        "text_dataframe"
      ],
      "execution_count": 23,
      "outputs": [
        {
          "output_type": "execute_result",
          "data": {
            "text/html": [
              "<div>\n",
              "<style scoped>\n",
              "    .dataframe tbody tr th:only-of-type {\n",
              "        vertical-align: middle;\n",
              "    }\n",
              "\n",
              "    .dataframe tbody tr th {\n",
              "        vertical-align: top;\n",
              "    }\n",
              "\n",
              "    .dataframe thead th {\n",
              "        text-align: right;\n",
              "    }\n",
              "</style>\n",
              "<table border=\"1\" class=\"dataframe\">\n",
              "  <thead>\n",
              "    <tr style=\"text-align: right;\">\n",
              "      <th></th>\n",
              "      <th>text</th>\n",
              "    </tr>\n",
              "  </thead>\n",
              "  <tbody>\n",
              "    <tr>\n",
              "      <th>0</th>\n",
              "      <td>The Pope/'s baby steps on gays.</td>\n",
              "    </tr>\n",
              "    <tr>\n",
              "      <th>1</th>\n",
              "      <td>Boy paralyzed after tumor fights back to gain ...</td>\n",
              "    </tr>\n",
              "    <tr>\n",
              "      <th>2</th>\n",
              "      <td>Scientists study whales from space.</td>\n",
              "    </tr>\n",
              "    <tr>\n",
              "      <th>3</th>\n",
              "      <td>Juvenille court to Try Shooting Defendant.</td>\n",
              "    </tr>\n",
              "  </tbody>\n",
              "</table>\n",
              "</div>"
            ],
            "text/plain": [
              "                                                text\n",
              "0                    The Pope/'s baby steps on gays.\n",
              "1  Boy paralyzed after tumor fights back to gain ...\n",
              "2                Scientists study whales from space.\n",
              "3         Juvenille court to Try Shooting Defendant."
            ]
          },
          "metadata": {
            "tags": []
          },
          "execution_count": 23
        }
      ]
    },
    {
      "cell_type": "markdown",
      "metadata": {
        "id": "OW-KcI8NedmX",
        "colab_type": "text"
      },
      "source": [
        "Pandas' familiar describe() function."
      ]
    },
    {
      "cell_type": "code",
      "metadata": {
        "id": "kexLGRlVeagY",
        "colab_type": "code",
        "colab": {
          "base_uri": "https://localhost:8080/",
          "height": 207
        },
        "outputId": "fab8d6a0-c5cb-4497-a80f-b18da917ab74"
      },
      "source": [
        "%%time\n",
        "text_dataframe.describe()"
      ],
      "execution_count": 24,
      "outputs": [
        {
          "output_type": "stream",
          "text": [
            "CPU times: user 5.68 ms, sys: 950 µs, total: 6.63 ms\n",
            "Wall time: 6.47 ms\n"
          ],
          "name": "stdout"
        },
        {
          "output_type": "execute_result",
          "data": {
            "text/html": [
              "<div>\n",
              "<style scoped>\n",
              "    .dataframe tbody tr th:only-of-type {\n",
              "        vertical-align: middle;\n",
              "    }\n",
              "\n",
              "    .dataframe tbody tr th {\n",
              "        vertical-align: top;\n",
              "    }\n",
              "\n",
              "    .dataframe thead th {\n",
              "        text-align: right;\n",
              "    }\n",
              "</style>\n",
              "<table border=\"1\" class=\"dataframe\">\n",
              "  <thead>\n",
              "    <tr style=\"text-align: right;\">\n",
              "      <th></th>\n",
              "      <th>text</th>\n",
              "    </tr>\n",
              "  </thead>\n",
              "  <tbody>\n",
              "    <tr>\n",
              "      <th>count</th>\n",
              "      <td>4</td>\n",
              "    </tr>\n",
              "    <tr>\n",
              "      <th>unique</th>\n",
              "      <td>4</td>\n",
              "    </tr>\n",
              "    <tr>\n",
              "      <th>top</th>\n",
              "      <td>Juvenille court to Try Shooting Defendant.</td>\n",
              "    </tr>\n",
              "    <tr>\n",
              "      <th>freq</th>\n",
              "      <td>1</td>\n",
              "    </tr>\n",
              "  </tbody>\n",
              "</table>\n",
              "</div>"
            ],
            "text/plain": [
              "                                              text\n",
              "count                                            4\n",
              "unique                                           4\n",
              "top     Juvenille court to Try Shooting Defendant.\n",
              "freq                                             1"
            ]
          },
          "metadata": {
            "tags": []
          },
          "execution_count": 24
        }
      ]
    },
    {
      "cell_type": "markdown",
      "metadata": {
        "id": "n9C9gbqIexuB",
        "colab_type": "text"
      },
      "source": [
        "The usual output for describe() are descriptive stat's: count, unique, top, freq, mean, std dev."
      ]
    },
    {
      "cell_type": "markdown",
      "metadata": {
        "id": "22dSNVk9fEeW",
        "colab_type": "text"
      },
      "source": [
        "Here we do something similar with text with NLP profiler."
      ]
    },
    {
      "cell_type": "code",
      "metadata": {
        "id": "9Y1VnzcjejbE",
        "colab_type": "code",
        "colab": {
          "base_uri": "https://localhost:8080/",
          "height": 51
        },
        "outputId": "b59ad170-8723-46fe-f9c2-e85c39b7a6a1"
      },
      "source": [
        "%%time\n",
        "\n",
        "profiled_text_dataframe = apply_text_profiling(text_dataframe, 'text')"
      ],
      "execution_count": 25,
      "outputs": [
        {
          "output_type": "stream",
          "text": [
            "CPU times: user 444 ms, sys: 5.51 ms, total: 450 ms\n",
            "Wall time: 462 ms\n"
          ],
          "name": "stdout"
        }
      ]
    },
    {
      "cell_type": "code",
      "metadata": {
        "id": "86Wvcg0ZNcGW",
        "colab_type": "code",
        "colab": {
          "base_uri": "https://localhost:8080/",
          "height": 448
        },
        "outputId": "55487776-3686-47b9-e1a5-1d311a8e58e6"
      },
      "source": [
        "profiled_text_dataframe"
      ],
      "execution_count": 26,
      "outputs": [
        {
          "output_type": "execute_result",
          "data": {
            "text/html": [
              "<div>\n",
              "<style scoped>\n",
              "    .dataframe tbody tr th:only-of-type {\n",
              "        vertical-align: middle;\n",
              "    }\n",
              "\n",
              "    .dataframe tbody tr th {\n",
              "        vertical-align: top;\n",
              "    }\n",
              "\n",
              "    .dataframe thead th {\n",
              "        text-align: right;\n",
              "    }\n",
              "</style>\n",
              "<table border=\"1\" class=\"dataframe\">\n",
              "  <thead>\n",
              "    <tr style=\"text-align: right;\">\n",
              "      <th></th>\n",
              "      <th>text</th>\n",
              "      <th>sentiment_polarity_score</th>\n",
              "      <th>sentiment_polarity</th>\n",
              "      <th>sentiment_subjectivity_score</th>\n",
              "      <th>sentiment_subjectivity</th>\n",
              "      <th>spellcheck_score</th>\n",
              "      <th>spelling_quality</th>\n",
              "      <th>sentences_count</th>\n",
              "      <th>characters_count</th>\n",
              "      <th>spaces_count</th>\n",
              "      <th>words_count</th>\n",
              "      <th>duplicates_count</th>\n",
              "      <th>chars_excl_spaces_count</th>\n",
              "      <th>emoji_count</th>\n",
              "      <th>whole_numbers_count</th>\n",
              "      <th>alpha_numeric_count</th>\n",
              "      <th>non_alpha_numeric_count</th>\n",
              "      <th>punctuations_count</th>\n",
              "      <th>stop_words_count</th>\n",
              "      <th>dates_count</th>\n",
              "    </tr>\n",
              "  </thead>\n",
              "  <tbody>\n",
              "    <tr>\n",
              "      <th>0</th>\n",
              "      <td>The Pope/'s baby steps on gays.</td>\n",
              "      <td>0.000000</td>\n",
              "      <td>Neutral</td>\n",
              "      <td>0.000000</td>\n",
              "      <td>Very objective</td>\n",
              "      <td>0.792989</td>\n",
              "      <td>Pretty good</td>\n",
              "      <td>2</td>\n",
              "      <td>31</td>\n",
              "      <td>5</td>\n",
              "      <td>7</td>\n",
              "      <td>0</td>\n",
              "      <td>26</td>\n",
              "      <td>0</td>\n",
              "      <td>0</td>\n",
              "      <td>23</td>\n",
              "      <td>8</td>\n",
              "      <td>3</td>\n",
              "      <td>1</td>\n",
              "      <td>0</td>\n",
              "    </tr>\n",
              "    <tr>\n",
              "      <th>1</th>\n",
              "      <td>Boy paralyzed after tumor fights back to gain ...</td>\n",
              "      <td>-0.083333</td>\n",
              "      <td>Negative</td>\n",
              "      <td>0.216667</td>\n",
              "      <td>Pretty objective</td>\n",
              "      <td>0.966633</td>\n",
              "      <td>Quite good</td>\n",
              "      <td>2</td>\n",
              "      <td>57</td>\n",
              "      <td>9</td>\n",
              "      <td>10</td>\n",
              "      <td>0</td>\n",
              "      <td>48</td>\n",
              "      <td>0</td>\n",
              "      <td>0</td>\n",
              "      <td>47</td>\n",
              "      <td>10</td>\n",
              "      <td>1</td>\n",
              "      <td>2</td>\n",
              "      <td>0</td>\n",
              "    </tr>\n",
              "    <tr>\n",
              "      <th>2</th>\n",
              "      <td>Scientists study whales from space.</td>\n",
              "      <td>0.000000</td>\n",
              "      <td>Neutral</td>\n",
              "      <td>0.000000</td>\n",
              "      <td>Very objective</td>\n",
              "      <td>0.958333</td>\n",
              "      <td>Quite good</td>\n",
              "      <td>2</td>\n",
              "      <td>35</td>\n",
              "      <td>4</td>\n",
              "      <td>5</td>\n",
              "      <td>0</td>\n",
              "      <td>31</td>\n",
              "      <td>0</td>\n",
              "      <td>0</td>\n",
              "      <td>30</td>\n",
              "      <td>5</td>\n",
              "      <td>1</td>\n",
              "      <td>1</td>\n",
              "      <td>0</td>\n",
              "    </tr>\n",
              "    <tr>\n",
              "      <th>3</th>\n",
              "      <td>Juvenille court to Try Shooting Defendant.</td>\n",
              "      <td>0.000000</td>\n",
              "      <td>Neutral</td>\n",
              "      <td>0.000000</td>\n",
              "      <td>Very objective</td>\n",
              "      <td>0.912959</td>\n",
              "      <td>Quite good</td>\n",
              "      <td>2</td>\n",
              "      <td>42</td>\n",
              "      <td>5</td>\n",
              "      <td>6</td>\n",
              "      <td>0</td>\n",
              "      <td>37</td>\n",
              "      <td>0</td>\n",
              "      <td>0</td>\n",
              "      <td>36</td>\n",
              "      <td>6</td>\n",
              "      <td>1</td>\n",
              "      <td>1</td>\n",
              "      <td>0</td>\n",
              "    </tr>\n",
              "  </tbody>\n",
              "</table>\n",
              "</div>"
            ],
            "text/plain": [
              "                                                text  ...  dates_count\n",
              "0                    The Pope/'s baby steps on gays.  ...            0\n",
              "1  Boy paralyzed after tumor fights back to gain ...  ...            0\n",
              "2                Scientists study whales from space.  ...            0\n",
              "3         Juvenille court to Try Shooting Defendant.  ...            0\n",
              "\n",
              "[4 rows x 20 columns]"
            ]
          },
          "metadata": {
            "tags": []
          },
          "execution_count": 26
        }
      ]
    },
    {
      "cell_type": "markdown",
      "metadata": {
        "id": "xgPo1oDzjzhc",
        "colab_type": "text"
      },
      "source": [
        "This is pretty cool! With intentional cryptic sentences that could be interpreted in multiple ways, see that backend did a good job with 3/4! Second sentence had negative sentiment polarity when should have been positive. Though in general, sentiment polarity and sentiment subjectivity did pretty good classification despite meaning ambiguity. "
      ]
    },
    {
      "cell_type": "markdown",
      "metadata": {
        "id": "_f4Tnqh8fi2g",
        "colab_type": "text"
      },
      "source": [
        "Sentiment Analysis"
      ]
    },
    {
      "cell_type": "code",
      "metadata": {
        "id": "S2i0ZPS6fM1E",
        "colab_type": "code",
        "colab": {
          "base_uri": "https://localhost:8080/",
          "height": 282
        },
        "outputId": "1aa1153b-615e-4de7-bfe7-03636ac15b79"
      },
      "source": [
        "profiled_text_dataframe['sentiment_polarity'].hist()"
      ],
      "execution_count": 27,
      "outputs": [
        {
          "output_type": "execute_result",
          "data": {
            "text/plain": [
              "<matplotlib.axes._subplots.AxesSubplot at 0x7f4b1b266dd8>"
            ]
          },
          "metadata": {
            "tags": []
          },
          "execution_count": 27
        },
        {
          "output_type": "display_data",
          "data": {
            "image/png": "[encoded data removed]",
            "text/plain": [
              "<Figure size 432x288 with 1 Axes>"
            ]
          },
          "metadata": {
            "tags": [],
            "needs_background": "light"
          }
        }
      ]
    },
    {
      "cell_type": "code",
      "metadata": {
        "id": "sNqX4XC9fqZy",
        "colab_type": "code",
        "colab": {
          "base_uri": "https://localhost:8080/",
          "height": 282
        },
        "outputId": "a07de47b-3cef-4828-d879-6f56ec517023"
      },
      "source": [
        "profiled_text_dataframe['sentiment_subjectivity'].hist()"
      ],
      "execution_count": 28,
      "outputs": [
        {
          "output_type": "execute_result",
          "data": {
            "text/plain": [
              "<matplotlib.axes._subplots.AxesSubplot at 0x7f4b1b220dd8>"
            ]
          },
          "metadata": {
            "tags": []
          },
          "execution_count": 28
        },
        {
          "output_type": "display_data",
          "data": {
            "image/png": "[encoded data removed]",
            "text/plain": [
              "<Figure size 432x288 with 1 Axes>"
            ]
          },
          "metadata": {
            "tags": [],
            "needs_background": "light"
          }
        }
      ]
    },
    {
      "cell_type": "markdown",
      "metadata": {
        "id": "gBCz3tnEf-lG",
        "colab_type": "text"
      },
      "source": [
        "Spelling quality check.\n",
        "\n",
        "The spelling score and spelling quality check is upto 70% accurate, it's using Peter Norvig’s “How to Write a Spelling Corrector\"."
      ]
    },
    {
      "cell_type": "code",
      "metadata": {
        "id": "aHYext6hf4I3",
        "colab_type": "code",
        "colab": {
          "base_uri": "https://localhost:8080/",
          "height": 282
        },
        "outputId": "7d5ce967-df61-497d-ac88-6e1c6344e09f"
      },
      "source": [
        "profiled_text_dataframe['spellcheck_score'].hist()"
      ],
      "execution_count": 29,
      "outputs": [
        {
          "output_type": "execute_result",
          "data": {
            "text/plain": [
              "<matplotlib.axes._subplots.AxesSubplot at 0x7f4b1b152550>"
            ]
          },
          "metadata": {
            "tags": []
          },
          "execution_count": 29
        },
        {
          "output_type": "display_data",
          "data": {
            "image/png": "[encoded data removed]",
            "text/plain": [
              "<Figure size 432x288 with 1 Axes>"
            ]
          },
          "metadata": {
            "tags": [],
            "needs_background": "light"
          }
        }
      ]
    },
    {
      "cell_type": "code",
      "metadata": {
        "id": "nHvc2Yf6gKTP",
        "colab_type": "code",
        "colab": {
          "base_uri": "https://localhost:8080/",
          "height": 282
        },
        "outputId": "35164e00-0f2b-4e85-8533-470fc5e1670e"
      },
      "source": [
        "profiled_text_dataframe['spelling_quality'].hist()"
      ],
      "execution_count": 30,
      "outputs": [
        {
          "output_type": "execute_result",
          "data": {
            "text/plain": [
              "<matplotlib.axes._subplots.AxesSubplot at 0x7f4b1b13e668>"
            ]
          },
          "metadata": {
            "tags": []
          },
          "execution_count": 30
        },
        {
          "output_type": "display_data",
          "data": {
            "image/png": "[encoded data removed]",
            "text/plain": [
              "<Figure size 432x288 with 1 Axes>"
            ]
          },
          "metadata": {
            "tags": [],
            "needs_background": "light"
          }
        }
      ]
    },
    {
      "cell_type": "markdown",
      "metadata": {
        "id": "uI-s0ECQgd-9",
        "colab_type": "text"
      },
      "source": [
        "\n",
        "Resources:\n",
        "\n",
        "https://www.kaggle.com/raenish/cheatsheet-text-helper-functions\n",
        "https://textblob.readthedocs.io/en/dev/quickstart.html"
      ]
    },
    {
      "cell_type": "code",
      "metadata": {
        "id": "dCO4x5xNOChy",
        "colab_type": "code",
        "colab": {}
      },
      "source": [
        ""
      ],
      "execution_count": 30,
      "outputs": []
    }
  ]
}