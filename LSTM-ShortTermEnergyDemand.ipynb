{
 "cells": [
  {
   "cell_type": "code",
   "execution_count": 12,
   "metadata": {},
   "outputs": [],
   "source": [
    "import scipy as stats\n",
    "import numpy as np\n",
    "import matplotlib as mpl\n",
    "import pandas as pd\n",
    "import statsmodels as sm\n",
    "import sklearn as sk\n",
    "\n",
    "#import theano as t\n",
    "import tensorflow as tf\n",
    "import keras as k"
   ]
  },
  {
   "cell_type": "markdown",
   "metadata": {},
   "source": [
    "All original code from: https://machinelearningmastery.com/how-to-develop-lstm-models-for-multi-step-time-series-forecasting-of-household-power-consumption/"
   ]
  },
  {
   "cell_type": "markdown",
   "metadata": {},
   "source": [
    "## Motivation:\n",
    "\n",
    "I am getting familiar with Energy Demand forecasting and LSTM's are cutting edge architecture for Time Series Forecasting."
   ]
  },
  {
   "cell_type": "markdown",
   "metadata": {},
   "source": [
    "# Defining the Problem"
   ]
  },
  {
   "cell_type": "markdown",
   "metadata": {},
   "source": [
    "Given the rise of smart electricity meters and the wide adoption of electricity generation technology like solar panels, there is a wealth of electricity usage data available.\n",
    "\n",
    "This data represents a multivariate time series of power-related variables, that in turn could be used to model and even **forecast future electricity consumption.**\n",
    "\n",
    "In this model build, will be using a household power consumption dataset for multi-step time series forecasting ."
   ]
  },
  {
   "cell_type": "markdown",
   "metadata": {},
   "source": [
    "# The Data"
   ]
  },
  {
   "cell_type": "markdown",
   "metadata": {},
   "source": [
    "The Household Power Consumption dataset is a multivariate time series dataset that describes the electricity consumption for a single household over four years.\n",
    "\n",
    "The data was collected between December 2006 and November 2010 and observations of power consumption within the household were collected every minute.\n",
    "\n",
    "It is a multivariate series comprised of seven variables (besides the date and time); they are:\n",
    "\n",
    "global_active_power: The total active power consumed by the household (kilowatts).\n",
    "global_reactive_power: The total reactive power consumed by the household (kilowatts).\n",
    "voltage: Average voltage (volts).\n",
    "global_intensity: Average current intensity (amps).\n",
    "sub_metering_1: Active energy for kitchen (watt-hours of active energy).\n",
    "sub_metering_2: Active energy for laundry (watt-hours of active energy).\n",
    "sub_metering_3: Active energy for climate control systems (watt-hours of active energy).\n",
    "Active and reactive energy refer to the technical details of alternative current.\n",
    "\n",
    "In general terms, the active energy is the real power consumed by the household, whereas the reactive energy is the unused power in the lines.\n",
    "\n",
    "We can see that the dataset provides the active power as well as some division of the active power by main circuit in the house, specifically the kitchen, laundry, and climate control. These are not all the circuits in the household.\n",
    "\n",
    "The remaining watt-hours can be calculated from the active energy by first converting the active energy to watt-hours then subtracting the other sub-metered active energy in watt-hours, as follows:"
   ]
  },
  {
   "cell_type": "markdown",
   "metadata": {},
   "source": [
    "### sub_metering_remainder = (global_active_power * 1000 / 60) - (sub_metering_1 + sub_metering_2 + sub_metering_3)"
   ]
  },
  {
   "cell_type": "code",
   "execution_count": 19,
   "metadata": {},
   "outputs": [
    {
     "data": {
      "text/html": [
       "<div>\n",
       "<style scoped>\n",
       "    .dataframe tbody tr th:only-of-type {\n",
       "        vertical-align: middle;\n",
       "    }\n",
       "\n",
       "    .dataframe tbody tr th {\n",
       "        vertical-align: top;\n",
       "    }\n",
       "\n",
       "    .dataframe thead th {\n",
       "        text-align: right;\n",
       "    }\n",
       "</style>\n",
       "<table border=\"1\" class=\"dataframe\">\n",
       "  <thead>\n",
       "    <tr style=\"text-align: right;\">\n",
       "      <th></th>\n",
       "      <th>Global_active_power</th>\n",
       "      <th>Global_reactive_power</th>\n",
       "      <th>Voltage</th>\n",
       "      <th>Global_intensity</th>\n",
       "      <th>Sub_metering_1</th>\n",
       "      <th>Sub_metering_2</th>\n",
       "      <th>Sub_metering_3</th>\n",
       "    </tr>\n",
       "    <tr>\n",
       "      <th>datetime</th>\n",
       "      <th></th>\n",
       "      <th></th>\n",
       "      <th></th>\n",
       "      <th></th>\n",
       "      <th></th>\n",
       "      <th></th>\n",
       "      <th></th>\n",
       "    </tr>\n",
       "  </thead>\n",
       "  <tbody>\n",
       "    <tr>\n",
       "      <th>2006-12-16 17:24:00</th>\n",
       "      <td>4.216</td>\n",
       "      <td>0.418</td>\n",
       "      <td>234.840</td>\n",
       "      <td>18.400</td>\n",
       "      <td>0.000</td>\n",
       "      <td>1.000</td>\n",
       "      <td>17.0</td>\n",
       "    </tr>\n",
       "    <tr>\n",
       "      <th>2006-12-16 17:25:00</th>\n",
       "      <td>5.360</td>\n",
       "      <td>0.436</td>\n",
       "      <td>233.630</td>\n",
       "      <td>23.000</td>\n",
       "      <td>0.000</td>\n",
       "      <td>1.000</td>\n",
       "      <td>16.0</td>\n",
       "    </tr>\n",
       "    <tr>\n",
       "      <th>2006-12-16 17:26:00</th>\n",
       "      <td>5.374</td>\n",
       "      <td>0.498</td>\n",
       "      <td>233.290</td>\n",
       "      <td>23.000</td>\n",
       "      <td>0.000</td>\n",
       "      <td>2.000</td>\n",
       "      <td>17.0</td>\n",
       "    </tr>\n",
       "    <tr>\n",
       "      <th>2006-12-16 17:27:00</th>\n",
       "      <td>5.388</td>\n",
       "      <td>0.502</td>\n",
       "      <td>233.740</td>\n",
       "      <td>23.000</td>\n",
       "      <td>0.000</td>\n",
       "      <td>1.000</td>\n",
       "      <td>17.0</td>\n",
       "    </tr>\n",
       "    <tr>\n",
       "      <th>2006-12-16 17:28:00</th>\n",
       "      <td>3.666</td>\n",
       "      <td>0.528</td>\n",
       "      <td>235.680</td>\n",
       "      <td>15.800</td>\n",
       "      <td>0.000</td>\n",
       "      <td>1.000</td>\n",
       "      <td>17.0</td>\n",
       "    </tr>\n",
       "  </tbody>\n",
       "</table>\n",
       "</div>"
      ],
      "text/plain": [
       "                    Global_active_power Global_reactive_power  Voltage  \\\n",
       "datetime                                                                 \n",
       "2006-12-16 17:24:00               4.216                 0.418  234.840   \n",
       "2006-12-16 17:25:00               5.360                 0.436  233.630   \n",
       "2006-12-16 17:26:00               5.374                 0.498  233.290   \n",
       "2006-12-16 17:27:00               5.388                 0.502  233.740   \n",
       "2006-12-16 17:28:00               3.666                 0.528  235.680   \n",
       "\n",
       "                    Global_intensity Sub_metering_1 Sub_metering_2  \\\n",
       "datetime                                                             \n",
       "2006-12-16 17:24:00           18.400          0.000          1.000   \n",
       "2006-12-16 17:25:00           23.000          0.000          1.000   \n",
       "2006-12-16 17:26:00           23.000          0.000          2.000   \n",
       "2006-12-16 17:27:00           23.000          0.000          1.000   \n",
       "2006-12-16 17:28:00           15.800          0.000          1.000   \n",
       "\n",
       "                     Sub_metering_3  \n",
       "datetime                             \n",
       "2006-12-16 17:24:00            17.0  \n",
       "2006-12-16 17:25:00            16.0  \n",
       "2006-12-16 17:26:00            17.0  \n",
       "2006-12-16 17:27:00            17.0  \n",
       "2006-12-16 17:28:00            17.0  "
      ]
     },
     "execution_count": 19,
     "metadata": {},
     "output_type": "execute_result"
    }
   ],
   "source": [
    "# load all data\n",
    "dataset = pd.read_csv('household_power_consumption.txt', sep=';', header=0, low_memory=False, infer_datetime_format=True, parse_dates={'datetime':[0,1]}, index_col=['datetime'])\n",
    "# summarize\n",
    "dataset.shape\n",
    "dataset.head()"
   ]
  },
  {
   "cell_type": "markdown",
   "metadata": {},
   "source": [
    "Take care of '?'. Convert them to NaN's so all data is one array of floating point values."
   ]
  },
  {
   "cell_type": "code",
   "execution_count": 24,
   "metadata": {},
   "outputs": [],
   "source": [
    "dataset.replace('?', np.NaN, inplace=True)"
   ]
  },
  {
   "cell_type": "markdown",
   "metadata": {},
   "source": [
    "Create new column: sub_metering_remainder. "
   ]
  },
  {
   "cell_type": "code",
   "execution_count": 25,
   "metadata": {},
   "outputs": [],
   "source": [
    "# add a column for for the remainder of sub metering\n",
    "values = dataset.values.astype('float32')\n",
    "dataset['sub_metering_4'] = (values[:,0] * 1000 / 60) - (values[:,4] + values[:,5] + values[:,6])"
   ]
  },
  {
   "cell_type": "code",
   "execution_count": 26,
   "metadata": {},
   "outputs": [],
   "source": [
    "#Save transformed dataset as .csv since this format is easiest to work with when loading as Pandas DF\n",
    "dataset.to_csv('household_power_consumption.csv')"
   ]
  },
  {
   "cell_type": "code",
   "execution_count": 29,
   "metadata": {},
   "outputs": [
    {
     "data": {
      "text/html": [
       "<div>\n",
       "<style scoped>\n",
       "    .dataframe tbody tr th:only-of-type {\n",
       "        vertical-align: middle;\n",
       "    }\n",
       "\n",
       "    .dataframe tbody tr th {\n",
       "        vertical-align: top;\n",
       "    }\n",
       "\n",
       "    .dataframe thead th {\n",
       "        text-align: right;\n",
       "    }\n",
       "</style>\n",
       "<table border=\"1\" class=\"dataframe\">\n",
       "  <thead>\n",
       "    <tr style=\"text-align: right;\">\n",
       "      <th></th>\n",
       "      <th>datetime</th>\n",
       "      <th>Global_active_power</th>\n",
       "      <th>Global_reactive_power</th>\n",
       "      <th>Voltage</th>\n",
       "      <th>Global_intensity</th>\n",
       "      <th>Sub_metering_1</th>\n",
       "      <th>Sub_metering_2</th>\n",
       "      <th>Sub_metering_3</th>\n",
       "      <th>sub_metering_4</th>\n",
       "    </tr>\n",
       "  </thead>\n",
       "  <tbody>\n",
       "    <tr>\n",
       "      <th>0</th>\n",
       "      <td>2006-12-16 17:24:00</td>\n",
       "      <td>4.216</td>\n",
       "      <td>0.418</td>\n",
       "      <td>234.84</td>\n",
       "      <td>18.4</td>\n",
       "      <td>0.0</td>\n",
       "      <td>1.0</td>\n",
       "      <td>17.0</td>\n",
       "      <td>52.266670</td>\n",
       "    </tr>\n",
       "    <tr>\n",
       "      <th>1</th>\n",
       "      <td>2006-12-16 17:25:00</td>\n",
       "      <td>5.360</td>\n",
       "      <td>0.436</td>\n",
       "      <td>233.63</td>\n",
       "      <td>23.0</td>\n",
       "      <td>0.0</td>\n",
       "      <td>1.0</td>\n",
       "      <td>16.0</td>\n",
       "      <td>72.333336</td>\n",
       "    </tr>\n",
       "    <tr>\n",
       "      <th>2</th>\n",
       "      <td>2006-12-16 17:26:00</td>\n",
       "      <td>5.374</td>\n",
       "      <td>0.498</td>\n",
       "      <td>233.29</td>\n",
       "      <td>23.0</td>\n",
       "      <td>0.0</td>\n",
       "      <td>2.0</td>\n",
       "      <td>17.0</td>\n",
       "      <td>70.566666</td>\n",
       "    </tr>\n",
       "    <tr>\n",
       "      <th>3</th>\n",
       "      <td>2006-12-16 17:27:00</td>\n",
       "      <td>5.388</td>\n",
       "      <td>0.502</td>\n",
       "      <td>233.74</td>\n",
       "      <td>23.0</td>\n",
       "      <td>0.0</td>\n",
       "      <td>1.0</td>\n",
       "      <td>17.0</td>\n",
       "      <td>71.800000</td>\n",
       "    </tr>\n",
       "    <tr>\n",
       "      <th>4</th>\n",
       "      <td>2006-12-16 17:28:00</td>\n",
       "      <td>3.666</td>\n",
       "      <td>0.528</td>\n",
       "      <td>235.68</td>\n",
       "      <td>15.8</td>\n",
       "      <td>0.0</td>\n",
       "      <td>1.0</td>\n",
       "      <td>17.0</td>\n",
       "      <td>43.100000</td>\n",
       "    </tr>\n",
       "  </tbody>\n",
       "</table>\n",
       "</div>"
      ],
      "text/plain": [
       "              datetime  Global_active_power  Global_reactive_power  Voltage  \\\n",
       "0  2006-12-16 17:24:00                4.216                  0.418   234.84   \n",
       "1  2006-12-16 17:25:00                5.360                  0.436   233.63   \n",
       "2  2006-12-16 17:26:00                5.374                  0.498   233.29   \n",
       "3  2006-12-16 17:27:00                5.388                  0.502   233.74   \n",
       "4  2006-12-16 17:28:00                3.666                  0.528   235.68   \n",
       "\n",
       "   Global_intensity  Sub_metering_1  Sub_metering_2  Sub_metering_3  \\\n",
       "0              18.4             0.0             1.0            17.0   \n",
       "1              23.0             0.0             1.0            16.0   \n",
       "2              23.0             0.0             2.0            17.0   \n",
       "3              23.0             0.0             1.0            17.0   \n",
       "4              15.8             0.0             1.0            17.0   \n",
       "\n",
       "   sub_metering_4  \n",
       "0       52.266670  \n",
       "1       72.333336  \n",
       "2       70.566666  \n",
       "3       71.800000  \n",
       "4       43.100000  "
      ]
     },
     "execution_count": 29,
     "metadata": {},
     "output_type": "execute_result"
    }
   ],
   "source": [
    "#Check that it was converted properly by reloading dataset as csv.\n",
    "dataset = pd.read_csv('household_power_consumption.csv', header=0)\n",
    "dataset.head()"
   ]
  },
  {
   "cell_type": "markdown",
   "metadata": {},
   "source": [
    "Great! Headers are right and sub_metering_4 is added into DF."
   ]
  },
  {
   "cell_type": "markdown",
   "metadata": {},
   "source": [
    "Also, good thing to check is that NaN's were created in replacement of '?''s."
   ]
  },
  {
   "cell_type": "code",
   "execution_count": 30,
   "metadata": {},
   "outputs": [
    {
     "data": {
      "text/plain": [
       "datetime                     0\n",
       "Global_active_power      25979\n",
       "Global_reactive_power    25979\n",
       "Voltage                  25979\n",
       "Global_intensity         25979\n",
       "Sub_metering_1           25979\n",
       "Sub_metering_2           25979\n",
       "Sub_metering_3           25979\n",
       "sub_metering_4           25979\n",
       "dtype: int64"
      ]
     },
     "execution_count": 30,
     "metadata": {},
     "output_type": "execute_result"
    }
   ],
   "source": [
    "dataset.isnull().sum()"
   ]
  },
  {
   "cell_type": "code",
   "execution_count": 31,
   "metadata": {},
   "outputs": [
    {
     "name": "stdout",
     "output_type": "stream",
     "text": [
      "<class 'pandas.core.frame.DataFrame'>\n",
      "RangeIndex: 2075259 entries, 0 to 2075258\n",
      "Data columns (total 9 columns):\n",
      " #   Column                 Dtype  \n",
      "---  ------                 -----  \n",
      " 0   datetime               object \n",
      " 1   Global_active_power    float64\n",
      " 2   Global_reactive_power  float64\n",
      " 3   Voltage                float64\n",
      " 4   Global_intensity       float64\n",
      " 5   Sub_metering_1         float64\n",
      " 6   Sub_metering_2         float64\n",
      " 7   Sub_metering_3         float64\n",
      " 8   sub_metering_4         float64\n",
      "dtypes: float64(8), object(1)\n",
      "memory usage: 142.5+ MB\n"
     ]
    }
   ],
   "source": [
    "dataset.info()"
   ]
  },
  {
   "cell_type": "markdown",
   "metadata": {},
   "source": [
    "NaN's are about 1/8 of the dataset. This is something to keep in mind when assessming model performance."
   ]
  },
  {
   "cell_type": "markdown",
   "metadata": {},
   "source": [
    "Now, let's explore the data to get an a look at what we are trying to model."
   ]
  },
  {
   "cell_type": "markdown",
   "metadata": {},
   "source": [
    "# EDA"
   ]
  },
  {
   "cell_type": "markdown",
   "metadata": {},
   "source": [
    "## Patterns in Observations Over Time"
   ]
  },
  {
   "cell_type": "markdown",
   "metadata": {},
   "source": [
    "Best way to understand Time Series is to make line plots.\n",
    "\n",
    "Start with making line plots for each variable."
   ]
  },
  {
   "cell_type": "code",
   "execution_count": null,
   "metadata": {},
   "outputs": [],
   "source": [
    "from matplotlib import pyplot\n",
    "\n",
    "pyplot.figure()\n",
    "for i in range(len(dataset.columns)):\n",
    "    pyplot.subplot(len(dataset.columns), 1, i+1)\n",
    "    name = dataset.columns[i]\n",
    "    pyplot.plot(dataset[name])\n",
    "    pyplot.title(name, y=0)\n",
    "pyplot.show()"
   ]
  },
  {
   "cell_type": "markdown",
   "metadata": {},
   "source": [
    "Some intitial obs:\n",
    "\n",
    "1. Something interesting with sub_metering_3 (environmental control) that may not directly map to hot/cold years. Maybe new systems were installed.\n",
    "\n",
    "2. sub_metering_4 is decreasing with time, downward trend that may be correlated with sub_metering_3's solid trend's increase towards the end.\n",
    "\n",
    "3. These observations reminds us that need to take into consideration subsequences' temporal ordering when fitting and evaluating any model.\n",
    "\n",
    "4. Might be able to see wave of seasonal effect in 'Global_active_power' and some other variates with subsequent EDA.\n",
    "\n",
    "5. Some spiky activity may be due to weekend household activity. "
   ]
  },
  {
   "cell_type": "markdown",
   "metadata": {},
   "source": [
    "Now, zooming in on 'Global_active_power'."
   ]
  },
  {
   "cell_type": "code",
   "execution_count": null,
   "metadata": {},
   "outputs": [],
   "source": [
    "# plot active power for each year\n",
    "years = ['2007', '2008', '2009', '2010']\n",
    "pyplot.figure()\n",
    "for i in range(len(years)):\n",
    "\t# prepare subplot\n",
    "\tax = pyplot.subplot(len(years), 1, i+1)\n",
    "\t# determine the year to plot\n",
    "\tyear = years[i]\n",
    "\t# get all observations for the year\n",
    "\tresult = dataset[str(year)]\n",
    "\t# plot the active power for the year\n",
    "\tpyplot.plot(result['Global_active_power'])\n",
    "\t# add a title to the subplot\n",
    "\tpyplot.title(str(year), y=0, loc='left')\n",
    "pyplot.show()"
   ]
  },
  {
   "cell_type": "markdown",
   "metadata": {},
   "source": [
    "Each line plot represents a year from 'Global_active_power'.\n",
    "\n",
    "We can see:\n",
    "1. Some common gross patters: between Feb and March and between August and September, there is significant decrease in usage.\n",
    "\n",
    "2. Less consumption in middle of the year (summer months) and more consumption in beginning and end of the year (winter months). This may show annual seasonal pattern in consumption.\n",
    "\n",
    "3. Some patches of missing data."
   ]
  },
  {
   "cell_type": "markdown",
   "metadata": {},
   "source": [
    "Can continue to zoom in on data and look at 2007's Global_active_power. This would see any seasonality at monthly, weekly and daily level."
   ]
  },
  {
   "cell_type": "code",
   "execution_count": null,
   "metadata": {},
   "outputs": [],
   "source": [
    "# plot active power for each 2007 month\n",
    "months = [x for x in range(1, 13)]\n",
    "pyplot.figure()\n",
    "for i in range(len(months)):\n",
    "\t# prepare subplot\n",
    "\tax = pyplot.subplot(len(months), 1, i+1)\n",
    "\t# determine the month to plot\n",
    "\tmonth = '2007-' + str(months[i])\n",
    "\t# get all observations for the month\n",
    "\tresult = dataset[month]\n",
    "\t# plot the active power for the month\n",
    "\tpyplot.plot(result['Global_active_power'])\n",
    "\t# add a title to the subplot\n",
    "\tpyplot.title(month, y=0, loc='left')\n",
    "pyplot.show()"
   ]
  },
  {
   "cell_type": "markdown",
   "metadata": {},
   "source": [
    "From this granular graph, able to detect daily sine wave for power consumption. This is good since able to detect daily pattern in power consumption. \n",
    "\n",
    "Also, notice there are stretches of days without consumption, such as the case with Feb, April, August and October. This could represent vacation days when home was not occupied."
   ]
  },
  {
   "cell_type": "markdown",
   "metadata": {},
   "source": [
    "Finally, can now look at an even more granular level and look at consumption on a daily level.\n",
    "What is expected is pattern of consumption within each day and differences in consumption from day-to-day."
   ]
  },
  {
   "cell_type": "code",
   "execution_count": null,
   "metadata": {},
   "outputs": [],
   "source": [
    "# plot active power for first 20 days in Jan 2007\n",
    "days = [x for x in range(1, 20)]\n",
    "pyplot.figure()\n",
    "for i in range(len(days)):\n",
    "\t# prepare subplot\n",
    "\tax = pyplot.subplot(len(days), 1, i+1)\n",
    "\t# determine the day to plot\n",
    "\tday = '2007-01-' + str(days[i])\n",
    "\t# get all observations for the day\n",
    "\tresult = dataset[day]\n",
    "\t# plot the active power for the day\n",
    "\tpyplot.plot(result['Global_active_power'])\n",
    "\t# add a title to the subplot\n",
    "\tpyplot.title(day, y=0, loc='left')\n",
    "pyplot.show()"
   ]
  },
  {
   "cell_type": "markdown",
   "metadata": {},
   "source": [
    "Each plot is a day from first 20 days in Jan 2007.\n",
    "\n",
    "What we notice is:\n",
    "1. Most of the consumption starts in the early morning (around 6 and 7 AM). \n",
    "\n",
    "2. Some days show a drop in the middle of the day since most people are out of the house during this time.\n",
    "\n",
    "3. Some overnight consumption may be due to heat being used over night.\n",
    "\n",
    "Therefore, to model data well, good to consider seasons and weather it brings which affects consumption."
   ]
  },
  {
   "cell_type": "markdown",
   "metadata": {},
   "source": [
    "Another important view of the data involves distributions. So let's start looking at Time Series data distributions."
   ]
  },
  {
   "cell_type": "markdown",
   "metadata": {},
   "source": [
    "# Time Series Data Distributions."
   ]
  },
  {
   "cell_type": "markdown",
   "metadata": {},
   "source": [
    "It would be nice to know if var distributions are Gaussian or not. \n",
    "\n",
    "We can look in to this by creating histograms.\n",
    "\n",
    "Let's start with creating histogram for each var in time series dataset."
   ]
  },
  {
   "cell_type": "code",
   "execution_count": null,
   "metadata": {},
   "outputs": [],
   "source": [
    "# histogram plot for each variable\n",
    "pyplot.figure()\n",
    "for i in range(len(dataset.columns)):\n",
    "\tpyplot.subplot(len(dataset.columns), 1, i+1)\n",
    "\tname = dataset.columns[i]\n",
    "\tdataset[name].hist(bins=100)\n",
    "\tpyplot.title(name, y=0)\n",
    "pyplot.show()"
   ]
  },
  {
   "cell_type": "markdown",
   "metadata": {},
   "source": [
    "We can see that from all variables except for voltage, there is a skewed distribution towards small watt-hour/kilowatt values\n",
    "\n",
    "Global active power does seem to be bi-modal (has 2 mean groups of observations). This will be further looked into by separating its data into 4 distributions corresponding to yearly data (2007-2010).\n",
    "\n",
    "And for Voltage variable, it is strongly Gaussian."
   ]
  },
  {
   "cell_type": "code",
   "execution_count": null,
   "metadata": {},
   "outputs": [],
   "source": [
    "# plot active power for each year\n",
    "years = ['2007', '2008', '2009', '2010']\n",
    "pyplot.figure()\n",
    "for i in range(len(years)):\n",
    "\t# prepare subplot\n",
    "\tax = pyplot.subplot(len(years), 1, i+1)\n",
    "\t# determine the year to plot\n",
    "\tyear = years[i]\n",
    "\t# get all observations for the year\n",
    "\tresult = dataset[str(year)]\n",
    "\t# plot the active power for the year\n",
    "\tresult['Global_active_power'].hist(bins=100)\n",
    "\t# zoom in on the distribution\n",
    "\tax.set_xlim(0, 5)\n",
    "\t# add a title to the subplot\n",
    "\tpyplot.title(str(year), y=0, loc='right')\n",
    "pyplot.show()"
   ]
  },
  {
   "cell_type": "markdown",
   "metadata": {},
   "source": [
    "Bi-modal distributions are evident for each year from Global_active_power var.\n",
    "\n",
    "There is one peak around .3 KW and maybe around 1.3 kW.\n",
    "\n",
    "There is also a long tail stretching into higher kW usage. \n",
    "\n",
    "Separating out first peak, second peak and long tail into discretized groups for day/hr usage may be helpful in developing a predictive model.\n",
    "\n",
    "It is possible that groups may vary over year's seasons.\n",
    "\n",
    "Can look into this by separating out distribution for each month in a year (2007)."
   ]
  },
  {
   "cell_type": "code",
   "execution_count": null,
   "metadata": {},
   "outputs": [],
   "source": [
    "months = [x for x in range(1, 13)]\n",
    "pyplot.figure()\n",
    "for i in range(len(months)):\n",
    "\t# prepare subplot\n",
    "\tax = pyplot.subplot(len(months), 1, i+1)\n",
    "\t# determine the month to plot\n",
    "\tmonth = '2007-' + str(months[i])\n",
    "\t# get all observations for the month\n",
    "\tresult = dataset[month]\n",
    "\t# plot the active power for the month\n",
    "\tresult['Global_active_power'].hist(bins=100)\n",
    "\t# zoom in on the distribution\n",
    "\tax.set_xlim(0, 5)\n",
    "\t# add a title to the subplot\n",
    "\tpyplot.title(month, y=0, loc='right')\n",
    "pyplot.show()"
   ]
  },
  {
   "cell_type": "markdown",
   "metadata": {},
   "source": [
    "We can see that bimodal is strong in all months after March. \n",
    "For Jan-March, looks like there is a 3rd peak.\n",
    "\n",
    "Peaks (looking at second one) are higher in colder months and lower in warmer months.\n",
    "\n",
    "Thicker tails are evident for colder months as well.\n",
    "\n",
    "Also, given the different y-axis scaling for July and August, looks like there is relatively higher consumption."
   ]
  },
  {
   "cell_type": "code",
   "execution_count": null,
   "metadata": {},
   "outputs": [],
   "source": []
  }
 ],
 "metadata": {
  "kernelspec": {
   "display_name": "Python 3",
   "language": "python",
   "name": "python3"
  },
  "language_info": {
   "codemirror_mode": {
    "name": "ipython",
    "version": 3
   },
   "file_extension": ".py",
   "mimetype": "text/x-python",
   "name": "python",
   "nbconvert_exporter": "python",
   "pygments_lexer": "ipython3",
   "version": "3.7.6"
  }
 },
 "nbformat": 4,
 "nbformat_minor": 4
}
