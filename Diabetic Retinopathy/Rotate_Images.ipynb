{
 "cells": [
  {
   "cell_type": "code",
   "execution_count": 3,
   "metadata": {},
   "outputs": [],
   "source": [
    "import pandas as pd\n",
    "import numpy as np\n",
    "from skimage import io\n",
    "from skimage.transform import rotate\n",
    "import cv2\n",
    "import os\n",
    "import time"
   ]
  },
  {
   "cell_type": "code",
   "execution_count": null,
   "metadata": {},
   "outputs": [],
   "source": [
    "def rotate_images(file_path, degrees_of_rotation, lst_imgs):\n",
    "    '''\n",
    "    Rotates image based on a specified amount of degrees\n",
    "    \n",
    "    INPUT\n",
    "        file_path: file path to the folder containing images\n",
    "        degrees_of_rotation: Integer, specifying degrees to rotate the image. Set number from 1 to 360.\n",
    "        lst_imgs: list of image strings.\n",
    "        \n",
    "    OUTPUT\n",
    "        Images rotated by the degrees of rotation specified.\n",
    "    '''\n",
    "    \n",
    "    for l in lst_imgs:\n",
    "        img = io.imread(file_path + str(l) + '.jpeg')\n",
    "        img = rotate(img, degrees_of_rotation)\n",
    "        io.imsave(file_path + str(l) + '_' + str(degrees_of_rotation) + '.jpeg', img)"
   ]
  },
  {
   "cell_type": "code",
   "execution_count": null,
   "metadata": {},
   "outputs": [],
   "source": [
    "def mirror_images(file_path, mirror_direction, lst_imgs):\n",
    "    '''\n",
    "    Mirrors image left or right, based on criteria specified.\n",
    "    \n",
    "    INPUT\n",
    "        file_path: file path to the folder containing images\n",
    "        mirror_direction: criteria for mirroring left or right\n",
    "        lst_imgs: list of image strings\n",
    "        \n",
    "    OUPUT\n",
    "        Images mirrored left or right\n",
    "    '''\n",
    "    \n",
    "    for l in lst_imgs:\n",
    "        img = cv2.imread(file_path + str(1) + '.jpeg')\n",
    "        img = cv2.flip(img, 1)\n",
    "        cv2.imwrite(file_path + str(l) + '_mir' + '.jpeg', img)"
   ]
  },
  {
   "cell_type": "code",
   "execution_count": null,
   "metadata": {},
   "outputs": [],
   "source": [
    "if __name__ == '__main__':\n",
    "    start_time = time.time()\n",
    "    trainLabels = pd.read_csv(\"../labels/trainLabels_master.csv\")\n",
    "    \n",
    "    trainLabels['image'] = trainLabels['image'].str.rstrip('jpeg')\n",
    "    trainLabels_no_DR = trainLabels[trainLabels['label'] == 0]\n",
    "    trainLabels_DR = trainLabels[trainLabels['level'] >=1]\n",
    "    \n",
    "    lst_imgs_no_DR = [i for i in trainLabels_no_DR['image']]\n",
    "    lst_imgs_DR = [i for i in trainLabels_DR['image']]\n",
    "    \n",
    "    # lst_sample = [i for i in os.listdir('../data/sample/') if i != '.DS_Store']\n",
    "    # lst_sample = [str(l.strip('.jpeg')) for l in lst_sample]\n",
    "    \n",
    "    # Mirror Images with no DR one time\n",
    "    print(\"Mirroring Non-DR Images\")\n",
    "    mirror_images('../data/train-resized-256/', 1, lst_imgs_no_DR)\n",
    "    \n",
    "    #Rotate all images that have any level of DR\n",
    "    print(\"Rotating 90 Degrees\")\n",
    "    rotate_images('../data/train-resized-256/', 90, lst_imgs_DR)\n",
    "    \n",
    "    print(\"Rotating 120 Degrees\")\n",
    "    rotate_images('../data/train-resized-256/', 120, lst_imgs_DR)\n",
    "    \n",
    "    print(\"Rotating 180 Degrees\")\n",
    "    rotate_images('../data/train-resized-256/', 180, lst_imgs_DR)\n",
    "    \n",
    "    print(\"Rotating 270 Degrees\")\n",
    "    rotate_images('../data/train-resized-256/', 270, lst_imgs_DR)\n",
    "    \n",
    "    print(\"Mirroring DR Images\")\n",
    "    rotate_images('../data/train-resized-256/', 0, lst_imgs_DR)\n",
    "    \n",
    "    print(\"Completed\")\n",
    "    print(\"---%s\" seconds ---\" % (time.time() - start_time))"
   ]
  }
 ],
 "metadata": {
  "kernelspec": {
   "display_name": "Python 3",
   "language": "python",
   "name": "python3"
  },
  "language_info": {
   "codemirror_mode": {
    "name": "ipython",
    "version": 3
   },
   "file_extension": ".py",
   "mimetype": "text/x-python",
   "name": "python",
   "nbconvert_exporter": "python",
   "pygments_lexer": "ipython3",
   "version": "3.6.4"
  }
 },
 "nbformat": 4,
 "nbformat_minor": 2
}
