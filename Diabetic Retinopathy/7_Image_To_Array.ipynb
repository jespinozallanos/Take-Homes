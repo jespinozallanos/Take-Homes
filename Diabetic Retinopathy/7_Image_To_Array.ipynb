{
 "cells": [
  {
   "cell_type": "code",
   "execution_count": 1,
   "metadata": {},
   "outputs": [],
   "source": [
    "import time\n",
    "\n",
    "import numpy as np\n",
    "import pandas as pd\n",
    "from PIL import Image"
   ]
  },
  {
   "cell_type": "code",
   "execution_count": null,
   "metadata": {},
   "outputs": [],
   "source": [
    "def change_image_name(df, column):\n",
    "    \"\"\"\"\n",
    "    Appends the suffix '.jpeg' for all image names in the DataFrame\n",
    "    \n",
    "    INPUT\n",
    "        df: Pandas DataFrame, including columns to be altered \n",
    "        column: The column that will be changed. Takes a string input\n",
    "        \n",
    "    OUTPUT\n",
    "        Pandas Dataframe, with a single column to include the aforementioned suffix\n",
    "    \"\"\"\n",
    "    return [i + 'jpeg' for i in df[column]]"
   ]
  },
  {
   "cell_type": "code",
   "execution_count": null,
   "metadata": {},
   "outputs": [],
   "source": [
    "def convert_images_to_arrays_train(file_path, df):\n",
    "    \"\"\"\n",
    "    Converts each image to an array, and appends each array to a new NumPy array, based on the image column equaling the image file name\n",
    "    \n",
    "    INPUT\n",
    "        file_path: Specified file path for resized test and train images\n",
    "        df: Pandas DataFrame being used to assist file imports \n",
    "        \n",
    "    OUPUT\n",
    "        Numpy array of image arrays\n",
    "    \"\"\"\n",
    "    \n",
    "    lst_imgs = [l for l in df['train_image_name']]\n",
    "    \n",
    "    return np.array([np.array(Image.open(file_path + img)) for img in lst_imgs])"
   ]
  },
  {
   "cell_type": "code",
   "execution_count": null,
   "metadata": {},
   "outputs": [],
   "source": [
    "def save_to_array(arr_name, arr_object):\n",
    "    \"\"\"\n",
    "    Saves data object as Numpy file. Used for saving tain and test arrays\n",
    "    \n",
    "    INPUT\n",
    "        arr_name: The name of the file you want to save\n",
    "            This input takes a directory string.\n",
    "        arr_object: NumPy array of arrays. This object is saved as a Numpy file\n",
    "        \n",
    "    OUTPUT\n",
    "        Numpy array of image arrays\n",
    "    \"\"\"\n",
    "    return np.save(arr_name, arr_object)"
   ]
  },
  {
   "cell_type": "code",
   "execution_count": null,
   "metadata": {},
   "outputs": [],
   "source": [
    "if __name__ == '__main__':\n",
    "    start_time = time.time()\n",
    "    \n",
    "    labels = pd.read_csv(\"../labels/trainLabels_master_256_v2.csv\")\n",
    "    \n",
    "    print(\"Writing Train Array\")\n",
    "    X_train = convert_images_to_arrays_train('../data/train-resized-256/', labels)\n",
    "    \n",
    "    print(X_train.shape)\n",
    "    \n",
    "    print(\"Saving Train Array\")\n",
    "    save_to_array('../data/X_train.npy', X_train)\n",
    "    \n",
    "    print(\"--- %s seconds ---\" % (time.time() - start_time))"
   ]
  }
 ],
 "metadata": {
  "kernelspec": {
   "display_name": "Python 3",
   "language": "python",
   "name": "python3"
  },
  "language_info": {
   "codemirror_mode": {
    "name": "ipython",
    "version": 3
   },
   "file_extension": ".py",
   "mimetype": "text/x-python",
   "name": "python",
   "nbconvert_exporter": "python",
   "pygments_lexer": "ipython3",
   "version": "3.6.4"
  }
 },
 "nbformat": 4,
 "nbformat_minor": 2
}
