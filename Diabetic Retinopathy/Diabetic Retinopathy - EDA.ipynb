{
 "cells": [
  {
   "cell_type": "code",
   "execution_count": 2,
   "metadata": {},
   "outputs": [],
   "source": [
    "import pandas as pd\n",
    "import matplotlib.pyplot as plt\n",
    "import seaborn as sns"
   ]
  },
  {
   "cell_type": "code",
   "execution_count": 3,
   "metadata": {},
   "outputs": [],
   "source": [
    "dict_labels = {0:\"No DR\", 1:\"Mild\", 2:\"Moderate\", 3: \"Severe\", 4:\"Proliferateive DR\"}\n",
    "\n",
    "def change_labels(df, category):\n",
    "    '''\n",
    "    Changes the labels for a binary classification.\n",
    "    Either the person ahs a degree of retinopathy, or they do not.\n",
    "    \n",
    "    INPUT\n",
    "        df: Pandas Dataframe of the image name and labels\n",
    "        category: column of the labels\n",
    "        \n",
    "    OUTPUT\n",
    "        Column containing a binary classification of 0 or 1\n",
    "    '''\n",
    "    return [1 if l > 0 else 0 for l in df[category]]"
   ]
  },
  {
   "cell_type": "code",
   "execution_count": 5,
   "metadata": {},
   "outputs": [],
   "source": [
    "def plot_classification_frequency(df, category, file_name, convert_labels = False):\n",
    "    '''\n",
    "    Plots the frequency at which labels occur\n",
    "\n",
    "    INPUT\n",
    "        df: Pandas DF of the image name and labels\n",
    "        category: category of labels, from 0 to 4\n",
    "        file_name: file name of the image\n",
    "        convert_labels: argument specified for converting to binary classification\n",
    "    \n",
    "    OUTPUT\n",
    "        Image of plot, showing label frequency\n",
    "    '''\n",
    "    if convert_labels == True:\n",
    "        labels['level'] = change_labels(labels, 'level')\n",
    "    \n",
    "    sns.set(style='whitegrid', color_codes=True)\n",
    "    sns.countplot(x=category, data=labels)\n",
    "    plt.title('Retinopathy vs Frequency')\n",
    "    plt.savefig(file_name)"
   ]
  },
  {
   "cell_type": "code",
   "execution_count": 7,
   "metadata": {},
   "outputs": [
    {
     "data": {
      "image/png": "[encoded data removed]",
      "text/plain": [
       "<matplotlib.figure.Figure at 0x10f7fc9e8>"
      ]
     },
     "metadata": {},
     "output_type": "display_data"
    }
   ],
   "source": [
    "if __name__ == '__main__':\n",
    "    labels = pd.read_csv(\"labels/trainLabels.csv\")\n",
    "\n",
    "    plot_classification_frequency(labels, \"level\", \"Retinopathy_vs_Frequency_All\")\n",
    "    plot_classification_frequency(labels, \"level\", \"Retinopathy_vs_Frequency_Binary\", True)"
   ]
  }
 ],
 "metadata": {
  "kernelspec": {
   "display_name": "Python 3",
   "language": "python",
   "name": "python3"
  },
  "language_info": {
   "codemirror_mode": {
    "name": "ipython",
    "version": 3
   },
   "file_extension": ".py",
   "mimetype": "text/x-python",
   "name": "python",
   "nbconvert_exporter": "python",
   "pygments_lexer": "ipython3",
   "version": "3.6.4"
  }
 },
 "nbformat": 4,
 "nbformat_minor": 2
}
