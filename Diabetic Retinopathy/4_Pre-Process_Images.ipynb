{
 "cells": [
  {
   "cell_type": "code",
   "execution_count": 3,
   "metadata": {},
   "outputs": [],
   "source": [
    "import time\n",
    "import numpy as np\n",
    "import pandas as pd\n",
    "from PIL import Image"
   ]
  },
  {
   "cell_type": "code",
   "execution_count": 4,
   "metadata": {},
   "outputs": [],
   "source": [
    "def find_black_images(file_path, df):\n",
    "    '''\n",
    "    Creates a column of images that are not black (np.mean(img) !=0)\n",
    "    \n",
    "    INPUT\n",
    "        file_path: file_path to the images to be analyzed\n",
    "        df: Pandas DataFrame that includes all labeled image names\n",
    "        column: column in DataFrame query is evaluated against\n",
    "        \n",
    "    OUTPUT\n",
    "        Column indicating if the photo is pitch black or not\n",
    "    '''\n",
    "    \n",
    "    lst_images = [l for l in df['image']]\n",
    "    return [1 if np.mean(np.array(Image.open(file_path + img))) == 0 else 0 for img in lst_imgs]"
   ]
  },
  {
   "cell_type": "code",
   "execution_count": null,
   "metadata": {},
   "outputs": [],
   "source": [
    "if __name__ == '__main__':\n",
    "    start_time = time.time()\n",
    "    trainLabels = pd.read_csv('labels/trainLabels.csv')\n",
    "\n",
    "    trainLabels['image'] = [i + '.jpeg' for i in trainLabels['image']]\n",
    "    trainLabels['black'] = np.nan\n",
    "    \n",
    "    trainLabels['black'] = find_black_images('../data/train-resized-256/', trainLabels)\n",
    "    trainLabels = trainLabels.loc[trainLabels['black'] == 0]\n",
    "    trainLabels.to_csv('trainLabels_master.csv', index = False, header = True)\n",
    "    \n",
    "    print(\"Completed\")\n",
    "    print(\"--- %s seconds ---\" % (time.time() - start_time))"
   ]
  }
 ],
 "metadata": {
  "kernelspec": {
   "display_name": "Python 3",
   "language": "python",
   "name": "python3"
  },
  "language_info": {
   "codemirror_mode": {
    "name": "ipython",
    "version": 3
   },
   "file_extension": ".py",
   "mimetype": "text/x-python",
   "name": "python",
   "nbconvert_exporter": "python",
   "pygments_lexer": "ipython3",
   "version": "3.6.4"
  }
 },
 "nbformat": 4,
 "nbformat_minor": 2
}
