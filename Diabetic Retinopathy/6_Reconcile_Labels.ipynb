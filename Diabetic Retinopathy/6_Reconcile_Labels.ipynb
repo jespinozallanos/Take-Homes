{
 "cells": [
  {
   "cell_type": "code",
   "execution_count": 14,
   "metadata": {},
   "outputs": [],
   "source": [
    "import os\n",
    "\n",
    "import pandas as pd"
   ]
  },
  {
   "cell_type": "code",
   "execution_count": 15,
   "metadata": {},
   "outputs": [],
   "source": [
    "def get_lst_images(file_path):\n",
    "    \"\"\"\n",
    "    Reads in all files from file path into a list\n",
    "    \n",
    "    INPUT\n",
    "        file_path: specified file path containing the images\n",
    "        \n",
    "    OUPUT\n",
    "        List of image strings\n",
    "    \"\"\"\n",
    "    return [i for i in os.listdir(file_path) if i != '.DS_Store']"
   ]
  },
  {
   "cell_type": "code",
   "execution_count": 20,
   "metadata": {},
   "outputs": [
    {
     "name": "stdout",
     "output_type": "stream",
     "text": [
      "(0, 3)\n",
      "Writing CSV\n"
     ]
    }
   ],
   "source": [
    "import os\n",
    "\n",
    "import pandas as pd\n",
    "\n",
    "\n",
    "def get_lst_images(file_path):\n",
    "    \"\"\"\n",
    "    Reads in all files from file path into a list.\n",
    "    INPUT\n",
    "        file_path: specified file path containing the images.\n",
    "    OUTPUT\n",
    "        List of image strings\n",
    "    \"\"\"\n",
    "    return [i for i in os.listdir(file_path) if i != '.DS_Store']\n",
    "\n",
    "\n",
    "if __name__ == '__main__':\n",
    "    trainLabels = pd.read_csv(\"labels/sample_trainLabels.csv\")\n",
    "\n",
    "    lst_imgs = get_lst_images('sample_train-resized-256/')\n",
    "\n",
    "    new_trainLabels = pd.DataFrame({'image': lst_imgs})\n",
    "    new_trainLabels['image2'] = new_trainLabels.image\n",
    "\n",
    "    # Remove the suffix from the image names.\n",
    "    new_trainLabels['image2'] = new_trainLabels.loc[:, 'image2'].apply(lambda x: '_'.join(x.split('_')[0:2]))\n",
    "\n",
    "    # Strip and add .jpeg back into file name\n",
    "    new_trainLabels['image2'] = new_trainLabels.loc[:, 'image2'].apply(\n",
    "        lambda x: '_'.join(x.split('_')[0:2]).strip('.jpeg') + '.jpeg')\n",
    "\n",
    "    # trainLabels = trainLabels[0:10]\n",
    "    new_trainLabels.columns = ['train_image_name', 'image']\n",
    "\n",
    "    trainLabels = pd.merge(trainLabels, new_trainLabels, how='outer', on='image')\n",
    "#     trainLabels.drop(['black'], axis=1, inplace=True) ##None of our .jpeg's were classified as \"black\"\n",
    "    # print(trainLabels.head(100))\n",
    "    trainLabels = trainLabels.dropna()\n",
    "    print(trainLabels.shape)\n",
    "\n",
    "    print(\"Writing CSV\")\n",
    "    trainLabels.to_csv('labels/sample_trainLabels_v2.csv', index=False, header=True)"
   ]
  }
 ],
 "metadata": {
  "kernelspec": {
   "display_name": "Python 3",
   "language": "python",
   "name": "python3"
  },
  "language_info": {
   "codemirror_mode": {
    "name": "ipython",
    "version": 3
   },
   "file_extension": ".py",
   "mimetype": "text/x-python",
   "name": "python",
   "nbconvert_exporter": "python",
   "pygments_lexer": "ipython3",
   "version": "3.6.4"
  }
 },
 "nbformat": 4,
 "nbformat_minor": 2
}
