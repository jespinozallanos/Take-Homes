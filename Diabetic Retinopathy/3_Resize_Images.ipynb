{
 "cells": [
  {
   "cell_type": "code",
   "execution_count": null,
   "metadata": {},
   "outputs": [],
   "source": [
    "import os\n",
    "import sys\n",
    "# from PIL import ImageFile\n",
    "from PIL import ImageFile\n",
    "ImageFile.LOAD_TRUNCATED_IMAGES = True\n",
    "from skimage import io\n",
    "from skimage.transform import resize\n",
    "import numpy as np"
   ]
  },
  {
   "cell_type": "code",
   "execution_count": null,
   "metadata": {},
   "outputs": [],
   "source": [
    "def create_directory(directory):\n",
    "    '''\n",
    "    Creates a new folder in the specified directory if the folder doesn't exist. \n",
    "    \n",
    "    INPUT\n",
    "        directory: Folder to be created, called as \"folder/\".\n",
    "        \n",
    "    OUTPUT\n",
    "        New folder in the current directory.\n",
    "    '''\n",
    "    if not os.path.exists(directory):\n",
    "        os.makedirs(directory)"
   ]
  },
  {
   "cell_type": "code",
   "execution_count": null,
   "metadata": {},
   "outputs": [],
   "source": [
    "def crop_and_resize_images(path, new_path, cropx, cropy, img_size=256):\n",
    "    '''\n",
    "    Crops, resizes, and stores all images from a directory in a new directory.\n",
    "\n",
    "    INPUT\n",
    "        path: Path were the current, unscaled images are contained.\n",
    "        new_path: Path to save the resized images.\n",
    "        img_size: New size for the rescaled images.\n",
    "        \n",
    "    OUTPUT\n",
    "        All images cropped, resized, and saved from the old folder to the new folder.\n",
    "        \n",
    "    '''\n",
    "    create_directory(new_path)\n",
    "    dirs = [l for l in os.listdir(path) if l != '.DS_Store']\n",
    "    total = 0\n",
    "    \n",
    "    for item in dirs:\n",
    "        img = io.imread(path+item)\n",
    "        y,x,channel = img.shape\n",
    "        startx = x//2-(crop//2)\n",
    "        starty = y//2-(cropy//2)\n",
    "        img = img[starty:starty+cropy,startx:startx+cropx]\n",
    "        img = resize(img, (256,256))\n",
    "        io.imsave(str(new_path + item), img)\n",
    "        total += 1\n",
    "        print(\"Saving: \", item, total)"
   ]
  },
  {
   "cell_type": "code",
   "execution_count": null,
   "metadata": {},
   "outputs": [],
   "source": [
    "if __name__ == '__main__':\n",
    "    crop_and_resize_images(path='../data/train/', new_path='../data/train-resized-256/', cropx=1800, cropy=1800, img_size=256)\n",
    "    crop_and_resize_images(path='../data/test/', new_path='../data/test-resized-256/', cropx=1800, cropy=1800, img_size=256)"
   ]
  }
 ],
 "metadata": {
  "kernelspec": {
   "display_name": "Python 3",
   "language": "python",
   "name": "python3"
  },
  "language_info": {
   "codemirror_mode": {
    "name": "ipython",
    "version": 3
   },
   "file_extension": ".py",
   "mimetype": "text/x-python",
   "name": "python",
   "nbconvert_exporter": "python",
   "pygments_lexer": "ipython3",
   "version": "3.6.4"
  }
 },
 "nbformat": 4,
 "nbformat_minor": 2
}
