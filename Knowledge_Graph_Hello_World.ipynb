{
  "nbformat": 4,
  "nbformat_minor": 0,
  "metadata": {
    "colab": {
      "name": "Knowledge Graph - Hello World.ipynb",
      "provenance": [],
      "collapsed_sections": [],
      "authorship_tag": "ABX9TyMDaeljGLdTbZuUExilPHuO",
      "include_colab_link": true
    },
    "kernelspec": {
      "name": "python3",
      "display_name": "Python 3"
    }
  },
  "cells": [
    {
      "cell_type": "markdown",
      "metadata": {
        "id": "view-in-github",
        "colab_type": "text"
      },
      "source": [
        "<a href=\"https://colab.research.google.com/github/mindyng/Projects/blob/master/Knowledge_Graph_Hello_World.ipynb\" target=\"_parent\"><img src=\"https://colab.research.google.com/assets/colab-badge.svg\" alt=\"Open In Colab\"/></a>"
      ]
    },
    {
      "cell_type": "markdown",
      "metadata": {
        "id": "ZxzbRJbV0vAU",
        "colab_type": "text"
      },
      "source": [
        "First steps into Knowledge Graph embedding models in PyKeen.\n",
        "\n",
        "[Original](https://github.com/pykeen/pykeen/blob/master/notebooks/hello_world/Hello%20World!.ipynb)"
      ]
    },
    {
      "cell_type": "markdown",
      "metadata": {
        "id": "pP_DW2oD8Bnr",
        "colab_type": "text"
      },
      "source": [
        "From this notebook, will be able to complete the following:\n",
        "\n",
        "1. Train a model\n",
        "2. Evaluate how well it learned\n",
        "3. Turn it around and start making  predictions."
      ]
    },
    {
      "cell_type": "markdown",
      "metadata": {
        "id": "3zd2fn268E80",
        "colab_type": "text"
      },
      "source": [
        "#Imports"
      ]
    },
    {
      "cell_type": "code",
      "metadata": {
        "id": "qMwTR8ub8Z9M",
        "colab_type": "code",
        "colab": {
          "base_uri": "https://localhost:8080/",
          "height": 853
        },
        "outputId": "d198190a-1a77-4d11-bb9f-3cdce44e5ffe"
      },
      "source": [
        "!pip install pykeen"
      ],
      "execution_count": 16,
      "outputs": [
        {
          "output_type": "stream",
          "text": [
            "Requirement already satisfied: pykeen in /usr/local/lib/python3.6/dist-packages (1.0.1)\n",
            "Requirement already satisfied: sklearn in /usr/local/lib/python3.6/dist-packages (from pykeen) (0.0)\n",
            "Requirement already satisfied: tabulate in /usr/local/lib/python3.6/dist-packages (from pykeen) (0.8.7)\n",
            "Requirement already satisfied: numpy in /usr/local/lib/python3.6/dist-packages (from pykeen) (1.18.5)\n",
            "Requirement already satisfied: click-default-group in /usr/local/lib/python3.6/dist-packages (from pykeen) (1.2.2)\n",
            "Requirement already satisfied: dataclasses-json in /usr/local/lib/python3.6/dist-packages (from pykeen) (0.5.1)\n",
            "Requirement already satisfied: dataclasses; python_version < \"3.7\" in /usr/local/lib/python3.6/dist-packages (from pykeen) (0.7)\n",
            "Requirement already satisfied: tqdm in /usr/local/lib/python3.6/dist-packages (from pykeen) (4.41.1)\n",
            "Requirement already satisfied: optuna<1.2.0,>=1.0.0 in /usr/local/lib/python3.6/dist-packages (from pykeen) (1.1.0)\n",
            "Requirement already satisfied: torch in /usr/local/lib/python3.6/dist-packages (from pykeen) (1.5.1+cu101)\n",
            "Requirement already satisfied: requests in /usr/local/lib/python3.6/dist-packages (from pykeen) (2.23.0)\n",
            "Requirement already satisfied: click in /usr/local/lib/python3.6/dist-packages (from pykeen) (7.1.2)\n",
            "Requirement already satisfied: pandas>=1.0.0 in /usr/local/lib/python3.6/dist-packages (from pykeen) (1.0.5)\n",
            "Requirement already satisfied: scikit-learn in /usr/local/lib/python3.6/dist-packages (from sklearn->pykeen) (0.22.2.post1)\n",
            "Requirement already satisfied: marshmallow-enum<2.0.0,>=1.5.1 in /usr/local/lib/python3.6/dist-packages (from dataclasses-json->pykeen) (1.5.1)\n",
            "Requirement already satisfied: typing-inspect>=0.4.0 in /usr/local/lib/python3.6/dist-packages (from dataclasses-json->pykeen) (0.6.0)\n",
            "Requirement already satisfied: stringcase<2.0.0,==1.2.0 in /usr/local/lib/python3.6/dist-packages (from dataclasses-json->pykeen) (1.2.0)\n",
            "Requirement already satisfied: marshmallow<4.0.0,>=3.3.0 in /usr/local/lib/python3.6/dist-packages (from dataclasses-json->pykeen) (3.6.1)\n",
            "Requirement already satisfied: cliff in /usr/local/lib/python3.6/dist-packages (from optuna<1.2.0,>=1.0.0->pykeen) (3.3.0)\n",
            "Requirement already satisfied: joblib in /usr/local/lib/python3.6/dist-packages (from optuna<1.2.0,>=1.0.0->pykeen) (0.15.1)\n",
            "Requirement already satisfied: alembic in /usr/local/lib/python3.6/dist-packages (from optuna<1.2.0,>=1.0.0->pykeen) (1.4.2)\n",
            "Requirement already satisfied: scipy!=1.4.0 in /usr/local/lib/python3.6/dist-packages (from optuna<1.2.0,>=1.0.0->pykeen) (1.4.1)\n",
            "Requirement already satisfied: colorlog in /usr/local/lib/python3.6/dist-packages (from optuna<1.2.0,>=1.0.0->pykeen) (4.1.0)\n",
            "Requirement already satisfied: sqlalchemy>=1.1.0 in /usr/local/lib/python3.6/dist-packages (from optuna<1.2.0,>=1.0.0->pykeen) (1.3.17)\n",
            "Requirement already satisfied: future in /usr/local/lib/python3.6/dist-packages (from torch->pykeen) (0.16.0)\n",
            "Requirement already satisfied: chardet<4,>=3.0.2 in /usr/local/lib/python3.6/dist-packages (from requests->pykeen) (3.0.4)\n",
            "Requirement already satisfied: idna<3,>=2.5 in /usr/local/lib/python3.6/dist-packages (from requests->pykeen) (2.9)\n",
            "Requirement already satisfied: certifi>=2017.4.17 in /usr/local/lib/python3.6/dist-packages (from requests->pykeen) (2020.6.20)\n",
            "Requirement already satisfied: urllib3!=1.25.0,!=1.25.1,<1.26,>=1.21.1 in /usr/local/lib/python3.6/dist-packages (from requests->pykeen) (1.24.3)\n",
            "Requirement already satisfied: pytz>=2017.2 in /usr/local/lib/python3.6/dist-packages (from pandas>=1.0.0->pykeen) (2018.9)\n",
            "Requirement already satisfied: python-dateutil>=2.6.1 in /usr/local/lib/python3.6/dist-packages (from pandas>=1.0.0->pykeen) (2.8.1)\n",
            "Requirement already satisfied: mypy-extensions>=0.3.0 in /usr/local/lib/python3.6/dist-packages (from typing-inspect>=0.4.0->dataclasses-json->pykeen) (0.4.3)\n",
            "Requirement already satisfied: typing-extensions>=3.7.4 in /usr/local/lib/python3.6/dist-packages (from typing-inspect>=0.4.0->dataclasses-json->pykeen) (3.7.4.2)\n",
            "Requirement already satisfied: six>=1.10.0 in /usr/local/lib/python3.6/dist-packages (from cliff->optuna<1.2.0,>=1.0.0->pykeen) (1.12.0)\n",
            "Requirement already satisfied: PyYAML>=3.12 in /usr/local/lib/python3.6/dist-packages (from cliff->optuna<1.2.0,>=1.0.0->pykeen) (3.13)\n",
            "Requirement already satisfied: pbr!=2.1.0,>=2.0.0 in /usr/local/lib/python3.6/dist-packages (from cliff->optuna<1.2.0,>=1.0.0->pykeen) (5.4.5)\n",
            "Requirement already satisfied: cmd2!=0.8.3,>=0.8.0 in /usr/local/lib/python3.6/dist-packages (from cliff->optuna<1.2.0,>=1.0.0->pykeen) (1.1.0)\n",
            "Requirement already satisfied: pyparsing>=2.1.0 in /usr/local/lib/python3.6/dist-packages (from cliff->optuna<1.2.0,>=1.0.0->pykeen) (2.4.7)\n",
            "Requirement already satisfied: stevedore>=1.20.0 in /usr/local/lib/python3.6/dist-packages (from cliff->optuna<1.2.0,>=1.0.0->pykeen) (2.0.1)\n",
            "Requirement already satisfied: PrettyTable<0.8,>=0.7.2 in /usr/local/lib/python3.6/dist-packages (from cliff->optuna<1.2.0,>=1.0.0->pykeen) (0.7.2)\n",
            "Requirement already satisfied: python-editor>=0.3 in /usr/local/lib/python3.6/dist-packages (from alembic->optuna<1.2.0,>=1.0.0->pykeen) (1.0.4)\n",
            "Requirement already satisfied: Mako in /usr/local/lib/python3.6/dist-packages (from alembic->optuna<1.2.0,>=1.0.0->pykeen) (1.1.3)\n",
            "Requirement already satisfied: attrs>=16.3.0 in /usr/local/lib/python3.6/dist-packages (from cmd2!=0.8.3,>=0.8.0->cliff->optuna<1.2.0,>=1.0.0->pykeen) (19.3.0)\n",
            "Requirement already satisfied: colorama>=0.3.7 in /usr/local/lib/python3.6/dist-packages (from cmd2!=0.8.3,>=0.8.0->cliff->optuna<1.2.0,>=1.0.0->pykeen) (0.4.3)\n",
            "Requirement already satisfied: setuptools>=34.4 in /usr/local/lib/python3.6/dist-packages (from cmd2!=0.8.3,>=0.8.0->cliff->optuna<1.2.0,>=1.0.0->pykeen) (47.3.1)\n",
            "Requirement already satisfied: pyperclip>=1.6 in /usr/local/lib/python3.6/dist-packages (from cmd2!=0.8.3,>=0.8.0->cliff->optuna<1.2.0,>=1.0.0->pykeen) (1.8.0)\n",
            "Requirement already satisfied: wcwidth>=0.1.7 in /usr/local/lib/python3.6/dist-packages (from cmd2!=0.8.3,>=0.8.0->cliff->optuna<1.2.0,>=1.0.0->pykeen) (0.2.5)\n",
            "Requirement already satisfied: MarkupSafe>=0.9.2 in /usr/local/lib/python3.6/dist-packages (from Mako->alembic->optuna<1.2.0,>=1.0.0->pykeen) (1.1.1)\n"
          ],
          "name": "stdout"
        }
      ]
    },
    {
      "cell_type": "code",
      "metadata": {
        "id": "Y2v6lmzu0Yej",
        "colab_type": "code",
        "colab": {}
      },
      "source": [
        "import getpass\n",
        "import os\n",
        "import sys\n",
        "import time\n",
        "\n",
        "import matplotlib.pyplot as plt\n",
        "import pandas as pd\n",
        "import pykeen\n",
        "import torch\n",
        "from pykeen.pipeline import pipeline\n",
        "\n",
        "%matplotlib inline"
      ],
      "execution_count": 17,
      "outputs": []
    },
    {
      "cell_type": "code",
      "metadata": {
        "id": "FSJt-eH38WFH",
        "colab_type": "code",
        "colab": {
          "base_uri": "https://localhost:8080/",
          "height": 51
        },
        "outputId": "f3f2dcbe-7a08-4d28-fa85-a48638e88772"
      },
      "source": [
        "print(sys.version)"
      ],
      "execution_count": 18,
      "outputs": [
        {
          "output_type": "stream",
          "text": [
            "3.6.9 (default, Apr 18 2020, 01:56:04) \n",
            "[GCC 8.4.0]\n"
          ],
          "name": "stdout"
        }
      ]
    },
    {
      "cell_type": "code",
      "metadata": {
        "id": "rTNXy0U38m2H",
        "colab_type": "code",
        "colab": {
          "base_uri": "https://localhost:8080/",
          "height": 34
        },
        "outputId": "f015dc92-167e-4879-e190-2955a2ff8004"
      },
      "source": [
        "print(time.asctime())"
      ],
      "execution_count": 19,
      "outputs": [
        {
          "output_type": "stream",
          "text": [
            "Sat Jul  4 18:26:26 2020\n"
          ],
          "name": "stdout"
        }
      ]
    },
    {
      "cell_type": "code",
      "metadata": {
        "id": "MAwHb0Ur8xrE",
        "colab_type": "code",
        "colab": {
          "base_uri": "https://localhost:8080/",
          "height": 34
        },
        "outputId": "7dd9baad-9251-4997-c0ad-40cebb8b7c1d"
      },
      "source": [
        "print(getpass.getuser())"
      ],
      "execution_count": 20,
      "outputs": [
        {
          "output_type": "stream",
          "text": [
            "root\n"
          ],
          "name": "stdout"
        }
      ]
    },
    {
      "cell_type": "code",
      "metadata": {
        "id": "9MgH98Ad8848",
        "colab_type": "code",
        "colab": {
          "base_uri": "https://localhost:8080/",
          "height": 34
        },
        "outputId": "31144322-098b-40d3-b0e0-769ae91ce77f"
      },
      "source": [
        "print(pykeen.get_version(with_git_hash=True))"
      ],
      "execution_count": 21,
      "outputs": [
        {
          "output_type": "stream",
          "text": [
            "1.0.1-UNHASHED\n"
          ],
          "name": "stdout"
        }
      ]
    },
    {
      "cell_type": "markdown",
      "metadata": {
        "id": "Fn7KUk-TKfcc",
        "colab_type": "text"
      },
      "source": [
        "##Dataset"
      ]
    },
    {
      "cell_type": "markdown",
      "metadata": {
        "id": "mr9i7AyuGDkW",
        "colab_type": "text"
      },
      "source": [
        "Before training model, let's take a quick look at the Nations dataset to get a breakdown of how dataset is split for training."
      ]
    },
    {
      "cell_type": "code",
      "metadata": {
        "id": "vdmTxxYPGCy2",
        "colab_type": "code",
        "colab": {
          "base_uri": "https://localhost:8080/",
          "height": 119
        },
        "outputId": "ee2b726c-cc5d-4b6f-9991-23303022c9b9"
      },
      "source": [
        "from pykeen.datasets import datasets, Nations\n",
        "\n",
        "nations = Nations()\n",
        "nations.summarize()"
      ],
      "execution_count": 24,
      "outputs": [
        {
          "output_type": "stream",
          "text": [
            "Nations (create_inverse_triples=False)\n",
            "Name          Entities    Relations    Triples\n",
            "----------  ----------  -----------  ---------\n",
            "Training            14           55       1592\n",
            "Testing             14           41        201\n",
            "Validation          14           45        199\n"
          ],
          "name": "stdout"
        }
      ]
    },
    {
      "cell_type": "markdown",
      "metadata": {
        "id": "wm9P6ga2BTvA",
        "colab_type": "text"
      },
      "source": [
        "## Train a Model"
      ]
    },
    {
      "cell_type": "markdown",
      "metadata": {
        "id": "uF_nlS9rBYyG",
        "colab_type": "text"
      },
      "source": [
        "More tutorials to train first model [here](https://pykeen.readthedocs.io/en/latest/first_steps.html)."
      ]
    },
    {
      "cell_type": "markdown",
      "metadata": {
        "id": "U3gxP4ZgCGsz",
        "colab_type": "text"
      },
      "source": [
        "Modifications to this:\n",
        "1. swtich model\n",
        "2. add a loss\n",
        "3. add a regularizer\n",
        "4. switch training assumption from sLCWA to LCWA\n",
        "5. Each model does have their own hyper-parameters but PyKEEN tries to have reasonable defaults. Most useful hyperparameter to change is num_epochs in training_kwargs, which is shown below."
      ]
    },
    {
      "cell_type": "code",
      "metadata": {
        "id": "q05e4AC_9J7H",
        "colab_type": "code",
        "colab": {
          "base_uri": "https://localhost:8080/",
          "height": 1000
        },
        "outputId": "ce27ded6-85c8-4f22-bae3-bb7dd3c6ede0"
      },
      "source": [
        "result = pipeline(\n",
        "    dataset = 'Nations',\n",
        "    model = 'RotatE',\n",
        "    training_kwargs=dict(num_epochs=100),\n",
        ")"
      ],
      "execution_count": 22,
      "outputs": [
        {
          "output_type": "stream",
          "text": [
            "WARNING:pykeen.pipeline:No random seed is specified. Setting to 248040660.\n",
            "WARNING:pykeen.utils:No cuda devices were available. The model runs on CPU\n",
            "Training epochs on cpu:   0%|          | 0/100 [00:00<?, ?epoch/s]INFO:pykeen.training.training_loop:using stopper: <pykeen.stoppers.stopper.NopStopper object at 0x7fe19c7a24e0>\n",
            "\n",
            "Training batches on cpu:   0%|          | 0/7 [00:00<?, ?batch/s]\u001b[A\n",
            "Training batches on cpu:  86%|████████▌ | 6/7 [00:00<00:00, 56.79batch/s]\u001b[A\n",
            "Training epochs on cpu:   1%|          | 1/100 [00:00<00:20,  4.91epoch/s, loss=0.00411, prev_loss=nan]\n",
            "Training batches on cpu:   0%|          | 0/7 [00:00<?, ?batch/s]\u001b[A\n",
            "Training batches on cpu:  86%|████████▌ | 6/7 [00:00<00:00, 53.32batch/s]\u001b[A\n",
            "Training epochs on cpu:   2%|▏         | 2/100 [00:00<00:20,  4.87epoch/s, loss=0.00396, prev_loss=nan]\n",
            "Training batches on cpu:   0%|          | 0/7 [00:00<?, ?batch/s]\u001b[A\n",
            "Training batches on cpu:  86%|████████▌ | 6/7 [00:00<00:00, 55.87batch/s]\u001b[A\n",
            "Training epochs on cpu:   3%|▎         | 3/100 [00:00<00:19,  4.88epoch/s, loss=0.00383, prev_loss=0.00396]\n",
            "Training batches on cpu:   0%|          | 0/7 [00:00<?, ?batch/s]\u001b[A\n",
            "Training batches on cpu:  86%|████████▌ | 6/7 [00:00<00:00, 54.16batch/s]\u001b[A\n",
            "Training epochs on cpu:   4%|▍         | 4/100 [00:00<00:19,  4.83epoch/s, loss=0.00379, prev_loss=0.00383]\n",
            "Training batches on cpu:   0%|          | 0/7 [00:00<?, ?batch/s]\u001b[A\n",
            "Training batches on cpu:  86%|████████▌ | 6/7 [00:00<00:00, 51.78batch/s]\u001b[A\n",
            "Training epochs on cpu:   5%|▌         | 5/100 [00:01<00:19,  4.79epoch/s, loss=0.00369, prev_loss=0.00379]\n",
            "Training batches on cpu:   0%|          | 0/7 [00:00<?, ?batch/s]\u001b[A\n",
            "Training batches on cpu:  86%|████████▌ | 6/7 [00:00<00:00, 52.50batch/s]\u001b[A\n",
            "Training epochs on cpu:   6%|▌         | 6/100 [00:01<00:19,  4.75epoch/s, loss=0.00373, prev_loss=0.00369]\n",
            "Training batches on cpu:   0%|          | 0/7 [00:00<?, ?batch/s]\u001b[A\n",
            "Training batches on cpu:  86%|████████▌ | 6/7 [00:00<00:00, 55.38batch/s]\u001b[A\n",
            "Training epochs on cpu:   7%|▋         | 7/100 [00:01<00:19,  4.76epoch/s, loss=0.00365, prev_loss=0.00373]\n",
            "Training batches on cpu:   0%|          | 0/7 [00:00<?, ?batch/s]\u001b[A\n",
            "Training batches on cpu:  86%|████████▌ | 6/7 [00:00<00:00, 56.62batch/s]\u001b[A\n",
            "Training epochs on cpu:   8%|▊         | 8/100 [00:01<00:19,  4.80epoch/s, loss=0.00379, prev_loss=0.00365]\n",
            "Training batches on cpu:   0%|          | 0/7 [00:00<?, ?batch/s]\u001b[A\n",
            "Training batches on cpu:  86%|████████▌ | 6/7 [00:00<00:00, 58.22batch/s]\u001b[A\n",
            "Training epochs on cpu:   9%|▉         | 9/100 [00:01<00:19,  4.75epoch/s, loss=0.0037, prev_loss=0.00379]\n",
            "Training batches on cpu:   0%|          | 0/7 [00:00<?, ?batch/s]\u001b[A\n",
            "Training batches on cpu:  86%|████████▌ | 6/7 [00:00<00:00, 54.65batch/s]\u001b[A\n",
            "Training epochs on cpu:  10%|█         | 10/100 [00:02<00:19,  4.69epoch/s, loss=0.00362, prev_loss=0.0037]\n",
            "Training batches on cpu:   0%|          | 0/7 [00:00<?, ?batch/s]\u001b[A\n",
            "Training batches on cpu:  86%|████████▌ | 6/7 [00:00<00:00, 57.17batch/s]\u001b[A\n",
            "Training epochs on cpu:  11%|█         | 11/100 [00:02<00:18,  4.75epoch/s, loss=0.00362, prev_loss=0.00362]\n",
            "Training batches on cpu:   0%|          | 0/7 [00:00<?, ?batch/s]\u001b[A\n",
            "Training batches on cpu:  86%|████████▌ | 6/7 [00:00<00:00, 54.60batch/s]\u001b[A\n",
            "Training epochs on cpu:  12%|█▏        | 12/100 [00:02<00:18,  4.79epoch/s, loss=0.00364, prev_loss=0.00362]\n",
            "Training batches on cpu:   0%|          | 0/7 [00:00<?, ?batch/s]\u001b[A\n",
            "Training batches on cpu:  86%|████████▌ | 6/7 [00:00<00:00, 55.70batch/s]\u001b[A\n",
            "Training epochs on cpu:  13%|█▎        | 13/100 [00:02<00:18,  4.78epoch/s, loss=0.0035, prev_loss=0.00364]\n",
            "Training batches on cpu:   0%|          | 0/7 [00:00<?, ?batch/s]\u001b[A\n",
            "Training batches on cpu:  86%|████████▌ | 6/7 [00:00<00:00, 53.41batch/s]\u001b[A\n",
            "Training epochs on cpu:  14%|█▍        | 14/100 [00:02<00:18,  4.72epoch/s, loss=0.00361, prev_loss=0.0035]\n",
            "Training batches on cpu:   0%|          | 0/7 [00:00<?, ?batch/s]\u001b[A\n",
            "Training batches on cpu:  86%|████████▌ | 6/7 [00:00<00:00, 53.53batch/s]\u001b[A\n",
            "Training epochs on cpu:  15%|█▌        | 15/100 [00:03<00:17,  4.76epoch/s, loss=0.00363, prev_loss=0.00361]\n",
            "Training batches on cpu:   0%|          | 0/7 [00:00<?, ?batch/s]\u001b[A\n",
            "Training batches on cpu:  86%|████████▌ | 6/7 [00:00<00:00, 55.13batch/s]\u001b[A\n",
            "Training epochs on cpu:  16%|█▌        | 16/100 [00:03<00:17,  4.80epoch/s, loss=0.00362, prev_loss=0.00363]\n",
            "Training batches on cpu:   0%|          | 0/7 [00:00<?, ?batch/s]\u001b[A\n",
            "Training batches on cpu:  86%|████████▌ | 6/7 [00:00<00:00, 53.70batch/s]\u001b[A\n",
            "Training epochs on cpu:  17%|█▋        | 17/100 [00:03<00:17,  4.79epoch/s, loss=0.00375, prev_loss=0.00362]\n",
            "Training batches on cpu:   0%|          | 0/7 [00:00<?, ?batch/s]\u001b[A\n",
            "Training batches on cpu:  86%|████████▌ | 6/7 [00:00<00:00, 54.06batch/s]\u001b[A\n",
            "Training epochs on cpu:  18%|█▊        | 18/100 [00:03<00:17,  4.78epoch/s, loss=0.00358, prev_loss=0.00375]\n",
            "Training batches on cpu:   0%|          | 0/7 [00:00<?, ?batch/s]\u001b[A\n",
            "Training batches on cpu:  71%|███████▏  | 5/7 [00:00<00:00, 49.93batch/s]\u001b[A\n",
            "Training epochs on cpu:  19%|█▉        | 19/100 [00:03<00:17,  4.66epoch/s, loss=0.00363, prev_loss=0.00358]\n",
            "Training batches on cpu:   0%|          | 0/7 [00:00<?, ?batch/s]\u001b[A\n",
            "Training batches on cpu:  86%|████████▌ | 6/7 [00:00<00:00, 56.53batch/s]\u001b[A\n",
            "Training epochs on cpu:  20%|██        | 20/100 [00:04<00:16,  4.71epoch/s, loss=0.00357, prev_loss=0.00363]\n",
            "Training batches on cpu:   0%|          | 0/7 [00:00<?, ?batch/s]\u001b[A\n",
            "Training batches on cpu:  86%|████████▌ | 6/7 [00:00<00:00, 55.15batch/s]\u001b[A\n",
            "Training epochs on cpu:  21%|██        | 21/100 [00:04<00:16,  4.72epoch/s, loss=0.00362, prev_loss=0.00357]\n",
            "Training batches on cpu:   0%|          | 0/7 [00:00<?, ?batch/s]\u001b[A\n",
            "Training batches on cpu:  86%|████████▌ | 6/7 [00:00<00:00, 56.28batch/s]\u001b[A\n",
            "Training epochs on cpu:  22%|██▏       | 22/100 [00:04<00:16,  4.72epoch/s, loss=0.0036, prev_loss=0.00362]\n",
            "Training batches on cpu:   0%|          | 0/7 [00:00<?, ?batch/s]\u001b[A\n",
            "Training batches on cpu:  71%|███████▏  | 5/7 [00:00<00:00, 49.81batch/s]\u001b[A\n",
            "Training epochs on cpu:  23%|██▎       | 23/100 [00:04<00:16,  4.64epoch/s, loss=0.00357, prev_loss=0.0036]\n",
            "Training batches on cpu:   0%|          | 0/7 [00:00<?, ?batch/s]\u001b[A\n",
            "Training batches on cpu:  57%|█████▋    | 4/7 [00:00<00:00, 37.23batch/s]\u001b[A\n",
            "Training epochs on cpu:  24%|██▍       | 24/100 [00:05<00:16,  4.48epoch/s, loss=0.0036, prev_loss=0.00357]\n",
            "Training batches on cpu:   0%|          | 0/7 [00:00<?, ?batch/s]\u001b[A\n",
            "Training batches on cpu:  86%|████████▌ | 6/7 [00:00<00:00, 53.96batch/s]\u001b[A\n",
            "Training epochs on cpu:  25%|██▌       | 25/100 [00:05<00:16,  4.55epoch/s, loss=0.00348, prev_loss=0.0036]\n",
            "Training batches on cpu:   0%|          | 0/7 [00:00<?, ?batch/s]\u001b[A\n",
            "Training batches on cpu:  86%|████████▌ | 6/7 [00:00<00:00, 56.90batch/s]\u001b[A\n",
            "Training epochs on cpu:  26%|██▌       | 26/100 [00:05<00:16,  4.60epoch/s, loss=0.00344, prev_loss=0.00348]\n",
            "Training batches on cpu:   0%|          | 0/7 [00:00<?, ?batch/s]\u001b[A\n",
            "Training batches on cpu:  86%|████████▌ | 6/7 [00:00<00:00, 54.55batch/s]\u001b[A\n",
            "Training epochs on cpu:  27%|██▋       | 27/100 [00:05<00:15,  4.63epoch/s, loss=0.00355, prev_loss=0.00344]\n",
            "Training batches on cpu:   0%|          | 0/7 [00:00<?, ?batch/s]\u001b[A\n",
            "Training batches on cpu:  86%|████████▌ | 6/7 [00:00<00:00, 52.11batch/s]\u001b[A\n",
            "Training epochs on cpu:  28%|██▊       | 28/100 [00:05<00:15,  4.58epoch/s, loss=0.00357, prev_loss=0.00355]\n",
            "Training batches on cpu:   0%|          | 0/7 [00:00<?, ?batch/s]\u001b[A\n",
            "Training batches on cpu:  86%|████████▌ | 6/7 [00:00<00:00, 52.48batch/s]\u001b[A\n",
            "Training epochs on cpu:  29%|██▉       | 29/100 [00:06<00:15,  4.58epoch/s, loss=0.00366, prev_loss=0.00357]\n",
            "Training batches on cpu:   0%|          | 0/7 [00:00<?, ?batch/s]\u001b[A\n",
            "Training batches on cpu:  71%|███████▏  | 5/7 [00:00<00:00, 46.52batch/s]\u001b[A\n",
            "Training epochs on cpu:  30%|███       | 30/100 [00:06<00:15,  4.53epoch/s, loss=0.00348, prev_loss=0.00366]\n",
            "Training batches on cpu:   0%|          | 0/7 [00:00<?, ?batch/s]\u001b[A\n",
            "Training batches on cpu:  86%|████████▌ | 6/7 [00:00<00:00, 58.93batch/s]\u001b[A\n",
            "Training epochs on cpu:  31%|███       | 31/100 [00:06<00:14,  4.62epoch/s, loss=0.00347, prev_loss=0.00348]\n",
            "Training batches on cpu:   0%|          | 0/7 [00:00<?, ?batch/s]\u001b[A\n",
            "Training batches on cpu:  86%|████████▌ | 6/7 [00:00<00:00, 53.93batch/s]\u001b[A\n",
            "Training epochs on cpu:  32%|███▏      | 32/100 [00:06<00:14,  4.59epoch/s, loss=0.00332, prev_loss=0.00347]\n",
            "Training batches on cpu:   0%|          | 0/7 [00:00<?, ?batch/s]\u001b[A\n",
            "Training batches on cpu:  86%|████████▌ | 6/7 [00:00<00:00, 50.35batch/s]\u001b[A\n",
            "Training epochs on cpu:  33%|███▎      | 33/100 [00:07<00:14,  4.56epoch/s, loss=0.00341, prev_loss=0.00332]\n",
            "Training batches on cpu:   0%|          | 0/7 [00:00<?, ?batch/s]\u001b[A\n",
            "Training batches on cpu:  86%|████████▌ | 6/7 [00:00<00:00, 52.62batch/s]\u001b[A\n",
            "Training epochs on cpu:  34%|███▍      | 34/100 [00:07<00:14,  4.60epoch/s, loss=0.00342, prev_loss=0.00341]\n",
            "Training batches on cpu:   0%|          | 0/7 [00:00<?, ?batch/s]\u001b[A\n",
            "Training batches on cpu:  86%|████████▌ | 6/7 [00:00<00:00, 57.25batch/s]\u001b[A\n",
            "Training epochs on cpu:  35%|███▌      | 35/100 [00:07<00:13,  4.65epoch/s, loss=0.00358, prev_loss=0.00342]\n",
            "Training batches on cpu:   0%|          | 0/7 [00:00<?, ?batch/s]\u001b[A\n",
            "Training batches on cpu:  86%|████████▌ | 6/7 [00:00<00:00, 53.48batch/s]\u001b[A\n",
            "Training epochs on cpu:  36%|███▌      | 36/100 [00:07<00:13,  4.66epoch/s, loss=0.00347, prev_loss=0.00358]\n",
            "Training batches on cpu:   0%|          | 0/7 [00:00<?, ?batch/s]\u001b[A\n",
            "Training batches on cpu:  86%|████████▌ | 6/7 [00:00<00:00, 55.70batch/s]\u001b[A\n",
            "Training epochs on cpu:  37%|███▋      | 37/100 [00:07<00:13,  4.69epoch/s, loss=0.00341, prev_loss=0.00347]\n",
            "Training batches on cpu:   0%|          | 0/7 [00:00<?, ?batch/s]\u001b[A\n",
            "Training batches on cpu:  86%|████████▌ | 6/7 [00:00<00:00, 52.87batch/s]\u001b[A\n",
            "Training epochs on cpu:  38%|███▊      | 38/100 [00:08<00:13,  4.66epoch/s, loss=0.00362, prev_loss=0.00341]\n",
            "Training batches on cpu:   0%|          | 0/7 [00:00<?, ?batch/s]\u001b[A\n",
            "Training batches on cpu:  86%|████████▌ | 6/7 [00:00<00:00, 54.33batch/s]\u001b[A\n",
            "Training epochs on cpu:  39%|███▉      | 39/100 [00:08<00:12,  4.69epoch/s, loss=0.00347, prev_loss=0.00362]\n",
            "Training batches on cpu:   0%|          | 0/7 [00:00<?, ?batch/s]\u001b[A\n",
            "Training batches on cpu:  86%|████████▌ | 6/7 [00:00<00:00, 54.66batch/s]\u001b[A\n",
            "Training epochs on cpu:  40%|████      | 40/100 [00:08<00:12,  4.67epoch/s, loss=0.00351, prev_loss=0.00347]\n",
            "Training batches on cpu:   0%|          | 0/7 [00:00<?, ?batch/s]\u001b[A\n",
            "Training batches on cpu:  86%|████████▌ | 6/7 [00:00<00:00, 52.61batch/s]\u001b[A\n",
            "Training epochs on cpu:  41%|████      | 41/100 [00:08<00:12,  4.68epoch/s, loss=0.00351, prev_loss=0.00351]\n",
            "Training batches on cpu:   0%|          | 0/7 [00:00<?, ?batch/s]\u001b[A\n",
            "Training batches on cpu:  71%|███████▏  | 5/7 [00:00<00:00, 47.76batch/s]\u001b[A\n",
            "Training epochs on cpu:  42%|████▏     | 42/100 [00:08<00:12,  4.61epoch/s, loss=0.00352, prev_loss=0.00351]\n",
            "Training batches on cpu:   0%|          | 0/7 [00:00<?, ?batch/s]\u001b[A\n",
            "Training batches on cpu:  86%|████████▌ | 6/7 [00:00<00:00, 55.74batch/s]\u001b[A\n",
            "Training epochs on cpu:  43%|████▎     | 43/100 [00:09<00:12,  4.60epoch/s, loss=0.00347, prev_loss=0.00352]\n",
            "Training batches on cpu:   0%|          | 0/7 [00:00<?, ?batch/s]\u001b[A\n",
            "Training batches on cpu:  86%|████████▌ | 6/7 [00:00<00:00, 55.96batch/s]\u001b[A\n",
            "Training epochs on cpu:  44%|████▍     | 44/100 [00:09<00:12,  4.66epoch/s, loss=0.00344, prev_loss=0.00347]\n",
            "Training batches on cpu:   0%|          | 0/7 [00:00<?, ?batch/s]\u001b[A\n",
            "Training batches on cpu:  86%|████████▌ | 6/7 [00:00<00:00, 53.49batch/s]\u001b[A\n",
            "Training epochs on cpu:  45%|████▌     | 45/100 [00:09<00:11,  4.69epoch/s, loss=0.0034, prev_loss=0.00344]\n",
            "Training batches on cpu:   0%|          | 0/7 [00:00<?, ?batch/s]\u001b[A\n",
            "Training batches on cpu:  86%|████████▌ | 6/7 [00:00<00:00, 54.71batch/s]\u001b[A\n",
            "Training epochs on cpu:  46%|████▌     | 46/100 [00:09<00:11,  4.72epoch/s, loss=0.00359, prev_loss=0.0034]\n",
            "Training batches on cpu:   0%|          | 0/7 [00:00<?, ?batch/s]\u001b[A\n",
            "Training batches on cpu:  86%|████████▌ | 6/7 [00:00<00:00, 51.48batch/s]\u001b[A\n",
            "Training epochs on cpu:  47%|████▋     | 47/100 [00:10<00:11,  4.58epoch/s, loss=0.00348, prev_loss=0.00359]\n",
            "Training batches on cpu:   0%|          | 0/7 [00:00<?, ?batch/s]\u001b[A\n",
            "Training batches on cpu:  86%|████████▌ | 6/7 [00:00<00:00, 57.83batch/s]\u001b[A\n",
            "Training epochs on cpu:  48%|████▊     | 48/100 [00:10<00:11,  4.64epoch/s, loss=0.00361, prev_loss=0.00348]\n",
            "Training batches on cpu:   0%|          | 0/7 [00:00<?, ?batch/s]\u001b[A\n",
            "Training batches on cpu:  86%|████████▌ | 6/7 [00:00<00:00, 54.74batch/s]\u001b[A\n",
            "Training epochs on cpu:  49%|████▉     | 49/100 [00:10<00:10,  4.71epoch/s, loss=0.00351, prev_loss=0.00361]\n",
            "Training batches on cpu:   0%|          | 0/7 [00:00<?, ?batch/s]\u001b[A\n",
            "Training batches on cpu:  86%|████████▌ | 6/7 [00:00<00:00, 54.30batch/s]\u001b[A\n",
            "Training epochs on cpu:  50%|█████     | 50/100 [00:10<00:10,  4.67epoch/s, loss=0.00358, prev_loss=0.00351]\n",
            "Training batches on cpu:   0%|          | 0/7 [00:00<?, ?batch/s]\u001b[A\n",
            "Training batches on cpu:  86%|████████▌ | 6/7 [00:00<00:00, 57.08batch/s]\u001b[A\n",
            "Training epochs on cpu:  51%|█████     | 51/100 [00:10<00:10,  4.70epoch/s, loss=0.00353, prev_loss=0.00358]\n",
            "Training batches on cpu:   0%|          | 0/7 [00:00<?, ?batch/s]\u001b[A\n",
            "Training batches on cpu:  86%|████████▌ | 6/7 [00:00<00:00, 50.69batch/s]\u001b[A\n",
            "Training epochs on cpu:  52%|█████▏    | 52/100 [00:11<00:10,  4.66epoch/s, loss=0.00337, prev_loss=0.00353]\n",
            "Training batches on cpu:   0%|          | 0/7 [00:00<?, ?batch/s]\u001b[A\n",
            "Training batches on cpu:  86%|████████▌ | 6/7 [00:00<00:00, 55.07batch/s]\u001b[A\n",
            "Training epochs on cpu:  53%|█████▎    | 53/100 [00:11<00:09,  4.71epoch/s, loss=0.00338, prev_loss=0.00337]\n",
            "Training batches on cpu:   0%|          | 0/7 [00:00<?, ?batch/s]\u001b[A\n",
            "Training batches on cpu:  86%|████████▌ | 6/7 [00:00<00:00, 57.20batch/s]\u001b[A\n",
            "Training epochs on cpu:  54%|█████▍    | 54/100 [00:11<00:09,  4.75epoch/s, loss=0.00362, prev_loss=0.00338]\n",
            "Training batches on cpu:   0%|          | 0/7 [00:00<?, ?batch/s]\u001b[A\n",
            "Training batches on cpu:  86%|████████▌ | 6/7 [00:00<00:00, 54.56batch/s]\u001b[A\n",
            "Training epochs on cpu:  55%|█████▌    | 55/100 [00:11<00:09,  4.75epoch/s, loss=0.00341, prev_loss=0.00362]\n",
            "Training batches on cpu:   0%|          | 0/7 [00:00<?, ?batch/s]\u001b[A\n",
            "Training batches on cpu:  86%|████████▌ | 6/7 [00:00<00:00, 54.02batch/s]\u001b[A\n",
            "Training epochs on cpu:  56%|█████▌    | 56/100 [00:11<00:09,  4.76epoch/s, loss=0.00345, prev_loss=0.00341]\n",
            "Training batches on cpu:   0%|          | 0/7 [00:00<?, ?batch/s]\u001b[A\n",
            "Training batches on cpu:  86%|████████▌ | 6/7 [00:00<00:00, 53.31batch/s]\u001b[A\n",
            "Training epochs on cpu:  57%|█████▋    | 57/100 [00:12<00:09,  4.75epoch/s, loss=0.00341, prev_loss=0.00345]\n",
            "Training batches on cpu:   0%|          | 0/7 [00:00<?, ?batch/s]\u001b[A\n",
            "Training batches on cpu:  86%|████████▌ | 6/7 [00:00<00:00, 56.56batch/s]\u001b[A\n",
            "Training epochs on cpu:  58%|█████▊    | 58/100 [00:12<00:08,  4.79epoch/s, loss=0.00334, prev_loss=0.00341]\n",
            "Training batches on cpu:   0%|          | 0/7 [00:00<?, ?batch/s]\u001b[A\n",
            "Training batches on cpu:  86%|████████▌ | 6/7 [00:00<00:00, 55.01batch/s]\u001b[A\n",
            "Training epochs on cpu:  59%|█████▉    | 59/100 [00:12<00:08,  4.77epoch/s, loss=0.0035, prev_loss=0.00334]\n",
            "Training batches on cpu:   0%|          | 0/7 [00:00<?, ?batch/s]\u001b[A\n",
            "Training batches on cpu:  86%|████████▌ | 6/7 [00:00<00:00, 53.64batch/s]\u001b[A\n",
            "Training epochs on cpu:  60%|██████    | 60/100 [00:12<00:08,  4.71epoch/s, loss=0.00334, prev_loss=0.0035]\n",
            "Training batches on cpu:   0%|          | 0/7 [00:00<?, ?batch/s]\u001b[A\n",
            "Training batches on cpu:  86%|████████▌ | 6/7 [00:00<00:00, 55.11batch/s]\u001b[A\n",
            "Training epochs on cpu:  61%|██████    | 61/100 [00:13<00:08,  4.69epoch/s, loss=0.00353, prev_loss=0.00334]\n",
            "Training batches on cpu:   0%|          | 0/7 [00:00<?, ?batch/s]\u001b[A\n",
            "Training batches on cpu:  86%|████████▌ | 6/7 [00:00<00:00, 53.47batch/s]\u001b[A\n",
            "Training epochs on cpu:  62%|██████▏   | 62/100 [00:13<00:08,  4.66epoch/s, loss=0.00345, prev_loss=0.00353]\n",
            "Training batches on cpu:   0%|          | 0/7 [00:00<?, ?batch/s]\u001b[A\n",
            "Training batches on cpu:  86%|████████▌ | 6/7 [00:00<00:00, 55.89batch/s]\u001b[A\n",
            "Training epochs on cpu:  63%|██████▎   | 63/100 [00:13<00:07,  4.72epoch/s, loss=0.00341, prev_loss=0.00345]\n",
            "Training batches on cpu:   0%|          | 0/7 [00:00<?, ?batch/s]\u001b[A\n",
            "Training batches on cpu:  86%|████████▌ | 6/7 [00:00<00:00, 55.09batch/s]\u001b[A\n",
            "Training epochs on cpu:  64%|██████▍   | 64/100 [00:13<00:07,  4.72epoch/s, loss=0.00352, prev_loss=0.00341]\n",
            "Training batches on cpu:   0%|          | 0/7 [00:00<?, ?batch/s]\u001b[A\n",
            "Training batches on cpu:  86%|████████▌ | 6/7 [00:00<00:00, 52.94batch/s]\u001b[A\n",
            "Training epochs on cpu:  65%|██████▌   | 65/100 [00:13<00:07,  4.70epoch/s, loss=0.00344, prev_loss=0.00352]\n",
            "Training batches on cpu:   0%|          | 0/7 [00:00<?, ?batch/s]\u001b[A\n",
            "Training batches on cpu:  86%|████████▌ | 6/7 [00:00<00:00, 51.94batch/s]\u001b[A\n",
            "Training epochs on cpu:  66%|██████▌   | 66/100 [00:14<00:07,  4.58epoch/s, loss=0.00328, prev_loss=0.00344]\n",
            "Training batches on cpu:   0%|          | 0/7 [00:00<?, ?batch/s]\u001b[A\n",
            "Training batches on cpu:  86%|████████▌ | 6/7 [00:00<00:00, 52.59batch/s]\u001b[A\n",
            "Training epochs on cpu:  67%|██████▋   | 67/100 [00:14<00:07,  4.57epoch/s, loss=0.00324, prev_loss=0.00328]\n",
            "Training batches on cpu:   0%|          | 0/7 [00:00<?, ?batch/s]\u001b[A\n",
            "Training batches on cpu:  86%|████████▌ | 6/7 [00:00<00:00, 52.64batch/s]\u001b[A\n",
            "Training epochs on cpu:  68%|██████▊   | 68/100 [00:14<00:06,  4.58epoch/s, loss=0.00339, prev_loss=0.00324]\n",
            "Training batches on cpu:   0%|          | 0/7 [00:00<?, ?batch/s]\u001b[A\n",
            "Training batches on cpu:  86%|████████▌ | 6/7 [00:00<00:00, 52.68batch/s]\u001b[A\n",
            "Training epochs on cpu:  69%|██████▉   | 69/100 [00:14<00:06,  4.58epoch/s, loss=0.00332, prev_loss=0.00339]\n",
            "Training batches on cpu:   0%|          | 0/7 [00:00<?, ?batch/s]\u001b[A\n",
            "Training batches on cpu:  86%|████████▌ | 6/7 [00:00<00:00, 55.14batch/s]\u001b[A\n",
            "Training epochs on cpu:  70%|███████   | 70/100 [00:14<00:06,  4.49epoch/s, loss=0.00332, prev_loss=0.00332]\n",
            "Training batches on cpu:   0%|          | 0/7 [00:00<?, ?batch/s]\u001b[A\n",
            "Training batches on cpu:  86%|████████▌ | 6/7 [00:00<00:00, 55.58batch/s]\u001b[A\n",
            "Training epochs on cpu:  71%|███████   | 71/100 [00:15<00:06,  4.55epoch/s, loss=0.00338, prev_loss=0.00332]\n",
            "Training batches on cpu:   0%|          | 0/7 [00:00<?, ?batch/s]\u001b[A\n",
            "Training batches on cpu:  86%|████████▌ | 6/7 [00:00<00:00, 53.98batch/s]\u001b[A\n",
            "Training epochs on cpu:  72%|███████▏  | 72/100 [00:15<00:06,  4.52epoch/s, loss=0.00337, prev_loss=0.00338]\n",
            "Training batches on cpu:   0%|          | 0/7 [00:00<?, ?batch/s]\u001b[A\n",
            "Training batches on cpu:  86%|████████▌ | 6/7 [00:00<00:00, 55.21batch/s]\u001b[A\n",
            "Training epochs on cpu:  73%|███████▎  | 73/100 [00:15<00:05,  4.62epoch/s, loss=0.00331, prev_loss=0.00337]\n",
            "Training batches on cpu:   0%|          | 0/7 [00:00<?, ?batch/s]\u001b[A\n",
            "Training batches on cpu:  86%|████████▌ | 6/7 [00:00<00:00, 52.51batch/s]\u001b[A\n",
            "Training epochs on cpu:  74%|███████▍  | 74/100 [00:15<00:05,  4.65epoch/s, loss=0.00337, prev_loss=0.00331]\n",
            "Training batches on cpu:   0%|          | 0/7 [00:00<?, ?batch/s]\u001b[A\n",
            "Training batches on cpu:  86%|████████▌ | 6/7 [00:00<00:00, 54.99batch/s]\u001b[A\n",
            "Training epochs on cpu:  75%|███████▌  | 75/100 [00:16<00:05,  4.70epoch/s, loss=0.00332, prev_loss=0.00337]\n",
            "Training batches on cpu:   0%|          | 0/7 [00:00<?, ?batch/s]\u001b[A\n",
            "Training batches on cpu:  71%|███████▏  | 5/7 [00:00<00:00, 49.22batch/s]\u001b[A\n",
            "Training epochs on cpu:  76%|███████▌  | 76/100 [00:16<00:05,  4.70epoch/s, loss=0.00328, prev_loss=0.00332]\n",
            "Training batches on cpu:   0%|          | 0/7 [00:00<?, ?batch/s]\u001b[A\n",
            "Training batches on cpu:  86%|████████▌ | 6/7 [00:00<00:00, 54.63batch/s]\u001b[A\n",
            "Training epochs on cpu:  77%|███████▋  | 77/100 [00:16<00:04,  4.73epoch/s, loss=0.00329, prev_loss=0.00328]\n",
            "Training batches on cpu:   0%|          | 0/7 [00:00<?, ?batch/s]\u001b[A\n",
            "Training batches on cpu:  86%|████████▌ | 6/7 [00:00<00:00, 57.34batch/s]\u001b[A\n",
            "Training epochs on cpu:  78%|███████▊  | 78/100 [00:16<00:04,  4.78epoch/s, loss=0.0033, prev_loss=0.00329]\n",
            "Training batches on cpu:   0%|          | 0/7 [00:00<?, ?batch/s]\u001b[A\n",
            "Training batches on cpu:  86%|████████▌ | 6/7 [00:00<00:00, 53.90batch/s]\u001b[A\n",
            "Training epochs on cpu:  79%|███████▉  | 79/100 [00:16<00:04,  4.74epoch/s, loss=0.00329, prev_loss=0.0033]\n",
            "Training batches on cpu:   0%|          | 0/7 [00:00<?, ?batch/s]\u001b[A\n",
            "Training batches on cpu:  86%|████████▌ | 6/7 [00:00<00:00, 55.47batch/s]\u001b[A\n",
            "Training epochs on cpu:  80%|████████  | 80/100 [00:17<00:04,  4.74epoch/s, loss=0.00337, prev_loss=0.00329]\n",
            "Training batches on cpu:   0%|          | 0/7 [00:00<?, ?batch/s]\u001b[A\n",
            "Training batches on cpu:  86%|████████▌ | 6/7 [00:00<00:00, 57.80batch/s]\u001b[A\n",
            "Training epochs on cpu:  81%|████████  | 81/100 [00:17<00:03,  4.77epoch/s, loss=0.00329, prev_loss=0.00337]\n",
            "Training batches on cpu:   0%|          | 0/7 [00:00<?, ?batch/s]\u001b[A\n",
            "Training batches on cpu:  71%|███████▏  | 5/7 [00:00<00:00, 45.78batch/s]\u001b[A\n",
            "Training epochs on cpu:  82%|████████▏ | 82/100 [00:17<00:03,  4.65epoch/s, loss=0.00345, prev_loss=0.00329]\n",
            "Training batches on cpu:   0%|          | 0/7 [00:00<?, ?batch/s]\u001b[A\n",
            "Training batches on cpu:  86%|████████▌ | 6/7 [00:00<00:00, 57.47batch/s]\u001b[A\n",
            "Training epochs on cpu:  83%|████████▎ | 83/100 [00:17<00:03,  4.72epoch/s, loss=0.00329, prev_loss=0.00345]\n",
            "Training batches on cpu:   0%|          | 0/7 [00:00<?, ?batch/s]\u001b[A\n",
            "Training batches on cpu:  86%|████████▌ | 6/7 [00:00<00:00, 54.30batch/s]\u001b[A\n",
            "Training epochs on cpu:  84%|████████▍ | 84/100 [00:17<00:03,  4.70epoch/s, loss=0.00342, prev_loss=0.00329]\n",
            "Training batches on cpu:   0%|          | 0/7 [00:00<?, ?batch/s]\u001b[A\n",
            "Training batches on cpu:  86%|████████▌ | 6/7 [00:00<00:00, 55.54batch/s]\u001b[A\n",
            "Training epochs on cpu:  85%|████████▌ | 85/100 [00:18<00:03,  4.67epoch/s, loss=0.0035, prev_loss=0.00342]\n",
            "Training batches on cpu:   0%|          | 0/7 [00:00<?, ?batch/s]\u001b[A\n",
            "Training batches on cpu:  86%|████████▌ | 6/7 [00:00<00:00, 54.84batch/s]\u001b[A\n",
            "Training epochs on cpu:  86%|████████▌ | 86/100 [00:18<00:02,  4.72epoch/s, loss=0.00325, prev_loss=0.0035]\n",
            "Training batches on cpu:   0%|          | 0/7 [00:00<?, ?batch/s]\u001b[A\n",
            "Training batches on cpu:  86%|████████▌ | 6/7 [00:00<00:00, 54.88batch/s]\u001b[A\n",
            "Training epochs on cpu:  87%|████████▋ | 87/100 [00:18<00:02,  4.74epoch/s, loss=0.00339, prev_loss=0.00325]\n",
            "Training batches on cpu:   0%|          | 0/7 [00:00<?, ?batch/s]\u001b[A\n",
            "Training batches on cpu:  86%|████████▌ | 6/7 [00:00<00:00, 53.72batch/s]\u001b[A\n",
            "Training epochs on cpu:  88%|████████▊ | 88/100 [00:18<00:02,  4.69epoch/s, loss=0.00339, prev_loss=0.00339]\n",
            "Training batches on cpu:   0%|          | 0/7 [00:00<?, ?batch/s]\u001b[A\n",
            "Training batches on cpu:  86%|████████▌ | 6/7 [00:00<00:00, 53.05batch/s]\u001b[A\n",
            "Training epochs on cpu:  89%|████████▉ | 89/100 [00:19<00:02,  4.70epoch/s, loss=0.00343, prev_loss=0.00339]\n",
            "Training batches on cpu:   0%|          | 0/7 [00:00<?, ?batch/s]\u001b[A\n",
            "Training batches on cpu:  86%|████████▌ | 6/7 [00:00<00:00, 55.84batch/s]\u001b[A\n",
            "Training epochs on cpu:  90%|█████████ | 90/100 [00:19<00:02,  4.72epoch/s, loss=0.00336, prev_loss=0.00343]\n",
            "Training batches on cpu:   0%|          | 0/7 [00:00<?, ?batch/s]\u001b[A\n",
            "Training batches on cpu:  86%|████████▌ | 6/7 [00:00<00:00, 56.00batch/s]\u001b[A\n",
            "Training epochs on cpu:  91%|█████████ | 91/100 [00:19<00:01,  4.77epoch/s, loss=0.00337, prev_loss=0.00336]\n",
            "Training batches on cpu:   0%|          | 0/7 [00:00<?, ?batch/s]\u001b[A\n",
            "Training batches on cpu:  71%|███████▏  | 5/7 [00:00<00:00, 49.50batch/s]\u001b[A\n",
            "Training epochs on cpu:  92%|█████████▏| 92/100 [00:19<00:01,  4.72epoch/s, loss=0.00339, prev_loss=0.00337]\n",
            "Training batches on cpu:   0%|          | 0/7 [00:00<?, ?batch/s]\u001b[A\n",
            "Training batches on cpu: 100%|██████████| 7/7 [00:00<00:00, 65.66batch/s]\u001b[A\n",
            "Training epochs on cpu:  93%|█████████▎| 93/100 [00:19<00:01,  4.78epoch/s, loss=0.00318, prev_loss=0.00339]\n",
            "Training batches on cpu:   0%|          | 0/7 [00:00<?, ?batch/s]\u001b[A\n",
            "Training batches on cpu:  86%|████████▌ | 6/7 [00:00<00:00, 56.52batch/s]\u001b[A\n",
            "Training epochs on cpu:  94%|█████████▍| 94/100 [00:20<00:01,  4.76epoch/s, loss=0.00329, prev_loss=0.00318]\n",
            "Training batches on cpu:   0%|          | 0/7 [00:00<?, ?batch/s]\u001b[A\n",
            "Training batches on cpu:  86%|████████▌ | 6/7 [00:00<00:00, 54.63batch/s]\u001b[A\n",
            "Training epochs on cpu:  95%|█████████▌| 95/100 [00:20<00:01,  4.77epoch/s, loss=0.00322, prev_loss=0.00329]\n",
            "Training batches on cpu:   0%|          | 0/7 [00:00<?, ?batch/s]\u001b[A\n",
            "Training batches on cpu:  86%|████████▌ | 6/7 [00:00<00:00, 55.97batch/s]\u001b[A\n",
            "Training epochs on cpu:  96%|█████████▌| 96/100 [00:20<00:00,  4.81epoch/s, loss=0.00333, prev_loss=0.00322]\n",
            "Training batches on cpu:   0%|          | 0/7 [00:00<?, ?batch/s]\u001b[A\n",
            "Training batches on cpu:  86%|████████▌ | 6/7 [00:00<00:00, 54.35batch/s]\u001b[A\n",
            "Training epochs on cpu:  97%|█████████▋| 97/100 [00:20<00:00,  4.79epoch/s, loss=0.00334, prev_loss=0.00333]\n",
            "Training batches on cpu:   0%|          | 0/7 [00:00<?, ?batch/s]\u001b[A\n",
            "Training batches on cpu: 100%|██████████| 7/7 [00:00<00:00, 66.45batch/s]\u001b[A\n",
            "Training epochs on cpu:  98%|█████████▊| 98/100 [00:20<00:00,  4.79epoch/s, loss=0.00338, prev_loss=0.00334]\n",
            "Training batches on cpu:   0%|          | 0/7 [00:00<?, ?batch/s]\u001b[A\n",
            "Training batches on cpu:  86%|████████▌ | 6/7 [00:00<00:00, 56.55batch/s]\u001b[A\n",
            "Training epochs on cpu:  99%|█████████▉| 99/100 [00:21<00:00,  4.82epoch/s, loss=0.00342, prev_loss=0.00338]\n",
            "Training batches on cpu:   0%|          | 0/7 [00:00<?, ?batch/s]\u001b[A\n",
            "Training batches on cpu:  86%|████████▌ | 6/7 [00:00<00:00, 51.82batch/s]\u001b[A\n",
            "Training epochs on cpu: 100%|██████████| 100/100 [00:21<00:00,  4.69epoch/s, loss=0.00339, prev_loss=0.00342]\n",
            "INFO:pykeen.evaluation.evaluator:Starting batch_size search for evaluation now...\n",
            "INFO:pykeen.evaluation.evaluator:Concluded batch_size search with batch_size=201.\n",
            "Evaluating on cpu: 100%|██████████| 201/201 [00:00<00:00, 10.9ktriple/s]\n",
            "INFO:pykeen.evaluation.evaluator:Evaluation took 0.02s seconds\n"
          ],
          "name": "stderr"
        }
      ]
    },
    {
      "cell_type": "markdown",
      "metadata": {
        "id": "omEK2E8BDJWz",
        "colab_type": "text"
      },
      "source": [
        "At this point, if on local machine: Save trained model (including triples and all learned parameters), results from training and all experimental metadata. However, since in cloud notebook, will do this another time."
      ]
    },
    {
      "cell_type": "markdown",
      "metadata": {
        "id": "beCGqNMlF0Y9",
        "colab_type": "text"
      },
      "source": [
        "## Now, let's look at the model in more detail."
      ]
    },
    {
      "cell_type": "code",
      "metadata": {
        "id": "kvPUVZkqC9Q7",
        "colab_type": "code",
        "colab": {
          "base_uri": "https://localhost:8080/",
          "height": 119
        },
        "outputId": "08a14c20-642c-4eb3-ba4b-da7fd42c3d87"
      },
      "source": [
        "model = result.model\n",
        "model"
      ],
      "execution_count": 23,
      "outputs": [
        {
          "output_type": "execute_result",
          "data": {
            "text/plain": [
              "RotatE(\n",
              "  (loss): MarginRankingLoss()\n",
              "  (regularizer): NoRegularizer()\n",
              "  (entity_embeddings): Embedding(14, 400)\n",
              "  (relation_embeddings): Embedding(55, 400)\n",
              ")"
            ]
          },
          "metadata": {
            "tags": []
          },
          "execution_count": 23
        }
      ]
    },
    {
      "cell_type": "markdown",
      "metadata": {
        "id": "XP6COnsuHHt4",
        "colab_type": "text"
      },
      "source": [
        "## Looking at the triples (subject, predicate, object):"
      ]
    },
    {
      "cell_type": "code",
      "metadata": {
        "id": "ZdhjeBUaF-_i",
        "colab_type": "code",
        "colab": {
          "base_uri": "https://localhost:8080/",
          "height": 54
        },
        "outputId": "af1936b3-7dc6-4b93-c64f-151ed1ef5a1b"
      },
      "source": [
        "tf = model.triples_factory\n",
        "tf"
      ],
      "execution_count": 25,
      "outputs": [
        {
          "output_type": "execute_result",
          "data": {
            "text/plain": [
              "TriplesFactory(path=\"/usr/local/lib/python3.6/dist-packages/pykeen/datasets/nations/train.txt\")"
            ]
          },
          "metadata": {
            "tags": []
          },
          "execution_count": 25
        }
      ]
    },
    {
      "cell_type": "code",
      "metadata": {
        "id": "Xg0QpFepHUMK",
        "colab_type": "code",
        "colab": {
          "base_uri": "https://localhost:8080/",
          "height": 34
        },
        "outputId": "d8e538cd-d61d-4fbf-df03-18fb306409f0"
      },
      "source": [
        "tf.num_entities, tf.num_relations, tf.num_triples"
      ],
      "execution_count": 26,
      "outputs": [
        {
          "output_type": "execute_result",
          "data": {
            "text/plain": [
              "(14, 55, 1592)"
            ]
          },
          "metadata": {
            "tags": []
          },
          "execution_count": 26
        }
      ]
    },
    {
      "cell_type": "markdown",
      "metadata": {
        "id": "n3Gh45wyHdFW",
        "colab_type": "text"
      },
      "source": [
        "## Evaluating the Results"
      ]
    },
    {
      "cell_type": "markdown",
      "metadata": {
        "id": "hCdf6o7pHg4e",
        "colab_type": "text"
      },
      "source": [
        "(Check that the loss is descending and not oscillating)."
      ]
    },
    {
      "cell_type": "code",
      "metadata": {
        "id": "2Umc4bQTHbcL",
        "colab_type": "code",
        "colab": {
          "base_uri": "https://localhost:8080/",
          "height": 339
        },
        "outputId": "66e8eb6b-fe89-43f9-9315-b8b3d0ce8aab"
      },
      "source": [
        "result.plot_losses()\n",
        "plt.show()"
      ],
      "execution_count": 27,
      "outputs": [
        {
          "output_type": "stream",
          "text": [
            "/usr/local/lib/python3.6/dist-packages/statsmodels/tools/_testing.py:19: FutureWarning: pandas.util.testing is deprecated. Use the functions in the public API at pandas.testing instead.\n",
            "  import pandas.util.testing as tm\n"
          ],
          "name": "stderr"
        },
        {
          "output_type": "display_data",
          "data": {
            "image/png": "[encoded data removed]",
            "text/plain": [
              "<Figure size 432x288 with 1 Axes>"
            ]
          },
          "metadata": {
            "tags": []
          }
        }
      ]
    },
    {
      "cell_type": "markdown",
      "metadata": {
        "id": "eEqQq4KrHyMT",
        "colab_type": "text"
      },
      "source": [
        "In general, there is a downward trend, but within short windows of time there are upticks including the one at 100th epoch at the end."
      ]
    },
    {
      "cell_type": "markdown",
      "metadata": {
        "id": "3vGOmyQqIMkS",
        "colab_type": "text"
      },
      "source": [
        "Things to keep in mind:\n",
        "\n",
        "\n",
        "*   adjusted mean rank is between [0,1]. Closer to 1 is best!\n",
        "*   mean rank is a positive integer with a bound based on number of entities. Closer to 0 is best!\n",
        "*   hits@k is reported between [0,1] and intepreted as a %. Closer to 1 is best!\n",
        "\n",
        "\n",
        "\n",
        "\n"
      ]
    },
    {
      "cell_type": "code",
      "metadata": {
        "id": "zeXHZql7IL5-",
        "colab_type": "code",
        "colab": {
          "base_uri": "https://localhost:8080/",
          "height": 638
        },
        "outputId": "2484241c-26bb-4aa3-b21b-9f9b9a01b72a"
      },
      "source": [
        "result.metric_results.to_df()"
      ],
      "execution_count": 28,
      "outputs": [
        {
          "output_type": "execute_result",
          "data": {
            "text/html": [
              "<div>\n",
              "<style scoped>\n",
              "    .dataframe tbody tr th:only-of-type {\n",
              "        vertical-align: middle;\n",
              "    }\n",
              "\n",
              "    .dataframe tbody tr th {\n",
              "        vertical-align: top;\n",
              "    }\n",
              "\n",
              "    .dataframe thead th {\n",
              "        text-align: right;\n",
              "    }\n",
              "</style>\n",
              "<table border=\"1\" class=\"dataframe\">\n",
              "  <thead>\n",
              "    <tr style=\"text-align: right;\">\n",
              "      <th></th>\n",
              "      <th>Type</th>\n",
              "      <th>Metric</th>\n",
              "      <th>Value</th>\n",
              "    </tr>\n",
              "  </thead>\n",
              "  <tbody>\n",
              "    <tr>\n",
              "      <th>0</th>\n",
              "      <td>avg</td>\n",
              "      <td>adjusted_mean_rank</td>\n",
              "      <td>0.837563</td>\n",
              "    </tr>\n",
              "    <tr>\n",
              "      <th>1</th>\n",
              "      <td>best</td>\n",
              "      <td>mean_rank</td>\n",
              "      <td>3.902985</td>\n",
              "    </tr>\n",
              "    <tr>\n",
              "      <th>2</th>\n",
              "      <td>best</td>\n",
              "      <td>mean_reciprocal_rank</td>\n",
              "      <td>0.463393</td>\n",
              "    </tr>\n",
              "    <tr>\n",
              "      <th>3</th>\n",
              "      <td>best</td>\n",
              "      <td>hits_at_1</td>\n",
              "      <td>0.263682</td>\n",
              "    </tr>\n",
              "    <tr>\n",
              "      <th>4</th>\n",
              "      <td>best</td>\n",
              "      <td>hits_at_3</td>\n",
              "      <td>0.544776</td>\n",
              "    </tr>\n",
              "    <tr>\n",
              "      <th>5</th>\n",
              "      <td>best</td>\n",
              "      <td>hits_at_5</td>\n",
              "      <td>0.753731</td>\n",
              "    </tr>\n",
              "    <tr>\n",
              "      <th>6</th>\n",
              "      <td>best</td>\n",
              "      <td>hits_at_10</td>\n",
              "      <td>0.960199</td>\n",
              "    </tr>\n",
              "    <tr>\n",
              "      <th>7</th>\n",
              "      <td>worst</td>\n",
              "      <td>mean_rank</td>\n",
              "      <td>3.902985</td>\n",
              "    </tr>\n",
              "    <tr>\n",
              "      <th>8</th>\n",
              "      <td>worst</td>\n",
              "      <td>mean_reciprocal_rank</td>\n",
              "      <td>0.463393</td>\n",
              "    </tr>\n",
              "    <tr>\n",
              "      <th>9</th>\n",
              "      <td>worst</td>\n",
              "      <td>hits_at_1</td>\n",
              "      <td>0.263682</td>\n",
              "    </tr>\n",
              "    <tr>\n",
              "      <th>10</th>\n",
              "      <td>worst</td>\n",
              "      <td>hits_at_3</td>\n",
              "      <td>0.544776</td>\n",
              "    </tr>\n",
              "    <tr>\n",
              "      <th>11</th>\n",
              "      <td>worst</td>\n",
              "      <td>hits_at_5</td>\n",
              "      <td>0.753731</td>\n",
              "    </tr>\n",
              "    <tr>\n",
              "      <th>12</th>\n",
              "      <td>worst</td>\n",
              "      <td>hits_at_10</td>\n",
              "      <td>0.960199</td>\n",
              "    </tr>\n",
              "    <tr>\n",
              "      <th>13</th>\n",
              "      <td>avg</td>\n",
              "      <td>mean_rank</td>\n",
              "      <td>3.902985</td>\n",
              "    </tr>\n",
              "    <tr>\n",
              "      <th>14</th>\n",
              "      <td>avg</td>\n",
              "      <td>mean_reciprocal_rank</td>\n",
              "      <td>0.463393</td>\n",
              "    </tr>\n",
              "    <tr>\n",
              "      <th>15</th>\n",
              "      <td>avg</td>\n",
              "      <td>hits_at_1</td>\n",
              "      <td>0.263682</td>\n",
              "    </tr>\n",
              "    <tr>\n",
              "      <th>16</th>\n",
              "      <td>avg</td>\n",
              "      <td>hits_at_3</td>\n",
              "      <td>0.544776</td>\n",
              "    </tr>\n",
              "    <tr>\n",
              "      <th>17</th>\n",
              "      <td>avg</td>\n",
              "      <td>hits_at_5</td>\n",
              "      <td>0.753731</td>\n",
              "    </tr>\n",
              "    <tr>\n",
              "      <th>18</th>\n",
              "      <td>avg</td>\n",
              "      <td>hits_at_10</td>\n",
              "      <td>0.960199</td>\n",
              "    </tr>\n",
              "  </tbody>\n",
              "</table>\n",
              "</div>"
            ],
            "text/plain": [
              "     Type                Metric     Value\n",
              "0     avg    adjusted_mean_rank  0.837563\n",
              "1    best             mean_rank  3.902985\n",
              "2    best  mean_reciprocal_rank  0.463393\n",
              "3    best             hits_at_1  0.263682\n",
              "4    best             hits_at_3  0.544776\n",
              "5    best             hits_at_5  0.753731\n",
              "6    best            hits_at_10  0.960199\n",
              "7   worst             mean_rank  3.902985\n",
              "8   worst  mean_reciprocal_rank  0.463393\n",
              "9   worst             hits_at_1  0.263682\n",
              "10  worst             hits_at_3  0.544776\n",
              "11  worst             hits_at_5  0.753731\n",
              "12  worst            hits_at_10  0.960199\n",
              "13    avg             mean_rank  3.902985\n",
              "14    avg  mean_reciprocal_rank  0.463393\n",
              "15    avg             hits_at_1  0.263682\n",
              "16    avg             hits_at_3  0.544776\n",
              "17    avg             hits_at_5  0.753731\n",
              "18    avg            hits_at_10  0.960199"
            ]
          },
          "metadata": {
            "tags": []
          },
          "execution_count": 28
        }
      ]
    },
    {
      "cell_type": "markdown",
      "metadata": {
        "id": "h34_divmJOVE",
        "colab_type": "text"
      },
      "source": [
        "Metrics are based on loss from test set. \n",
        "\n",
        "Best to look at avg Type and adjusted_mean_rank metric which is only seen in avg Type. And the percentage is in the low 80's which is not bad! Remember that the dataset is small and we do have strong signal. 😊"
      ]
    },
    {
      "cell_type": "markdown",
      "metadata": {
        "id": "o0SQrbf3KSpP",
        "colab_type": "text"
      },
      "source": [
        "##Now, turning it around to make predictions."
      ]
    },
    {
      "cell_type": "markdown",
      "metadata": {
        "id": "OVXdAvQ5Ko3j",
        "colab_type": "text"
      },
      "source": [
        "It is difficult to interpret KGEMs statistically. So it is best to sort order the predictions by their scores. All interaction functions in PyKeen have been implemented such that higher the score (less negative the score is), more likely that a triple is to be true.\n",
        "\n",
        "And one last thing before predicting will be to create word clouds of entities and relations in the Nations dataset. Size corresponds to frequency of word appearing in triples."
      ]
    },
    {
      "cell_type": "code",
      "metadata": {
        "id": "NP3jv3HaHq3i",
        "colab_type": "code",
        "colab": {
          "base_uri": "https://localhost:8080/",
          "height": 54
        },
        "outputId": "a4dc63fc-6d7c-4cb4-937d-39a506edf1d8"
      },
      "source": [
        "tf.entity_word_cloud()"
      ],
      "execution_count": 30,
      "outputs": [
        {
          "output_type": "stream",
          "text": [
            "WARNING:pykeen.triples.triples_factory:Could not import module `word_cloud`. Try installing with `pip install git+ssh://git@github.com/kavgan/word_cloud.git`\n"
          ],
          "name": "stderr"
        }
      ]
    },
    {
      "cell_type": "code",
      "metadata": {
        "id": "UKwJkUwkL6Kt",
        "colab_type": "code",
        "colab": {
          "base_uri": "https://localhost:8080/",
          "height": 54
        },
        "outputId": "5cb68483-79f9-4e07-cd1a-7f6c369b60e7"
      },
      "source": [
        "tf.relation_word_cloud()"
      ],
      "execution_count": 31,
      "outputs": [
        {
          "output_type": "stream",
          "text": [
            "WARNING:pykeen.triples.triples_factory:Could not import module `word_cloud`. Try installing with `pip install git+ssh://git@github.com/kavgan/word_cloud.git`\n"
          ],
          "name": "stderr"
        }
      ]
    },
    {
      "cell_type": "markdown",
      "metadata": {
        "id": "oO8ccdx8Mb4K",
        "colab_type": "text"
      },
      "source": [
        "Who do we predict Brazil to have a conference with?"
      ]
    },
    {
      "cell_type": "code",
      "metadata": {
        "id": "eAkNRT_BMGSL",
        "colab_type": "code",
        "colab": {
          "base_uri": "https://localhost:8080/",
          "height": 483
        },
        "outputId": "61973cbb-9831-4d16-8a3a-d49df56f3b6f"
      },
      "source": [
        "model.predict_tails('brazil', 'conferences')"
      ],
      "execution_count": 32,
      "outputs": [
        {
          "output_type": "execute_result",
          "data": {
            "text/html": [
              "<div>\n",
              "<style scoped>\n",
              "    .dataframe tbody tr th:only-of-type {\n",
              "        vertical-align: middle;\n",
              "    }\n",
              "\n",
              "    .dataframe tbody tr th {\n",
              "        vertical-align: top;\n",
              "    }\n",
              "\n",
              "    .dataframe thead th {\n",
              "        text-align: right;\n",
              "    }\n",
              "</style>\n",
              "<table border=\"1\" class=\"dataframe\">\n",
              "  <thead>\n",
              "    <tr style=\"text-align: right;\">\n",
              "      <th></th>\n",
              "      <th>tail_id</th>\n",
              "      <th>tail_label</th>\n",
              "      <th>score</th>\n",
              "      <th>novel</th>\n",
              "    </tr>\n",
              "  </thead>\n",
              "  <tbody>\n",
              "    <tr>\n",
              "      <th>12</th>\n",
              "      <td>12</td>\n",
              "      <td>usa</td>\n",
              "      <td>-4.690113</td>\n",
              "      <td>True</td>\n",
              "    </tr>\n",
              "    <tr>\n",
              "      <th>11</th>\n",
              "      <td>11</td>\n",
              "      <td>uk</td>\n",
              "      <td>-4.917130</td>\n",
              "      <td>False</td>\n",
              "    </tr>\n",
              "    <tr>\n",
              "      <th>13</th>\n",
              "      <td>13</td>\n",
              "      <td>ussr</td>\n",
              "      <td>-4.928981</td>\n",
              "      <td>True</td>\n",
              "    </tr>\n",
              "    <tr>\n",
              "      <th>5</th>\n",
              "      <td>5</td>\n",
              "      <td>india</td>\n",
              "      <td>-5.255620</td>\n",
              "      <td>True</td>\n",
              "    </tr>\n",
              "    <tr>\n",
              "      <th>9</th>\n",
              "      <td>9</td>\n",
              "      <td>netherlands</td>\n",
              "      <td>-5.287464</td>\n",
              "      <td>False</td>\n",
              "    </tr>\n",
              "    <tr>\n",
              "      <th>10</th>\n",
              "      <td>10</td>\n",
              "      <td>poland</td>\n",
              "      <td>-5.472327</td>\n",
              "      <td>False</td>\n",
              "    </tr>\n",
              "    <tr>\n",
              "      <th>4</th>\n",
              "      <td>4</td>\n",
              "      <td>egypt</td>\n",
              "      <td>-5.476140</td>\n",
              "      <td>False</td>\n",
              "    </tr>\n",
              "    <tr>\n",
              "      <th>3</th>\n",
              "      <td>3</td>\n",
              "      <td>cuba</td>\n",
              "      <td>-5.560370</td>\n",
              "      <td>True</td>\n",
              "    </tr>\n",
              "    <tr>\n",
              "      <th>2</th>\n",
              "      <td>2</td>\n",
              "      <td>china</td>\n",
              "      <td>-5.601460</td>\n",
              "      <td>False</td>\n",
              "    </tr>\n",
              "    <tr>\n",
              "      <th>0</th>\n",
              "      <td>0</td>\n",
              "      <td>brazil</td>\n",
              "      <td>-5.673203</td>\n",
              "      <td>False</td>\n",
              "    </tr>\n",
              "    <tr>\n",
              "      <th>7</th>\n",
              "      <td>7</td>\n",
              "      <td>israel</td>\n",
              "      <td>-5.714159</td>\n",
              "      <td>False</td>\n",
              "    </tr>\n",
              "    <tr>\n",
              "      <th>6</th>\n",
              "      <td>6</td>\n",
              "      <td>indonesia</td>\n",
              "      <td>-5.829195</td>\n",
              "      <td>False</td>\n",
              "    </tr>\n",
              "    <tr>\n",
              "      <th>8</th>\n",
              "      <td>8</td>\n",
              "      <td>jordan</td>\n",
              "      <td>-6.215493</td>\n",
              "      <td>False</td>\n",
              "    </tr>\n",
              "    <tr>\n",
              "      <th>1</th>\n",
              "      <td>1</td>\n",
              "      <td>burma</td>\n",
              "      <td>-6.364753</td>\n",
              "      <td>False</td>\n",
              "    </tr>\n",
              "  </tbody>\n",
              "</table>\n",
              "</div>"
            ],
            "text/plain": [
              "    tail_id   tail_label     score  novel\n",
              "12       12          usa -4.690113   True\n",
              "11       11           uk -4.917130  False\n",
              "13       13         ussr -4.928981   True\n",
              "5         5        india -5.255620   True\n",
              "9         9  netherlands -5.287464  False\n",
              "10       10       poland -5.472327  False\n",
              "4         4        egypt -5.476140  False\n",
              "3         3         cuba -5.560370   True\n",
              "2         2        china -5.601460  False\n",
              "0         0       brazil -5.673203  False\n",
              "7         7       israel -5.714159  False\n",
              "6         6    indonesia -5.829195  False\n",
              "8         8       jordan -6.215493  False\n",
              "1         1        burma -6.364753  False"
            ]
          },
          "metadata": {
            "tags": []
          },
          "execution_count": 32
        }
      ]
    },
    {
      "cell_type": "markdown",
      "metadata": {
        "id": "Ia1W5cRAMvTC",
        "colab_type": "text"
      },
      "source": [
        "Now, who do we predict to have a conference with Brazil?"
      ]
    },
    {
      "cell_type": "code",
      "metadata": {
        "id": "Q7Xg5YdkMkCl",
        "colab_type": "code",
        "colab": {
          "base_uri": "https://localhost:8080/",
          "height": 483
        },
        "outputId": "523ae043-2cad-4e1c-dbca-7990fef59b2f"
      },
      "source": [
        "model.predict_heads('conferences', 'brazil')"
      ],
      "execution_count": 34,
      "outputs": [
        {
          "output_type": "execute_result",
          "data": {
            "text/html": [
              "<div>\n",
              "<style scoped>\n",
              "    .dataframe tbody tr th:only-of-type {\n",
              "        vertical-align: middle;\n",
              "    }\n",
              "\n",
              "    .dataframe tbody tr th {\n",
              "        vertical-align: top;\n",
              "    }\n",
              "\n",
              "    .dataframe thead th {\n",
              "        text-align: right;\n",
              "    }\n",
              "</style>\n",
              "<table border=\"1\" class=\"dataframe\">\n",
              "  <thead>\n",
              "    <tr style=\"text-align: right;\">\n",
              "      <th></th>\n",
              "      <th>head_id</th>\n",
              "      <th>head_label</th>\n",
              "      <th>score</th>\n",
              "      <th>novel</th>\n",
              "    </tr>\n",
              "  </thead>\n",
              "  <tbody>\n",
              "    <tr>\n",
              "      <th>12</th>\n",
              "      <td>12</td>\n",
              "      <td>usa</td>\n",
              "      <td>-4.826950</td>\n",
              "      <td>True</td>\n",
              "    </tr>\n",
              "    <tr>\n",
              "      <th>11</th>\n",
              "      <td>11</td>\n",
              "      <td>uk</td>\n",
              "      <td>-5.067481</td>\n",
              "      <td>False</td>\n",
              "    </tr>\n",
              "    <tr>\n",
              "      <th>5</th>\n",
              "      <td>5</td>\n",
              "      <td>india</td>\n",
              "      <td>-5.091891</td>\n",
              "      <td>True</td>\n",
              "    </tr>\n",
              "    <tr>\n",
              "      <th>13</th>\n",
              "      <td>13</td>\n",
              "      <td>ussr</td>\n",
              "      <td>-5.095834</td>\n",
              "      <td>True</td>\n",
              "    </tr>\n",
              "    <tr>\n",
              "      <th>9</th>\n",
              "      <td>9</td>\n",
              "      <td>netherlands</td>\n",
              "      <td>-5.208021</td>\n",
              "      <td>False</td>\n",
              "    </tr>\n",
              "    <tr>\n",
              "      <th>10</th>\n",
              "      <td>10</td>\n",
              "      <td>poland</td>\n",
              "      <td>-5.223291</td>\n",
              "      <td>True</td>\n",
              "    </tr>\n",
              "    <tr>\n",
              "      <th>4</th>\n",
              "      <td>4</td>\n",
              "      <td>egypt</td>\n",
              "      <td>-5.228087</td>\n",
              "      <td>False</td>\n",
              "    </tr>\n",
              "    <tr>\n",
              "      <th>3</th>\n",
              "      <td>3</td>\n",
              "      <td>cuba</td>\n",
              "      <td>-5.483738</td>\n",
              "      <td>True</td>\n",
              "    </tr>\n",
              "    <tr>\n",
              "      <th>2</th>\n",
              "      <td>2</td>\n",
              "      <td>china</td>\n",
              "      <td>-5.668639</td>\n",
              "      <td>False</td>\n",
              "    </tr>\n",
              "    <tr>\n",
              "      <th>0</th>\n",
              "      <td>0</td>\n",
              "      <td>brazil</td>\n",
              "      <td>-5.673203</td>\n",
              "      <td>False</td>\n",
              "    </tr>\n",
              "    <tr>\n",
              "      <th>6</th>\n",
              "      <td>6</td>\n",
              "      <td>indonesia</td>\n",
              "      <td>-5.860926</td>\n",
              "      <td>False</td>\n",
              "    </tr>\n",
              "    <tr>\n",
              "      <th>7</th>\n",
              "      <td>7</td>\n",
              "      <td>israel</td>\n",
              "      <td>-5.921488</td>\n",
              "      <td>False</td>\n",
              "    </tr>\n",
              "    <tr>\n",
              "      <th>8</th>\n",
              "      <td>8</td>\n",
              "      <td>jordan</td>\n",
              "      <td>-6.365452</td>\n",
              "      <td>False</td>\n",
              "    </tr>\n",
              "    <tr>\n",
              "      <th>1</th>\n",
              "      <td>1</td>\n",
              "      <td>burma</td>\n",
              "      <td>-6.531160</td>\n",
              "      <td>False</td>\n",
              "    </tr>\n",
              "  </tbody>\n",
              "</table>\n",
              "</div>"
            ],
            "text/plain": [
              "    head_id   head_label     score  novel\n",
              "12       12          usa -4.826950   True\n",
              "11       11           uk -5.067481  False\n",
              "5         5        india -5.091891   True\n",
              "13       13         ussr -5.095834   True\n",
              "9         9  netherlands -5.208021  False\n",
              "10       10       poland -5.223291   True\n",
              "4         4        egypt -5.228087  False\n",
              "3         3         cuba -5.483738   True\n",
              "2         2        china -5.668639  False\n",
              "0         0       brazil -5.673203  False\n",
              "6         6    indonesia -5.860926  False\n",
              "7         7       israel -5.921488  False\n",
              "8         8       jordan -6.365452  False\n",
              "1         1        burma -6.531160  False"
            ]
          },
          "metadata": {
            "tags": []
          },
          "execution_count": 34
        }
      ]
    },
    {
      "cell_type": "code",
      "metadata": {
        "id": "YYHgI-5OM3B_",
        "colab_type": "code",
        "colab": {}
      },
      "source": [
        ""
      ],
      "execution_count": null,
      "outputs": []
    }
  ]
}