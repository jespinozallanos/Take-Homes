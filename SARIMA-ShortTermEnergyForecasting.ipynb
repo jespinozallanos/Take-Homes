{
 "cells": [
  {
   "cell_type": "code",
   "execution_count": 1,
   "metadata": {},
   "outputs": [],
   "source": [
    "import pandas as pd\n",
    "import numpy as np\n",
    "import matplotlib.pyplot as plt\n",
    "import seaborn as sns\n",
    "import datetime\n",
    "import json\n",
    "%matplotlib inline\n",
    "sns.set_style('dark')\n",
    "\n",
    "#import libraries for statistical analysis\n",
    "import statsmodels.api as sm\n",
    "from statsmodels.tsa.arima_model import ARIMA, ARIMAResults\n",
    "from statsmodels.graphics.tsaplots import plot_acf, plot_pacf\n",
    "from statsmodels.tsa.statespace.sarimax import SARIMAX, SARIMAXResults\n",
    "from statsmodels.graphics.gofplots import qqplot\n",
    "\n",
    "\n",
    "from sklearn.metrics import mean_absolute_error\n",
    "from sklearn.preprocessing import MinMaxScaler\n",
    "\n",
    "\n",
    "#import libraries for parallel processing\n",
    "from multiprocessing import cpu_count\n",
    "from joblib import Parallel\n",
    "from joblib import delayed\n",
    "from warnings import catch_warnings\n",
    "from warnings import filterwarnings\n",
    "\n",
    "#import custom utils including persistence testbench\n",
    "from model_persistence import get_persistence_dataset, train_test_split, walk_forward_evaluation, calculate_errors, plot_error\n",
    "from create_day_types import get_days_dummies"
   ]
  },
  {
   "cell_type": "markdown",
   "metadata": {},
   "source": [
    "## ARIMA Models\n",
    "\n",
    "ARIMA stands for Autoregressive Integrated Moving Average. It uses a linear combination of past time steps, and moving averages to predict t.\n",
    "\n",
    "## Contents \n",
    "1. ARIMA parameters analysis\n",
    "2. ARIMA multi-step taining and evaluation\n",
    "\n",
    "\n",
    "#### ARIMA Models Evaluated\n",
    "1. Multi-setp output ARIMA\n",
    "\n",
    "\n",
    "ARIMA takes only a stationary time series.\n",
    "\n",
    "We will use the ARIMA model from statsmodels.api which takes the following arguments:\n",
    "- p: is the number of lag observations in the model and can be estimated from Autocorrelation plots\n",
    "- d: the number of times raw observations are differenced in order to make the series stationary. This is determined with a Dicky-Fuller test.\n",
    "- q: the side of the moving average window. The order of moving average."
   ]
  },
  {
   "cell_type": "code",
   "execution_count": 2,
   "metadata": {},
   "outputs": [
    {
     "name": "stdout",
     "output_type": "stream",
     "text": [
      "Train start and stop dates 2015-01-01 00:00:00 2017-12-31 00:00:00\n",
      "Test start and stop dates 2018-01-01 00:00:00 2018-12-31 00:00:00\n"
     ]
    },
    {
     "data": {
      "text/html": [
       "<div>\n",
       "<style scoped>\n",
       "    .dataframe tbody tr th:only-of-type {\n",
       "        vertical-align: middle;\n",
       "    }\n",
       "\n",
       "    .dataframe tbody tr th {\n",
       "        vertical-align: top;\n",
       "    }\n",
       "\n",
       "    .dataframe thead th {\n",
       "        text-align: right;\n",
       "    }\n",
       "</style>\n",
       "<table border=\"1\" class=\"dataframe\">\n",
       "  <thead>\n",
       "    <tr style=\"text-align: right;\">\n",
       "      <th></th>\n",
       "      <th>t-0 h_0</th>\n",
       "      <th>t-0 h_1</th>\n",
       "      <th>t-0 h_2</th>\n",
       "      <th>t-0 h_3</th>\n",
       "      <th>t-0 h_4</th>\n",
       "      <th>t-0 h_5</th>\n",
       "      <th>t-0 h_6</th>\n",
       "      <th>t-0 h_7</th>\n",
       "      <th>t-0 h_8</th>\n",
       "      <th>t-0 h_9</th>\n",
       "      <th>...</th>\n",
       "      <th>t-0 h_14</th>\n",
       "      <th>t-0 h_15</th>\n",
       "      <th>t-0 h_16</th>\n",
       "      <th>t-0 h_17</th>\n",
       "      <th>t-0 h_18</th>\n",
       "      <th>t-0 h_19</th>\n",
       "      <th>t-0 h_20</th>\n",
       "      <th>t-0 h_21</th>\n",
       "      <th>t-0 h_22</th>\n",
       "      <th>t-0 h_23</th>\n",
       "    </tr>\n",
       "    <tr>\n",
       "      <th>date</th>\n",
       "      <th></th>\n",
       "      <th></th>\n",
       "      <th></th>\n",
       "      <th></th>\n",
       "      <th></th>\n",
       "      <th></th>\n",
       "      <th></th>\n",
       "      <th></th>\n",
       "      <th></th>\n",
       "      <th></th>\n",
       "      <th></th>\n",
       "      <th></th>\n",
       "      <th></th>\n",
       "      <th></th>\n",
       "      <th></th>\n",
       "      <th></th>\n",
       "      <th></th>\n",
       "      <th></th>\n",
       "      <th></th>\n",
       "      <th></th>\n",
       "      <th></th>\n",
       "    </tr>\n",
       "  </thead>\n",
       "  <tbody>\n",
       "    <tr>\n",
       "      <th>2015-01-01</th>\n",
       "      <td>25385.0</td>\n",
       "      <td>24382.0</td>\n",
       "      <td>22734.0</td>\n",
       "      <td>21286.0</td>\n",
       "      <td>20264.0</td>\n",
       "      <td>19905.0</td>\n",
       "      <td>20010.0</td>\n",
       "      <td>20377.0</td>\n",
       "      <td>20094.0</td>\n",
       "      <td>20637.0</td>\n",
       "      <td>...</td>\n",
       "      <td>24672.0</td>\n",
       "      <td>23528.0</td>\n",
       "      <td>23118.0</td>\n",
       "      <td>23606.0</td>\n",
       "      <td>26447.0</td>\n",
       "      <td>28020.0</td>\n",
       "      <td>29014.0</td>\n",
       "      <td>29571.0</td>\n",
       "      <td>29031.0</td>\n",
       "      <td>26798.0</td>\n",
       "    </tr>\n",
       "    <tr>\n",
       "      <th>2015-01-02</th>\n",
       "      <td>27070.0</td>\n",
       "      <td>24935.0</td>\n",
       "      <td>23214.0</td>\n",
       "      <td>22540.0</td>\n",
       "      <td>22096.0</td>\n",
       "      <td>22066.0</td>\n",
       "      <td>22275.0</td>\n",
       "      <td>23025.0</td>\n",
       "      <td>23699.0</td>\n",
       "      <td>25834.0</td>\n",
       "      <td>...</td>\n",
       "      <td>29241.0</td>\n",
       "      <td>27973.0</td>\n",
       "      <td>27320.0</td>\n",
       "      <td>27157.0</td>\n",
       "      <td>29045.0</td>\n",
       "      <td>31967.0</td>\n",
       "      <td>33266.0</td>\n",
       "      <td>33668.0</td>\n",
       "      <td>32426.0</td>\n",
       "      <td>29705.0</td>\n",
       "    </tr>\n",
       "    <tr>\n",
       "      <th>2015-01-03</th>\n",
       "      <td>25564.0</td>\n",
       "      <td>23584.0</td>\n",
       "      <td>22194.0</td>\n",
       "      <td>21296.0</td>\n",
       "      <td>21145.0</td>\n",
       "      <td>21316.0</td>\n",
       "      <td>21674.0</td>\n",
       "      <td>22127.0</td>\n",
       "      <td>22756.0</td>\n",
       "      <td>24654.0</td>\n",
       "      <td>...</td>\n",
       "      <td>26416.0</td>\n",
       "      <td>25362.0</td>\n",
       "      <td>24770.0</td>\n",
       "      <td>24501.0</td>\n",
       "      <td>24992.0</td>\n",
       "      <td>27964.0</td>\n",
       "      <td>29694.0</td>\n",
       "      <td>29874.0</td>\n",
       "      <td>28979.0</td>\n",
       "      <td>26863.0</td>\n",
       "    </tr>\n",
       "  </tbody>\n",
       "</table>\n",
       "<p>3 rows × 24 columns</p>\n",
       "</div>"
      ],
      "text/plain": [
       "            t-0 h_0  t-0 h_1  t-0 h_2  t-0 h_3  t-0 h_4  t-0 h_5  t-0 h_6  \\\n",
       "date                                                                        \n",
       "2015-01-01  25385.0  24382.0  22734.0  21286.0  20264.0  19905.0  20010.0   \n",
       "2015-01-02  27070.0  24935.0  23214.0  22540.0  22096.0  22066.0  22275.0   \n",
       "2015-01-03  25564.0  23584.0  22194.0  21296.0  21145.0  21316.0  21674.0   \n",
       "\n",
       "            t-0 h_7  t-0 h_8  t-0 h_9  ...  t-0 h_14  t-0 h_15  t-0 h_16  \\\n",
       "date                                   ...                                 \n",
       "2015-01-01  20377.0  20094.0  20637.0  ...   24672.0   23528.0   23118.0   \n",
       "2015-01-02  23025.0  23699.0  25834.0  ...   29241.0   27973.0   27320.0   \n",
       "2015-01-03  22127.0  22756.0  24654.0  ...   26416.0   25362.0   24770.0   \n",
       "\n",
       "            t-0 h_17  t-0 h_18  t-0 h_19  t-0 h_20  t-0 h_21  t-0 h_22  \\\n",
       "date                                                                     \n",
       "2015-01-01   23606.0   26447.0   28020.0   29014.0   29571.0   29031.0   \n",
       "2015-01-02   27157.0   29045.0   31967.0   33266.0   33668.0   32426.0   \n",
       "2015-01-03   24501.0   24992.0   27964.0   29694.0   29874.0   28979.0   \n",
       "\n",
       "            t-0 h_23  \n",
       "date                  \n",
       "2015-01-01   26798.0  \n",
       "2015-01-02   29705.0  \n",
       "2015-01-03   26863.0  \n",
       "\n",
       "[3 rows x 24 columns]"
      ]
     },
     "execution_count": 2,
     "metadata": {},
     "output_type": "execute_result"
    }
   ],
   "source": [
    "#load the dataset and crete the train and test sets.\n",
    "data = get_persistence_dataset(transformed=True)\n",
    "\n",
    "#split using default date 2017-12-31\n",
    "train, test = train_test_split(data)\n",
    "train.head(3)"
   ]
  },
  {
   "cell_type": "code",
   "execution_count": 3,
   "metadata": {},
   "outputs": [
    {
     "data": {
      "text/plain": [
       "(Timestamp('2015-01-01 00:00:00'),\n",
       " Timestamp('2017-12-31 00:00:00'),\n",
       " Timestamp('2018-01-01 00:00:00'),\n",
       " Timestamp('2018-12-31 00:00:00'))"
      ]
     },
     "execution_count": 3,
     "metadata": {},
     "output_type": "execute_result"
    }
   ],
   "source": [
    "train.index.min(), train.index.max(),test.index.min(), test.index.max()"
   ]
  },
  {
   "cell_type": "markdown",
   "metadata": {},
   "source": [
    "##### Stationary and Differencing of the dataset\n",
    "\n",
    "Set of daily mean data was stationary over the course of a year. Here we test if the hourly data is stationary using the Adfuller Test over a period of 1 week of lags (24 * 7).\n",
    "\n",
    "***Null Hypothesis***: The dataset is non-stationary and therefore differencing must be carried out.\n",
    "\n",
    "If p-value is < 0.05 (two tailed test), we reject the null and assume that the time series is stationary."
   ]
  },
  {
   "cell_type": "code",
   "execution_count": 4,
   "metadata": {},
   "outputs": [],
   "source": [
    "#flatten the train set because the statistical model only accepts univariate series\n",
    "train_flat = train.values.flatten()"
   ]
  },
  {
   "cell_type": "markdown",
   "metadata": {},
   "source": [
    "Stationary test over **1 day.**"
   ]
  },
  {
   "cell_type": "code",
   "execution_count": 5,
   "metadata": {},
   "outputs": [
    {
     "name": "stdout",
     "output_type": "stream",
     "text": [
      "Test Statistic      -27.582837\n",
      "p-value               0.000000\n",
      "#Lags                24.000000\n",
      "Observations      26279.000000\n",
      "dtype: float64\n"
     ]
    }
   ],
   "source": [
    "adful_t = sm.tsa.adfuller(train_flat, maxlag=24)\n",
    "print(pd.Series(adful_t[0:4], index=['Test Statistic','p-value','#Lags','Observations']))"
   ]
  },
  {
   "cell_type": "markdown",
   "metadata": {},
   "source": [
    "Stationary test over **1 week.**"
   ]
  },
  {
   "cell_type": "code",
   "execution_count": 7,
   "metadata": {},
   "outputs": [
    {
     "name": "stdout",
     "output_type": "stream",
     "text": [
      "Test Statistic   -7.804579e+00\n",
      "p-value           7.339533e-12\n",
      "#Lags             1.680000e+02\n",
      "Observations      2.613500e+04\n",
      "dtype: float64\n"
     ]
    }
   ],
   "source": [
    "adful_t = sm.tsa.adfuller(train_flat, maxlag=24*7)\n",
    "print(pd.Series(adful_t[0:4], index=['Test Statistic','p-value','#Lags','Observations']))"
   ]
  },
  {
   "cell_type": "markdown",
   "metadata": {},
   "source": [
    "Stationary test over **1 month**."
   ]
  },
  {
   "cell_type": "code",
   "execution_count": null,
   "metadata": {},
   "outputs": [],
   "source": [
    "adful_t = sm.tsa.adfuller(train_flat, maxlag=24*30)\n",
    "print(pd.Series(adful_t[0:4], index=['Test Statistic','p-value','#Lags','Observations']))"
   ]
  },
  {
   "cell_type": "markdown",
   "metadata": {},
   "source": [
    "All p-values for different time intervals are significantly >0.05. Therefore, can reject the null hypothesis that series is non-stationary and that differencing is needed. So differencing will not be needed. Dataset is stationary is assumed.\n",
    "\n",
    "Therefore the default model paramter for d (the differncing value) is 0. We will also invesitgate a differencing paramter of 24 and 168 corresponding with the previous day, and the previous week."
   ]
  },
  {
   "cell_type": "markdown",
   "metadata": {},
   "source": [
    "##### Autocorrelation and partial autocorrelation\n",
    "\n",
    "Description of the plots:\n",
    "\n",
    "ACF - Describes the direct and indirect relationships between laging (shifted) autoregressive features. I.e. the relationships between t, t-1, t-2, t-3 etc. taking into account the interrelatinships between features, in this case t-1 and t-2, t-2 and t-3 etc.\n",
    "\n",
    "PACF - Describes only the direct relationships between lagging (shifted) and autoregressive features.\n",
    "\n",
    "p (AR): Determining the autoregressive hyperparameter value p, is best described as the number of lags beyond which there is no significant relationship. This is seen in the ACF as the point at which plot values lie outside the significance band (light blue horizontal band)\n",
    "\n",
    "q (MR): Determining the moving average hyperparameter value q, is described as the direct relationship with the lag feature and the feature. "
   ]
  },
  {
   "cell_type": "code",
   "execution_count": null,
   "metadata": {},
   "outputs": [],
   "source": []
  }
 ],
 "metadata": {
  "kernelspec": {
   "display_name": "Python 3",
   "language": "python",
   "name": "python3"
  },
  "language_info": {
   "codemirror_mode": {
    "name": "ipython",
    "version": 3
   },
   "file_extension": ".py",
   "mimetype": "text/x-python",
   "name": "python",
   "nbconvert_exporter": "python",
   "pygments_lexer": "ipython3",
   "version": "3.7.6"
  }
 },
 "nbformat": 4,
 "nbformat_minor": 4
}
